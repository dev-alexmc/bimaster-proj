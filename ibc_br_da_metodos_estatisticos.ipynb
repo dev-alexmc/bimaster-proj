{
  "nbformat": 4,
  "nbformat_minor": 0,
  "metadata": {
    "colab": {
      "provenance": []
    },
    "kernelspec": {
      "name": "python3",
      "display_name": "Python 3"
    },
    "language_info": {
      "name": "python"
    }
  },
  "cells": [
    {
      "cell_type": "markdown",
      "source": [
        "# Projeto: Análise de Anomalias em Série Temporal"
      ],
      "metadata": {
        "id": "ULDWNbG9cx5S"
      }
    },
    {
      "cell_type": "markdown",
      "source": [
        "BIMASTER - Trabalho de final de curso\n",
        "\n",
        "Nome: Alex Marques Campos\n",
        "\n",
        "Etapa 02.A: Detecção de anomalias via métodos estatísticos"
      ],
      "metadata": {
        "id": "p_Zbz7ZuczLN"
      }
    },
    {
      "cell_type": "markdown",
      "source": [
        "O objetivo deste notebook é carregar os dados das séries históricas de interesse e observar se é possível utilizar métodos estatísticos para realizar a detecção de anomalias nos dados. Para isso, focaremos no uso do __z-score modificado__, mas também utilizaremos o método __CUMSUM__, de somas cumulativas.\n",
        "\n",
        "O primeiro passo é carregar as bibliotecas necessárias ao processamento e os dados propriamente ditos, que estão armazenados nos arquivos CSV (_comma separated values_) armazenados no subdiretório './__dados__/'."
      ],
      "metadata": {
        "id": "wc9G5F-vm5cb"
      }
    },
    {
      "cell_type": "markdown",
      "source": [
        "## Configuração do ambiente de execução"
      ],
      "metadata": {
        "id": "R_KJarOpo-_o"
      }
    },
    {
      "cell_type": "code",
      "execution_count": null,
      "metadata": {
        "id": "fCR2V-wocZJl"
      },
      "outputs": [],
      "source": [
        "import matplotlib\n",
        "import matplotlib.pyplot as plt\n",
        "import numpy as np\n",
        "import pandas as pd\n",
        "import seaborn as sns\n",
        "\n",
        "from pathlib import Path"
      ]
    },
    {
      "cell_type": "code",
      "source": [
        "NOME_DIRETORIO_DADOS = 'dados'\n",
        "NOME_ARQUIVO_SERIE_IBCBR = 'serie_ibcbr.csv'\n",
        "NOME_ARQUIVO_SERIE_IBCBR_RESIDUO = 'serie_ibcbr_residuo.csv'\n",
        "NOME_ARQUIVO_SERIE_IBCBR_DIFERENCAS = 'serie_ibcbr_diferencas.csv'\n",
        "NOME_ARQUIVO_SERIE_IBCBR_DIFERENCAS_RESIDUO = 'serie_ibcbr_diferencas_residuo.csv'"
      ],
      "metadata": {
        "id": "CY4fZhLloQgd"
      },
      "execution_count": null,
      "outputs": []
    },
    {
      "cell_type": "code",
      "source": [
        "print(f'pandas == {pd.__version__}')\n",
        "print(f'matplotlib == {matplotlib.__version__}')"
      ],
      "metadata": {
        "colab": {
          "base_uri": "https://localhost:8080/"
        },
        "id": "1yRvVVanoSu4",
        "outputId": "4de5e50f-42e6-4b0b-aa90-c0dabb2c783d"
      },
      "execution_count": null,
      "outputs": [
        {
          "output_type": "stream",
          "name": "stdout",
          "text": [
            "pandas == 1.3.5\n",
            "matplotlib == 3.2.2\n"
          ]
        }
      ]
    },
    {
      "cell_type": "code",
      "source": [
        "# ajustamos o formato de apresentação padrão dos gráficos\n",
        "sns.set_theme(style=\"white\", palette=\"pastel\")"
      ],
      "metadata": {
        "id": "0oh4IvnCofu_"
      },
      "execution_count": null,
      "outputs": []
    },
    {
      "cell_type": "code",
      "source": [
        "# habilitamos a visualização especial de dataframes disponível no\n",
        "# Google Colaboratory, para facilitar a exploração dos dados.\n",
        "from google.colab import data_table\n",
        "data_table.enable_dataframe_formatter()"
      ],
      "metadata": {
        "id": "VJS_UT3-ojaM"
      },
      "execution_count": null,
      "outputs": []
    },
    {
      "cell_type": "markdown",
      "source": [
        "## Carga dos dados"
      ],
      "metadata": {
        "id": "GeXhAXcEo6rt"
      }
    },
    {
      "cell_type": "markdown",
      "source": [
        "Lembre-se de criar uma pasta chamada '/content/dados' no Google Colaboratory e enviar os arquivos '.csv' para essa pasta."
      ],
      "metadata": {
        "id": "iQzs87iqZs_M"
      }
    },
    {
      "cell_type": "code",
      "source": [
        "path_dir_dados = Path('.') / NOME_DIRETORIO_DADOS\n",
        "\n",
        "path_arq_ibcbr     = path_dir_dados / NOME_ARQUIVO_SERIE_IBCBR\n",
        "path_arq_ibcbr_res = path_dir_dados / NOME_ARQUIVO_SERIE_IBCBR_RESIDUO\n",
        "path_arq_dif       = path_dir_dados / NOME_ARQUIVO_SERIE_IBCBR_DIFERENCAS\n",
        "path_arq_dif_res   = path_dir_dados / NOME_ARQUIVO_SERIE_IBCBR_DIFERENCAS_RESIDUO"
      ],
      "metadata": {
        "id": "Qggg6abNolqr"
      },
      "execution_count": null,
      "outputs": []
    },
    {
      "cell_type": "code",
      "source": [
        "def carregar_csv(path_csv:Path) -> pd.DataFrame:\n",
        "  \"\"\"\n",
        "  Carrega os dados de um arquivo CSV em um dataframe de\n",
        "  forma padronizada no escopo do projeto.\n",
        "  path_csv : objeto Path que aponta para o arquivo.\n",
        "  \"\"\"\n",
        "  if (path_csv is None) or (not path_csv.is_file()):\n",
        "    raise ValueError(\"The given path object doesn't point to a valid csv file.\")\n",
        "\n",
        "  return pd.read_csv(path_csv,\n",
        "                   sep=',',\n",
        "                   parse_dates=True,\n",
        "                   infer_datetime_format=True,\n",
        "                   index_col=0,\n",
        "                   decimal='.',\n",
        "                   encoding='utf8')"
      ],
      "metadata": {
        "id": "NaLWJyWhrzDz"
      },
      "execution_count": null,
      "outputs": []
    },
    {
      "cell_type": "code",
      "source": [
        "# carregamos os arquivos de dados em dataframes, para iniciar a análise\n",
        "df_ibcbr     = carregar_csv(path_arq_ibcbr)\n",
        "df_ibcbr_res = carregar_csv(path_arq_ibcbr_res)\n",
        "df_dif       = carregar_csv(path_arq_dif)\n",
        "df_dif_res   = carregar_csv(path_arq_dif)"
      ],
      "metadata": {
        "id": "R8pdKHi2r2Pw"
      },
      "execution_count": null,
      "outputs": []
    },
    {
      "cell_type": "code",
      "source": [
        "def verificar_propriedades(id:int, nome:str, dataframe:pd.DataFrame) -> None:\n",
        "  \"\"\"\n",
        "  Imprime propriedades do dataframe nomeado para inspeção visual dos dados.\n",
        "  id: inteiro que identifica o dataframe.\n",
        "  nome: nome do dataframe\n",
        "  dataframe: objeto do dataframe\n",
        "  \"\"\"\n",
        "  print(f'[{id:03d}] Dataframe: {nome}')\n",
        "  print('-' * 5)\n",
        "  print(f'Shape: {dataframe.shape}')\n",
        "  print('-' * 5)\n",
        "  print(dataframe.head(4))\n",
        "  print('')"
      ],
      "metadata": {
        "id": "zs2X2xzVwPYs"
      },
      "execution_count": null,
      "outputs": []
    },
    {
      "cell_type": "code",
      "source": [
        "# verificamos se os dataframes foram carregados corretamente.\n",
        "series = {\n",
        "  'IBC-BR': df_ibcbr,\n",
        "  'IBC-BR (resíduo)': df_ibcbr_res,\n",
        "  'Diferenças': df_dif,\n",
        "  'Diferenças (resíduo)': df_dif_res\n",
        "}\n",
        "\n",
        "for idx,serie in enumerate(series.items()):\n",
        "  verificar_propriedades(idx+1, serie[0], serie[1])"
      ],
      "metadata": {
        "colab": {
          "base_uri": "https://localhost:8080/"
        },
        "id": "0RPLvBR7ua6L",
        "outputId": "ede0f531-000e-46e8-f49e-2e6b6948a198"
      },
      "execution_count": null,
      "outputs": [
        {
          "output_type": "stream",
          "name": "stdout",
          "text": [
            "[001] Dataframe: IBC-BR\n",
            "-----\n",
            "Shape: (236, 1)\n",
            "-----\n",
            "             valor\n",
            "data              \n",
            "2003-01-01   96.15\n",
            "2003-02-01   98.67\n",
            "2003-03-01  103.41\n",
            "2003-04-01  102.19\n",
            "\n",
            "[002] Dataframe: IBC-BR (resíduo)\n",
            "-----\n",
            "Shape: (224, 1)\n",
            "-----\n",
            "               valor\n",
            "data                \n",
            "2003-07-01  0.988355\n",
            "2003-08-01  0.972326\n",
            "2003-09-01  1.007602\n",
            "2003-10-01  1.009311\n",
            "\n",
            "[003] Dataframe: Diferenças\n",
            "-----\n",
            "Shape: (235, 1)\n",
            "-----\n",
            "            valor\n",
            "data             \n",
            "2003-02-01   2.52\n",
            "2003-03-01   4.74\n",
            "2003-04-01  -1.22\n",
            "2003-05-01  -1.89\n",
            "\n",
            "[004] Dataframe: Diferenças (resíduo)\n",
            "-----\n",
            "Shape: (235, 1)\n",
            "-----\n",
            "            valor\n",
            "data             \n",
            "2003-02-01   2.52\n",
            "2003-03-01   4.74\n",
            "2003-04-01  -1.22\n",
            "2003-05-01  -1.89\n",
            "\n"
          ]
        }
      ]
    },
    {
      "cell_type": "markdown",
      "source": [
        "Neste ponto, temos todos os dados carregados em DataFrames pandas e prontos para análise."
      ],
      "metadata": {
        "id": "6wUhHFfz0Q8f"
      }
    },
    {
      "cell_type": "markdown",
      "source": [
        "## Análise estatística"
      ],
      "metadata": {
        "id": "Oh-HcaQB01qu"
      }
    },
    {
      "cell_type": "markdown",
      "source": [
        "### z-score modificado (série de resíduos)"
      ],
      "metadata": {
        "id": "Zk4maopEgq2T"
      }
    },
    {
      "cell_type": "markdown",
      "source": [
        "Nossa primeira abordagem será a análise do z-score modificado das séries estacionárias, para tentar encontrar anomalias. O uso do z-score modificado no lugar do z-score padrão decorre (1) da premissa de que existem _outliars_ nos dados e (2) no fato que _outliars_ modificam a média e o desvio padrão, o que influencia o cálculo do z-score padrão. O z-score modificado usa a mediana e o desvio absoluto mediano (MAD), que são mais resilientes à _outliars_ nos dados.\n",
        "\n",
        "Começamos definindo as funções auxiliares para obter as estatísticas desejadas."
      ],
      "metadata": {
        "id": "iY-4vd-d1zTa"
      }
    },
    {
      "cell_type": "code",
      "source": [
        "def calcular_mad(dataframe:pd.DataFrame) -> float:\n",
        "  \"\"\"\n",
        "  Calcula o desvio absoluto mediano (sigla MAD, do inglês 'median\n",
        "  absolute deviation') dos dados de um dataframe.\n",
        "  \"\"\"\n",
        "  mediana = np.median(dataframe)\n",
        "  mad = np.median(np.abs(dataframe - mediana))\n",
        "\n",
        "  return mad\n",
        "\n",
        "def calcular_zscore_mod(x:float, mediana:float, mad:float, k:float=1.4826) -> float:\n",
        "  \"\"\"\n",
        "  Calcula o z-score modificado de um elemento x, com base\n",
        "  no elemento, em uma mediana e no MAD.\n",
        "  x : elemento a considerar.\n",
        "  mediana : mediana a considerar.\n",
        "  MAD : desvio absoluto mediano a considerar.\n",
        "  k : fator de correção (veja https://en.wikipedia.org/wiki/Median_absolute_deviation)\n",
        "  retorna o z-score modificado calculado para o elemento.\n",
        "  \"\"\"\n",
        "  assert (k > 0)\n",
        "  assert (mad > 0)\n",
        "\n",
        "  return (x - mediana) / (k * mad)\n",
        "\n",
        "def calcular_zscore_mod(dataframe:pd.DataFrame, k:float=1.4826) -> pd.DataFrame:\n",
        "  \"\"\"\n",
        "  Calcula o z-score modificado de todos os elementos de um\n",
        "  dataframe. Não modifica o dataframe recebido.\n",
        "  dataframe : dataframe para o qual se deseja calcular o z-score.\n",
        "  k : fator de correção (veja https://en.wikipedia.org/wiki/Median_absolute_deviation)\n",
        "  Retorna um objeto pandas.DataFrame com os valores dos z-scores\n",
        "  dos elementos.\n",
        "  \"\"\"\n",
        "  assert (k > 0)\n",
        "  mediana = np.median(dataframe)\n",
        "  mad = calcular_mad(dataframe)\n",
        "  assert (mad > 0)\n",
        "  return (dataframe - mediana) / (k * mad)"
      ],
      "metadata": {
        "id": "8XKpqse84KQ1"
      },
      "execution_count": null,
      "outputs": []
    },
    {
      "cell_type": "markdown",
      "source": [
        "Depois, começamos a análise estatística do resíduo da série IBC-BR."
      ],
      "metadata": {
        "id": "wiOtrJvwAKis"
      }
    },
    {
      "cell_type": "code",
      "source": [
        "# imprimimos estatísticas do conjunto de dados só para auxiliar na análise\n",
        "df_ibcbr_res.describe()"
      ],
      "metadata": {
        "colab": {
          "base_uri": "https://localhost:8080/",
          "height": 262
        },
        "id": "gBZftRBr27IW",
        "outputId": "774627fc-c923-4377-c3c9-09d39c536061"
      },
      "execution_count": null,
      "outputs": [
        {
          "output_type": "execute_result",
          "data": {
            "text/plain": [
              "            valor\n",
              "count  224.000000\n",
              "mean     0.999796\n",
              "std      0.017775\n",
              "min      0.893994\n",
              "25%      0.991451\n",
              "50%      1.000503\n",
              "75%      1.009582\n",
              "max      1.052196"
            ],
            "text/html": [
              "\n",
              "  <div id=\"df-27b5c171-8a76-49b5-8338-5de29e686e72\">\n",
              "    <div class=\"colab-df-container\">\n",
              "      <div>\n",
              "<style scoped>\n",
              "    .dataframe tbody tr th:only-of-type {\n",
              "        vertical-align: middle;\n",
              "    }\n",
              "\n",
              "    .dataframe tbody tr th {\n",
              "        vertical-align: top;\n",
              "    }\n",
              "\n",
              "    .dataframe thead th {\n",
              "        text-align: right;\n",
              "    }\n",
              "</style>\n",
              "<table border=\"1\" class=\"dataframe\">\n",
              "  <thead>\n",
              "    <tr style=\"text-align: right;\">\n",
              "      <th></th>\n",
              "      <th>valor</th>\n",
              "    </tr>\n",
              "  </thead>\n",
              "  <tbody>\n",
              "    <tr>\n",
              "      <th>count</th>\n",
              "      <td>224.000000</td>\n",
              "    </tr>\n",
              "    <tr>\n",
              "      <th>mean</th>\n",
              "      <td>0.999796</td>\n",
              "    </tr>\n",
              "    <tr>\n",
              "      <th>std</th>\n",
              "      <td>0.017775</td>\n",
              "    </tr>\n",
              "    <tr>\n",
              "      <th>min</th>\n",
              "      <td>0.893994</td>\n",
              "    </tr>\n",
              "    <tr>\n",
              "      <th>25%</th>\n",
              "      <td>0.991451</td>\n",
              "    </tr>\n",
              "    <tr>\n",
              "      <th>50%</th>\n",
              "      <td>1.000503</td>\n",
              "    </tr>\n",
              "    <tr>\n",
              "      <th>75%</th>\n",
              "      <td>1.009582</td>\n",
              "    </tr>\n",
              "    <tr>\n",
              "      <th>max</th>\n",
              "      <td>1.052196</td>\n",
              "    </tr>\n",
              "  </tbody>\n",
              "</table>\n",
              "</div>\n",
              "      <button class=\"colab-df-convert\" onclick=\"convertToInteractive('df-27b5c171-8a76-49b5-8338-5de29e686e72')\"\n",
              "              title=\"Convert this dataframe to an interactive table.\"\n",
              "              style=\"display:none;\">\n",
              "        \n",
              "  <svg xmlns=\"http://www.w3.org/2000/svg\" height=\"24px\"viewBox=\"0 0 24 24\"\n",
              "       width=\"24px\">\n",
              "    <path d=\"M0 0h24v24H0V0z\" fill=\"none\"/>\n",
              "    <path d=\"M18.56 5.44l.94 2.06.94-2.06 2.06-.94-2.06-.94-.94-2.06-.94 2.06-2.06.94zm-11 1L8.5 8.5l.94-2.06 2.06-.94-2.06-.94L8.5 2.5l-.94 2.06-2.06.94zm10 10l.94 2.06.94-2.06 2.06-.94-2.06-.94-.94-2.06-.94 2.06-2.06.94z\"/><path d=\"M17.41 7.96l-1.37-1.37c-.4-.4-.92-.59-1.43-.59-.52 0-1.04.2-1.43.59L10.3 9.45l-7.72 7.72c-.78.78-.78 2.05 0 2.83L4 21.41c.39.39.9.59 1.41.59.51 0 1.02-.2 1.41-.59l7.78-7.78 2.81-2.81c.8-.78.8-2.07 0-2.86zM5.41 20L4 18.59l7.72-7.72 1.47 1.35L5.41 20z\"/>\n",
              "  </svg>\n",
              "      </button>\n",
              "      \n",
              "  <style>\n",
              "    .colab-df-container {\n",
              "      display:flex;\n",
              "      flex-wrap:wrap;\n",
              "      gap: 12px;\n",
              "    }\n",
              "\n",
              "    .colab-df-convert {\n",
              "      background-color: #E8F0FE;\n",
              "      border: none;\n",
              "      border-radius: 50%;\n",
              "      cursor: pointer;\n",
              "      display: none;\n",
              "      fill: #1967D2;\n",
              "      height: 32px;\n",
              "      padding: 0 0 0 0;\n",
              "      width: 32px;\n",
              "    }\n",
              "\n",
              "    .colab-df-convert:hover {\n",
              "      background-color: #E2EBFA;\n",
              "      box-shadow: 0px 1px 2px rgba(60, 64, 67, 0.3), 0px 1px 3px 1px rgba(60, 64, 67, 0.15);\n",
              "      fill: #174EA6;\n",
              "    }\n",
              "\n",
              "    [theme=dark] .colab-df-convert {\n",
              "      background-color: #3B4455;\n",
              "      fill: #D2E3FC;\n",
              "    }\n",
              "\n",
              "    [theme=dark] .colab-df-convert:hover {\n",
              "      background-color: #434B5C;\n",
              "      box-shadow: 0px 1px 3px 1px rgba(0, 0, 0, 0.15);\n",
              "      filter: drop-shadow(0px 1px 2px rgba(0, 0, 0, 0.3));\n",
              "      fill: #FFFFFF;\n",
              "    }\n",
              "  </style>\n",
              "\n",
              "      <script>\n",
              "        const buttonEl =\n",
              "          document.querySelector('#df-27b5c171-8a76-49b5-8338-5de29e686e72 button.colab-df-convert');\n",
              "        buttonEl.style.display =\n",
              "          google.colab.kernel.accessAllowed ? 'block' : 'none';\n",
              "\n",
              "        async function convertToInteractive(key) {\n",
              "          const element = document.querySelector('#df-27b5c171-8a76-49b5-8338-5de29e686e72');\n",
              "          const dataTable =\n",
              "            await google.colab.kernel.invokeFunction('convertToInteractive',\n",
              "                                                     [key], {});\n",
              "          if (!dataTable) return;\n",
              "\n",
              "          const docLinkHtml = 'Like what you see? Visit the ' +\n",
              "            '<a target=\"_blank\" href=https://colab.research.google.com/notebooks/data_table.ipynb>data table notebook</a>'\n",
              "            + ' to learn more about interactive tables.';\n",
              "          element.innerHTML = '';\n",
              "          dataTable['output_type'] = 'display_data';\n",
              "          await google.colab.output.renderOutput(dataTable, element);\n",
              "          const docLink = document.createElement('div');\n",
              "          docLink.innerHTML = docLinkHtml;\n",
              "          element.appendChild(docLink);\n",
              "        }\n",
              "      </script>\n",
              "    </div>\n",
              "  </div>\n",
              "  "
            ],
            "application/vnd.google.colaboratory.module+javascript": "\n      import \"https://ssl.gstatic.com/colaboratory/data_table/fb998edc550c7947/data_table.js\";\n\n      window.createDataTable({\n        data: [[\"count\",\n{\n            'v': 224.0,\n            'f': \"224.0\",\n        }],\n [\"mean\",\n{\n            'v': 0.9997959766505912,\n            'f': \"0.9997959766505912\",\n        }],\n [\"std\",\n{\n            'v': 0.017775071297738445,\n            'f': \"0.017775071297738445\",\n        }],\n [\"min\",\n{\n            'v': 0.893993750920574,\n            'f': \"0.893993750920574\",\n        }],\n [\"25%\",\n{\n            'v': 0.9914510114415314,\n            'f': \"0.9914510114415314\",\n        }],\n [\"50%\",\n{\n            'v': 1.0005033876381089,\n            'f': \"1.0005033876381089\",\n        }],\n [\"75%\",\n{\n            'v': 1.0095817635271715,\n            'f': \"1.0095817635271715\",\n        }],\n [\"max\",\n{\n            'v': 1.0521962476462274,\n            'f': \"1.0521962476462274\",\n        }]],\n        columns: [[\"string\", \"index\"], [\"number\", \"valor\"]],\n        columnOptions: [{\"width\": \"1px\", \"className\": \"index_column\"}],\n        rowsPerPage: 25,\n        helpUrl: \"https://colab.research.google.com/notebooks/data_table.ipynb\",\n        suppressOutputScrolling: true,\n        minimumWidth: undefined,\n      });\n    "
          },
          "metadata": {},
          "execution_count": 12
        }
      ]
    },
    {
      "cell_type": "code",
      "source": [
        "print(f'Mediana do resíduo do IBC-BR: {np.median(df_ibcbr_res)}')"
      ],
      "metadata": {
        "colab": {
          "base_uri": "https://localhost:8080/"
        },
        "id": "uf6UmSQo_PZz",
        "outputId": "726dea06-24d6-470b-8f2d-4093bd46b351"
      },
      "execution_count": null,
      "outputs": [
        {
          "output_type": "stream",
          "name": "stdout",
          "text": [
            "Mediana do resíduo do IBC-BR: 1.0005033876381089\n"
          ]
        }
      ]
    },
    {
      "cell_type": "code",
      "source": [
        "ibcbr_res_mad = calcular_mad(df_ibcbr_res)\n",
        "print(f'MAD do resíduo do IBC-BR = {ibcbr_res_mad}.')"
      ],
      "metadata": {
        "colab": {
          "base_uri": "https://localhost:8080/"
        },
        "id": "elRUF75e5POI",
        "outputId": "f3042a1b-a6b6-4e6f-951d-34ff44c0ef34"
      },
      "execution_count": null,
      "outputs": [
        {
          "output_type": "stream",
          "name": "stdout",
          "text": [
            "MAD do resíduo do IBC-BR = 0.009062644702768241.\n"
          ]
        }
      ]
    },
    {
      "cell_type": "code",
      "source": [
        "def adicionar_zscore_modificado(df:pd.DataFrame) -> pd.DataFrame:\n",
        "  df_zscore = df.copy()\n",
        "  df_zscore['z-score mod'] = calcular_zscore_mod(df_zscore)\n",
        "  return df_zscore"
      ],
      "metadata": {
        "id": "6TIm0e3kd8dZ"
      },
      "execution_count": null,
      "outputs": []
    },
    {
      "cell_type": "code",
      "source": [
        "# criamos uma cópia do dataframe e calculamos o z-score modificado\n",
        "# de suas entradas\n",
        "df_ibcbr_res_zscore = adicionar_zscore_modificado(df_ibcbr_res)\n",
        "display(df_ibcbr_res_zscore.head())"
      ],
      "metadata": {
        "colab": {
          "base_uri": "https://localhost:8080/",
          "height": 198
        },
        "id": "LkulcGJa-W7H",
        "outputId": "111e3f66-1a3b-4f2b-a9ef-87fcc053329b"
      },
      "execution_count": null,
      "outputs": [
        {
          "output_type": "display_data",
          "data": {
            "text/plain": [
              "               valor  z-score mod\n",
              "data                             \n",
              "2003-07-01  0.988355    -0.904159\n",
              "2003-08-01  0.972326    -2.097129\n",
              "2003-09-01  1.007602     0.528325\n",
              "2003-10-01  1.009311     0.655498\n",
              "2003-11-01  0.992433    -0.600664"
            ],
            "text/html": [
              "\n",
              "  <div id=\"df-1ce23821-e1fe-44dd-84c5-8d8cbc9f323f\">\n",
              "    <div class=\"colab-df-container\">\n",
              "      <div>\n",
              "<style scoped>\n",
              "    .dataframe tbody tr th:only-of-type {\n",
              "        vertical-align: middle;\n",
              "    }\n",
              "\n",
              "    .dataframe tbody tr th {\n",
              "        vertical-align: top;\n",
              "    }\n",
              "\n",
              "    .dataframe thead th {\n",
              "        text-align: right;\n",
              "    }\n",
              "</style>\n",
              "<table border=\"1\" class=\"dataframe\">\n",
              "  <thead>\n",
              "    <tr style=\"text-align: right;\">\n",
              "      <th></th>\n",
              "      <th>valor</th>\n",
              "      <th>z-score mod</th>\n",
              "    </tr>\n",
              "    <tr>\n",
              "      <th>data</th>\n",
              "      <th></th>\n",
              "      <th></th>\n",
              "    </tr>\n",
              "  </thead>\n",
              "  <tbody>\n",
              "    <tr>\n",
              "      <th>2003-07-01</th>\n",
              "      <td>0.988355</td>\n",
              "      <td>-0.904159</td>\n",
              "    </tr>\n",
              "    <tr>\n",
              "      <th>2003-08-01</th>\n",
              "      <td>0.972326</td>\n",
              "      <td>-2.097129</td>\n",
              "    </tr>\n",
              "    <tr>\n",
              "      <th>2003-09-01</th>\n",
              "      <td>1.007602</td>\n",
              "      <td>0.528325</td>\n",
              "    </tr>\n",
              "    <tr>\n",
              "      <th>2003-10-01</th>\n",
              "      <td>1.009311</td>\n",
              "      <td>0.655498</td>\n",
              "    </tr>\n",
              "    <tr>\n",
              "      <th>2003-11-01</th>\n",
              "      <td>0.992433</td>\n",
              "      <td>-0.600664</td>\n",
              "    </tr>\n",
              "  </tbody>\n",
              "</table>\n",
              "</div>\n",
              "      <button class=\"colab-df-convert\" onclick=\"convertToInteractive('df-1ce23821-e1fe-44dd-84c5-8d8cbc9f323f')\"\n",
              "              title=\"Convert this dataframe to an interactive table.\"\n",
              "              style=\"display:none;\">\n",
              "        \n",
              "  <svg xmlns=\"http://www.w3.org/2000/svg\" height=\"24px\"viewBox=\"0 0 24 24\"\n",
              "       width=\"24px\">\n",
              "    <path d=\"M0 0h24v24H0V0z\" fill=\"none\"/>\n",
              "    <path d=\"M18.56 5.44l.94 2.06.94-2.06 2.06-.94-2.06-.94-.94-2.06-.94 2.06-2.06.94zm-11 1L8.5 8.5l.94-2.06 2.06-.94-2.06-.94L8.5 2.5l-.94 2.06-2.06.94zm10 10l.94 2.06.94-2.06 2.06-.94-2.06-.94-.94-2.06-.94 2.06-2.06.94z\"/><path d=\"M17.41 7.96l-1.37-1.37c-.4-.4-.92-.59-1.43-.59-.52 0-1.04.2-1.43.59L10.3 9.45l-7.72 7.72c-.78.78-.78 2.05 0 2.83L4 21.41c.39.39.9.59 1.41.59.51 0 1.02-.2 1.41-.59l7.78-7.78 2.81-2.81c.8-.78.8-2.07 0-2.86zM5.41 20L4 18.59l7.72-7.72 1.47 1.35L5.41 20z\"/>\n",
              "  </svg>\n",
              "      </button>\n",
              "      \n",
              "  <style>\n",
              "    .colab-df-container {\n",
              "      display:flex;\n",
              "      flex-wrap:wrap;\n",
              "      gap: 12px;\n",
              "    }\n",
              "\n",
              "    .colab-df-convert {\n",
              "      background-color: #E8F0FE;\n",
              "      border: none;\n",
              "      border-radius: 50%;\n",
              "      cursor: pointer;\n",
              "      display: none;\n",
              "      fill: #1967D2;\n",
              "      height: 32px;\n",
              "      padding: 0 0 0 0;\n",
              "      width: 32px;\n",
              "    }\n",
              "\n",
              "    .colab-df-convert:hover {\n",
              "      background-color: #E2EBFA;\n",
              "      box-shadow: 0px 1px 2px rgba(60, 64, 67, 0.3), 0px 1px 3px 1px rgba(60, 64, 67, 0.15);\n",
              "      fill: #174EA6;\n",
              "    }\n",
              "\n",
              "    [theme=dark] .colab-df-convert {\n",
              "      background-color: #3B4455;\n",
              "      fill: #D2E3FC;\n",
              "    }\n",
              "\n",
              "    [theme=dark] .colab-df-convert:hover {\n",
              "      background-color: #434B5C;\n",
              "      box-shadow: 0px 1px 3px 1px rgba(0, 0, 0, 0.15);\n",
              "      filter: drop-shadow(0px 1px 2px rgba(0, 0, 0, 0.3));\n",
              "      fill: #FFFFFF;\n",
              "    }\n",
              "  </style>\n",
              "\n",
              "      <script>\n",
              "        const buttonEl =\n",
              "          document.querySelector('#df-1ce23821-e1fe-44dd-84c5-8d8cbc9f323f button.colab-df-convert');\n",
              "        buttonEl.style.display =\n",
              "          google.colab.kernel.accessAllowed ? 'block' : 'none';\n",
              "\n",
              "        async function convertToInteractive(key) {\n",
              "          const element = document.querySelector('#df-1ce23821-e1fe-44dd-84c5-8d8cbc9f323f');\n",
              "          const dataTable =\n",
              "            await google.colab.kernel.invokeFunction('convertToInteractive',\n",
              "                                                     [key], {});\n",
              "          if (!dataTable) return;\n",
              "\n",
              "          const docLinkHtml = 'Like what you see? Visit the ' +\n",
              "            '<a target=\"_blank\" href=https://colab.research.google.com/notebooks/data_table.ipynb>data table notebook</a>'\n",
              "            + ' to learn more about interactive tables.';\n",
              "          element.innerHTML = '';\n",
              "          dataTable['output_type'] = 'display_data';\n",
              "          await google.colab.output.renderOutput(dataTable, element);\n",
              "          const docLink = document.createElement('div');\n",
              "          docLink.innerHTML = docLinkHtml;\n",
              "          element.appendChild(docLink);\n",
              "        }\n",
              "      </script>\n",
              "    </div>\n",
              "  </div>\n",
              "  "
            ],
            "application/vnd.google.colaboratory.module+javascript": "\n      import \"https://ssl.gstatic.com/colaboratory/data_table/fb998edc550c7947/data_table.js\";\n\n      window.createDataTable({\n        data: [[\"2003-07-01 00:00:00\",\n{\n            'v': 0.988354851546992,\n            'f': \"0.988354851546992\",\n        },\n{\n            'v': -0.9041593931320423,\n            'f': \"-0.9041593931320423\",\n        }],\n [\"2003-08-01 00:00:00\",\n{\n            'v': 0.972325781792582,\n            'f': \"0.972325781792582\",\n        },\n{\n            'v': -2.0971289717643025,\n            'f': \"-2.0971289717643025\",\n        }],\n [\"2003-09-01 00:00:00\",\n{\n            'v': 1.0076021083296829,\n            'f': \"1.0076021083296829\",\n        },\n{\n            'v': 0.528324972191556,\n            'f': \"0.528324972191556\",\n        }],\n [\"2003-10-01 00:00:00\",\n{\n            'v': 1.009310840081455,\n            'f': \"1.009310840081455\",\n        },\n{\n            'v': 0.6554979790559315,\n            'f': \"0.6554979790559315\",\n        }],\n [\"2003-11-01 00:00:00\",\n{\n            'v': 0.9924327050517188,\n            'f': \"0.9924327050517188\",\n        },\n{\n            'v': -0.6006636038071764,\n            'f': \"-0.6006636038071764\",\n        }]],\n        columns: [[\"string\", \"data\"], [\"number\", \"valor\"], [\"number\", \"z-score mod\"]],\n        columnOptions: [{\"width\": \"1px\", \"className\": \"index_column\"}],\n        rowsPerPage: 25,\n        helpUrl: \"https://colab.research.google.com/notebooks/data_table.ipynb\",\n        suppressOutputScrolling: true,\n        minimumWidth: undefined,\n      });\n    "
          },
          "metadata": {}
        }
      ]
    },
    {
      "cell_type": "code",
      "source": [
        "def filtrar_anomalias(df_zscore:pd.DataFrame,\n",
        "                      limiar_anomalia:float=2.5) -> pd.DataFrame:\n",
        "  '''\n",
        "  Função auxiliar para filtrar as entradas de um DataFrame, que contenha\n",
        "  uma coluna chamada \"z-score mod\" que represente o z-score modificado.\n",
        "  A função retorna as entradas que estão acima de \"limiar_anomalia\" e\n",
        "  abaixo de \"-limiar_anomalia\".\n",
        "  df_zscore: Pandas DataFrame a ser filtrado (precisa conter uma coluna chamada\n",
        "             \"z-score mod\").\n",
        "  limiar_anomalia: limiar de z-score modificado que divide os valores normais\n",
        "                  das anomalias.\n",
        "  '''\n",
        "  assert(limiar_anomalia > 0)\n",
        "  assert('z-score mod' in df_zscore.columns)\n",
        "\n",
        "  filtro_acima_lim_sup = df_zscore['z-score mod'] > limiar_anomalia\n",
        "  filtro_abaixo_lim_inf = df_zscore['z-score mod'] < -limiar_anomalia\n",
        "\n",
        "  return df_zscore[ filtro_acima_lim_sup | filtro_abaixo_lim_inf ]"
      ],
      "metadata": {
        "id": "grtFxSZye2mm"
      },
      "execution_count": null,
      "outputs": []
    },
    {
      "cell_type": "code",
      "source": [
        "# depois filtramos os dados em busca de anomalias,\n",
        "# assumindo que qualquer coisa acima de 2.5 unidades\n",
        "# de MAD é uma anomalia.\n",
        "\n",
        "df_res_anomalias = filtrar_anomalias(df_ibcbr_res_zscore)"
      ],
      "metadata": {
        "id": "TmgdZqLOA8Pc"
      },
      "execution_count": null,
      "outputs": []
    },
    {
      "cell_type": "code",
      "source": [
        "display(df_res_anomalias)"
      ],
      "metadata": {
        "colab": {
          "base_uri": "https://localhost:8080/",
          "height": 305
        },
        "id": "4EBSHlw0RSbx",
        "outputId": "623c1be3-472e-4a53-bbd9-7cbe7f799dc8"
      },
      "execution_count": null,
      "outputs": [
        {
          "output_type": "display_data",
          "data": {
            "text/plain": [
              "               valor  z-score mod\n",
              "data                             \n",
              "2008-07-01  1.034370     2.520569\n",
              "2008-09-01  1.038398     2.820339\n",
              "2008-12-01  0.955111    -3.378379\n",
              "2009-01-01  0.959341    -3.063555\n",
              "2009-02-01  0.960103    -3.006779\n",
              "2020-01-01  1.046810     3.446424\n",
              "2020-02-01  1.052196     3.847261\n",
              "2020-04-01  0.893994    -7.927020\n",
              "2020-05-01  0.904317    -7.158683\n",
              "2020-06-01  0.955636    -3.339268"
            ],
            "text/html": [
              "\n",
              "  <div id=\"df-9758fbaa-e943-4892-8485-1ecd28ee58cd\">\n",
              "    <div class=\"colab-df-container\">\n",
              "      <div>\n",
              "<style scoped>\n",
              "    .dataframe tbody tr th:only-of-type {\n",
              "        vertical-align: middle;\n",
              "    }\n",
              "\n",
              "    .dataframe tbody tr th {\n",
              "        vertical-align: top;\n",
              "    }\n",
              "\n",
              "    .dataframe thead th {\n",
              "        text-align: right;\n",
              "    }\n",
              "</style>\n",
              "<table border=\"1\" class=\"dataframe\">\n",
              "  <thead>\n",
              "    <tr style=\"text-align: right;\">\n",
              "      <th></th>\n",
              "      <th>valor</th>\n",
              "      <th>z-score mod</th>\n",
              "    </tr>\n",
              "    <tr>\n",
              "      <th>data</th>\n",
              "      <th></th>\n",
              "      <th></th>\n",
              "    </tr>\n",
              "  </thead>\n",
              "  <tbody>\n",
              "    <tr>\n",
              "      <th>2008-07-01</th>\n",
              "      <td>1.034370</td>\n",
              "      <td>2.520569</td>\n",
              "    </tr>\n",
              "    <tr>\n",
              "      <th>2008-09-01</th>\n",
              "      <td>1.038398</td>\n",
              "      <td>2.820339</td>\n",
              "    </tr>\n",
              "    <tr>\n",
              "      <th>2008-12-01</th>\n",
              "      <td>0.955111</td>\n",
              "      <td>-3.378379</td>\n",
              "    </tr>\n",
              "    <tr>\n",
              "      <th>2009-01-01</th>\n",
              "      <td>0.959341</td>\n",
              "      <td>-3.063555</td>\n",
              "    </tr>\n",
              "    <tr>\n",
              "      <th>2009-02-01</th>\n",
              "      <td>0.960103</td>\n",
              "      <td>-3.006779</td>\n",
              "    </tr>\n",
              "    <tr>\n",
              "      <th>2020-01-01</th>\n",
              "      <td>1.046810</td>\n",
              "      <td>3.446424</td>\n",
              "    </tr>\n",
              "    <tr>\n",
              "      <th>2020-02-01</th>\n",
              "      <td>1.052196</td>\n",
              "      <td>3.847261</td>\n",
              "    </tr>\n",
              "    <tr>\n",
              "      <th>2020-04-01</th>\n",
              "      <td>0.893994</td>\n",
              "      <td>-7.927020</td>\n",
              "    </tr>\n",
              "    <tr>\n",
              "      <th>2020-05-01</th>\n",
              "      <td>0.904317</td>\n",
              "      <td>-7.158683</td>\n",
              "    </tr>\n",
              "    <tr>\n",
              "      <th>2020-06-01</th>\n",
              "      <td>0.955636</td>\n",
              "      <td>-3.339268</td>\n",
              "    </tr>\n",
              "  </tbody>\n",
              "</table>\n",
              "</div>\n",
              "      <button class=\"colab-df-convert\" onclick=\"convertToInteractive('df-9758fbaa-e943-4892-8485-1ecd28ee58cd')\"\n",
              "              title=\"Convert this dataframe to an interactive table.\"\n",
              "              style=\"display:none;\">\n",
              "        \n",
              "  <svg xmlns=\"http://www.w3.org/2000/svg\" height=\"24px\"viewBox=\"0 0 24 24\"\n",
              "       width=\"24px\">\n",
              "    <path d=\"M0 0h24v24H0V0z\" fill=\"none\"/>\n",
              "    <path d=\"M18.56 5.44l.94 2.06.94-2.06 2.06-.94-2.06-.94-.94-2.06-.94 2.06-2.06.94zm-11 1L8.5 8.5l.94-2.06 2.06-.94-2.06-.94L8.5 2.5l-.94 2.06-2.06.94zm10 10l.94 2.06.94-2.06 2.06-.94-2.06-.94-.94-2.06-.94 2.06-2.06.94z\"/><path d=\"M17.41 7.96l-1.37-1.37c-.4-.4-.92-.59-1.43-.59-.52 0-1.04.2-1.43.59L10.3 9.45l-7.72 7.72c-.78.78-.78 2.05 0 2.83L4 21.41c.39.39.9.59 1.41.59.51 0 1.02-.2 1.41-.59l7.78-7.78 2.81-2.81c.8-.78.8-2.07 0-2.86zM5.41 20L4 18.59l7.72-7.72 1.47 1.35L5.41 20z\"/>\n",
              "  </svg>\n",
              "      </button>\n",
              "      \n",
              "  <style>\n",
              "    .colab-df-container {\n",
              "      display:flex;\n",
              "      flex-wrap:wrap;\n",
              "      gap: 12px;\n",
              "    }\n",
              "\n",
              "    .colab-df-convert {\n",
              "      background-color: #E8F0FE;\n",
              "      border: none;\n",
              "      border-radius: 50%;\n",
              "      cursor: pointer;\n",
              "      display: none;\n",
              "      fill: #1967D2;\n",
              "      height: 32px;\n",
              "      padding: 0 0 0 0;\n",
              "      width: 32px;\n",
              "    }\n",
              "\n",
              "    .colab-df-convert:hover {\n",
              "      background-color: #E2EBFA;\n",
              "      box-shadow: 0px 1px 2px rgba(60, 64, 67, 0.3), 0px 1px 3px 1px rgba(60, 64, 67, 0.15);\n",
              "      fill: #174EA6;\n",
              "    }\n",
              "\n",
              "    [theme=dark] .colab-df-convert {\n",
              "      background-color: #3B4455;\n",
              "      fill: #D2E3FC;\n",
              "    }\n",
              "\n",
              "    [theme=dark] .colab-df-convert:hover {\n",
              "      background-color: #434B5C;\n",
              "      box-shadow: 0px 1px 3px 1px rgba(0, 0, 0, 0.15);\n",
              "      filter: drop-shadow(0px 1px 2px rgba(0, 0, 0, 0.3));\n",
              "      fill: #FFFFFF;\n",
              "    }\n",
              "  </style>\n",
              "\n",
              "      <script>\n",
              "        const buttonEl =\n",
              "          document.querySelector('#df-9758fbaa-e943-4892-8485-1ecd28ee58cd button.colab-df-convert');\n",
              "        buttonEl.style.display =\n",
              "          google.colab.kernel.accessAllowed ? 'block' : 'none';\n",
              "\n",
              "        async function convertToInteractive(key) {\n",
              "          const element = document.querySelector('#df-9758fbaa-e943-4892-8485-1ecd28ee58cd');\n",
              "          const dataTable =\n",
              "            await google.colab.kernel.invokeFunction('convertToInteractive',\n",
              "                                                     [key], {});\n",
              "          if (!dataTable) return;\n",
              "\n",
              "          const docLinkHtml = 'Like what you see? Visit the ' +\n",
              "            '<a target=\"_blank\" href=https://colab.research.google.com/notebooks/data_table.ipynb>data table notebook</a>'\n",
              "            + ' to learn more about interactive tables.';\n",
              "          element.innerHTML = '';\n",
              "          dataTable['output_type'] = 'display_data';\n",
              "          await google.colab.output.renderOutput(dataTable, element);\n",
              "          const docLink = document.createElement('div');\n",
              "          docLink.innerHTML = docLinkHtml;\n",
              "          element.appendChild(docLink);\n",
              "        }\n",
              "      </script>\n",
              "    </div>\n",
              "  </div>\n",
              "  "
            ],
            "application/vnd.google.colaboratory.module+javascript": "\n      import \"https://ssl.gstatic.com/colaboratory/data_table/fb998edc550c7947/data_table.js\";\n\n      window.createDataTable({\n        data: [[\"2008-07-01 00:00:00\",\n{\n            'v': 1.0343704572886263,\n            'f': \"1.0343704572886263\",\n        },\n{\n            'v': 2.5205694671939103,\n            'f': \"2.5205694671939103\",\n        }],\n [\"2008-09-01 00:00:00\",\n{\n            'v': 1.0383982407115209,\n            'f': \"1.0383982407115209\",\n        },\n{\n            'v': 2.820338771742014,\n            'f': \"2.820338771742014\",\n        }],\n [\"2008-12-01 00:00:00\",\n{\n            'v': 0.9551105573879852,\n            'f': \"0.9551105573879852\",\n        },\n{\n            'v': -3.3783785588378956,\n            'f': \"-3.3783785588378956\",\n        }],\n [\"2009-01-01 00:00:00\",\n{\n            'v': 0.9593406095379604,\n            'f': \"0.9593406095379604\",\n        },\n{\n            'v': -3.0635553277792114,\n            'f': \"-3.0635553277792114\",\n        }],\n [\"2009-02-01 00:00:00\",\n{\n            'v': 0.9601034749622458,\n            'f': \"0.9601034749622458\",\n        },\n{\n            'v': -3.006778780062681,\n            'f': \"-3.006778780062681\",\n        }],\n [\"2020-01-01 00:00:00\",\n{\n            'v': 1.0468104936758136,\n            'f': \"1.0468104936758136\",\n        },\n{\n            'v': 3.446423880105787,\n            'f': \"3.446423880105787\",\n        }],\n [\"2020-02-01 00:00:00\",\n{\n            'v': 1.0521962476462274,\n            'f': \"1.0521962476462274\",\n        },\n{\n            'v': 3.847260656234605,\n            'f': \"3.847260656234605\",\n        }],\n [\"2020-04-01 00:00:00\",\n{\n            'v': 0.893993750920574,\n            'f': \"0.893993750920574\",\n        },\n{\n            'v': -7.927019994421987,\n            'f': \"-7.927019994421987\",\n        }],\n [\"2020-05-01 00:00:00\",\n{\n            'v': 0.9043173393974934,\n            'f': \"0.9043173393974934\",\n        },\n{\n            'v': -7.158683017667923,\n            'f': \"-7.158683017667923\",\n        }],\n [\"2020-06-01 00:00:00\",\n{\n            'v': 0.9556360635770628,\n            'f': \"0.9556360635770628\",\n        },\n{\n            'v': -3.3392675619704697,\n            'f': \"-3.3392675619704697\",\n        }]],\n        columns: [[\"string\", \"data\"], [\"number\", \"valor\"], [\"number\", \"z-score mod\"]],\n        columnOptions: [{\"width\": \"1px\", \"className\": \"index_column\"}],\n        rowsPerPage: 25,\n        helpUrl: \"https://colab.research.google.com/notebooks/data_table.ipynb\",\n        suppressOutputScrolling: true,\n        minimumWidth: undefined,\n      });\n    "
          },
          "metadata": {}
        }
      ]
    },
    {
      "cell_type": "markdown",
      "source": [
        "O processo parece ter detectado anomalias em 2008 e 2009 (potenciais efeitos da crise do mercado financeiro mundial de 2008) e de dezembro de 2019 até junho de 2020 (potenciais efeitos da pandemia de COVID-19)."
      ],
      "metadata": {
        "id": "pkL5PfOCOKiI"
      }
    },
    {
      "cell_type": "markdown",
      "source": [
        "Faremos uma análise visual do gráfico do IBC-BR, marcando as anomalias identificadas no processo."
      ],
      "metadata": {
        "id": "GpzTTbqqc6kq"
      }
    },
    {
      "cell_type": "code",
      "source": [
        "def configurar_ticks_anuais(ax):\n",
        "  '''\n",
        "  Procedimento auxiliar para configurar a exibição do eixo x\n",
        "  de um gráfico do matplotlib para dados de séries temporais\n",
        "  para os quais só sejam marcados os valores ano a ano.\n",
        "  '''\n",
        "  ax.xaxis.set_major_locator(matplotlib.dates.YearLocator(base=1))\n",
        "  ax.xaxis.set_major_formatter(matplotlib.dates.DateFormatter(\"%Y\"))"
      ],
      "metadata": {
        "id": "mk60_I2uPz8-"
      },
      "execution_count": null,
      "outputs": []
    },
    {
      "cell_type": "code",
      "source": [
        "def desenhar_serie_com_anomalias(df:pd.DataFrame,\n",
        "                                 indice_anomalias:pd.core.indexes.datetimes.DatetimeIndex,\n",
        "                                 nome_serie:str='IBC-BR',\n",
        "                                 df_cumsum:pd.DataFrame=None) -> None:\n",
        "  fig = plt.figure(figsize=(16,5))\n",
        "\n",
        "  plt.plot(df['valor'], 'b', label=f'Índice {nome_serie}')\n",
        "\n",
        "  for e in indice_anomalias:\n",
        "    plt.axvline(x=e, color='r', linestyle=':')\n",
        "\n",
        "  if not df_cumsum is None:\n",
        "    plt.scatter(x=df_cumsum.index,\n",
        "                y=df_cumsum['high_cumsum'],\n",
        "                s=0.8,\n",
        "                color='orange',\n",
        "                label='CUMSUM (High)')\n",
        "\n",
        "  plt.legend(loc='best')\n",
        "  plt.ylabel(nome_serie)\n",
        "  plt.xlabel('Tempo')\n",
        "\n",
        "  # ajustamos o eixo x da figura para exibir ticks a cada ano\n",
        "  configurar_ticks_anuais(fig.axes[0])\n",
        "\n",
        "  plt.show()"
      ],
      "metadata": {
        "id": "GRfboQgChFwp"
      },
      "execution_count": null,
      "outputs": []
    },
    {
      "cell_type": "code",
      "source": [
        "desenhar_serie_com_anomalias(df_ibcbr, df_res_anomalias.index)"
      ],
      "metadata": {
        "colab": {
          "base_uri": "https://localhost:8080/",
          "height": 339
        },
        "id": "AZG9AG8MiRe1",
        "outputId": "5d049b50-7369-4af0-8ddc-22afbde91805"
      },
      "execution_count": null,
      "outputs": [
        {
          "output_type": "display_data",
          "data": {
            "text/plain": [
              "<Figure size 1152x360 with 1 Axes>"
            ],
            "image/png": "[encoded data removed]"
          },
          "metadata": {}
        }
      ]
    },
    {
      "cell_type": "markdown",
      "source": [
        "### z-score modificado (série de diferenças)"
      ],
      "metadata": {
        "id": "_HmFKgM8gxuy"
      }
    },
    {
      "cell_type": "markdown",
      "source": [
        "Analisaremos agora a série de diferenças, para verificar se é possível identificar as mesmas anomalias encontradas via a série de resíduos utilizando a série de diferenças."
      ],
      "metadata": {
        "id": "aqcypFLbl9ST"
      }
    },
    {
      "cell_type": "code",
      "source": [
        "df_dif_zscore = adicionar_zscore_modificado(df_dif)"
      ],
      "metadata": {
        "id": "bM3XE6maihHX"
      },
      "execution_count": null,
      "outputs": []
    },
    {
      "cell_type": "code",
      "source": [
        "display(df_dif_zscore.head())"
      ],
      "metadata": {
        "colab": {
          "base_uri": "https://localhost:8080/",
          "height": 198
        },
        "id": "oyGgS-jLjOIG",
        "outputId": "ade9cb02-9f2f-493e-a581-cd87f50fbd39"
      },
      "execution_count": null,
      "outputs": [
        {
          "output_type": "display_data",
          "data": {
            "text/plain": [
              "            valor  z-score mod\n",
              "data                          \n",
              "2003-02-01   2.52     0.781859\n",
              "2003-03-01   4.74     1.393030\n",
              "2003-04-01  -1.22    -0.247772\n",
              "2003-05-01  -1.89    -0.432225\n",
              "2003-06-01  -1.72    -0.385423"
            ],
            "text/html": [
              "\n",
              "  <div id=\"df-316903fc-8f9a-4c22-ba29-0d9e473a9401\">\n",
              "    <div class=\"colab-df-container\">\n",
              "      <div>\n",
              "<style scoped>\n",
              "    .dataframe tbody tr th:only-of-type {\n",
              "        vertical-align: middle;\n",
              "    }\n",
              "\n",
              "    .dataframe tbody tr th {\n",
              "        vertical-align: top;\n",
              "    }\n",
              "\n",
              "    .dataframe thead th {\n",
              "        text-align: right;\n",
              "    }\n",
              "</style>\n",
              "<table border=\"1\" class=\"dataframe\">\n",
              "  <thead>\n",
              "    <tr style=\"text-align: right;\">\n",
              "      <th></th>\n",
              "      <th>valor</th>\n",
              "      <th>z-score mod</th>\n",
              "    </tr>\n",
              "    <tr>\n",
              "      <th>data</th>\n",
              "      <th></th>\n",
              "      <th></th>\n",
              "    </tr>\n",
              "  </thead>\n",
              "  <tbody>\n",
              "    <tr>\n",
              "      <th>2003-02-01</th>\n",
              "      <td>2.52</td>\n",
              "      <td>0.781859</td>\n",
              "    </tr>\n",
              "    <tr>\n",
              "      <th>2003-03-01</th>\n",
              "      <td>4.74</td>\n",
              "      <td>1.393030</td>\n",
              "    </tr>\n",
              "    <tr>\n",
              "      <th>2003-04-01</th>\n",
              "      <td>-1.22</td>\n",
              "      <td>-0.247772</td>\n",
              "    </tr>\n",
              "    <tr>\n",
              "      <th>2003-05-01</th>\n",
              "      <td>-1.89</td>\n",
              "      <td>-0.432225</td>\n",
              "    </tr>\n",
              "    <tr>\n",
              "      <th>2003-06-01</th>\n",
              "      <td>-1.72</td>\n",
              "      <td>-0.385423</td>\n",
              "    </tr>\n",
              "  </tbody>\n",
              "</table>\n",
              "</div>\n",
              "      <button class=\"colab-df-convert\" onclick=\"convertToInteractive('df-316903fc-8f9a-4c22-ba29-0d9e473a9401')\"\n",
              "              title=\"Convert this dataframe to an interactive table.\"\n",
              "              style=\"display:none;\">\n",
              "        \n",
              "  <svg xmlns=\"http://www.w3.org/2000/svg\" height=\"24px\"viewBox=\"0 0 24 24\"\n",
              "       width=\"24px\">\n",
              "    <path d=\"M0 0h24v24H0V0z\" fill=\"none\"/>\n",
              "    <path d=\"M18.56 5.44l.94 2.06.94-2.06 2.06-.94-2.06-.94-.94-2.06-.94 2.06-2.06.94zm-11 1L8.5 8.5l.94-2.06 2.06-.94-2.06-.94L8.5 2.5l-.94 2.06-2.06.94zm10 10l.94 2.06.94-2.06 2.06-.94-2.06-.94-.94-2.06-.94 2.06-2.06.94z\"/><path d=\"M17.41 7.96l-1.37-1.37c-.4-.4-.92-.59-1.43-.59-.52 0-1.04.2-1.43.59L10.3 9.45l-7.72 7.72c-.78.78-.78 2.05 0 2.83L4 21.41c.39.39.9.59 1.41.59.51 0 1.02-.2 1.41-.59l7.78-7.78 2.81-2.81c.8-.78.8-2.07 0-2.86zM5.41 20L4 18.59l7.72-7.72 1.47 1.35L5.41 20z\"/>\n",
              "  </svg>\n",
              "      </button>\n",
              "      \n",
              "  <style>\n",
              "    .colab-df-container {\n",
              "      display:flex;\n",
              "      flex-wrap:wrap;\n",
              "      gap: 12px;\n",
              "    }\n",
              "\n",
              "    .colab-df-convert {\n",
              "      background-color: #E8F0FE;\n",
              "      border: none;\n",
              "      border-radius: 50%;\n",
              "      cursor: pointer;\n",
              "      display: none;\n",
              "      fill: #1967D2;\n",
              "      height: 32px;\n",
              "      padding: 0 0 0 0;\n",
              "      width: 32px;\n",
              "    }\n",
              "\n",
              "    .colab-df-convert:hover {\n",
              "      background-color: #E2EBFA;\n",
              "      box-shadow: 0px 1px 2px rgba(60, 64, 67, 0.3), 0px 1px 3px 1px rgba(60, 64, 67, 0.15);\n",
              "      fill: #174EA6;\n",
              "    }\n",
              "\n",
              "    [theme=dark] .colab-df-convert {\n",
              "      background-color: #3B4455;\n",
              "      fill: #D2E3FC;\n",
              "    }\n",
              "\n",
              "    [theme=dark] .colab-df-convert:hover {\n",
              "      background-color: #434B5C;\n",
              "      box-shadow: 0px 1px 3px 1px rgba(0, 0, 0, 0.15);\n",
              "      filter: drop-shadow(0px 1px 2px rgba(0, 0, 0, 0.3));\n",
              "      fill: #FFFFFF;\n",
              "    }\n",
              "  </style>\n",
              "\n",
              "      <script>\n",
              "        const buttonEl =\n",
              "          document.querySelector('#df-316903fc-8f9a-4c22-ba29-0d9e473a9401 button.colab-df-convert');\n",
              "        buttonEl.style.display =\n",
              "          google.colab.kernel.accessAllowed ? 'block' : 'none';\n",
              "\n",
              "        async function convertToInteractive(key) {\n",
              "          const element = document.querySelector('#df-316903fc-8f9a-4c22-ba29-0d9e473a9401');\n",
              "          const dataTable =\n",
              "            await google.colab.kernel.invokeFunction('convertToInteractive',\n",
              "                                                     [key], {});\n",
              "          if (!dataTable) return;\n",
              "\n",
              "          const docLinkHtml = 'Like what you see? Visit the ' +\n",
              "            '<a target=\"_blank\" href=https://colab.research.google.com/notebooks/data_table.ipynb>data table notebook</a>'\n",
              "            + ' to learn more about interactive tables.';\n",
              "          element.innerHTML = '';\n",
              "          dataTable['output_type'] = 'display_data';\n",
              "          await google.colab.output.renderOutput(dataTable, element);\n",
              "          const docLink = document.createElement('div');\n",
              "          docLink.innerHTML = docLinkHtml;\n",
              "          element.appendChild(docLink);\n",
              "        }\n",
              "      </script>\n",
              "    </div>\n",
              "  </div>\n",
              "  "
            ],
            "application/vnd.google.colaboratory.module+javascript": "\n      import \"https://ssl.gstatic.com/colaboratory/data_table/fb998edc550c7947/data_table.js\";\n\n      window.createDataTable({\n        data: [[\"2003-02-01 00:00:00\",\n{\n            'v': 2.519999999999996,\n            'f': \"2.519999999999996\",\n        },\n{\n            'v': 0.7818586762912284,\n            'f': \"0.7818586762912284\",\n        }],\n [\"2003-03-01 00:00:00\",\n{\n            'v': 4.739999999999995,\n            'f': \"4.739999999999995\",\n        },\n{\n            'v': 1.3930298950822613,\n            'f': \"1.3930298950822613\",\n        }],\n [\"2003-04-01 00:00:00\",\n{\n            'v': -1.2199999999999989,\n            'f': \"-1.2199999999999989\",\n        },\n{\n            'v': -0.24777211572609603,\n            'f': \"-0.24777211572609603\",\n        }],\n [\"2003-05-01 00:00:00\",\n{\n            'v': -1.8900000000000008,\n            'f': \"-1.8900000000000008\",\n        },\n{\n            'v': -0.43222469076663356,\n            'f': \"-0.43222469076663356\",\n        }],\n [\"2003-06-01 00:00:00\",\n{\n            'v': -1.7199999999999989,\n            'f': \"-1.7199999999999989\",\n        },\n{\n            'v': -0.38542329112948187,\n            'f': \"-0.38542329112948187\",\n        }]],\n        columns: [[\"string\", \"data\"], [\"number\", \"valor\"], [\"number\", \"z-score mod\"]],\n        columnOptions: [{\"width\": \"1px\", \"className\": \"index_column\"}],\n        rowsPerPage: 25,\n        helpUrl: \"https://colab.research.google.com/notebooks/data_table.ipynb\",\n        suppressOutputScrolling: true,\n        minimumWidth: undefined,\n      });\n    "
          },
          "metadata": {}
        }
      ]
    },
    {
      "cell_type": "code",
      "source": [
        "df_dif_anomalias = filtrar_anomalias(df_dif_zscore)"
      ],
      "metadata": {
        "id": "J9BoC1u5jRur"
      },
      "execution_count": null,
      "outputs": []
    },
    {
      "cell_type": "code",
      "source": [
        "display(df_dif_anomalias)"
      ],
      "metadata": {
        "colab": {
          "base_uri": "https://localhost:8080/",
          "height": 478
        },
        "id": "RXoRfg8hjjgw",
        "outputId": "f5274371-5295-4c44-dd6c-3ba61becf326"
      },
      "execution_count": null,
      "outputs": [
        {
          "output_type": "display_data",
          "data": {
            "text/plain": [
              "            valor  z-score mod\n",
              "data                          \n",
              "2004-03-01  12.53     3.537635\n",
              "2005-03-01  11.42     3.232050\n",
              "2006-03-01  11.29     3.196260\n",
              "2007-03-01  11.78     3.331158\n",
              "2009-03-01  12.55     3.543141\n",
              "2010-03-01  15.83     4.446133\n",
              "2012-03-01  11.00     3.116423\n",
              "2013-03-01  11.87     3.355936\n",
              "2014-07-01   8.97     2.557559\n",
              "2015-03-01  12.93     3.647756\n",
              "2016-03-01   9.46     2.692457\n",
              "2017-03-01  12.51     3.532129\n",
              "2018-03-01  11.63     3.289863\n",
              "2020-04-01 -17.67    -4.776496\n",
              "2020-07-01  10.03     2.849379\n",
              "2021-03-01   9.89     2.810837\n",
              "2022-01-01  -9.46    -2.516263\n",
              "2022-03-01  12.16     3.435773"
            ],
            "text/html": [
              "\n",
              "  <div id=\"df-570e87ce-26f6-4b20-a318-a48c73ffce3c\">\n",
              "    <div class=\"colab-df-container\">\n",
              "      <div>\n",
              "<style scoped>\n",
              "    .dataframe tbody tr th:only-of-type {\n",
              "        vertical-align: middle;\n",
              "    }\n",
              "\n",
              "    .dataframe tbody tr th {\n",
              "        vertical-align: top;\n",
              "    }\n",
              "\n",
              "    .dataframe thead th {\n",
              "        text-align: right;\n",
              "    }\n",
              "</style>\n",
              "<table border=\"1\" class=\"dataframe\">\n",
              "  <thead>\n",
              "    <tr style=\"text-align: right;\">\n",
              "      <th></th>\n",
              "      <th>valor</th>\n",
              "      <th>z-score mod</th>\n",
              "    </tr>\n",
              "    <tr>\n",
              "      <th>data</th>\n",
              "      <th></th>\n",
              "      <th></th>\n",
              "    </tr>\n",
              "  </thead>\n",
              "  <tbody>\n",
              "    <tr>\n",
              "      <th>2004-03-01</th>\n",
              "      <td>12.53</td>\n",
              "      <td>3.537635</td>\n",
              "    </tr>\n",
              "    <tr>\n",
              "      <th>2005-03-01</th>\n",
              "      <td>11.42</td>\n",
              "      <td>3.232050</td>\n",
              "    </tr>\n",
              "    <tr>\n",
              "      <th>2006-03-01</th>\n",
              "      <td>11.29</td>\n",
              "      <td>3.196260</td>\n",
              "    </tr>\n",
              "    <tr>\n",
              "      <th>2007-03-01</th>\n",
              "      <td>11.78</td>\n",
              "      <td>3.331158</td>\n",
              "    </tr>\n",
              "    <tr>\n",
              "      <th>2009-03-01</th>\n",
              "      <td>12.55</td>\n",
              "      <td>3.543141</td>\n",
              "    </tr>\n",
              "    <tr>\n",
              "      <th>2010-03-01</th>\n",
              "      <td>15.83</td>\n",
              "      <td>4.446133</td>\n",
              "    </tr>\n",
              "    <tr>\n",
              "      <th>2012-03-01</th>\n",
              "      <td>11.00</td>\n",
              "      <td>3.116423</td>\n",
              "    </tr>\n",
              "    <tr>\n",
              "      <th>2013-03-01</th>\n",
              "      <td>11.87</td>\n",
              "      <td>3.355936</td>\n",
              "    </tr>\n",
              "    <tr>\n",
              "      <th>2014-07-01</th>\n",
              "      <td>8.97</td>\n",
              "      <td>2.557559</td>\n",
              "    </tr>\n",
              "    <tr>\n",
              "      <th>2015-03-01</th>\n",
              "      <td>12.93</td>\n",
              "      <td>3.647756</td>\n",
              "    </tr>\n",
              "    <tr>\n",
              "      <th>2016-03-01</th>\n",
              "      <td>9.46</td>\n",
              "      <td>2.692457</td>\n",
              "    </tr>\n",
              "    <tr>\n",
              "      <th>2017-03-01</th>\n",
              "      <td>12.51</td>\n",
              "      <td>3.532129</td>\n",
              "    </tr>\n",
              "    <tr>\n",
              "      <th>2018-03-01</th>\n",
              "      <td>11.63</td>\n",
              "      <td>3.289863</td>\n",
              "    </tr>\n",
              "    <tr>\n",
              "      <th>2020-04-01</th>\n",
              "      <td>-17.67</td>\n",
              "      <td>-4.776496</td>\n",
              "    </tr>\n",
              "    <tr>\n",
              "      <th>2020-07-01</th>\n",
              "      <td>10.03</td>\n",
              "      <td>2.849379</td>\n",
              "    </tr>\n",
              "    <tr>\n",
              "      <th>2021-03-01</th>\n",
              "      <td>9.89</td>\n",
              "      <td>2.810837</td>\n",
              "    </tr>\n",
              "    <tr>\n",
              "      <th>2022-01-01</th>\n",
              "      <td>-9.46</td>\n",
              "      <td>-2.516263</td>\n",
              "    </tr>\n",
              "    <tr>\n",
              "      <th>2022-03-01</th>\n",
              "      <td>12.16</td>\n",
              "      <td>3.435773</td>\n",
              "    </tr>\n",
              "  </tbody>\n",
              "</table>\n",
              "</div>\n",
              "      <button class=\"colab-df-convert\" onclick=\"convertToInteractive('df-570e87ce-26f6-4b20-a318-a48c73ffce3c')\"\n",
              "              title=\"Convert this dataframe to an interactive table.\"\n",
              "              style=\"display:none;\">\n",
              "        \n",
              "  <svg xmlns=\"http://www.w3.org/2000/svg\" height=\"24px\"viewBox=\"0 0 24 24\"\n",
              "       width=\"24px\">\n",
              "    <path d=\"M0 0h24v24H0V0z\" fill=\"none\"/>\n",
              "    <path d=\"M18.56 5.44l.94 2.06.94-2.06 2.06-.94-2.06-.94-.94-2.06-.94 2.06-2.06.94zm-11 1L8.5 8.5l.94-2.06 2.06-.94-2.06-.94L8.5 2.5l-.94 2.06-2.06.94zm10 10l.94 2.06.94-2.06 2.06-.94-2.06-.94-.94-2.06-.94 2.06-2.06.94z\"/><path d=\"M17.41 7.96l-1.37-1.37c-.4-.4-.92-.59-1.43-.59-.52 0-1.04.2-1.43.59L10.3 9.45l-7.72 7.72c-.78.78-.78 2.05 0 2.83L4 21.41c.39.39.9.59 1.41.59.51 0 1.02-.2 1.41-.59l7.78-7.78 2.81-2.81c.8-.78.8-2.07 0-2.86zM5.41 20L4 18.59l7.72-7.72 1.47 1.35L5.41 20z\"/>\n",
              "  </svg>\n",
              "      </button>\n",
              "      \n",
              "  <style>\n",
              "    .colab-df-container {\n",
              "      display:flex;\n",
              "      flex-wrap:wrap;\n",
              "      gap: 12px;\n",
              "    }\n",
              "\n",
              "    .colab-df-convert {\n",
              "      background-color: #E8F0FE;\n",
              "      border: none;\n",
              "      border-radius: 50%;\n",
              "      cursor: pointer;\n",
              "      display: none;\n",
              "      fill: #1967D2;\n",
              "      height: 32px;\n",
              "      padding: 0 0 0 0;\n",
              "      width: 32px;\n",
              "    }\n",
              "\n",
              "    .colab-df-convert:hover {\n",
              "      background-color: #E2EBFA;\n",
              "      box-shadow: 0px 1px 2px rgba(60, 64, 67, 0.3), 0px 1px 3px 1px rgba(60, 64, 67, 0.15);\n",
              "      fill: #174EA6;\n",
              "    }\n",
              "\n",
              "    [theme=dark] .colab-df-convert {\n",
              "      background-color: #3B4455;\n",
              "      fill: #D2E3FC;\n",
              "    }\n",
              "\n",
              "    [theme=dark] .colab-df-convert:hover {\n",
              "      background-color: #434B5C;\n",
              "      box-shadow: 0px 1px 3px 1px rgba(0, 0, 0, 0.15);\n",
              "      filter: drop-shadow(0px 1px 2px rgba(0, 0, 0, 0.3));\n",
              "      fill: #FFFFFF;\n",
              "    }\n",
              "  </style>\n",
              "\n",
              "      <script>\n",
              "        const buttonEl =\n",
              "          document.querySelector('#df-570e87ce-26f6-4b20-a318-a48c73ffce3c button.colab-df-convert');\n",
              "        buttonEl.style.display =\n",
              "          google.colab.kernel.accessAllowed ? 'block' : 'none';\n",
              "\n",
              "        async function convertToInteractive(key) {\n",
              "          const element = document.querySelector('#df-570e87ce-26f6-4b20-a318-a48c73ffce3c');\n",
              "          const dataTable =\n",
              "            await google.colab.kernel.invokeFunction('convertToInteractive',\n",
              "                                                     [key], {});\n",
              "          if (!dataTable) return;\n",
              "\n",
              "          const docLinkHtml = 'Like what you see? Visit the ' +\n",
              "            '<a target=\"_blank\" href=https://colab.research.google.com/notebooks/data_table.ipynb>data table notebook</a>'\n",
              "            + ' to learn more about interactive tables.';\n",
              "          element.innerHTML = '';\n",
              "          dataTable['output_type'] = 'display_data';\n",
              "          await google.colab.output.renderOutput(dataTable, element);\n",
              "          const docLink = document.createElement('div');\n",
              "          docLink.innerHTML = docLinkHtml;\n",
              "          element.appendChild(docLink);\n",
              "        }\n",
              "      </script>\n",
              "    </div>\n",
              "  </div>\n",
              "  "
            ],
            "application/vnd.google.colaboratory.module+javascript": "\n      import \"https://ssl.gstatic.com/colaboratory/data_table/fb998edc550c7947/data_table.js\";\n\n      window.createDataTable({\n        data: [[\"2004-03-01 00:00:00\",\n{\n            'v': 12.53,\n            'f': \"12.53\",\n        },\n{\n            'v': 3.5376352078670132,\n            'f': \"3.5376352078670132\",\n        }],\n [\"2005-03-01 00:00:00\",\n{\n            'v': 11.420000000000002,\n            'f': \"11.420000000000002\",\n        },\n{\n            'v': 3.2320495984714976,\n            'f': \"3.2320495984714976\",\n        }],\n [\"2006-03-01 00:00:00\",\n{\n            'v': 11.290000000000006,\n            'f': \"11.290000000000006\",\n        },\n{\n            'v': 3.1962602928666186,\n            'f': \"3.1962602928666186\",\n        }],\n [\"2007-03-01 00:00:00\",\n{\n            'v': 11.78,\n            'f': \"11.78\",\n        },\n{\n            'v': 3.3311584447619347,\n            'f': \"3.3311584447619347\",\n        }],\n [\"2009-03-01 00:00:00\",\n{\n            'v': 12.549999999999995,\n            'f': \"12.549999999999995\",\n        },\n{\n            'v': 3.543141254883148,\n            'f': \"3.543141254883148\",\n        }],\n [\"2010-03-01 00:00:00\",\n{\n            'v': 15.829999999999998,\n            'f': \"15.829999999999998\",\n        },\n{\n            'v': 4.446132965529359,\n            'f': \"4.446132965529359\",\n        }],\n [\"2012-03-01 00:00:00\",\n{\n            'v': 11.0,\n            'f': \"11.0\",\n        },\n{\n            'v': 3.116422611132653,\n            'f': \"3.116422611132653\",\n        }],\n [\"2013-03-01 00:00:00\",\n{\n            'v': 11.870000000000005,\n            'f': \"11.870000000000005\",\n        },\n{\n            'v': 3.3559356563345455,\n            'f': \"3.3559356563345455\",\n        }],\n [\"2014-07-01 00:00:00\",\n{\n            'v': 8.969999999999999,\n            'f': \"8.969999999999999\",\n        },\n{\n            'v': 2.557558838994906,\n            'f': \"2.557558838994906\",\n        }],\n [\"2015-03-01 00:00:00\",\n{\n            'v': 12.930000000000009,\n            'f': \"12.930000000000009\",\n        },\n{\n            'v': 3.6477561481897247,\n            'f': \"3.6477561481897247\",\n        }],\n [\"2016-03-01 00:00:00\",\n{\n            'v': 9.460000000000008,\n            'f': \"9.460000000000008\",\n        },\n{\n            'v': 2.6924569908902267,\n            'f': \"2.6924569908902267\",\n        }],\n [\"2017-03-01 00:00:00\",\n{\n            'v': 12.51000000000002,\n            'f': \"12.51000000000002\",\n        },\n{\n            'v': 3.5321291608508836,\n            'f': \"3.5321291608508836\",\n        }],\n [\"2018-03-01 00:00:00\",\n{\n            'v': 11.629999999999995,\n            'f': \"11.629999999999995\",\n        },\n{\n            'v': 3.289863092140918,\n            'f': \"3.289863092140918\",\n        }],\n [\"2020-04-01 00:00:00\",\n{\n            'v': -17.669999999999987,\n            'f': \"-17.669999999999987\",\n        },\n{\n            'v': -4.776495786497486,\n            'f': \"-4.776495786497486\",\n        }],\n [\"2020-07-01 00:00:00\",\n{\n            'v': 10.029999999999989,\n            'f': \"10.029999999999989\",\n        },\n{\n            'v': 2.8493793308500814,\n            'f': \"2.8493793308500814\",\n        }],\n [\"2021-03-01 00:00:00\",\n{\n            'v': 9.889999999999986,\n            'f': \"9.889999999999986\",\n        },\n{\n            'v': 2.810837001737133,\n            'f': \"2.810837001737133\",\n        }],\n [\"2022-01-01 00:00:00\",\n{\n            'v': -9.460000000000008,\n            'f': \"-9.460000000000008\",\n        },\n{\n            'v': -2.5162634863738966,\n            'f': \"-2.5162634863738966\",\n        }],\n [\"2022-03-01 00:00:00\",\n{\n            'v': 12.159999999999997,\n            'f': \"12.159999999999997\",\n        },\n{\n            'v': 3.435773338068507,\n            'f': \"3.435773338068507\",\n        }]],\n        columns: [[\"string\", \"data\"], [\"number\", \"valor\"], [\"number\", \"z-score mod\"]],\n        columnOptions: [{\"width\": \"1px\", \"className\": \"index_column\"}],\n        rowsPerPage: 25,\n        helpUrl: \"https://colab.research.google.com/notebooks/data_table.ipynb\",\n        suppressOutputScrolling: true,\n        minimumWidth: undefined,\n      });\n    "
          },
          "metadata": {}
        }
      ]
    },
    {
      "cell_type": "code",
      "source": [
        "desenhar_serie_com_anomalias(df_ibcbr, df_dif_anomalias.index)"
      ],
      "metadata": {
        "colab": {
          "base_uri": "https://localhost:8080/",
          "height": 339
        },
        "id": "5xDHycuckmbu",
        "outputId": "d6ab54ac-2f0b-4585-bbd1-0446858c426a"
      },
      "execution_count": null,
      "outputs": [
        {
          "output_type": "display_data",
          "data": {
            "text/plain": [
              "<Figure size 1152x360 with 1 Axes>"
            ],
            "image/png": "[encoded data removed]"
          },
          "metadata": {}
        }
      ]
    },
    {
      "cell_type": "markdown",
      "source": [
        "Vamos utilizar um limiar maior, para ver se os dados se aproximam das anomalias detectadas na série de resíduos."
      ],
      "metadata": {
        "id": "FkmWR2JsnIkR"
      }
    },
    {
      "cell_type": "code",
      "source": [
        "df_dif_anomalias_3_5 = filtrar_anomalias(df_dif_zscore, limiar_anomalia=3.5)\n",
        "display(df_dif_anomalias_3_5)\n",
        "desenhar_serie_com_anomalias(df_ibcbr, df_dif_anomalias_3_5.index)"
      ],
      "metadata": {
        "colab": {
          "base_uri": "https://localhost:8080/",
          "height": 541
        },
        "id": "wWZeeMN4lZ3D",
        "outputId": "ee61583e-02e9-4d94-d98f-4914c9b1017a"
      },
      "execution_count": null,
      "outputs": [
        {
          "output_type": "display_data",
          "data": {
            "text/plain": [
              "            valor  z-score mod\n",
              "data                          \n",
              "2004-03-01  12.53     3.537635\n",
              "2009-03-01  12.55     3.543141\n",
              "2010-03-01  15.83     4.446133\n",
              "2015-03-01  12.93     3.647756\n",
              "2017-03-01  12.51     3.532129\n",
              "2020-04-01 -17.67    -4.776496"
            ],
            "text/html": [
              "\n",
              "  <div id=\"df-c0abbe51-46ed-4e25-bcae-5db8155ddd50\">\n",
              "    <div class=\"colab-df-container\">\n",
              "      <div>\n",
              "<style scoped>\n",
              "    .dataframe tbody tr th:only-of-type {\n",
              "        vertical-align: middle;\n",
              "    }\n",
              "\n",
              "    .dataframe tbody tr th {\n",
              "        vertical-align: top;\n",
              "    }\n",
              "\n",
              "    .dataframe thead th {\n",
              "        text-align: right;\n",
              "    }\n",
              "</style>\n",
              "<table border=\"1\" class=\"dataframe\">\n",
              "  <thead>\n",
              "    <tr style=\"text-align: right;\">\n",
              "      <th></th>\n",
              "      <th>valor</th>\n",
              "      <th>z-score mod</th>\n",
              "    </tr>\n",
              "    <tr>\n",
              "      <th>data</th>\n",
              "      <th></th>\n",
              "      <th></th>\n",
              "    </tr>\n",
              "  </thead>\n",
              "  <tbody>\n",
              "    <tr>\n",
              "      <th>2004-03-01</th>\n",
              "      <td>12.53</td>\n",
              "      <td>3.537635</td>\n",
              "    </tr>\n",
              "    <tr>\n",
              "      <th>2009-03-01</th>\n",
              "      <td>12.55</td>\n",
              "      <td>3.543141</td>\n",
              "    </tr>\n",
              "    <tr>\n",
              "      <th>2010-03-01</th>\n",
              "      <td>15.83</td>\n",
              "      <td>4.446133</td>\n",
              "    </tr>\n",
              "    <tr>\n",
              "      <th>2015-03-01</th>\n",
              "      <td>12.93</td>\n",
              "      <td>3.647756</td>\n",
              "    </tr>\n",
              "    <tr>\n",
              "      <th>2017-03-01</th>\n",
              "      <td>12.51</td>\n",
              "      <td>3.532129</td>\n",
              "    </tr>\n",
              "    <tr>\n",
              "      <th>2020-04-01</th>\n",
              "      <td>-17.67</td>\n",
              "      <td>-4.776496</td>\n",
              "    </tr>\n",
              "  </tbody>\n",
              "</table>\n",
              "</div>\n",
              "      <button class=\"colab-df-convert\" onclick=\"convertToInteractive('df-c0abbe51-46ed-4e25-bcae-5db8155ddd50')\"\n",
              "              title=\"Convert this dataframe to an interactive table.\"\n",
              "              style=\"display:none;\">\n",
              "        \n",
              "  <svg xmlns=\"http://www.w3.org/2000/svg\" height=\"24px\"viewBox=\"0 0 24 24\"\n",
              "       width=\"24px\">\n",
              "    <path d=\"M0 0h24v24H0V0z\" fill=\"none\"/>\n",
              "    <path d=\"M18.56 5.44l.94 2.06.94-2.06 2.06-.94-2.06-.94-.94-2.06-.94 2.06-2.06.94zm-11 1L8.5 8.5l.94-2.06 2.06-.94-2.06-.94L8.5 2.5l-.94 2.06-2.06.94zm10 10l.94 2.06.94-2.06 2.06-.94-2.06-.94-.94-2.06-.94 2.06-2.06.94z\"/><path d=\"M17.41 7.96l-1.37-1.37c-.4-.4-.92-.59-1.43-.59-.52 0-1.04.2-1.43.59L10.3 9.45l-7.72 7.72c-.78.78-.78 2.05 0 2.83L4 21.41c.39.39.9.59 1.41.59.51 0 1.02-.2 1.41-.59l7.78-7.78 2.81-2.81c.8-.78.8-2.07 0-2.86zM5.41 20L4 18.59l7.72-7.72 1.47 1.35L5.41 20z\"/>\n",
              "  </svg>\n",
              "      </button>\n",
              "      \n",
              "  <style>\n",
              "    .colab-df-container {\n",
              "      display:flex;\n",
              "      flex-wrap:wrap;\n",
              "      gap: 12px;\n",
              "    }\n",
              "\n",
              "    .colab-df-convert {\n",
              "      background-color: #E8F0FE;\n",
              "      border: none;\n",
              "      border-radius: 50%;\n",
              "      cursor: pointer;\n",
              "      display: none;\n",
              "      fill: #1967D2;\n",
              "      height: 32px;\n",
              "      padding: 0 0 0 0;\n",
              "      width: 32px;\n",
              "    }\n",
              "\n",
              "    .colab-df-convert:hover {\n",
              "      background-color: #E2EBFA;\n",
              "      box-shadow: 0px 1px 2px rgba(60, 64, 67, 0.3), 0px 1px 3px 1px rgba(60, 64, 67, 0.15);\n",
              "      fill: #174EA6;\n",
              "    }\n",
              "\n",
              "    [theme=dark] .colab-df-convert {\n",
              "      background-color: #3B4455;\n",
              "      fill: #D2E3FC;\n",
              "    }\n",
              "\n",
              "    [theme=dark] .colab-df-convert:hover {\n",
              "      background-color: #434B5C;\n",
              "      box-shadow: 0px 1px 3px 1px rgba(0, 0, 0, 0.15);\n",
              "      filter: drop-shadow(0px 1px 2px rgba(0, 0, 0, 0.3));\n",
              "      fill: #FFFFFF;\n",
              "    }\n",
              "  </style>\n",
              "\n",
              "      <script>\n",
              "        const buttonEl =\n",
              "          document.querySelector('#df-c0abbe51-46ed-4e25-bcae-5db8155ddd50 button.colab-df-convert');\n",
              "        buttonEl.style.display =\n",
              "          google.colab.kernel.accessAllowed ? 'block' : 'none';\n",
              "\n",
              "        async function convertToInteractive(key) {\n",
              "          const element = document.querySelector('#df-c0abbe51-46ed-4e25-bcae-5db8155ddd50');\n",
              "          const dataTable =\n",
              "            await google.colab.kernel.invokeFunction('convertToInteractive',\n",
              "                                                     [key], {});\n",
              "          if (!dataTable) return;\n",
              "\n",
              "          const docLinkHtml = 'Like what you see? Visit the ' +\n",
              "            '<a target=\"_blank\" href=https://colab.research.google.com/notebooks/data_table.ipynb>data table notebook</a>'\n",
              "            + ' to learn more about interactive tables.';\n",
              "          element.innerHTML = '';\n",
              "          dataTable['output_type'] = 'display_data';\n",
              "          await google.colab.output.renderOutput(dataTable, element);\n",
              "          const docLink = document.createElement('div');\n",
              "          docLink.innerHTML = docLinkHtml;\n",
              "          element.appendChild(docLink);\n",
              "        }\n",
              "      </script>\n",
              "    </div>\n",
              "  </div>\n",
              "  "
            ],
            "application/vnd.google.colaboratory.module+javascript": "\n      import \"https://ssl.gstatic.com/colaboratory/data_table/fb998edc550c7947/data_table.js\";\n\n      window.createDataTable({\n        data: [[\"2004-03-01 00:00:00\",\n{\n            'v': 12.53,\n            'f': \"12.53\",\n        },\n{\n            'v': 3.5376352078670132,\n            'f': \"3.5376352078670132\",\n        }],\n [\"2009-03-01 00:00:00\",\n{\n            'v': 12.549999999999995,\n            'f': \"12.549999999999995\",\n        },\n{\n            'v': 3.543141254883148,\n            'f': \"3.543141254883148\",\n        }],\n [\"2010-03-01 00:00:00\",\n{\n            'v': 15.829999999999998,\n            'f': \"15.829999999999998\",\n        },\n{\n            'v': 4.446132965529359,\n            'f': \"4.446132965529359\",\n        }],\n [\"2015-03-01 00:00:00\",\n{\n            'v': 12.930000000000009,\n            'f': \"12.930000000000009\",\n        },\n{\n            'v': 3.6477561481897247,\n            'f': \"3.6477561481897247\",\n        }],\n [\"2017-03-01 00:00:00\",\n{\n            'v': 12.51000000000002,\n            'f': \"12.51000000000002\",\n        },\n{\n            'v': 3.5321291608508836,\n            'f': \"3.5321291608508836\",\n        }],\n [\"2020-04-01 00:00:00\",\n{\n            'v': -17.669999999999987,\n            'f': \"-17.669999999999987\",\n        },\n{\n            'v': -4.776495786497486,\n            'f': \"-4.776495786497486\",\n        }]],\n        columns: [[\"string\", \"data\"], [\"number\", \"valor\"], [\"number\", \"z-score mod\"]],\n        columnOptions: [{\"width\": \"1px\", \"className\": \"index_column\"}],\n        rowsPerPage: 25,\n        helpUrl: \"https://colab.research.google.com/notebooks/data_table.ipynb\",\n        suppressOutputScrolling: true,\n        minimumWidth: undefined,\n      });\n    "
          },
          "metadata": {}
        },
        {
          "output_type": "display_data",
          "data": {
            "text/plain": [
              "<Figure size 1152x360 with 1 Axes>"
            ],
            "image/png": "[encoded data removed]"
          },
          "metadata": {}
        }
      ]
    },
    {
      "cell_type": "markdown",
      "source": [
        "As anomalias encontradas analisando apenas a série de diferenças são muito diferentes das anomalias que entendemos existirem nos dados. Verificamos que os valores das diferenças, apesar de serem uma série estacionária, ainda carregam em si a modulação da tendência e da sazonalidade e isso influencia grandemente a série. Essa abordagem é bastante prática para detectar grandes variações entre valores consecutivos, mas não é boa para detectar as anomalias no escopo semântico da série (momentos em que a _série_ se comportou de maneira inesperada com relação à sua proposta)."
      ],
      "metadata": {
        "id": "xMxlUVGsmHf3"
      }
    },
    {
      "cell_type": "markdown",
      "source": [
        "### CUMSUM (série de resíduos)"
      ],
      "metadata": {
        "id": "dH_z4fOhgDFQ"
      }
    },
    {
      "cell_type": "markdown",
      "source": [
        "Faremos agora o cálculo do CUMSUM, como apresentado no arquivo 'deteçãodeanomaliasemseries.ipynb' do curso BIMASTER, para verificar o resultado da detecção de anomalias através desse método."
      ],
      "metadata": {
        "id": "74vtAO47gJr3"
      }
    },
    {
      "cell_type": "code",
      "source": [
        "def calcular_cumsum(df:pd.DataFrame, unidades_limiar:float=2.5):\n",
        "  soma_alta = 0.0\n",
        "  soma_baixa = 0.0\n",
        "\n",
        "  cumsum_superior = []\n",
        "  cumsum_inferior = []\n",
        "\n",
        "  # temos que selecionar a coluna para obter um valor real\n",
        "  # usamos o iloc só para o código ficar mais resiliente\n",
        "  # ao nome da primeira coluna\n",
        "  media = df.iloc[:,0].mean()\n",
        "  desvio_padrao = df.iloc[:,0].std()\n",
        "\n",
        "  limiar = unidades_limiar * desvio_padrao\n",
        "\n",
        "  dict_anomalias = {}\n",
        "\n",
        "  for idx,valor in zip(df.index, df.iloc[:,0]):\n",
        "    soma_alta = max(0.0, valor - media - desvio_padrao)\n",
        "    soma_baixa = min(0.0, valor + media + desvio_padrao)\n",
        "    \n",
        "    cumsum_superior.append(soma_alta)\n",
        "    cumsum_inferior.append(soma_baixa)\n",
        "\n",
        "    if soma_alta > limiar or soma_baixa < -limiar:\n",
        "      dict_anomalias[idx] = valor\n",
        "\n",
        "  # montamos dataframes para retornar ao solicitante\n",
        "  df_cumsum = pd.DataFrame(index=df.index, \n",
        "                           data={'high_cumsum': cumsum_superior,\n",
        "                               'low_cumsum': cumsum_inferior})\n",
        "  \n",
        "  df_anomalias = pd.DataFrame(index=dict_anomalias.keys(),\n",
        "                              data=dict_anomalias.values(),\n",
        "                              columns=[df.columns[0]]) # usamos o mesmo nome da coluna original\n",
        "\n",
        "  return df_cumsum, df_anomalias"
      ],
      "metadata": {
        "id": "60dLUiMigIIy"
      },
      "execution_count": null,
      "outputs": []
    },
    {
      "cell_type": "code",
      "source": [
        "df_res_cumsum, df_res_cumsum_anomalias = calcular_cumsum(df_ibcbr_res, 0.8)"
      ],
      "metadata": {
        "id": "aWxkyoEMiZhC"
      },
      "execution_count": null,
      "outputs": []
    },
    {
      "cell_type": "code",
      "source": [
        "display(df_res_cumsum_anomalias)"
      ],
      "metadata": {
        "colab": {
          "base_uri": "https://localhost:8080/",
          "height": 198
        },
        "id": "ZT-9abHZ3OUi",
        "outputId": "c6ee104e-a7ca-4cc5-97a1-cab8df232210"
      },
      "execution_count": null,
      "outputs": [
        {
          "output_type": "display_data",
          "data": {
            "text/plain": [
              "               valor\n",
              "2008-07-01  1.034370\n",
              "2008-09-01  1.038398\n",
              "2019-12-01  1.033942\n",
              "2020-01-01  1.046810\n",
              "2020-02-01  1.052196"
            ],
            "text/html": [
              "\n",
              "  <div id=\"df-e4c5e664-6285-4c2a-8caa-5c136fb8be3f\">\n",
              "    <div class=\"colab-df-container\">\n",
              "      <div>\n",
              "<style scoped>\n",
              "    .dataframe tbody tr th:only-of-type {\n",
              "        vertical-align: middle;\n",
              "    }\n",
              "\n",
              "    .dataframe tbody tr th {\n",
              "        vertical-align: top;\n",
              "    }\n",
              "\n",
              "    .dataframe thead th {\n",
              "        text-align: right;\n",
              "    }\n",
              "</style>\n",
              "<table border=\"1\" class=\"dataframe\">\n",
              "  <thead>\n",
              "    <tr style=\"text-align: right;\">\n",
              "      <th></th>\n",
              "      <th>valor</th>\n",
              "    </tr>\n",
              "  </thead>\n",
              "  <tbody>\n",
              "    <tr>\n",
              "      <th>2008-07-01</th>\n",
              "      <td>1.034370</td>\n",
              "    </tr>\n",
              "    <tr>\n",
              "      <th>2008-09-01</th>\n",
              "      <td>1.038398</td>\n",
              "    </tr>\n",
              "    <tr>\n",
              "      <th>2019-12-01</th>\n",
              "      <td>1.033942</td>\n",
              "    </tr>\n",
              "    <tr>\n",
              "      <th>2020-01-01</th>\n",
              "      <td>1.046810</td>\n",
              "    </tr>\n",
              "    <tr>\n",
              "      <th>2020-02-01</th>\n",
              "      <td>1.052196</td>\n",
              "    </tr>\n",
              "  </tbody>\n",
              "</table>\n",
              "</div>\n",
              "      <button class=\"colab-df-convert\" onclick=\"convertToInteractive('df-e4c5e664-6285-4c2a-8caa-5c136fb8be3f')\"\n",
              "              title=\"Convert this dataframe to an interactive table.\"\n",
              "              style=\"display:none;\">\n",
              "        \n",
              "  <svg xmlns=\"http://www.w3.org/2000/svg\" height=\"24px\"viewBox=\"0 0 24 24\"\n",
              "       width=\"24px\">\n",
              "    <path d=\"M0 0h24v24H0V0z\" fill=\"none\"/>\n",
              "    <path d=\"M18.56 5.44l.94 2.06.94-2.06 2.06-.94-2.06-.94-.94-2.06-.94 2.06-2.06.94zm-11 1L8.5 8.5l.94-2.06 2.06-.94-2.06-.94L8.5 2.5l-.94 2.06-2.06.94zm10 10l.94 2.06.94-2.06 2.06-.94-2.06-.94-.94-2.06-.94 2.06-2.06.94z\"/><path d=\"M17.41 7.96l-1.37-1.37c-.4-.4-.92-.59-1.43-.59-.52 0-1.04.2-1.43.59L10.3 9.45l-7.72 7.72c-.78.78-.78 2.05 0 2.83L4 21.41c.39.39.9.59 1.41.59.51 0 1.02-.2 1.41-.59l7.78-7.78 2.81-2.81c.8-.78.8-2.07 0-2.86zM5.41 20L4 18.59l7.72-7.72 1.47 1.35L5.41 20z\"/>\n",
              "  </svg>\n",
              "      </button>\n",
              "      \n",
              "  <style>\n",
              "    .colab-df-container {\n",
              "      display:flex;\n",
              "      flex-wrap:wrap;\n",
              "      gap: 12px;\n",
              "    }\n",
              "\n",
              "    .colab-df-convert {\n",
              "      background-color: #E8F0FE;\n",
              "      border: none;\n",
              "      border-radius: 50%;\n",
              "      cursor: pointer;\n",
              "      display: none;\n",
              "      fill: #1967D2;\n",
              "      height: 32px;\n",
              "      padding: 0 0 0 0;\n",
              "      width: 32px;\n",
              "    }\n",
              "\n",
              "    .colab-df-convert:hover {\n",
              "      background-color: #E2EBFA;\n",
              "      box-shadow: 0px 1px 2px rgba(60, 64, 67, 0.3), 0px 1px 3px 1px rgba(60, 64, 67, 0.15);\n",
              "      fill: #174EA6;\n",
              "    }\n",
              "\n",
              "    [theme=dark] .colab-df-convert {\n",
              "      background-color: #3B4455;\n",
              "      fill: #D2E3FC;\n",
              "    }\n",
              "\n",
              "    [theme=dark] .colab-df-convert:hover {\n",
              "      background-color: #434B5C;\n",
              "      box-shadow: 0px 1px 3px 1px rgba(0, 0, 0, 0.15);\n",
              "      filter: drop-shadow(0px 1px 2px rgba(0, 0, 0, 0.3));\n",
              "      fill: #FFFFFF;\n",
              "    }\n",
              "  </style>\n",
              "\n",
              "      <script>\n",
              "        const buttonEl =\n",
              "          document.querySelector('#df-e4c5e664-6285-4c2a-8caa-5c136fb8be3f button.colab-df-convert');\n",
              "        buttonEl.style.display =\n",
              "          google.colab.kernel.accessAllowed ? 'block' : 'none';\n",
              "\n",
              "        async function convertToInteractive(key) {\n",
              "          const element = document.querySelector('#df-e4c5e664-6285-4c2a-8caa-5c136fb8be3f');\n",
              "          const dataTable =\n",
              "            await google.colab.kernel.invokeFunction('convertToInteractive',\n",
              "                                                     [key], {});\n",
              "          if (!dataTable) return;\n",
              "\n",
              "          const docLinkHtml = 'Like what you see? Visit the ' +\n",
              "            '<a target=\"_blank\" href=https://colab.research.google.com/notebooks/data_table.ipynb>data table notebook</a>'\n",
              "            + ' to learn more about interactive tables.';\n",
              "          element.innerHTML = '';\n",
              "          dataTable['output_type'] = 'display_data';\n",
              "          await google.colab.output.renderOutput(dataTable, element);\n",
              "          const docLink = document.createElement('div');\n",
              "          docLink.innerHTML = docLinkHtml;\n",
              "          element.appendChild(docLink);\n",
              "        }\n",
              "      </script>\n",
              "    </div>\n",
              "  </div>\n",
              "  "
            ],
            "application/vnd.google.colaboratory.module+javascript": "\n      import \"https://ssl.gstatic.com/colaboratory/data_table/fb998edc550c7947/data_table.js\";\n\n      window.createDataTable({\n        data: [[\"2008-07-01 00:00:00\",\n{\n            'v': 1.0343704572886263,\n            'f': \"1.0343704572886263\",\n        }],\n [\"2008-09-01 00:00:00\",\n{\n            'v': 1.0383982407115209,\n            'f': \"1.0383982407115209\",\n        }],\n [\"2019-12-01 00:00:00\",\n{\n            'v': 1.0339420418247032,\n            'f': \"1.0339420418247032\",\n        }],\n [\"2020-01-01 00:00:00\",\n{\n            'v': 1.0468104936758136,\n            'f': \"1.0468104936758136\",\n        }],\n [\"2020-02-01 00:00:00\",\n{\n            'v': 1.0521962476462274,\n            'f': \"1.0521962476462274\",\n        }]],\n        columns: [[\"string\", \"index\"], [\"number\", \"valor\"]],\n        columnOptions: [{\"width\": \"1px\", \"className\": \"index_column\"}],\n        rowsPerPage: 25,\n        helpUrl: \"https://colab.research.google.com/notebooks/data_table.ipynb\",\n        suppressOutputScrolling: true,\n        minimumWidth: undefined,\n      });\n    "
          },
          "metadata": {}
        }
      ]
    },
    {
      "cell_type": "code",
      "source": [
        "desenhar_serie_com_anomalias(df=df_ibcbr, \n",
        "                             indice_anomalias=df_res_cumsum_anomalias.index,\n",
        "                             df_cumsum=df_res_cumsum)"
      ],
      "metadata": {
        "colab": {
          "base_uri": "https://localhost:8080/",
          "height": 339
        },
        "id": "WXnKyVlG4Bmw",
        "outputId": "88757f69-d444-491d-8dc1-9e1106e3091d"
      },
      "execution_count": null,
      "outputs": [
        {
          "output_type": "display_data",
          "data": {
            "text/plain": [
              "<Figure size 1152x360 with 1 Axes>"
            ],
            "image/png": "[encoded data removed]"
          },
          "metadata": {}
        }
      ]
    }
  ]
}