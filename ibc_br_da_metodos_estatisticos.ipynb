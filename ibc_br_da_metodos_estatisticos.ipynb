{
  "nbformat": 4,
  "nbformat_minor": 0,
  "metadata": {
    "colab": {
      "provenance": [],
      "toc_visible": true
    },
    "kernelspec": {
      "name": "python3",
      "display_name": "Python 3"
    },
    "language_info": {
      "name": "python"
    }
  },
  "cells": [
    {
      "cell_type": "markdown",
      "source": [
        "# Projeto: Análise de Anomalias em Série Temporal"
      ],
      "metadata": {
        "id": "ULDWNbG9cx5S"
      }
    },
    {
      "cell_type": "markdown",
      "source": [
        "BIMASTER - Trabalho de final de curso\n",
        "\n",
        "Nome: Alex Marques Campos\n",
        "\n",
        "Etapa 02.A: Detecção de anomalias via métodos estatísticos"
      ],
      "metadata": {
        "id": "p_Zbz7ZuczLN"
      }
    },
    {
      "cell_type": "markdown",
      "source": [
        "O objetivo deste notebook é carregar os dados das séries históricas de interesse e observar se é possível utilizar métodos estatísticos para realizar a detecção de anomalias nos dados. Para isso, focaremos no uso do __z-score modificado__.\n",
        "\n",
        "O primeiro passo é carregar as bibliotecas necessárias ao processamento e os dados propriamente ditos, que estão armazenados nos arquivos CSV (_comma separated values_) armazenados no subdiretório './__dados__/'."
      ],
      "metadata": {
        "id": "wc9G5F-vm5cb"
      }
    },
    {
      "cell_type": "markdown",
      "source": [
        "## Configuração do ambiente de execução"
      ],
      "metadata": {
        "id": "R_KJarOpo-_o"
      }
    },
    {
      "cell_type": "code",
      "source": [
        "# Garantimos que a versão do statsmodels está fixa com a versão que precisamos\n",
        "# para a análise.\n",
        "!pip install statsmodels==0.13.2"
      ],
      "metadata": {
        "colab": {
          "base_uri": "https://localhost:8080/"
        },
        "id": "fdP74SBCobnD",
        "outputId": "0d640269-aecb-4b20-d4da-f439a11a1c66"
      },
      "execution_count": 1,
      "outputs": [
        {
          "output_type": "stream",
          "name": "stdout",
          "text": [
            "Looking in indexes: https://pypi.org/simple, https://us-python.pkg.dev/colab-wheels/public/simple/\n",
            "Requirement already satisfied: statsmodels==0.13.2 in /usr/local/lib/python3.7/dist-packages (0.13.2)\n",
            "Requirement already satisfied: packaging>=21.3 in /usr/local/lib/python3.7/dist-packages (from statsmodels==0.13.2) (21.3)\n",
            "Requirement already satisfied: pandas>=0.25 in /usr/local/lib/python3.7/dist-packages (from statsmodels==0.13.2) (1.3.5)\n",
            "Requirement already satisfied: scipy>=1.3 in /usr/local/lib/python3.7/dist-packages (from statsmodels==0.13.2) (1.7.3)\n",
            "Requirement already satisfied: numpy>=1.17 in /usr/local/lib/python3.7/dist-packages (from statsmodels==0.13.2) (1.21.6)\n",
            "Requirement already satisfied: patsy>=0.5.2 in /usr/local/lib/python3.7/dist-packages (from statsmodels==0.13.2) (0.5.3)\n",
            "Requirement already satisfied: pyparsing!=3.0.5,>=2.0.2 in /usr/local/lib/python3.7/dist-packages (from packaging>=21.3->statsmodels==0.13.2) (3.0.9)\n",
            "Requirement already satisfied: pytz>=2017.3 in /usr/local/lib/python3.7/dist-packages (from pandas>=0.25->statsmodels==0.13.2) (2022.6)\n",
            "Requirement already satisfied: python-dateutil>=2.7.3 in /usr/local/lib/python3.7/dist-packages (from pandas>=0.25->statsmodels==0.13.2) (2.8.2)\n",
            "Requirement already satisfied: six in /usr/local/lib/python3.7/dist-packages (from patsy>=0.5.2->statsmodels==0.13.2) (1.15.0)\n"
          ]
        }
      ]
    },
    {
      "cell_type": "code",
      "execution_count": 2,
      "metadata": {
        "id": "fCR2V-wocZJl"
      },
      "outputs": [],
      "source": [
        "import matplotlib\n",
        "import matplotlib.pyplot as plt\n",
        "import matplotlib.ticker as mticker\n",
        "import numpy as np\n",
        "#import os\n",
        "import pandas as pd\n",
        "import seaborn as sns\n",
        "import statsmodels.api as sm\n",
        "\n",
        "from functools import partial\n",
        "from pathlib import Path\n",
        "from statsmodels.graphics.tsaplots import plot_acf\n",
        "from statsmodels.graphics.tsaplots import plot_pacf"
      ]
    },
    {
      "cell_type": "code",
      "source": [
        "NOME_DIRETORIO_DADOS = 'dados'\n",
        "NOME_ARQUIVO_SERIE_IBCBR = 'serie_ibcbr.csv'\n",
        "NOME_ARQUIVO_SERIE_IBCBR_RESIDUO = 'serie_ibcbr_residuo.csv'\n",
        "NOME_ARQUIVO_SERIE_IBCBR_DIFERENCAS = 'serie_ibcbr_diferencas.csv'\n",
        "NOME_ARQUIVO_SERIE_IBCBR_DIFERENCAS_RESIDUO = 'serie_ibcbr_diferencas_residuo.csv'"
      ],
      "metadata": {
        "id": "CY4fZhLloQgd"
      },
      "execution_count": 3,
      "outputs": []
    },
    {
      "cell_type": "code",
      "source": [
        "print(f'pandas == {pd.__version__}')\n",
        "print(f'statsmodels == {sm.__version__}')\n",
        "print(f'matplotlib == {matplotlib.__version__}')"
      ],
      "metadata": {
        "colab": {
          "base_uri": "https://localhost:8080/"
        },
        "id": "1yRvVVanoSu4",
        "outputId": "bee21b02-edb3-4b90-9a52-d3b228470e28"
      },
      "execution_count": 4,
      "outputs": [
        {
          "output_type": "stream",
          "name": "stdout",
          "text": [
            "pandas == 1.3.5\n",
            "statsmodels == 0.13.2\n",
            "matplotlib == 3.2.2\n"
          ]
        }
      ]
    },
    {
      "cell_type": "code",
      "source": [
        "# ajustamos o formato de apresentação padrão dos gráficos\n",
        "sns.set_theme(style=\"white\", palette=\"pastel\")"
      ],
      "metadata": {
        "id": "0oh4IvnCofu_"
      },
      "execution_count": 5,
      "outputs": []
    },
    {
      "cell_type": "code",
      "source": [
        "# habilitamos a visualização especial de dataframes disponível no\n",
        "# Google Colaboratory, para facilitar a exploração dos dados.\n",
        "from google.colab import data_table\n",
        "data_table.enable_dataframe_formatter()"
      ],
      "metadata": {
        "id": "VJS_UT3-ojaM"
      },
      "execution_count": 6,
      "outputs": []
    },
    {
      "cell_type": "markdown",
      "source": [
        "## Carga dos dados"
      ],
      "metadata": {
        "id": "GeXhAXcEo6rt"
      }
    },
    {
      "cell_type": "code",
      "source": [
        "path_dir_dados = Path('.') / NOME_DIRETORIO_DADOS\n",
        "\n",
        "path_arq_ibcbr     = path_dir_dados / NOME_ARQUIVO_SERIE_IBCBR\n",
        "path_arq_ibcbr_res = path_dir_dados / NOME_ARQUIVO_SERIE_IBCBR_RESIDUO\n",
        "path_arq_dif       = path_dir_dados / NOME_ARQUIVO_SERIE_IBCBR_DIFERENCAS\n",
        "path_arq_dif_res   = path_dir_dados / NOME_ARQUIVO_SERIE_IBCBR_DIFERENCAS_RESIDUO"
      ],
      "metadata": {
        "id": "Qggg6abNolqr"
      },
      "execution_count": 7,
      "outputs": []
    },
    {
      "cell_type": "code",
      "source": [
        "def carregar_csv(path_csv:Path) -> pd.DataFrame:\n",
        "  \"\"\"\n",
        "  Carrega os dados de um arquivo CSV em um dataframe de\n",
        "  forma padronizada no escopo do projeto.\n",
        "  path_csv : objeto Path que aponta para o arquivo.\n",
        "  \"\"\"\n",
        "  if (path_csv is None) or (not path_csv.is_file()):\n",
        "    raise ValueError(\"The given path object doesn't point to a valid csv file.\")\n",
        "  \n",
        "  return pd.read_csv(path_csv,\n",
        "                   sep=',',\n",
        "                   parse_dates=True,\n",
        "                   infer_datetime_format=True,\n",
        "                   index_col=0,\n",
        "                   decimal='.',\n",
        "                   encoding='utf8')"
      ],
      "metadata": {
        "id": "NaLWJyWhrzDz"
      },
      "execution_count": 8,
      "outputs": []
    },
    {
      "cell_type": "code",
      "source": [
        "# carregamos os arquivos de dados em dataframes, para iniciar a análise\n",
        "df_ibcbr     = carregar_csv(path_arq_ibcbr)\n",
        "df_ibcbr_res = carregar_csv(path_arq_ibcbr_res)\n",
        "df_dif       = carregar_csv(path_arq_dif)\n",
        "df_dif_res   = carregar_csv(path_arq_dif)"
      ],
      "metadata": {
        "id": "R8pdKHi2r2Pw"
      },
      "execution_count": 9,
      "outputs": []
    },
    {
      "cell_type": "code",
      "source": [
        "def verificar_propriedades(id:int, nome:str, dataframe:pd.DataFrame) -> None:\n",
        "  \"\"\"\n",
        "  Imprime propriedades do dataframe nomeado para inspeção visual dos dados.\n",
        "  id: inteiro que identifica o dataframe.\n",
        "  nome: nome do dataframe\n",
        "  dataframe: objeto do dataframe\n",
        "  \"\"\"\n",
        "  print(f'[{id:03d}] Dataframe: {nome}')\n",
        "  print('-' * 5)\n",
        "  print(f'Shape: {dataframe.shape}')\n",
        "  print('-' * 5)\n",
        "  print(dataframe.head(4))\n",
        "  print('')"
      ],
      "metadata": {
        "id": "zs2X2xzVwPYs"
      },
      "execution_count": 10,
      "outputs": []
    },
    {
      "cell_type": "code",
      "source": [
        "# verificamos se os dataframes foram carregados corretamente.\n",
        "series = {\n",
        "  'IBC-BR': df_ibcbr,\n",
        "  'IBC-BR (resíduo)': df_ibcbr_res,\n",
        "  'Diferenças': df_dif,\n",
        "  'Diferenças (resíduo)': df_dif_res\n",
        "}\n",
        "\n",
        "for idx,serie in enumerate(series.items()):\n",
        "  verificar_propriedades(idx+1, serie[0], serie[1])"
      ],
      "metadata": {
        "colab": {
          "base_uri": "https://localhost:8080/"
        },
        "id": "0RPLvBR7ua6L",
        "outputId": "b14854a2-cae0-43a1-f218-09392cce82e6"
      },
      "execution_count": 11,
      "outputs": [
        {
          "output_type": "stream",
          "name": "stdout",
          "text": [
            "[001] Dataframe: IBC-BR\n",
            "-----\n",
            "Shape: (236, 1)\n",
            "-----\n",
            "             valor\n",
            "data              \n",
            "2003-01-01   96.15\n",
            "2003-02-01   98.67\n",
            "2003-03-01  103.41\n",
            "2003-04-01  102.19\n",
            "\n",
            "[002] Dataframe: IBC-BR (resíduo)\n",
            "-----\n",
            "Shape: (224, 1)\n",
            "-----\n",
            "               valor\n",
            "data                \n",
            "2003-07-01  0.988355\n",
            "2003-08-01  0.972326\n",
            "2003-09-01  1.007602\n",
            "2003-10-01  1.009311\n",
            "\n",
            "[003] Dataframe: Diferenças\n",
            "-----\n",
            "Shape: (235, 1)\n",
            "-----\n",
            "            valor\n",
            "data             \n",
            "2003-02-01   2.52\n",
            "2003-03-01   4.74\n",
            "2003-04-01  -1.22\n",
            "2003-05-01  -1.89\n",
            "\n",
            "[004] Dataframe: Diferenças (resíduo)\n",
            "-----\n",
            "Shape: (235, 1)\n",
            "-----\n",
            "            valor\n",
            "data             \n",
            "2003-02-01   2.52\n",
            "2003-03-01   4.74\n",
            "2003-04-01  -1.22\n",
            "2003-05-01  -1.89\n",
            "\n"
          ]
        }
      ]
    },
    {
      "cell_type": "markdown",
      "source": [
        "Neste ponto, temos todos os dados carregados em DataFrames pandas e prontos para análise."
      ],
      "metadata": {
        "id": "6wUhHFfz0Q8f"
      }
    },
    {
      "cell_type": "markdown",
      "source": [
        "## Análise estatística"
      ],
      "metadata": {
        "id": "Oh-HcaQB01qu"
      }
    },
    {
      "cell_type": "markdown",
      "source": [
        "Nossa primeira abordagem será a análise do z-score modificado das séries estacionárias, para tentar encontrar anomalias. O uso do z-score modificado no lugar do z-score padrão decorre (1) da premissa de que existem _outliars_ nos dados e (2) no fato que _outliars_ modificam a média e o desvio padrão, o que influencia o cálculo do z-score padrão. O z-score modificado usa a mediana e o desvio absoluto mediano (MAD), que são mais resilientes à _outliars_ nos dados.\n",
        "\n",
        "Começamos definindo as funções auxiliares para obter as estatísticas desejadas."
      ],
      "metadata": {
        "id": "iY-4vd-d1zTa"
      }
    },
    {
      "cell_type": "code",
      "source": [
        "def calcular_mad(dataframe:pd.DataFrame) -> float:\n",
        "  \"\"\"\n",
        "  Calcula o desvio absoluto mediano (sigla MAD, do inglês 'median\n",
        "  absolute deviation') dos dados de um dataframe.\n",
        "  \"\"\"\n",
        "  mediana = np.median(dataframe)\n",
        "  mad = np.median(np.abs(dataframe - mediana))\n",
        "\n",
        "  return mad\n",
        "\n",
        "def calcular_zscore_mod(x:float, mediana:float, mad:float, k:float=1.4826) -> float:\n",
        "  \"\"\"\n",
        "  Calcula o z-score modificado de um elemento x, com base\n",
        "  no elemento, em uma mediana e no MAD.\n",
        "  x : elemento a considerar.\n",
        "  mediana : mediana a considerar.\n",
        "  MAD : desvio absoluto mediano a considerar.\n",
        "  k : fator de correção (veja https://en.wikipedia.org/wiki/Median_absolute_deviation)\n",
        "  retorna o z-score modificado calculado para o elemento.\n",
        "  \"\"\"\n",
        "  assert (k > 0)\n",
        "  assert (mad > 0)\n",
        "\n",
        "  return (x - mediana) / (k * mad)\n",
        "\n",
        "def calcular_zscore_mod(dataframe:pd.DataFrame, k:float=1.4826) -> pd.DataFrame:\n",
        "  \"\"\"\n",
        "  Calcula o z-score modificado de todos os elementos de um\n",
        "  dataframe. Não modifica o dataframe recebido.\n",
        "  dataframe : dataframe para o qual se deseja calcular o z-score.\n",
        "  k : fator de correção (veja https://en.wikipedia.org/wiki/Median_absolute_deviation)\n",
        "  Retorna um objeto pandas.DataFrame com os valores dos z-scores\n",
        "  dos elementos.\n",
        "  \"\"\"\n",
        "  assert (k > 0)\n",
        "  mediana = np.median(dataframe)\n",
        "  mad = calcular_mad(dataframe)\n",
        "  assert (mad > 0)\n",
        "  return (dataframe - mediana) / (k * mad)"
      ],
      "metadata": {
        "id": "8XKpqse84KQ1"
      },
      "execution_count": 12,
      "outputs": []
    },
    {
      "cell_type": "markdown",
      "source": [
        "Depois, começamos a análise estatística do resíduo da série IBC-BR."
      ],
      "metadata": {
        "id": "wiOtrJvwAKis"
      }
    },
    {
      "cell_type": "code",
      "source": [
        "# imprimimos estatísticas do conjunto de dados só para auxiliar na análise\n",
        "df_ibcbr_res.describe()"
      ],
      "metadata": {
        "colab": {
          "base_uri": "https://localhost:8080/",
          "height": 262
        },
        "id": "gBZftRBr27IW",
        "outputId": "563e70d8-661e-496e-dac5-3f4e9411a2df"
      },
      "execution_count": 13,
      "outputs": [
        {
          "output_type": "execute_result",
          "data": {
            "text/plain": [
              "            valor\n",
              "count  224.000000\n",
              "mean     0.999796\n",
              "std      0.017775\n",
              "min      0.893994\n",
              "25%      0.991451\n",
              "50%      1.000503\n",
              "75%      1.009582\n",
              "max      1.052196"
            ],
            "text/html": [
              "\n",
              "  <div id=\"df-65cae911-9c37-4e74-bc98-5ed6f7dade79\">\n",
              "    <div class=\"colab-df-container\">\n",
              "      <div>\n",
              "<style scoped>\n",
              "    .dataframe tbody tr th:only-of-type {\n",
              "        vertical-align: middle;\n",
              "    }\n",
              "\n",
              "    .dataframe tbody tr th {\n",
              "        vertical-align: top;\n",
              "    }\n",
              "\n",
              "    .dataframe thead th {\n",
              "        text-align: right;\n",
              "    }\n",
              "</style>\n",
              "<table border=\"1\" class=\"dataframe\">\n",
              "  <thead>\n",
              "    <tr style=\"text-align: right;\">\n",
              "      <th></th>\n",
              "      <th>valor</th>\n",
              "    </tr>\n",
              "  </thead>\n",
              "  <tbody>\n",
              "    <tr>\n",
              "      <th>count</th>\n",
              "      <td>224.000000</td>\n",
              "    </tr>\n",
              "    <tr>\n",
              "      <th>mean</th>\n",
              "      <td>0.999796</td>\n",
              "    </tr>\n",
              "    <tr>\n",
              "      <th>std</th>\n",
              "      <td>0.017775</td>\n",
              "    </tr>\n",
              "    <tr>\n",
              "      <th>min</th>\n",
              "      <td>0.893994</td>\n",
              "    </tr>\n",
              "    <tr>\n",
              "      <th>25%</th>\n",
              "      <td>0.991451</td>\n",
              "    </tr>\n",
              "    <tr>\n",
              "      <th>50%</th>\n",
              "      <td>1.000503</td>\n",
              "    </tr>\n",
              "    <tr>\n",
              "      <th>75%</th>\n",
              "      <td>1.009582</td>\n",
              "    </tr>\n",
              "    <tr>\n",
              "      <th>max</th>\n",
              "      <td>1.052196</td>\n",
              "    </tr>\n",
              "  </tbody>\n",
              "</table>\n",
              "</div>\n",
              "      <button class=\"colab-df-convert\" onclick=\"convertToInteractive('df-65cae911-9c37-4e74-bc98-5ed6f7dade79')\"\n",
              "              title=\"Convert this dataframe to an interactive table.\"\n",
              "              style=\"display:none;\">\n",
              "        \n",
              "  <svg xmlns=\"http://www.w3.org/2000/svg\" height=\"24px\"viewBox=\"0 0 24 24\"\n",
              "       width=\"24px\">\n",
              "    <path d=\"M0 0h24v24H0V0z\" fill=\"none\"/>\n",
              "    <path d=\"M18.56 5.44l.94 2.06.94-2.06 2.06-.94-2.06-.94-.94-2.06-.94 2.06-2.06.94zm-11 1L8.5 8.5l.94-2.06 2.06-.94-2.06-.94L8.5 2.5l-.94 2.06-2.06.94zm10 10l.94 2.06.94-2.06 2.06-.94-2.06-.94-.94-2.06-.94 2.06-2.06.94z\"/><path d=\"M17.41 7.96l-1.37-1.37c-.4-.4-.92-.59-1.43-.59-.52 0-1.04.2-1.43.59L10.3 9.45l-7.72 7.72c-.78.78-.78 2.05 0 2.83L4 21.41c.39.39.9.59 1.41.59.51 0 1.02-.2 1.41-.59l7.78-7.78 2.81-2.81c.8-.78.8-2.07 0-2.86zM5.41 20L4 18.59l7.72-7.72 1.47 1.35L5.41 20z\"/>\n",
              "  </svg>\n",
              "      </button>\n",
              "      \n",
              "  <style>\n",
              "    .colab-df-container {\n",
              "      display:flex;\n",
              "      flex-wrap:wrap;\n",
              "      gap: 12px;\n",
              "    }\n",
              "\n",
              "    .colab-df-convert {\n",
              "      background-color: #E8F0FE;\n",
              "      border: none;\n",
              "      border-radius: 50%;\n",
              "      cursor: pointer;\n",
              "      display: none;\n",
              "      fill: #1967D2;\n",
              "      height: 32px;\n",
              "      padding: 0 0 0 0;\n",
              "      width: 32px;\n",
              "    }\n",
              "\n",
              "    .colab-df-convert:hover {\n",
              "      background-color: #E2EBFA;\n",
              "      box-shadow: 0px 1px 2px rgba(60, 64, 67, 0.3), 0px 1px 3px 1px rgba(60, 64, 67, 0.15);\n",
              "      fill: #174EA6;\n",
              "    }\n",
              "\n",
              "    [theme=dark] .colab-df-convert {\n",
              "      background-color: #3B4455;\n",
              "      fill: #D2E3FC;\n",
              "    }\n",
              "\n",
              "    [theme=dark] .colab-df-convert:hover {\n",
              "      background-color: #434B5C;\n",
              "      box-shadow: 0px 1px 3px 1px rgba(0, 0, 0, 0.15);\n",
              "      filter: drop-shadow(0px 1px 2px rgba(0, 0, 0, 0.3));\n",
              "      fill: #FFFFFF;\n",
              "    }\n",
              "  </style>\n",
              "\n",
              "      <script>\n",
              "        const buttonEl =\n",
              "          document.querySelector('#df-65cae911-9c37-4e74-bc98-5ed6f7dade79 button.colab-df-convert');\n",
              "        buttonEl.style.display =\n",
              "          google.colab.kernel.accessAllowed ? 'block' : 'none';\n",
              "\n",
              "        async function convertToInteractive(key) {\n",
              "          const element = document.querySelector('#df-65cae911-9c37-4e74-bc98-5ed6f7dade79');\n",
              "          const dataTable =\n",
              "            await google.colab.kernel.invokeFunction('convertToInteractive',\n",
              "                                                     [key], {});\n",
              "          if (!dataTable) return;\n",
              "\n",
              "          const docLinkHtml = 'Like what you see? Visit the ' +\n",
              "            '<a target=\"_blank\" href=https://colab.research.google.com/notebooks/data_table.ipynb>data table notebook</a>'\n",
              "            + ' to learn more about interactive tables.';\n",
              "          element.innerHTML = '';\n",
              "          dataTable['output_type'] = 'display_data';\n",
              "          await google.colab.output.renderOutput(dataTable, element);\n",
              "          const docLink = document.createElement('div');\n",
              "          docLink.innerHTML = docLinkHtml;\n",
              "          element.appendChild(docLink);\n",
              "        }\n",
              "      </script>\n",
              "    </div>\n",
              "  </div>\n",
              "  "
            ],
            "application/vnd.google.colaboratory.module+javascript": "\n      import \"https://ssl.gstatic.com/colaboratory/data_table/a8bd4d5e58f96183/data_table.js\";\n\n      window.createDataTable({\n        data: [[\"count\",\n{\n            'v': 224.0,\n            'f': \"224.0\",\n        }],\n [\"mean\",\n{\n            'v': 0.9997959766505912,\n            'f': \"0.9997959766505912\",\n        }],\n [\"std\",\n{\n            'v': 0.017775071297738445,\n            'f': \"0.017775071297738445\",\n        }],\n [\"min\",\n{\n            'v': 0.893993750920574,\n            'f': \"0.893993750920574\",\n        }],\n [\"25%\",\n{\n            'v': 0.9914510114415314,\n            'f': \"0.9914510114415314\",\n        }],\n [\"50%\",\n{\n            'v': 1.0005033876381089,\n            'f': \"1.0005033876381089\",\n        }],\n [\"75%\",\n{\n            'v': 1.0095817635271715,\n            'f': \"1.0095817635271715\",\n        }],\n [\"max\",\n{\n            'v': 1.0521962476462274,\n            'f': \"1.0521962476462274\",\n        }]],\n        columns: [[\"string\", \"index\"], [\"number\", \"valor\"]],\n        columnOptions: [{\"width\": \"1px\", \"className\": \"index_column\"}],\n        rowsPerPage: 25,\n        helpUrl: \"https://colab.research.google.com/notebooks/data_table.ipynb\",\n        suppressOutputScrolling: true,\n        minimumWidth: undefined,\n      });\n    "
          },
          "metadata": {},
          "execution_count": 13
        }
      ]
    },
    {
      "cell_type": "code",
      "source": [
        "print(f'Mediana do resíduo do IBC-BR: {np.median(df_ibcbr_res)}')"
      ],
      "metadata": {
        "colab": {
          "base_uri": "https://localhost:8080/"
        },
        "id": "uf6UmSQo_PZz",
        "outputId": "5688174d-c49c-42ae-8b23-18f4fedd352f"
      },
      "execution_count": 14,
      "outputs": [
        {
          "output_type": "stream",
          "name": "stdout",
          "text": [
            "Mediana do resíduo do IBC-BR: 1.0005033876381089\n"
          ]
        }
      ]
    },
    {
      "cell_type": "code",
      "source": [
        "ibcbr_res_mad = calcular_mad(df_ibcbr_res)\n",
        "print(f'MAD do resíduo do IBC-BR = {ibcbr_res_mad}.')"
      ],
      "metadata": {
        "colab": {
          "base_uri": "https://localhost:8080/"
        },
        "id": "elRUF75e5POI",
        "outputId": "b39591b6-103c-4276-d0ba-4eff0a4b79dc"
      },
      "execution_count": 15,
      "outputs": [
        {
          "output_type": "stream",
          "name": "stdout",
          "text": [
            "MAD do resíduo do IBC-BR = 0.009062644702768241.\n"
          ]
        }
      ]
    },
    {
      "cell_type": "code",
      "source": [
        "# criamos uma cópia do dataframe e calculamos o z-score modificado\n",
        "# de suas entradas\n",
        "df_temp = df_ibcbr_res.copy()\n",
        "df_temp['z-score mod'] = calcular_zscore_mod(df_temp)\n",
        "display(df_temp.head())"
      ],
      "metadata": {
        "colab": {
          "base_uri": "https://localhost:8080/",
          "height": 198
        },
        "id": "LkulcGJa-W7H",
        "outputId": "bb25c6c8-2333-4a42-a21f-0b2257380a51"
      },
      "execution_count": 16,
      "outputs": [
        {
          "output_type": "display_data",
          "data": {
            "text/plain": [
              "               valor  z-score mod\n",
              "data                             \n",
              "2003-07-01  0.988355    -0.904159\n",
              "2003-08-01  0.972326    -2.097129\n",
              "2003-09-01  1.007602     0.528325\n",
              "2003-10-01  1.009311     0.655498\n",
              "2003-11-01  0.992433    -0.600664"
            ],
            "text/html": [
              "\n",
              "  <div id=\"df-2bcebc9d-d091-4763-b9c1-44413c76e524\">\n",
              "    <div class=\"colab-df-container\">\n",
              "      <div>\n",
              "<style scoped>\n",
              "    .dataframe tbody tr th:only-of-type {\n",
              "        vertical-align: middle;\n",
              "    }\n",
              "\n",
              "    .dataframe tbody tr th {\n",
              "        vertical-align: top;\n",
              "    }\n",
              "\n",
              "    .dataframe thead th {\n",
              "        text-align: right;\n",
              "    }\n",
              "</style>\n",
              "<table border=\"1\" class=\"dataframe\">\n",
              "  <thead>\n",
              "    <tr style=\"text-align: right;\">\n",
              "      <th></th>\n",
              "      <th>valor</th>\n",
              "      <th>z-score mod</th>\n",
              "    </tr>\n",
              "    <tr>\n",
              "      <th>data</th>\n",
              "      <th></th>\n",
              "      <th></th>\n",
              "    </tr>\n",
              "  </thead>\n",
              "  <tbody>\n",
              "    <tr>\n",
              "      <th>2003-07-01</th>\n",
              "      <td>0.988355</td>\n",
              "      <td>-0.904159</td>\n",
              "    </tr>\n",
              "    <tr>\n",
              "      <th>2003-08-01</th>\n",
              "      <td>0.972326</td>\n",
              "      <td>-2.097129</td>\n",
              "    </tr>\n",
              "    <tr>\n",
              "      <th>2003-09-01</th>\n",
              "      <td>1.007602</td>\n",
              "      <td>0.528325</td>\n",
              "    </tr>\n",
              "    <tr>\n",
              "      <th>2003-10-01</th>\n",
              "      <td>1.009311</td>\n",
              "      <td>0.655498</td>\n",
              "    </tr>\n",
              "    <tr>\n",
              "      <th>2003-11-01</th>\n",
              "      <td>0.992433</td>\n",
              "      <td>-0.600664</td>\n",
              "    </tr>\n",
              "  </tbody>\n",
              "</table>\n",
              "</div>\n",
              "      <button class=\"colab-df-convert\" onclick=\"convertToInteractive('df-2bcebc9d-d091-4763-b9c1-44413c76e524')\"\n",
              "              title=\"Convert this dataframe to an interactive table.\"\n",
              "              style=\"display:none;\">\n",
              "        \n",
              "  <svg xmlns=\"http://www.w3.org/2000/svg\" height=\"24px\"viewBox=\"0 0 24 24\"\n",
              "       width=\"24px\">\n",
              "    <path d=\"M0 0h24v24H0V0z\" fill=\"none\"/>\n",
              "    <path d=\"M18.56 5.44l.94 2.06.94-2.06 2.06-.94-2.06-.94-.94-2.06-.94 2.06-2.06.94zm-11 1L8.5 8.5l.94-2.06 2.06-.94-2.06-.94L8.5 2.5l-.94 2.06-2.06.94zm10 10l.94 2.06.94-2.06 2.06-.94-2.06-.94-.94-2.06-.94 2.06-2.06.94z\"/><path d=\"M17.41 7.96l-1.37-1.37c-.4-.4-.92-.59-1.43-.59-.52 0-1.04.2-1.43.59L10.3 9.45l-7.72 7.72c-.78.78-.78 2.05 0 2.83L4 21.41c.39.39.9.59 1.41.59.51 0 1.02-.2 1.41-.59l7.78-7.78 2.81-2.81c.8-.78.8-2.07 0-2.86zM5.41 20L4 18.59l7.72-7.72 1.47 1.35L5.41 20z\"/>\n",
              "  </svg>\n",
              "      </button>\n",
              "      \n",
              "  <style>\n",
              "    .colab-df-container {\n",
              "      display:flex;\n",
              "      flex-wrap:wrap;\n",
              "      gap: 12px;\n",
              "    }\n",
              "\n",
              "    .colab-df-convert {\n",
              "      background-color: #E8F0FE;\n",
              "      border: none;\n",
              "      border-radius: 50%;\n",
              "      cursor: pointer;\n",
              "      display: none;\n",
              "      fill: #1967D2;\n",
              "      height: 32px;\n",
              "      padding: 0 0 0 0;\n",
              "      width: 32px;\n",
              "    }\n",
              "\n",
              "    .colab-df-convert:hover {\n",
              "      background-color: #E2EBFA;\n",
              "      box-shadow: 0px 1px 2px rgba(60, 64, 67, 0.3), 0px 1px 3px 1px rgba(60, 64, 67, 0.15);\n",
              "      fill: #174EA6;\n",
              "    }\n",
              "\n",
              "    [theme=dark] .colab-df-convert {\n",
              "      background-color: #3B4455;\n",
              "      fill: #D2E3FC;\n",
              "    }\n",
              "\n",
              "    [theme=dark] .colab-df-convert:hover {\n",
              "      background-color: #434B5C;\n",
              "      box-shadow: 0px 1px 3px 1px rgba(0, 0, 0, 0.15);\n",
              "      filter: drop-shadow(0px 1px 2px rgba(0, 0, 0, 0.3));\n",
              "      fill: #FFFFFF;\n",
              "    }\n",
              "  </style>\n",
              "\n",
              "      <script>\n",
              "        const buttonEl =\n",
              "          document.querySelector('#df-2bcebc9d-d091-4763-b9c1-44413c76e524 button.colab-df-convert');\n",
              "        buttonEl.style.display =\n",
              "          google.colab.kernel.accessAllowed ? 'block' : 'none';\n",
              "\n",
              "        async function convertToInteractive(key) {\n",
              "          const element = document.querySelector('#df-2bcebc9d-d091-4763-b9c1-44413c76e524');\n",
              "          const dataTable =\n",
              "            await google.colab.kernel.invokeFunction('convertToInteractive',\n",
              "                                                     [key], {});\n",
              "          if (!dataTable) return;\n",
              "\n",
              "          const docLinkHtml = 'Like what you see? Visit the ' +\n",
              "            '<a target=\"_blank\" href=https://colab.research.google.com/notebooks/data_table.ipynb>data table notebook</a>'\n",
              "            + ' to learn more about interactive tables.';\n",
              "          element.innerHTML = '';\n",
              "          dataTable['output_type'] = 'display_data';\n",
              "          await google.colab.output.renderOutput(dataTable, element);\n",
              "          const docLink = document.createElement('div');\n",
              "          docLink.innerHTML = docLinkHtml;\n",
              "          element.appendChild(docLink);\n",
              "        }\n",
              "      </script>\n",
              "    </div>\n",
              "  </div>\n",
              "  "
            ],
            "application/vnd.google.colaboratory.module+javascript": "\n      import \"https://ssl.gstatic.com/colaboratory/data_table/a8bd4d5e58f96183/data_table.js\";\n\n      window.createDataTable({\n        data: [[\"2003-07-01 00:00:00\",\n{\n            'v': 0.988354851546992,\n            'f': \"0.988354851546992\",\n        },\n{\n            'v': -0.9041593931320423,\n            'f': \"-0.9041593931320423\",\n        }],\n [\"2003-08-01 00:00:00\",\n{\n            'v': 0.972325781792582,\n            'f': \"0.972325781792582\",\n        },\n{\n            'v': -2.0971289717643025,\n            'f': \"-2.0971289717643025\",\n        }],\n [\"2003-09-01 00:00:00\",\n{\n            'v': 1.0076021083296829,\n            'f': \"1.0076021083296829\",\n        },\n{\n            'v': 0.528324972191556,\n            'f': \"0.528324972191556\",\n        }],\n [\"2003-10-01 00:00:00\",\n{\n            'v': 1.009310840081455,\n            'f': \"1.009310840081455\",\n        },\n{\n            'v': 0.6554979790559315,\n            'f': \"0.6554979790559315\",\n        }],\n [\"2003-11-01 00:00:00\",\n{\n            'v': 0.9924327050517188,\n            'f': \"0.9924327050517188\",\n        },\n{\n            'v': -0.6006636038071764,\n            'f': \"-0.6006636038071764\",\n        }]],\n        columns: [[\"string\", \"data\"], [\"number\", \"valor\"], [\"number\", \"z-score mod\"]],\n        columnOptions: [{\"width\": \"1px\", \"className\": \"index_column\"}],\n        rowsPerPage: 25,\n        helpUrl: \"https://colab.research.google.com/notebooks/data_table.ipynb\",\n        suppressOutputScrolling: true,\n        minimumWidth: undefined,\n      });\n    "
          },
          "metadata": {}
        }
      ]
    },
    {
      "cell_type": "code",
      "source": [
        "# depois filtramos os dados em busca de anomalias,\n",
        "# assumindo que qualquer coisa acima de 2.5 unidades\n",
        "# de MAD é uma anomalia.\n",
        "\n",
        "limiar_anomalia = 2.5\n",
        "filtro_acima_lim_sup = df_temp['z-score mod'] > limiar_anomalia\n",
        "filtro_abaixo_lim_inf = df_temp['z-score mod'] < -limiar_anomalia\n",
        "\n",
        "df_anomalias = df_temp[ filtro_acima_lim_sup | filtro_abaixo_lim_inf ]"
      ],
      "metadata": {
        "id": "TmgdZqLOA8Pc"
      },
      "execution_count": 17,
      "outputs": []
    },
    {
      "cell_type": "code",
      "source": [
        "display(df_anomalias)"
      ],
      "metadata": {
        "colab": {
          "base_uri": "https://localhost:8080/",
          "height": 305
        },
        "id": "4EBSHlw0RSbx",
        "outputId": "e23a4b99-c168-4e93-bd3e-0796dc2e78cd"
      },
      "execution_count": 19,
      "outputs": [
        {
          "output_type": "display_data",
          "data": {
            "text/plain": [
              "               valor  z-score mod\n",
              "data                             \n",
              "2008-07-01  1.034370     2.520569\n",
              "2008-09-01  1.038398     2.820339\n",
              "2008-12-01  0.955111    -3.378379\n",
              "2009-01-01  0.959341    -3.063555\n",
              "2009-02-01  0.960103    -3.006779\n",
              "2020-01-01  1.046810     3.446424\n",
              "2020-02-01  1.052196     3.847261\n",
              "2020-04-01  0.893994    -7.927020\n",
              "2020-05-01  0.904317    -7.158683\n",
              "2020-06-01  0.955636    -3.339268"
            ],
            "text/html": [
              "\n",
              "  <div id=\"df-6d0513d9-87b5-4a2e-a035-c6a64e7af8fa\">\n",
              "    <div class=\"colab-df-container\">\n",
              "      <div>\n",
              "<style scoped>\n",
              "    .dataframe tbody tr th:only-of-type {\n",
              "        vertical-align: middle;\n",
              "    }\n",
              "\n",
              "    .dataframe tbody tr th {\n",
              "        vertical-align: top;\n",
              "    }\n",
              "\n",
              "    .dataframe thead th {\n",
              "        text-align: right;\n",
              "    }\n",
              "</style>\n",
              "<table border=\"1\" class=\"dataframe\">\n",
              "  <thead>\n",
              "    <tr style=\"text-align: right;\">\n",
              "      <th></th>\n",
              "      <th>valor</th>\n",
              "      <th>z-score mod</th>\n",
              "    </tr>\n",
              "    <tr>\n",
              "      <th>data</th>\n",
              "      <th></th>\n",
              "      <th></th>\n",
              "    </tr>\n",
              "  </thead>\n",
              "  <tbody>\n",
              "    <tr>\n",
              "      <th>2008-07-01</th>\n",
              "      <td>1.034370</td>\n",
              "      <td>2.520569</td>\n",
              "    </tr>\n",
              "    <tr>\n",
              "      <th>2008-09-01</th>\n",
              "      <td>1.038398</td>\n",
              "      <td>2.820339</td>\n",
              "    </tr>\n",
              "    <tr>\n",
              "      <th>2008-12-01</th>\n",
              "      <td>0.955111</td>\n",
              "      <td>-3.378379</td>\n",
              "    </tr>\n",
              "    <tr>\n",
              "      <th>2009-01-01</th>\n",
              "      <td>0.959341</td>\n",
              "      <td>-3.063555</td>\n",
              "    </tr>\n",
              "    <tr>\n",
              "      <th>2009-02-01</th>\n",
              "      <td>0.960103</td>\n",
              "      <td>-3.006779</td>\n",
              "    </tr>\n",
              "    <tr>\n",
              "      <th>2020-01-01</th>\n",
              "      <td>1.046810</td>\n",
              "      <td>3.446424</td>\n",
              "    </tr>\n",
              "    <tr>\n",
              "      <th>2020-02-01</th>\n",
              "      <td>1.052196</td>\n",
              "      <td>3.847261</td>\n",
              "    </tr>\n",
              "    <tr>\n",
              "      <th>2020-04-01</th>\n",
              "      <td>0.893994</td>\n",
              "      <td>-7.927020</td>\n",
              "    </tr>\n",
              "    <tr>\n",
              "      <th>2020-05-01</th>\n",
              "      <td>0.904317</td>\n",
              "      <td>-7.158683</td>\n",
              "    </tr>\n",
              "    <tr>\n",
              "      <th>2020-06-01</th>\n",
              "      <td>0.955636</td>\n",
              "      <td>-3.339268</td>\n",
              "    </tr>\n",
              "  </tbody>\n",
              "</table>\n",
              "</div>\n",
              "      <button class=\"colab-df-convert\" onclick=\"convertToInteractive('df-6d0513d9-87b5-4a2e-a035-c6a64e7af8fa')\"\n",
              "              title=\"Convert this dataframe to an interactive table.\"\n",
              "              style=\"display:none;\">\n",
              "        \n",
              "  <svg xmlns=\"http://www.w3.org/2000/svg\" height=\"24px\"viewBox=\"0 0 24 24\"\n",
              "       width=\"24px\">\n",
              "    <path d=\"M0 0h24v24H0V0z\" fill=\"none\"/>\n",
              "    <path d=\"M18.56 5.44l.94 2.06.94-2.06 2.06-.94-2.06-.94-.94-2.06-.94 2.06-2.06.94zm-11 1L8.5 8.5l.94-2.06 2.06-.94-2.06-.94L8.5 2.5l-.94 2.06-2.06.94zm10 10l.94 2.06.94-2.06 2.06-.94-2.06-.94-.94-2.06-.94 2.06-2.06.94z\"/><path d=\"M17.41 7.96l-1.37-1.37c-.4-.4-.92-.59-1.43-.59-.52 0-1.04.2-1.43.59L10.3 9.45l-7.72 7.72c-.78.78-.78 2.05 0 2.83L4 21.41c.39.39.9.59 1.41.59.51 0 1.02-.2 1.41-.59l7.78-7.78 2.81-2.81c.8-.78.8-2.07 0-2.86zM5.41 20L4 18.59l7.72-7.72 1.47 1.35L5.41 20z\"/>\n",
              "  </svg>\n",
              "      </button>\n",
              "      \n",
              "  <style>\n",
              "    .colab-df-container {\n",
              "      display:flex;\n",
              "      flex-wrap:wrap;\n",
              "      gap: 12px;\n",
              "    }\n",
              "\n",
              "    .colab-df-convert {\n",
              "      background-color: #E8F0FE;\n",
              "      border: none;\n",
              "      border-radius: 50%;\n",
              "      cursor: pointer;\n",
              "      display: none;\n",
              "      fill: #1967D2;\n",
              "      height: 32px;\n",
              "      padding: 0 0 0 0;\n",
              "      width: 32px;\n",
              "    }\n",
              "\n",
              "    .colab-df-convert:hover {\n",
              "      background-color: #E2EBFA;\n",
              "      box-shadow: 0px 1px 2px rgba(60, 64, 67, 0.3), 0px 1px 3px 1px rgba(60, 64, 67, 0.15);\n",
              "      fill: #174EA6;\n",
              "    }\n",
              "\n",
              "    [theme=dark] .colab-df-convert {\n",
              "      background-color: #3B4455;\n",
              "      fill: #D2E3FC;\n",
              "    }\n",
              "\n",
              "    [theme=dark] .colab-df-convert:hover {\n",
              "      background-color: #434B5C;\n",
              "      box-shadow: 0px 1px 3px 1px rgba(0, 0, 0, 0.15);\n",
              "      filter: drop-shadow(0px 1px 2px rgba(0, 0, 0, 0.3));\n",
              "      fill: #FFFFFF;\n",
              "    }\n",
              "  </style>\n",
              "\n",
              "      <script>\n",
              "        const buttonEl =\n",
              "          document.querySelector('#df-6d0513d9-87b5-4a2e-a035-c6a64e7af8fa button.colab-df-convert');\n",
              "        buttonEl.style.display =\n",
              "          google.colab.kernel.accessAllowed ? 'block' : 'none';\n",
              "\n",
              "        async function convertToInteractive(key) {\n",
              "          const element = document.querySelector('#df-6d0513d9-87b5-4a2e-a035-c6a64e7af8fa');\n",
              "          const dataTable =\n",
              "            await google.colab.kernel.invokeFunction('convertToInteractive',\n",
              "                                                     [key], {});\n",
              "          if (!dataTable) return;\n",
              "\n",
              "          const docLinkHtml = 'Like what you see? Visit the ' +\n",
              "            '<a target=\"_blank\" href=https://colab.research.google.com/notebooks/data_table.ipynb>data table notebook</a>'\n",
              "            + ' to learn more about interactive tables.';\n",
              "          element.innerHTML = '';\n",
              "          dataTable['output_type'] = 'display_data';\n",
              "          await google.colab.output.renderOutput(dataTable, element);\n",
              "          const docLink = document.createElement('div');\n",
              "          docLink.innerHTML = docLinkHtml;\n",
              "          element.appendChild(docLink);\n",
              "        }\n",
              "      </script>\n",
              "    </div>\n",
              "  </div>\n",
              "  "
            ],
            "application/vnd.google.colaboratory.module+javascript": "\n      import \"https://ssl.gstatic.com/colaboratory/data_table/a8bd4d5e58f96183/data_table.js\";\n\n      window.createDataTable({\n        data: [[\"2008-07-01 00:00:00\",\n{\n            'v': 1.0343704572886263,\n            'f': \"1.0343704572886263\",\n        },\n{\n            'v': 2.5205694671939103,\n            'f': \"2.5205694671939103\",\n        }],\n [\"2008-09-01 00:00:00\",\n{\n            'v': 1.0383982407115209,\n            'f': \"1.0383982407115209\",\n        },\n{\n            'v': 2.820338771742014,\n            'f': \"2.820338771742014\",\n        }],\n [\"2008-12-01 00:00:00\",\n{\n            'v': 0.9551105573879852,\n            'f': \"0.9551105573879852\",\n        },\n{\n            'v': -3.3783785588378956,\n            'f': \"-3.3783785588378956\",\n        }],\n [\"2009-01-01 00:00:00\",\n{\n            'v': 0.9593406095379604,\n            'f': \"0.9593406095379604\",\n        },\n{\n            'v': -3.0635553277792114,\n            'f': \"-3.0635553277792114\",\n        }],\n [\"2009-02-01 00:00:00\",\n{\n            'v': 0.9601034749622458,\n            'f': \"0.9601034749622458\",\n        },\n{\n            'v': -3.006778780062681,\n            'f': \"-3.006778780062681\",\n        }],\n [\"2020-01-01 00:00:00\",\n{\n            'v': 1.0468104936758136,\n            'f': \"1.0468104936758136\",\n        },\n{\n            'v': 3.446423880105787,\n            'f': \"3.446423880105787\",\n        }],\n [\"2020-02-01 00:00:00\",\n{\n            'v': 1.0521962476462274,\n            'f': \"1.0521962476462274\",\n        },\n{\n            'v': 3.847260656234605,\n            'f': \"3.847260656234605\",\n        }],\n [\"2020-04-01 00:00:00\",\n{\n            'v': 0.893993750920574,\n            'f': \"0.893993750920574\",\n        },\n{\n            'v': -7.927019994421987,\n            'f': \"-7.927019994421987\",\n        }],\n [\"2020-05-01 00:00:00\",\n{\n            'v': 0.9043173393974934,\n            'f': \"0.9043173393974934\",\n        },\n{\n            'v': -7.158683017667923,\n            'f': \"-7.158683017667923\",\n        }],\n [\"2020-06-01 00:00:00\",\n{\n            'v': 0.9556360635770628,\n            'f': \"0.9556360635770628\",\n        },\n{\n            'v': -3.3392675619704697,\n            'f': \"-3.3392675619704697\",\n        }]],\n        columns: [[\"string\", \"data\"], [\"number\", \"valor\"], [\"number\", \"z-score mod\"]],\n        columnOptions: [{\"width\": \"1px\", \"className\": \"index_column\"}],\n        rowsPerPage: 25,\n        helpUrl: \"https://colab.research.google.com/notebooks/data_table.ipynb\",\n        suppressOutputScrolling: true,\n        minimumWidth: undefined,\n      });\n    "
          },
          "metadata": {}
        }
      ]
    },
    {
      "cell_type": "markdown",
      "source": [
        "O processo parece ter detectado anomalias em 2008 e 2009 (potenciais efeitos da crise do mercado financeiro mundial de 2008) e de dezembro de 2019 até junho de 2020 (potenciais efeitos da pandemia de COVID-19)."
      ],
      "metadata": {
        "id": "pkL5PfOCOKiI"
      }
    },
    {
      "cell_type": "code",
      "source": [
        "# FIXME: Continuar daqui. Desenhar gráfico do IBC-BR vs. anomalias e realizar\n",
        "# análise com base na série de diferenças. Depois usar soma cumulativa (CUMSUM)\n",
        "# e comparar os resultados."
      ],
      "metadata": {
        "id": "mk60_I2uPz8-"
      },
      "execution_count": 18,
      "outputs": []
    }
  ]
}