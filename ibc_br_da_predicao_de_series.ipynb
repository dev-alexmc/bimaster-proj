{
  "nbformat": 4,
  "nbformat_minor": 0,
  "metadata": {
    "colab": {
      "provenance": []
    },
    "kernelspec": {
      "name": "python3",
      "display_name": "Python 3"
    },
    "language_info": {
      "name": "python"
    }
  },
  "cells": [
    {
      "cell_type": "markdown",
      "source": [
        "# Projeto: Análise de Anomalias em Série Temporal"
      ],
      "metadata": {
        "id": "ULDWNbG9cx5S"
      }
    },
    {
      "cell_type": "markdown",
      "source": [
        "BIMASTER - Trabalho de final de curso\n",
        "\n",
        "Nome: Alex Marques Campos\n",
        "\n",
        "Etapa 02.B: Detecção de anomalias via predição de séries"
      ],
      "metadata": {
        "id": "p_Zbz7ZuczLN"
      }
    },
    {
      "cell_type": "markdown",
      "source": [
        "O objetivo deste notebook é carregar os dados das séries históricas de interesse e observar se é possível utilizar predição de séries temporais para realizar a detecção de anomalias. Para isso, um modelo LSTM.\n",
        "\n",
        "O primeiro passo é carregar as bibliotecas necessárias ao processamento e os dados propriamente ditos, que estão armazenados nos arquivos CSV (_comma separated values_) armazenados no subdiretório './__dados__/'."
      ],
      "metadata": {
        "id": "wc9G5F-vm5cb"
      }
    },
    {
      "cell_type": "markdown",
      "source": [
        "## Configuração do ambiente de execução"
      ],
      "metadata": {
        "id": "R_KJarOpo-_o"
      }
    },
    {
      "cell_type": "code",
      "execution_count": 37,
      "metadata": {
        "id": "fCR2V-wocZJl"
      },
      "outputs": [],
      "source": [
        "import math\n",
        "import matplotlib\n",
        "import matplotlib.pyplot as plt\n",
        "import numpy as np\n",
        "import pandas as pd\n",
        "import seaborn as sns\n",
        "\n",
        "from pathlib import Path\n",
        "from sklearn.preprocessing import MinMaxScaler"
      ]
    },
    {
      "cell_type": "code",
      "source": [
        "NOME_DIRETORIO_DADOS = 'dados'\n",
        "NOME_DIRETORIO_MODELOS = 'modelos'\n",
        "NOME_ARQUIVO_SERIE_IBCBR = 'serie_ibcbr.csv'"
      ],
      "metadata": {
        "id": "CY4fZhLloQgd"
      },
      "execution_count": 2,
      "outputs": []
    },
    {
      "cell_type": "code",
      "source": [
        "print(f'pandas == {pd.__version__}')\n",
        "print(f'matplotlib == {matplotlib.__version__}')"
      ],
      "metadata": {
        "id": "1yRvVVanoSu4",
        "colab": {
          "base_uri": "https://localhost:8080/"
        },
        "outputId": "c6f6e1c0-2b56-4313-fc01-543883b24d63"
      },
      "execution_count": 3,
      "outputs": [
        {
          "output_type": "stream",
          "name": "stdout",
          "text": [
            "pandas == 1.3.5\n",
            "matplotlib == 3.2.2\n"
          ]
        }
      ]
    },
    {
      "cell_type": "code",
      "source": [
        "# ajustamos o formato de apresentação padrão dos gráficos\n",
        "sns.set_theme(style=\"white\", palette=\"pastel\")"
      ],
      "metadata": {
        "id": "0oh4IvnCofu_"
      },
      "execution_count": 4,
      "outputs": []
    },
    {
      "cell_type": "code",
      "source": [
        "# habilitamos a visualização especial de dataframes disponível no\n",
        "# Google Colaboratory, para facilitar a exploração dos dados.\n",
        "from google.colab import data_table\n",
        "data_table.enable_dataframe_formatter()"
      ],
      "metadata": {
        "id": "VJS_UT3-ojaM"
      },
      "execution_count": 5,
      "outputs": []
    },
    {
      "cell_type": "markdown",
      "source": [
        "## Carga dos dados"
      ],
      "metadata": {
        "id": "GeXhAXcEo6rt"
      }
    },
    {
      "cell_type": "markdown",
      "source": [
        "Lembre-se de criar uma pasta chamada '/content/dados' no Google Colaboratory e enviar os arquivos '.csv' para essa pasta."
      ],
      "metadata": {
        "id": "iQzs87iqZs_M"
      }
    },
    {
      "cell_type": "code",
      "source": [
        "path_dir_dados = Path('.') / NOME_DIRETORIO_DADOS\n",
        "\n",
        "path_arq_ibcbr     = path_dir_dados / NOME_ARQUIVO_SERIE_IBCBR"
      ],
      "metadata": {
        "id": "Qggg6abNolqr"
      },
      "execution_count": 6,
      "outputs": []
    },
    {
      "cell_type": "code",
      "source": [
        "def carregar_csv(path_csv:Path) -> pd.DataFrame:\n",
        "  \"\"\"\n",
        "  Carrega os dados de um arquivo CSV em um dataframe de\n",
        "  forma padronizada no escopo do projeto.\n",
        "  path_csv : objeto Path que aponta para o arquivo.\n",
        "  \"\"\"\n",
        "  if (path_csv is None) or (not path_csv.is_file()):\n",
        "    raise ValueError(\"The given path object doesn't point to a valid csv file.\")\n",
        "\n",
        "  return pd.read_csv(path_csv,\n",
        "                   sep=',',\n",
        "                   parse_dates=True,\n",
        "                   infer_datetime_format=True,\n",
        "                   index_col=0,\n",
        "                   decimal='.',\n",
        "                   encoding='utf8')"
      ],
      "metadata": {
        "id": "NaLWJyWhrzDz"
      },
      "execution_count": 7,
      "outputs": []
    },
    {
      "cell_type": "code",
      "source": [
        "# carregamos o arquivo de dado em um dataframe, para iniciar a análise\n",
        "df_ibcbr = carregar_csv(path_arq_ibcbr)"
      ],
      "metadata": {
        "id": "R8pdKHi2r2Pw"
      },
      "execution_count": 8,
      "outputs": []
    },
    {
      "cell_type": "code",
      "source": [
        "def verificar_propriedades(id:int, nome:str, dataframe:pd.DataFrame) -> None:\n",
        "  \"\"\"\n",
        "  Imprime propriedades do dataframe nomeado para inspeção visual dos dados.\n",
        "  id: inteiro que identifica o dataframe.\n",
        "  nome: nome do dataframe\n",
        "  dataframe: objeto do dataframe\n",
        "  \"\"\"\n",
        "  print(f'[{id:03d}] Dataframe: {nome}')\n",
        "  print('-' * 5)\n",
        "  print(f'Shape: {dataframe.shape}')\n",
        "  print('-' * 5)\n",
        "  print(dataframe.head(4))\n",
        "  print('')"
      ],
      "metadata": {
        "id": "zs2X2xzVwPYs"
      },
      "execution_count": 9,
      "outputs": []
    },
    {
      "cell_type": "code",
      "source": [
        "# verificamos se os dataframes foram carregados corretamente.\n",
        "series = {\n",
        "  'IBC-BR': df_ibcbr\n",
        "}\n",
        "\n",
        "for idx,serie in enumerate(series.items()):\n",
        "  verificar_propriedades(idx+1, serie[0], serie[1])"
      ],
      "metadata": {
        "id": "0RPLvBR7ua6L",
        "colab": {
          "base_uri": "https://localhost:8080/"
        },
        "outputId": "5fccb408-74df-4a40-ea4f-fa2431631a2e"
      },
      "execution_count": 10,
      "outputs": [
        {
          "output_type": "stream",
          "name": "stdout",
          "text": [
            "[001] Dataframe: IBC-BR\n",
            "-----\n",
            "Shape: (236, 1)\n",
            "-----\n",
            "             valor\n",
            "data              \n",
            "2003-01-01   96.15\n",
            "2003-02-01   98.67\n",
            "2003-03-01  103.41\n",
            "2003-04-01  102.19\n",
            "\n"
          ]
        }
      ]
    },
    {
      "cell_type": "markdown",
      "source": [
        "Neste ponto, temos todos os dados carregados em DataFrames pandas e prontos para análise."
      ],
      "metadata": {
        "id": "6wUhHFfz0Q8f"
      }
    },
    {
      "cell_type": "markdown",
      "source": [
        "## Predição de Série Temporal"
      ],
      "metadata": {
        "id": "Oh-HcaQB01qu"
      }
    },
    {
      "cell_type": "markdown",
      "source": [
        "### LSTM"
      ],
      "metadata": {
        "id": "Zk4maopEgq2T"
      }
    },
    {
      "cell_type": "markdown",
      "source": [
        "Nossa primeira abordagem será treinar uma rede neural LSTM para fazer predição da série temporal IBC-BR original. Primeiro, treinaremos uma rede LSTM com todos os dados da série, para identificar os melhores hiper-parâmetros do modelo. Depois, dividiremos os dados em blocos de 12 meses e treinaremos com um número N de blocos, variando entre N = 1 e N = floor(QUANTIDADE_DADOS / 12) - 1, realizando predições para os próximos 12 meses e comparando as predições com os dados obtidos."
      ],
      "metadata": {
        "id": "iY-4vd-d1zTa"
      }
    },
    {
      "cell_type": "markdown",
      "source": [
        "Começamos definindo funções auxiliares ao processo de análise."
      ],
      "metadata": {
        "id": "tKgd48uj9wnr"
      }
    },
    {
      "cell_type": "code",
      "source": [
        "def configurar_ticks_anuais(ax):\n",
        "  '''\n",
        "  Procedimento auxiliar para configurar a exibição do eixo x\n",
        "  de um gráfico do matplotlib para dados de séries temporais\n",
        "  para os quais só sejam marcados os valores ano a ano.\n",
        "  '''\n",
        "  ax.xaxis.set_major_locator(matplotlib.dates.YearLocator(base=1))\n",
        "  ax.xaxis.set_major_formatter(matplotlib.dates.DateFormatter(\"%Y\"))"
      ],
      "metadata": {
        "id": "mk60_I2uPz8-"
      },
      "execution_count": 11,
      "outputs": []
    },
    {
      "cell_type": "code",
      "source": [
        "def desenhar_serie_com_anomalias(df:pd.DataFrame,\n",
        "                                 indice_anomalias:pd.core.indexes.datetimes.DatetimeIndex,\n",
        "                                 nome_serie:str='IBC-BR') -> None:\n",
        "  fig = plt.figure(figsize=(16,5))\n",
        "\n",
        "  plt.plot(df['valor'], 'b', label=f'Índice {nome_serie}')\n",
        "\n",
        "  for e in indice_anomalias:\n",
        "    plt.axvline(x=e, color='r', linestyle=':')\n",
        "\n",
        "  plt.legend(loc='best')\n",
        "  plt.ylabel(nome_serie)\n",
        "  plt.xlabel('Tempo')\n",
        "\n",
        "  # ajustamos o eixo x da figura para exibir ticks a cada ano\n",
        "  configurar_ticks_anuais(fig.axes[0])\n",
        "\n",
        "  plt.show()"
      ],
      "metadata": {
        "id": "GRfboQgChFwp"
      },
      "execution_count": 12,
      "outputs": []
    },
    {
      "cell_type": "markdown",
      "source": [
        "Primeiro, precisamos separar os valores dos dados e os índices em dois objetos diferentes."
      ],
      "metadata": {
        "id": "u6LqSZqfHg2p"
      }
    },
    {
      "cell_type": "code",
      "source": [
        "np_valores = df_ibcbr['valor'].to_numpy()\n",
        "np_indice = df_ibcbr.index.to_numpy()"
      ],
      "metadata": {
        "id": "7btVkPMcHmk9"
      },
      "execution_count": 21,
      "outputs": []
    },
    {
      "cell_type": "code",
      "source": [
        "np_valores.shape"
      ],
      "metadata": {
        "colab": {
          "base_uri": "https://localhost:8080/"
        },
        "id": "jiwhXn6JK1gJ",
        "outputId": "d1e21f6f-a795-41cf-b19e-d72abd596483"
      },
      "execution_count": 22,
      "outputs": [
        {
          "output_type": "execute_result",
          "data": {
            "text/plain": [
              "(236,)"
            ]
          },
          "metadata": {},
          "execution_count": 22
        }
      ]
    },
    {
      "cell_type": "code",
      "source": [
        "np_valores_col_extra = np_valores.reshape(-1,1)\n",
        "np_valores_col_extra.shape"
      ],
      "metadata": {
        "colab": {
          "base_uri": "https://localhost:8080/"
        },
        "id": "Sm7rbqZiLwoc",
        "outputId": "005cb8a2-3de8-43e6-a50e-59cc0775667a"
      },
      "execution_count": 26,
      "outputs": [
        {
          "output_type": "execute_result",
          "data": {
            "text/plain": [
              "(236, 1)"
            ]
          },
          "metadata": {},
          "execution_count": 26
        }
      ]
    },
    {
      "cell_type": "code",
      "source": [
        "np_indice.shape"
      ],
      "metadata": {
        "colab": {
          "base_uri": "https://localhost:8080/"
        },
        "id": "o_rsFYyrLJg1",
        "outputId": "44a7a6e1-ea19-4982-e891-8d53b79b6b3f"
      },
      "execution_count": 23,
      "outputs": [
        {
          "output_type": "execute_result",
          "data": {
            "text/plain": [
              "(236,)"
            ]
          },
          "metadata": {},
          "execution_count": 23
        }
      ]
    },
    {
      "cell_type": "markdown",
      "source": [
        "A seguir, normalizamos os valores para realizar o processamento pelo modelo.\n",
        "\n",
        "É importante guardarmos o processo de normalização dos dados, para depois poder reconstruir os dados previstos."
      ],
      "metadata": {
        "id": "s0Y6k2WOGijw"
      }
    },
    {
      "cell_type": "code",
      "source": [
        "scaler = MinMaxScaler()\n",
        "np_valores_col_extra = scaler.fit_transform(np_valores_col_extra)\n",
        "print(f'dimensões do np_valores_col_extra = {np_valores_col_extra.shape}')\n",
        "np_valores_norm = np_valores_col_extra.squeeze()\n",
        "print(f'dimensões do np_valores_norm = {np_valores_norm.shape}')"
      ],
      "metadata": {
        "id": "blKspGxDGmJF",
        "colab": {
          "base_uri": "https://localhost:8080/"
        },
        "outputId": "003d8d45-aad7-4727-d3ee-4ac9b5ac98d7"
      },
      "execution_count": 28,
      "outputs": [
        {
          "output_type": "stream",
          "name": "stdout",
          "text": [
            "dimensões do np_valores_col_extra = (236, 1)\n",
            "dimensões do np_valores_norm = (236,)\n"
          ]
        }
      ]
    },
    {
      "cell_type": "code",
      "source": [
        "# quantidade de blocos de 12 meses presentes nos dados\n",
        "tam_bloco:int = 12\n",
        "n_periodos = math.floor(np_valores_norm.shape[0] / tam_bloco)"
      ],
      "metadata": {
        "id": "3oITdNghNbnA"
      },
      "execution_count": 38,
      "outputs": []
    },
    {
      "cell_type": "code",
      "source": [
        "assert(n_periodos > 2)\n",
        "# treino = primeiros (n_periodos - 2) blocos\n"
      ],
      "metadata": {
        "id": "GawFAhwEOEHE"
      },
      "execution_count": null,
      "outputs": []
    }
  ]
}