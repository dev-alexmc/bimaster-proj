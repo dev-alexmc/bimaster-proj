{
  "nbformat": 4,
  "nbformat_minor": 0,
  "metadata": {
    "colab": {
      "provenance": [],
      "toc_visible": true
    },
    "kernelspec": {
      "name": "python3",
      "display_name": "Python 3"
    },
    "language_info": {
      "name": "python"
    }
  },
  "cells": [
    {
      "cell_type": "markdown",
      "source": [
        "# Projeto: Análise de Anomalias em Série Temporal"
      ],
      "metadata": {
        "id": "ULDWNbG9cx5S"
      }
    },
    {
      "cell_type": "markdown",
      "source": [
        "BIMASTER - Trabalho de final de curso\n",
        "\n",
        "Nome: Alex Marques Campos\n",
        "\n",
        "Etapa 02.B: Detecção de anomalias via predição de séries"
      ],
      "metadata": {
        "id": "p_Zbz7ZuczLN"
      }
    },
    {
      "cell_type": "markdown",
      "source": [
        "O objetivo deste notebook é carregar os dados das séries históricas de interesse e observar se é possível utilizar predição de séries temporais para realizar a detecção de anomalias. Para isso, um modelo LSTM.\n",
        "\n",
        "O primeiro passo é carregar as bibliotecas necessárias ao processamento e os dados propriamente ditos, que estão armazenados nos arquivos CSV (_comma separated values_) armazenados no subdiretório './__dados__/'."
      ],
      "metadata": {
        "id": "wc9G5F-vm5cb"
      }
    },
    {
      "cell_type": "markdown",
      "source": [
        "## Configuração do ambiente de execução"
      ],
      "metadata": {
        "id": "R_KJarOpo-_o"
      }
    },
    {
      "cell_type": "code",
      "execution_count": 1,
      "metadata": {
        "id": "fCR2V-wocZJl"
      },
      "outputs": [],
      "source": [
        "import math\n",
        "import matplotlib\n",
        "import multiprocessing\n",
        "import random\n",
        "\n",
        "import matplotlib.pyplot as plt\n",
        "import numpy as np\n",
        "import pandas as pd\n",
        "import sklearn as sk\n",
        "import seaborn as sns\n",
        "import tensorflow as tf\n",
        "\n",
        "from pathlib import Path\n",
        "from sklearn.metrics import classification_report, mean_absolute_percentage_error, mean_squared_error, r2_score\n",
        "from sklearn.model_selection import train_test_split\n",
        "from sklearn.preprocessing import MinMaxScaler\n",
        "from tensorflow.keras.callbacks import ReduceLROnPlateau, ModelCheckpoint, EarlyStopping\n",
        "from tensorflow.keras.layers import Dense, LSTM, Dropout\n",
        "from tensorflow.keras.models import Sequential\n",
        "from typing import Dict, Tuple"
      ]
    },
    {
      "cell_type": "code",
      "source": [
        "NOME_DIRETORIO_DADOS = 'dados'\n",
        "NOME_DIRETORIO_MODELOS = 'modelos'\n",
        "NOME_ARQUIVO_SERIE_IBCBR = 'serie_ibcbr.csv'"
      ],
      "metadata": {
        "id": "CY4fZhLloQgd"
      },
      "execution_count": 2,
      "outputs": []
    },
    {
      "cell_type": "code",
      "source": [
        "# ajustamos o formato de apresentação padrão dos gráficos\n",
        "sns.set_theme(style=\"white\", palette=\"pastel\")"
      ],
      "metadata": {
        "id": "0oh4IvnCofu_"
      },
      "execution_count": 3,
      "outputs": []
    },
    {
      "cell_type": "code",
      "source": [
        "# habilitamos a visualização especial de dataframes disponível no\n",
        "# Google Colaboratory, para facilitar a exploração dos dados.\n",
        "from google.colab import data_table\n",
        "data_table.enable_dataframe_formatter()"
      ],
      "metadata": {
        "id": "VJS_UT3-ojaM"
      },
      "execution_count": 4,
      "outputs": []
    },
    {
      "cell_type": "markdown",
      "source": [
        "## Informações do ambiente de execução"
      ],
      "metadata": {
        "id": "f_KUt24iZhke"
      }
    },
    {
      "cell_type": "code",
      "source": [
        "print(f'matplotlib == {matplotlib.__version__}')\n",
        "print(f'pandas == {pd.__version__}')\n",
        "print(f'sklearn == {sk.__version__}')\n",
        "print(f'tensorflow == {tf.__version__}')"
      ],
      "metadata": {
        "id": "1yRvVVanoSu4",
        "colab": {
          "base_uri": "https://localhost:8080/"
        },
        "outputId": "fe373203-3182-401e-963a-159d856c269e"
      },
      "execution_count": 5,
      "outputs": [
        {
          "output_type": "stream",
          "name": "stdout",
          "text": [
            "matplotlib == 3.2.2\n",
            "pandas == 1.3.5\n",
            "sklearn == 1.0.2\n",
            "tensorflow == 2.11.0\n"
          ]
        }
      ]
    },
    {
      "cell_type": "code",
      "source": [
        "!cat /etc/os-release"
      ],
      "metadata": {
        "colab": {
          "base_uri": "https://localhost:8080/"
        },
        "id": "y3H6GLsJZQzA",
        "outputId": "0752851d-261a-45ed-96da-58f8c2d48321"
      },
      "execution_count": 6,
      "outputs": [
        {
          "output_type": "stream",
          "name": "stdout",
          "text": [
            "NAME=\"Ubuntu\"\n",
            "VERSION=\"20.04.5 LTS (Focal Fossa)\"\n",
            "ID=ubuntu\n",
            "ID_LIKE=debian\n",
            "PRETTY_NAME=\"Ubuntu 20.04.5 LTS\"\n",
            "VERSION_ID=\"20.04\"\n",
            "HOME_URL=\"https://www.ubuntu.com/\"\n",
            "SUPPORT_URL=\"https://help.ubuntu.com/\"\n",
            "BUG_REPORT_URL=\"https://bugs.launchpad.net/ubuntu/\"\n",
            "PRIVACY_POLICY_URL=\"https://www.ubuntu.com/legal/terms-and-policies/privacy-policy\"\n",
            "VERSION_CODENAME=focal\n",
            "UBUNTU_CODENAME=focal\n"
          ]
        }
      ]
    },
    {
      "cell_type": "code",
      "source": [
        "!uname -a"
      ],
      "metadata": {
        "colab": {
          "base_uri": "https://localhost:8080/"
        },
        "id": "4CnVrldfZV1B",
        "outputId": "0a2c4c3e-b95b-4d39-a37f-7b515681977f"
      },
      "execution_count": 7,
      "outputs": [
        {
          "output_type": "stream",
          "name": "stdout",
          "text": [
            "Linux f9855424a74d 5.10.147+ #1 SMP Sat Dec 10 16:00:40 UTC 2022 x86_64 x86_64 x86_64 GNU/Linux\n"
          ]
        }
      ]
    },
    {
      "cell_type": "code",
      "source": [
        "print(f'CPU count: {multiprocessing.cpu_count()}')"
      ],
      "metadata": {
        "colab": {
          "base_uri": "https://localhost:8080/"
        },
        "id": "ztAF19V7ZWYb",
        "outputId": "31888960-f497-4229-8c72-a087f5a9c11f"
      },
      "execution_count": 8,
      "outputs": [
        {
          "output_type": "stream",
          "name": "stdout",
          "text": [
            "CPU count: 2\n"
          ]
        }
      ]
    },
    {
      "cell_type": "code",
      "source": [
        "!nvidia-smi"
      ],
      "metadata": {
        "colab": {
          "base_uri": "https://localhost:8080/"
        },
        "id": "hzWr0edfZgZS",
        "outputId": "5ba6f710-c41d-4f12-da8d-393c2b5acb35"
      },
      "execution_count": 9,
      "outputs": [
        {
          "output_type": "stream",
          "name": "stdout",
          "text": [
            "NVIDIA-SMI has failed because it couldn't communicate with the NVIDIA driver. Make sure that the latest NVIDIA driver is installed and running.\n",
            "\n"
          ]
        }
      ]
    },
    {
      "cell_type": "markdown",
      "source": [
        "## Carga dos dados"
      ],
      "metadata": {
        "id": "GeXhAXcEo6rt"
      }
    },
    {
      "cell_type": "markdown",
      "source": [
        "Lembre-se de criar uma pasta chamada '/content/dados' no Google Colaboratory e enviar os arquivos '.csv' para essa pasta."
      ],
      "metadata": {
        "id": "iQzs87iqZs_M"
      }
    },
    {
      "cell_type": "code",
      "source": [
        "path_dir_dados = Path('.') / NOME_DIRETORIO_DADOS\n",
        "path_arq_ibcbr = path_dir_dados / NOME_ARQUIVO_SERIE_IBCBR"
      ],
      "metadata": {
        "id": "Qggg6abNolqr"
      },
      "execution_count": 10,
      "outputs": []
    },
    {
      "cell_type": "code",
      "source": [
        "def carregar_csv(path_csv:Path) -> pd.DataFrame:\n",
        "  \"\"\"\n",
        "  Carrega os dados de um arquivo CSV em um dataframe de\n",
        "  forma padronizada no escopo do projeto.\n",
        "  path_csv : objeto Path que aponta para o arquivo.\n",
        "  \"\"\"\n",
        "  if (path_csv is None) or (not path_csv.is_file()):\n",
        "    raise ValueError(\"The given path object doesn't point to a valid csv file.\")\n",
        "\n",
        "  return pd.read_csv(path_csv,\n",
        "                   sep=',',\n",
        "                   parse_dates=True,\n",
        "                   infer_datetime_format=True,\n",
        "                   index_col=0,\n",
        "                   decimal='.',\n",
        "                   encoding='utf8')"
      ],
      "metadata": {
        "id": "NaLWJyWhrzDz"
      },
      "execution_count": 11,
      "outputs": []
    },
    {
      "cell_type": "code",
      "source": [
        "# carregamos o arquivo de dado em um dataframe, para iniciar a análise\n",
        "df_ibcbr = carregar_csv(path_arq_ibcbr)"
      ],
      "metadata": {
        "id": "R8pdKHi2r2Pw"
      },
      "execution_count": 12,
      "outputs": []
    },
    {
      "cell_type": "code",
      "source": [
        "def verificar_propriedades(id:int, nome:str, dataframe:pd.DataFrame) -> None:\n",
        "  \"\"\"\n",
        "  Imprime propriedades do dataframe nomeado para inspeção visual dos dados.\n",
        "  id: inteiro que identifica o dataframe.\n",
        "  nome: nome do dataframe\n",
        "  dataframe: objeto do dataframe\n",
        "  \"\"\"\n",
        "  print(f'[{id:03d}] Dataframe: {nome}')\n",
        "  print('-' * 5)\n",
        "  print(f'Shape: {dataframe.shape}')\n",
        "  print('-' * 5)\n",
        "  print(dataframe.head(4))\n",
        "  print('')"
      ],
      "metadata": {
        "id": "zs2X2xzVwPYs"
      },
      "execution_count": 13,
      "outputs": []
    },
    {
      "cell_type": "code",
      "source": [
        "# verificamos se os dataframes foram carregados corretamente.\n",
        "series = {\n",
        "  'IBC-BR': df_ibcbr\n",
        "}\n",
        "\n",
        "for idx,serie in enumerate(series.items()):\n",
        "  verificar_propriedades(idx+1, serie[0], serie[1])"
      ],
      "metadata": {
        "id": "0RPLvBR7ua6L",
        "colab": {
          "base_uri": "https://localhost:8080/"
        },
        "outputId": "c5a1e430-9c56-4278-f4cc-e4438bb1b7d2"
      },
      "execution_count": 14,
      "outputs": [
        {
          "output_type": "stream",
          "name": "stdout",
          "text": [
            "[001] Dataframe: IBC-BR\n",
            "-----\n",
            "Shape: (236, 1)\n",
            "-----\n",
            "             valor\n",
            "data              \n",
            "2003-01-01   96.15\n",
            "2003-02-01   98.67\n",
            "2003-03-01  103.41\n",
            "2003-04-01  102.19\n",
            "\n"
          ]
        }
      ]
    },
    {
      "cell_type": "markdown",
      "source": [
        "Neste ponto, temos todos os dados carregados em DataFrames pandas e prontos para análise."
      ],
      "metadata": {
        "id": "6wUhHFfz0Q8f"
      }
    },
    {
      "cell_type": "markdown",
      "source": [
        "## Predição de Série Temporal"
      ],
      "metadata": {
        "id": "Oh-HcaQB01qu"
      }
    },
    {
      "cell_type": "markdown",
      "source": [
        "### Definição de funções auxiliares"
      ],
      "metadata": {
        "id": "yG_dgJSJBApl"
      }
    },
    {
      "cell_type": "markdown",
      "source": [
        "Começamos definindo funções auxiliares ao processo de análise."
      ],
      "metadata": {
        "id": "tKgd48uj9wnr"
      }
    },
    {
      "cell_type": "markdown",
      "source": [
        "#### Funções para separar os dados"
      ],
      "metadata": {
        "id": "9kMvvMt-OZ2p"
      }
    },
    {
      "cell_type": "code",
      "source": [
        "def separar_em_janelas(dataset:np.ndarray,\n",
        "                       window_size:int=24) -> Tuple[np.array, np.array]:\n",
        "  \"\"\"\n",
        "  Divide os dados contidos no Numpy ndarray 'dataset' em um\n",
        "  conjunto X que contém os dados em janela deslizante de tamanho\n",
        "  'window_size' e um conjunto y que contém o elemento seguinte \n",
        "  ('window_size' + 1) à janela deslizante.\n",
        "\n",
        "  Parâmetros:\n",
        "  dataset: Numpy ndarray com os dados a serem divididos em janelas \n",
        "           deslizantes.\n",
        "  window_size: tamanho da janela deslizante.\n",
        "\n",
        "  Retorna:\n",
        "  X - np.Array com os dados em janelas deslizantes de tamanho 'window_size'.\n",
        "  y - np.Array com os dados do elemento seguinte à janela.\n",
        "  \"\"\"\n",
        "  data_size:int = len(dataset)\n",
        "\n",
        "  if data_size < (window_size + 1):\n",
        "    raise ValueError(\"\"\"\n",
        "      The input data dimension 0's length should be at least window_size + 1.\n",
        "      \"\"\")\n",
        "  \n",
        "  X = []\n",
        "  y = []\n",
        "\n",
        "  for i in range(window_size, data_size):\n",
        "    X.append(dataset[i-window_size:i])\n",
        "    y.append(dataset[i])\n",
        "  X, y = np.array(X), np.array(y)\n",
        "\n",
        "  return X, y"
      ],
      "metadata": {
        "id": "4ucKwFggpb6P"
      },
      "execution_count": 15,
      "outputs": []
    },
    {
      "cell_type": "code",
      "source": [
        "def montar_treino_teste_validacao_por_janela(dataset:np.array, \n",
        "                                             window_size:int=24,\n",
        "                                             test_size:float=0.20,\n",
        "                                             val_size:float=0.10,\n",
        "                                             random_state:int=None\n",
        "                                             ) -> Tuple[np.array, np.array, np.array, np.array, np.array, np.array]:\n",
        "    \"\"\"\n",
        "    Recebe um dataframe e o divide em conjuntos de treino, validação e teste\n",
        "    com janelas (dos conjuntos X) de tamanho definido.\n",
        "    \n",
        "    Parâmetros:\n",
        "    dataset      : Numpy array a ser dividido em treino, validação e teste.\n",
        "    window_size  : Tamanho da janela deslizante a ser aplicada ao dataset e também\n",
        "                   o tamanho de cada elemento dos conjuntos X.\n",
        "    test_size    : float entre 0.01 e 1.00, que representa o valor percentual do \n",
        "                   conjunto de teste com relação ao tamanho do dataset.\n",
        "    val_size     : float entre 0.01 e 1.00, que representa o valor percentual do \n",
        "                   conjunto de validação com relação ao tamanho do dataset.\n",
        "    random_state : inteiro que representa o estado randômico da execução do passo\n",
        "                   da escolha dos elementos de treino e teste.\n",
        "\n",
        "    Nota: test_size + val_size deve ser um valor menor do que 1.00, pois deve\n",
        "          existir um conjunto de treino.\n",
        "\n",
        "    Retorna: X_train, y_train, X_val, y_val, X_test e y_test, onde cada elemento\n",
        "             é um array numpy.\n",
        "    \"\"\"\n",
        "    if test_size < 0.01 or test_size > 1.00:\n",
        "      raise ValueError('The value of test_size should be between 0.01 and 1.00')\n",
        "\n",
        "    if val_size < 0.01 or val_size > 1.00:\n",
        "      raise ValueError('The value of val_size should be between 0.01 and 1.00')\n",
        "    \n",
        "    if test_size + val_size >= 1.00:\n",
        "      raise ValueError('test_size + val_size should be less than 1.00')\n",
        "\n",
        "    X, y = separar_em_janelas(dataset=dataset,\n",
        "                              window_size=window_size)\n",
        "\n",
        "    # na primeira chamada, dividimos o conjunto em treino e teste,\n",
        "    # onde o tamanho do conjunto de teste é explícito (default de 15%) e \n",
        "    # o tamanho do conjunto de treino fica proporcional a (1 - test_size) \n",
        "    # (default de 85%).\n",
        "    X_train_tmp, X_test, y_train_tmp, y_test = train_test_split(X, \n",
        "                                                                y, \n",
        "                                                                test_size=test_size,\n",
        "                                                                random_state=random_state)\n",
        "\n",
        "    # para obter o conjunto de validação, dividimos novamente o conjunto de \n",
        "    # treino, cujo tamanho agora é diretamente proprorcional a (1 - test_size),\n",
        "    # em duas partes, mas agora o conjunto de teste será nossa 'validação'.\n",
        "\n",
        "    # como val_size é referente a 100% e o conjunto agora é menor,\n",
        "    # recalculamos val_size para o tamanho atual do conjunto de treinamento\n",
        "    # antes de o dividir novamente.\n",
        "    val_size_recalculado = val_size / (1 - test_size)\n",
        "    \n",
        "    # dividimos novamente o conjunto, agora em treino e validação\n",
        "    # desabilitamos o shuffle porque ele é desnecessário.\n",
        "    # passamos o random_state só por completude (como shuffle está desabilitado\n",
        "    # esse argumento não deveria ter efeito na chamada).\n",
        "    X_train, X_val, y_train, y_val = train_test_split(X_train_tmp, \n",
        "                                                      y_train_tmp, \n",
        "                                                      test_size=val_size_recalculado,\n",
        "                                                      shuffle=False,\n",
        "                                                      random_state=random_state)\n",
        "\n",
        "    return X_train, y_train, X_val, y_val, X_test, y_test"
      ],
      "metadata": {
        "id": "pm4yioxacjoJ"
      },
      "execution_count": 16,
      "outputs": []
    },
    {
      "cell_type": "code",
      "source": [
        "def imprimir_propriedades_aux(a_var:np.array, a_name:str) -> None:\n",
        "  print(f'Tamanho de {a_name} = {len(a_var)}')\n",
        "  if type(a_var[0]) == np.float64:\n",
        "    tam_elem = 1\n",
        "  else:\n",
        "    tam_elem = len(a_var[0])\n",
        "  print(f'   Tamanho de um elemento de {a_name} = {tam_elem}')"
      ],
      "metadata": {
        "id": "V0C7isgd8viL"
      },
      "execution_count": 17,
      "outputs": []
    },
    {
      "cell_type": "code",
      "source": [
        "def imprimir_propriedades(X_train, y_train, X_val, y_val, X_test, y_test) -> None:\n",
        "  imprimir_propriedades_aux(X_train, 'X_train')\n",
        "  imprimir_propriedades_aux(y_train, 'y_train')\n",
        "  imprimir_propriedades_aux(X_val, 'X_val')\n",
        "  imprimir_propriedades_aux(y_val, 'y_val')\n",
        "  imprimir_propriedades_aux(X_test, 'X_test')\n",
        "  imprimir_propriedades_aux(y_test, 'y_test')"
      ],
      "metadata": {
        "id": "pgd4Tg4H7N1S"
      },
      "execution_count": 18,
      "outputs": []
    },
    {
      "cell_type": "markdown",
      "source": [
        "#### Funções para criar e treinar modelos e fazer previsões"
      ],
      "metadata": {
        "id": "zkifZ-PZOkof"
      }
    },
    {
      "cell_type": "code",
      "source": [
        "def create_model(optimizer:str = 'sgd',\n",
        "                 lstm_layer_size:int = 24,\n",
        "                 dense_layer_size:int = 24,\n",
        "                 dropout_percentual:float = 0.2,\n",
        "                 input_shape:Tuple[int,int] = (24, 1),\n",
        "                 add_extra_lstm_layer:bool = False,\n",
        "                 add_extra_dense_layer:bool = False,\n",
        "                 loss_metric:str = 'mean_squared_error') -> tf.keras.models.Sequential:\n",
        "  '''\n",
        "  Cria um modelo de rede neural a ser treinado, usando os parâmetros:\n",
        "  optimizer       : string com o nome do otimizador a ser usado para compilar\n",
        "                    o modelo.\n",
        "  lstm_layer_size : número de neurônios na(s) camada(s) LSTM da rede neural.\n",
        "  dense_layer_size : número de neurônios na camada Dense intermediária, se uma\n",
        "                     for habilitada. Veja o argumento 'add_extra_dense_layer'.\n",
        "  dropout_percentual : percentual (entre 0.0 e 1.0) a ser aplicado nas camadas\n",
        "                       de dropout, para aumentar a resiliência do modelo.\n",
        "  input_shape     : tupla que indica tamanho dos dados de entrada da rede.\n",
        "  add_extra_lstm_layer : booleano que indica se uma camada extra LSTM deve ou não\n",
        "                        ser adicionada ao modelo, com o mesmo número de unidades da\n",
        "                        camada principal.\n",
        "  add_extra_dense_layer : booleano que indica se uma camada Dense extra deve ou\n",
        "                          não ser adicionada ao modelo. Também veja o argumento\n",
        "                          'dense_layer_size'.\n",
        "  loss_metric : função objetivo para minimização do erro no treinamento.\n",
        "                Veja https://keras.io/api/losses/regression_losses/.\n",
        "  retorna o modelo criado.\n",
        "  '''\n",
        "  # se fomos solicitados a prover uma camada extra, precisamos\n",
        "  # retornar as sequências após a primeira LSTM\n",
        "  return_sequences = add_extra_lstm_layer\n",
        "\n",
        "  model = Sequential()\n",
        "\n",
        "  # LSTM input + dropout  \n",
        "  model.add(LSTM(lstm_layer_size,\n",
        "                  input_shape=input_shape,\n",
        "                  return_sequences=return_sequences))\n",
        "  model.add(Dropout(dropout_percentual))\n",
        "\n",
        "  # (LSTM + dropout) opcional\n",
        "  if (add_extra_lstm_layer):\n",
        "    model.add(LSTM(lstm_layer_size))\n",
        "    model.add(Dropout(dropout_percentual))\n",
        "  \n",
        "  # (Dense + dropout) opcional\n",
        "  if (add_extra_dense_layer):\n",
        "    model.add(Dense(dense_layer_size, activation='tanh'))\n",
        "    model.add(Dropout(dropout_percentual))\n",
        "  \n",
        "  # Dense de resposta - geramos um valor, então tem uma unidade só\n",
        "  model.add(Dense(units=1))\n",
        "\n",
        "  # reavaliar a função de perda\n",
        "  model.compile(loss=loss_metric, optimizer=optimizer)\n",
        "  model.summary()\n",
        "\n",
        "  return model"
      ],
      "metadata": {
        "id": "t7iuSMhIb0ZD"
      },
      "execution_count": 19,
      "outputs": []
    },
    {
      "cell_type": "code",
      "source": [
        "def train_model(model:tf.keras.models.Sequential, \n",
        "                X_train:np.array,\n",
        "                y_train:np.array,\n",
        "                X_val:np.array,\n",
        "                y_val:np.array,\n",
        "                X_test:np.array, \n",
        "                y_test:np.array, \n",
        "                checkpoint_path:str = None, \n",
        "                batch_size:int = 24,\n",
        "                n_epochs:int = 100) -> object:\n",
        "    '''\n",
        "    Treina o modelo 'model' com os dados de '[Xy]_train' (treinamento), '[Xy]_val' \n",
        "    (validação) e '[Xy]_test' (teste). Caso um path seja fornecido na variável \n",
        "    'checkpoint_path', salva neste path os melhores modelos encontrados durante \n",
        "    o treinamento.\n",
        "    Retorna o objeto de história do treinamento.\n",
        "    '''\n",
        "    # callbacks para modificar o processo de treinamento\n",
        "    callbacks = []\n",
        "    \n",
        "    callbacks.append(ReduceLROnPlateau(patience=5, factor=0.5, verbose=True))\n",
        "    \n",
        "    if not checkpoint_path is None:\n",
        "      callbacks.append(ModelCheckpoint(checkpoint_path, save_best_only=True))\n",
        "    \n",
        "    callbacks.append(EarlyStopping(monitor='val_loss',\n",
        "                            min_delta=0,\n",
        "                            patience=15,\n",
        "                            verbose=1,\n",
        "                            mode='min'))\n",
        "    \n",
        "    history = model.fit(x=X_train,\n",
        "                        y=y_train,\n",
        "                        validation_data=(X_val, y_val),\n",
        "                        batch_size=batch_size,\n",
        "                        epochs=n_epochs,\n",
        "                        shuffle=False,\n",
        "                        callbacks=callbacks)\n",
        "\n",
        "    return history"
      ],
      "metadata": {
        "id": "1wO3T6gKf4KY"
      },
      "execution_count": 20,
      "outputs": []
    },
    {
      "cell_type": "code",
      "source": [
        "def plot_train_results(history:object):\n",
        "  df_history = pd.DataFrame(history.history)\n",
        "  ax = df_history[['val_loss', 'loss']].plot(figsize=(10, 5))\n",
        "  \n",
        "  if 'lr' in df_history.keys():\n",
        "    df_history['lr'].plot(ax=ax.twinx(), color='gray')\n",
        "\n",
        "  display()"
      ],
      "metadata": {
        "id": "A1o2IWR6a3Jm"
      },
      "execution_count": 21,
      "outputs": []
    },
    {
      "cell_type": "code",
      "source": [
        "def predict(model:tf.keras.models.Sequential, \n",
        "            X_train:np.array,\n",
        "            X_val:np.array,\n",
        "            X_test:np.array) -> Tuple[np.array, np.array, np.array] :\n",
        "    '''\n",
        "    Usa o 'model' para fazer previsões com 'X_train', 'X_val' e 'X_test' e\n",
        "    retorna três conjuntos de dados preditos na mesma ordem.\n",
        "    '''\n",
        "    y_train_predicted = model.predict(X_train)\n",
        "    y_val_predicted = model.predict(X_val)\n",
        "    y_test_predicted = model.predict(X_test)\n",
        "\n",
        "    return y_train_predicted, y_val_predicted, y_test_predicted"
      ],
      "metadata": {
        "id": "476v5Tloa5BC"
      },
      "execution_count": 22,
      "outputs": []
    },
    {
      "cell_type": "code",
      "source": [
        "def obter_previsoes(dataframe:pd.DataFrame, \n",
        "                    model:tf.keras.models.Sequential,\n",
        "                    scaler:object,\n",
        "                    nome_coluna_dados:str='valor',\n",
        "                    window_size:int=24) -> pd.DataFrame:\n",
        "  np_valores = dataframe[nome_coluna_dados].copy().to_numpy()\n",
        "  \n",
        "  # precisamos adicionar uma coluna extra antes de normalizar os\n",
        "  # dados com o scaler\n",
        "  np_valores = np_valores.reshape(-1,1)\n",
        "  \n",
        "  # primeiro normalizamos os dados, em preparação à previsão\n",
        "  np_valores = scaler.transform(np_valores)\n",
        "\n",
        "  # depois removemos a coluna extra\n",
        "  np_valores = np_valores.squeeze()\n",
        "\n",
        "  # debug\n",
        "  # print(f'# debug dimensões de entrada = {np_valores.shape}')\n",
        "\n",
        "  # depois, separamos os dados em janelas, para a previsão\n",
        "  X,y = separar_em_janelas(dataset=np_valores,\n",
        "                           window_size=window_size)\n",
        "\n",
        "  # debug\n",
        "  # print(f'# debug dimensões de X = {X.shape}')\n",
        "  # print(f'# debug dimensões de y = {y.shape}')\n",
        "\n",
        "  # realizamos a predição de todos os dados com base no modelo\n",
        "  y_pred = model.predict(X)\n",
        "\n",
        "  # debug\n",
        "  # print(f'# debug dimensões de y_pred = {y_pred.shape}')\n",
        "\n",
        "  # depois, revertemos a normalização aplicada aos dados previstos,\n",
        "  # para obtermos os dados previstos na escala original dos dados.\n",
        "  y_pred = y_pred.reshape(-1,1)\n",
        "  y_pred_denorm = scaler.inverse_transform(y_pred)\n",
        "  y_pred_denorm = y_pred_denorm.squeeze()\n",
        "\n",
        "  # debug\n",
        "  # print(f'# debug dimensões de y_pred_denorm = {y_pred_denorm.shape}')\n",
        "\n",
        "  # criamos uma cópia do dataframe recebido (para preservar o índice e outras\n",
        "  # propriedades) e ajustamos os valores para os valores previstos\n",
        "  df_resultado = df_ibcbr.copy()\n",
        "  df_resultado[nome_coluna_dados][:window_size] = None\n",
        "  df_resultado[nome_coluna_dados][window_size:] = y_pred_denorm\n",
        "\n",
        "  # debug\n",
        "  # print(f'# debug dimensões de df_resultado = {df_resultado.shape}')\n",
        "\n",
        "  # debug\n",
        "  # display(dataframe)\n",
        "  # display(df_resultado)\n",
        "\n",
        "  # teste do processo (janelas e normalização) sem a predição\n",
        "  teste = False\n",
        "  if teste:\n",
        "    # o código abaixo simplesmente desfaz a normalização\n",
        "    # e retorna os dados desnormalizados, para testarmos o fluxo\n",
        "    # sem os dados previstos pelo modelo\n",
        "    y = y.reshape(-1,1)\n",
        "    y = scaler.inverse_transform(y)\n",
        "    y = y.squeeze()\n",
        "    df_resultado[nome_coluna_dados][window_size:] = y\n",
        "\n",
        "  return df_resultado"
      ],
      "metadata": {
        "id": "G82N-d2cnah4"
      },
      "execution_count": 23,
      "outputs": []
    },
    {
      "cell_type": "code",
      "source": [
        "def _draw_scatter_plot(axes: object, \n",
        "               x: object,\n",
        "               y: object,\n",
        "               title: str,\n",
        "               x_label: str,\n",
        "               y_label: str):\n",
        "    axes.set_title(title)\n",
        "    axes.set_xlabel(x_label)\n",
        "    axes.set_ylabel(y_label)\n",
        "    axes.scatter(x, y)\n",
        "\n",
        "def plot_predictions_scatter(y_train: np.array,\n",
        "                     y_train_predicted: np.array,\n",
        "                     y_val: np.array,\n",
        "                     y_val_predicted: np.array,\n",
        "                     y_test: np.array,\n",
        "                     y_test_predicted: np.array):\n",
        "    \"\"\"\n",
        "    Desenha três gráficos de dispersão, com os dados resultantes da previsão\n",
        "    realizada com os dados de treinamento e com os dados de teste.\n",
        "    \"\"\"\n",
        "    n_rows, n_columns = 3, 1\n",
        "    fig, axes = plt.subplots(n_rows, n_columns)\n",
        "\n",
        "    scale = 2\n",
        "    fig.set_figheight(3 * scale * n_rows)\n",
        "    fig.set_figwidth(4 * scale)\n",
        "    \n",
        "    _draw_scatter_plot(axes[0], \n",
        "                       y_train, \n",
        "                       y_train_predicted.ravel(), \n",
        "                       'y_train versus y_train_predicted', \n",
        "                       'y_train', \n",
        "                       'y_train_predicted')\n",
        "    \n",
        "    _draw_scatter_plot(axes[1],\n",
        "                       y_val,\n",
        "                       y_val_predicted.ravel(), \n",
        "                       'y_val versus y_val_predicted', \n",
        "                       'y_val', \n",
        "                       'y_val_predicted')\n",
        "    \n",
        "    _draw_scatter_plot(axes[2], \n",
        "                       y_test, \n",
        "                       y_test_predicted.ravel(), \n",
        "                       'y_test versus y_test_predicted', \n",
        "                       'y_test', \n",
        "                       'y_test_predicted')"
      ],
      "metadata": {
        "id": "BPf7NuHca-lL"
      },
      "execution_count": 24,
      "outputs": []
    },
    {
      "cell_type": "markdown",
      "source": [
        "#### Funções para calcular e exibir métricas de erro"
      ],
      "metadata": {
        "id": "mx4hyNZiO51l"
      }
    },
    {
      "cell_type": "code",
      "source": [
        "# funções para cálculo de métricas de erro.\n",
        "# criamos uma classe somente para não poluir o namespace padrão,\n",
        "# dado que usamos nomes curtos para as funções.\n",
        "class error_metrics:\n",
        "  def rmse(real:np.array, predicted:np.array) -> float:\n",
        "    return math.sqrt(mean_squared_error(real, predicted))\n",
        "\n",
        "  def mse(real:np.array, predicted:np.array) -> float:\n",
        "    return mean_squared_error(real, predicted)\n",
        "\n",
        "  def mape(real:np.array, predicted:np.array) -> float:\n",
        "    return mean_absolute_percentage_error(real, predicted)\n",
        "\n",
        "  def r2(real:np.array, predicted:np.array) -> float:\n",
        "    return r2_score(real, predicted)\n",
        "\n",
        "  def r2_ajustado(real:np.array, predicted:np.array, n_features: int) -> float:\n",
        "    if n_features <= 0:\n",
        "      raise ValueError(\"n_features must be greater or equal to 1\")\n",
        "\n",
        "    r2_val = error_metrics.r2(real, predicted)\n",
        "    n_samples = len(real)\n",
        "    assert len(real) == len(predicted)\n",
        "    assert n_samples > 0\n",
        "\n",
        "    r2_val_ajustado = (\n",
        "        1 - (1 - r2_val) * (n_samples - 1) / (n_samples - n_features - 1)\n",
        "    )\n",
        "\n",
        "    return r2_val_ajustado"
      ],
      "metadata": {
        "id": "5kYG52K-5ZXk"
      },
      "execution_count": 25,
      "outputs": []
    },
    {
      "cell_type": "code",
      "source": [
        "def quantidade_casas_decimais(number:float) -> int:\n",
        "    return math.ceil(math.log10(abs(number)))\n",
        "\n",
        "def calcular_metricas_erro(y_train: np.array, \n",
        "                       y_train_predicted: np.array,\n",
        "                       y_val: np.array,\n",
        "                       y_val_predicted: np.array,\n",
        "                       y_test: np.array,\n",
        "                       y_test_predicted: np.array,\n",
        "                       n_features:int = None) -> Dict[str,float]:\n",
        "  if (not n_features is None) and (n_features > 0):\n",
        "    b_r2_ajustado = True\n",
        "  else:\n",
        "    b_r2_ajustado = False\n",
        "\n",
        "  # dicionário para coletar os valores calculados\n",
        "  resultados = {}\n",
        "\n",
        "  resultados['mse_train'] = error_metrics.mse(y_train, y_train_predicted)\n",
        "  resultados['mse_val']   = error_metrics.mse(y_val, y_val_predicted)\n",
        "  resultados['mse_test']  = error_metrics.mse(y_test, y_test_predicted)\n",
        "\n",
        "  resultados['rmse_train'] = error_metrics.rmse(y_train, y_train_predicted)\n",
        "  resultados['rmse_val']   = error_metrics.rmse(y_val, y_val_predicted)\n",
        "  resultados['rmse_test']  = error_metrics.rmse(y_test, y_test_predicted)\n",
        "\n",
        "  resultados['mape_train'] = error_metrics.mape(y_train, y_train_predicted)\n",
        "  resultados['mape_val']   = error_metrics.mape(y_val, y_val_predicted)\n",
        "  resultados['mape_test']  = error_metrics.mape(y_test, y_test_predicted)\n",
        "\n",
        "  resultados['r2_train'] = error_metrics.r2(y_train, y_train_predicted)\n",
        "  resultados['r2_val']   = error_metrics.r2(y_val, y_val_predicted)\n",
        "  resultados['r2_test']  = error_metrics.r2(y_test, y_test_predicted)\n",
        "\n",
        "  if b_r2_ajustado:\n",
        "    resultados['r2_ajustado_train'] = error_metrics.r2_ajustado(y_train, \n",
        "                                                                y_train_predicted,\n",
        "                                                                n_features)\n",
        "    resultados['r2_ajustado_val']   = error_metrics.r2_ajustado(y_val,\n",
        "                                                                y_val_predicted,\n",
        "                                                                n_features)\n",
        "    resultados['r2_ajustado_test']  = error_metrics.r2_ajustado(y_test,\n",
        "                                                                y_test_predicted,\n",
        "                                                                n_features)\n",
        "  \n",
        "  return resultados\n",
        "\n",
        "# imprime as métricas de erro que escolhemos\n",
        "def imprimir_metricas_erro(metricas_calculadas:Dict[str,float]) -> None:\n",
        "  # alinhamento dos dados\n",
        "  num_printed_result_chars = (\n",
        "      max([quantidade_casas_decimais(x) for x in metricas_calculadas.values()])\n",
        "      + 1 # o caractere '.'\n",
        "      + 2 # precisão do ponto flutuante\n",
        "      + 1 # o caractere '%'\n",
        "  )\n",
        "\n",
        "  max_label_size = max([len(i) for i in ['Train','Val','Test']])\n",
        "  size_col_metrica = 19\n",
        "  size_col = max(num_printed_result_chars, max_label_size)\n",
        "\n",
        "  # criamos uma closure só para organizar o código    \n",
        "  def print_row(row_label:str, v1:float, v2:float, v3:float) -> None:\n",
        "    s_value_unit = ''\n",
        "\n",
        "    if str.lower(row_label) in ('mape'):\n",
        "      s_value_unit = '%'\n",
        "\n",
        "    print(f'| {row_label:>{size_col_metrica}} ' +\n",
        "          f'| {v1:{size_col-1}.2f}{s_value_unit:1} ' +\n",
        "          f'| {v2:{size_col-1}.2f}{s_value_unit:1} ' +\n",
        "          f'| {v3:{size_col-1}.2f}{s_value_unit:1} |')\n",
        "\n",
        "  # cabeçalho da tabela\n",
        "  print(f'| {\"Métrica de Erro\":>{size_col_metrica}} ' +\n",
        "        f'| {\"Train\":^{size_col}} ' +\n",
        "        f'| {\"Val\":^{size_col}} ' +\n",
        "        f'| {\"Test\":^{size_col}} |')\n",
        "  \n",
        "  # resultados\n",
        "  print_row('MSE',\n",
        "            metricas_calculadas['mse_train'],\n",
        "            metricas_calculadas['mse_val'],\n",
        "            metricas_calculadas['mse_test'])\n",
        "\n",
        "  print_row('RMSE',\n",
        "            metricas_calculadas['rmse_train'],\n",
        "            metricas_calculadas['rmse_val'],\n",
        "            metricas_calculadas['rmse_test'])\n",
        "\n",
        "  print_row('MAPE',\n",
        "            metricas_calculadas['mape_train'],\n",
        "            metricas_calculadas['mape_val'],\n",
        "            metricas_calculadas['mape_test'])\n",
        "\n",
        "  print_row('R2 Score',\n",
        "            metricas_calculadas['r2_train'],\n",
        "            metricas_calculadas['r2_val'],\n",
        "            metricas_calculadas['r2_test'])\n",
        "\n",
        "  if ({'r2_ajustado_train', \n",
        "       'r2_ajustado_val', \n",
        "       'r2_ajustado_test'}.issubset( set(metricas_calculadas.keys()))):\n",
        "    print_row('R2 Score (ajustado)',\n",
        "              metricas_calculadas['r2_ajustado_train'],\n",
        "              metricas_calculadas['r2_ajustado_val'],\n",
        "              metricas_calculadas['r2_ajustado_test'])\n"
      ],
      "metadata": {
        "id": "bO-Pzz2YbC-b"
      },
      "execution_count": 26,
      "outputs": []
    },
    {
      "cell_type": "markdown",
      "source": [
        "#### Funções para desenhar curvas"
      ],
      "metadata": {
        "id": "YBciuvWrPfxo"
      }
    },
    {
      "cell_type": "code",
      "source": [
        "def desenhar_serie_com_previsao(dataframe:pd.DataFrame, \n",
        "                                model:tf.keras.models.Sequential,\n",
        "                                scaler:object,\n",
        "                                window_size:int=24) -> None:\n",
        "  fig = plt.figure(figsize=(16,5))\n",
        "\n",
        "  plt.plot(dataframe['valor'], 'b', label=f'real')\n",
        "\n",
        "  dataframe_previsoes = obter_previsoes(dataframe=dataframe,\n",
        "                                        model=model,\n",
        "                                        scaler=scaler,\n",
        "                                        window_size=window_size)\n",
        "\n",
        "  # ignoramos os primeiros 'window_size', pois eles foram usados para\n",
        "  # realizar as previsões\n",
        "  plt.plot(dataframe_previsoes['valor'][window_size:], 'r--', label=f'previsto')\n",
        "  \n",
        "  plt.legend(loc='best')\n",
        "  plt.ylabel('unidades IBC-BR')\n",
        "  plt.xlabel('Tempo')\n",
        "\n",
        "  # ajustamos o eixo x da figura para exibir ticks a cada ano\n",
        "  configurar_ticks_anuais(fig.axes[0])\n",
        "\n",
        "  plt.show()"
      ],
      "metadata": {
        "id": "CyFoCCW8iQol"
      },
      "execution_count": 27,
      "outputs": []
    },
    {
      "cell_type": "code",
      "source": [
        "def configurar_ticks_anuais(ax):\n",
        "  '''\n",
        "  Procedimento auxiliar para configurar a exibição do eixo x\n",
        "  de um gráfico do matplotlib para dados de séries temporais\n",
        "  para os quais só sejam marcados os valores ano a ano.\n",
        "  '''\n",
        "  ax.xaxis.set_major_locator(matplotlib.dates.YearLocator(base=1))\n",
        "  ax.xaxis.set_major_formatter(matplotlib.dates.DateFormatter(\"%Y\"))"
      ],
      "metadata": {
        "id": "mk60_I2uPz8-"
      },
      "execution_count": 28,
      "outputs": []
    },
    {
      "cell_type": "code",
      "source": [
        "def desenhar_serie_com_anomalias(df:pd.DataFrame,\n",
        "                                 indice_anomalias:pd.core.indexes.datetimes.DatetimeIndex,\n",
        "                                 nome_serie:str='IBC-BR') -> None:\n",
        "  fig = plt.figure(figsize=(16,5))\n",
        "\n",
        "  plt.plot(df['valor'], 'b', label=f'Índice {nome_serie}')\n",
        "\n",
        "  for e in indice_anomalias:\n",
        "    plt.axvline(x=e, color='r', linestyle=':')\n",
        "\n",
        "  plt.legend(loc='best')\n",
        "  plt.ylabel(nome_serie)\n",
        "  plt.xlabel('Tempo')\n",
        "\n",
        "  # ajustamos o eixo x da figura para exibir ticks a cada ano\n",
        "  configurar_ticks_anuais(fig.axes[0])\n",
        "\n",
        "  plt.show()"
      ],
      "metadata": {
        "id": "GRfboQgChFwp"
      },
      "execution_count": 29,
      "outputs": []
    },
    {
      "cell_type": "markdown",
      "source": [
        "### Configurações do processo"
      ],
      "metadata": {
        "id": "jPrFN-X8AtY2"
      }
    },
    {
      "cell_type": "markdown",
      "source": [
        "#### Configuração das sementes dos geradores de números aleatórios"
      ],
      "metadata": {
        "id": "8Rn8vwY29G1E"
      }
    },
    {
      "cell_type": "markdown",
      "source": [
        "Fixamos as sementes dos geradores de números aleatórios, para que o processo seja previsível a cada execução."
      ],
      "metadata": {
        "id": "bpeXMipfd9gn"
      }
    },
    {
      "cell_type": "code",
      "source": [
        "# esse passo é essencial para a reproducibilidade do experimento\n",
        "random.seed(17)\n",
        "np.random.seed = 17"
      ],
      "metadata": {
        "id": "NmFIL4q0dGw_"
      },
      "execution_count": 30,
      "outputs": []
    },
    {
      "cell_type": "markdown",
      "source": [
        "#### Configuração dos parâmetros de treinamento"
      ],
      "metadata": {
        "id": "uqC6BTEE9TiF"
      }
    },
    {
      "cell_type": "code",
      "source": [
        "SLIDING_WINDOW_SIZE=1\n",
        "TRAIN_BATCH_SIZE=50\n",
        "TRAIN_EPOCHS=800\n",
        "TRAIN_VAL_PERCENTUAL=0.15\n",
        "TRAIN_TEST_PERCENTUAL=0.15"
      ],
      "metadata": {
        "id": "HkTxuu4iJLSG"
      },
      "execution_count": 31,
      "outputs": []
    },
    {
      "cell_type": "markdown",
      "source": [
        "### Normalização e separação dos dados nos conjuntos de treinamento, validação e teste"
      ],
      "metadata": {
        "id": "Wql0h5OrAgDz"
      }
    },
    {
      "cell_type": "markdown",
      "source": [
        "#### Classes para a normalização dos dados"
      ],
      "metadata": {
        "id": "c_M73oCd-Zsw"
      }
    },
    {
      "cell_type": "code",
      "source": [
        "# Criamos um scaler personalizado, pois o scaler MinMax\n",
        "# não funcionou a contento com o LSTM\n",
        "\n",
        "# nota: implementamos o mesmo protocolo do MinMaxScaler\n",
        "#       para os objetos serem intercambiáveis.\n",
        "\n",
        "class StandardScaler:\n",
        "  _std:float = float('nan') # standard deviation of the data\n",
        "  _mean:float = float('nan') # mean of the data\n",
        "  _dbg:bool = False # debug flag\n",
        "\n",
        "  def __init__(self, debug:bool = False):\n",
        "    self._dbg = debug\n",
        "\n",
        "  def _check_state(self:object):\n",
        "    if ((self._std is None) or \n",
        "        (math.isnan(self._std)) or\n",
        "        (self._mean is None) or\n",
        "        (math.isnan(self._mean))):\n",
        "      raise Exception(\"Invalid state: the object was not fit to the data.\")\n",
        "  \n",
        "  def _check_args(self:object, data:np.array):\n",
        "    assert not self is None\n",
        "    if data is None:\n",
        "      raise ValueError(\"The data reference cannot be 'None'\")\n",
        "    return\n",
        "\n",
        "  def fit(self:object, data:np.array):\n",
        "    self._check_args(data)\n",
        "    \n",
        "    self._mean = np.mean(data[:,0])\n",
        "    self._std = np.std(data[:,0])\n",
        "\n",
        "    if self._std == 0.0:\n",
        "      raise Exception('Invalid state: the standard deviation of the data cannot be zero.')\n",
        "\n",
        "    if self._dbg:\n",
        "      print(f'StandardScaler._mean = {self._mean}')\n",
        "      print(f'StandardScaler._std = {self._std}')\n",
        "  \n",
        "  def transform(self:object, data:np.array):\n",
        "    self._check_state()\n",
        "    self._check_args(data)\n",
        "\n",
        "    # normalizamos os dados subtraindo a média dos dados e depois\n",
        "    # dividindo pelo desvio padrão\n",
        "    norm_data = data.copy()\n",
        "    norm_data = norm_data - self._mean\n",
        "    norm_data = norm_data / self._std\n",
        "\n",
        "    return norm_data\n",
        "\n",
        "  def fit_transform(self:object, data:np.array):\n",
        "    self._check_args(data)\n",
        "    \n",
        "    self.fit(data)\n",
        "    return self.transform(data)\n",
        "\n",
        "  def inverse_transform(self:object, data:np.array):\n",
        "    self._check_state()\n",
        "    self._check_args(data)\n",
        "\n",
        "    denorm_data = data.copy()\n",
        "    denorm_data = denorm_data * self._std\n",
        "    denorm_data = denorm_data + self._mean\n",
        "    \n",
        "    return denorm_data"
      ],
      "metadata": {
        "id": "BJogdLu0Russ"
      },
      "execution_count": 32,
      "outputs": []
    },
    {
      "cell_type": "code",
      "source": [
        "# a classe DummyScaler não realiza transformação nos dados\n",
        "# o propósito dela é apenas implementar o protocolo dos\n",
        "# demais scalers e servir de teste para o cenário de não\n",
        "# normalizarmos os dados.\n",
        "\n",
        "class DummyScaler:\n",
        "  def fit(self:object, data:np.array):\n",
        "    pass\n",
        "  \n",
        "  def transform(self:object, data:np.array):\n",
        "    # retornamos uma cópia dos dados, pois\n",
        "    # é esperado que os dados originais não\n",
        "    # sejam modificados.\n",
        "    return data.copy()\n",
        "  \n",
        "  def fit_transform(self:object, data:np.array):\n",
        "    self.fit(data)\n",
        "    return self.transform(data)\n",
        " \n",
        "  def inverse_transform(self:object, data:np.array):\n",
        "    # retornamos uma cópia dos dados, pois\n",
        "    # é esperado que os dados originais não\n",
        "    # sejam modificados.\n",
        "    return data.copy()"
      ],
      "metadata": {
        "id": "q-W76PHfFk9_"
      },
      "execution_count": 33,
      "outputs": []
    },
    {
      "cell_type": "markdown",
      "source": [
        "#### Separação dos dados em treino, validação e teste"
      ],
      "metadata": {
        "id": "WPAEwDuA-eGg"
      }
    },
    {
      "cell_type": "markdown",
      "source": [
        "Separamos os valores dos dados e os índices em dois objetos diferentes, pois não usaremos o índice temporal durante o treinamento."
      ],
      "metadata": {
        "id": "u6LqSZqfHg2p"
      }
    },
    {
      "cell_type": "code",
      "source": [
        "np_valores = df_ibcbr['valor'].to_numpy()\n",
        "np_indice = df_ibcbr.index.to_numpy()"
      ],
      "metadata": {
        "id": "7btVkPMcHmk9"
      },
      "execution_count": 34,
      "outputs": []
    },
    {
      "cell_type": "code",
      "source": [
        "print(f'np_valores.shape = {np_valores.shape}')\n",
        "print(f'np_indice.shape = {np_indice.shape}')"
      ],
      "metadata": {
        "colab": {
          "base_uri": "https://localhost:8080/"
        },
        "id": "jiwhXn6JK1gJ",
        "outputId": "625a7cca-8836-4ab0-a134-e918a2db847c"
      },
      "execution_count": 35,
      "outputs": [
        {
          "output_type": "stream",
          "name": "stdout",
          "text": [
            "np_valores.shape = (236,)\n",
            "np_indice.shape = (236,)\n"
          ]
        }
      ]
    },
    {
      "cell_type": "markdown",
      "source": [
        "A seguir, normalizamos os valores para realizar o processamento pelo modelo.\n",
        "\n",
        "É importante guardarmos o processo de normalização dos dados, para depois poder reconstruir os dados previstos."
      ],
      "metadata": {
        "id": "s0Y6k2WOGijw"
      }
    },
    {
      "cell_type": "code",
      "source": [
        "# aqui adicionamos uma coluna extra ao array de np_valores\n",
        "# para poder usar o scaler depois e normalizar os dados.\n",
        "np_valores_col_extra = np_valores.reshape(-1,1)\n",
        "np_valores_col_extra.shape"
      ],
      "metadata": {
        "colab": {
          "base_uri": "https://localhost:8080/"
        },
        "id": "Sm7rbqZiLwoc",
        "outputId": "9541b80c-e629-4871-d53d-3752a79b6567"
      },
      "execution_count": 36,
      "outputs": [
        {
          "output_type": "execute_result",
          "data": {
            "text/plain": [
              "(236, 1)"
            ]
          },
          "metadata": {},
          "execution_count": 36
        }
      ]
    },
    {
      "cell_type": "code",
      "source": [
        "# criamos o normalizador (scaler) e o guardamos na variável 'scaler'\n",
        "#scaler = MinMaxScaler()\n",
        "scaler = StandardScaler()\n",
        "#scaler = DummyScaler()\n",
        "\n",
        "# treinamos o normalizador e já normalizamos os dados, os armazenado\n",
        "# na variável 'np_valores_col_extra'\n",
        "np_valores_col_extra = scaler.fit_transform(np_valores_col_extra)\n",
        "print(f'dimensões do np_valores_col_extra = {np_valores_col_extra.shape}')\n",
        "\n",
        "# depois jogamos fora a coluna extra que criamos só para poder utilizar\n",
        "# o scaler\n",
        "np_valores_norm = np_valores_col_extra.squeeze()\n",
        "print(f'dimensões do np_valores_norm = {np_valores_norm.shape}')"
      ],
      "metadata": {
        "id": "blKspGxDGmJF",
        "colab": {
          "base_uri": "https://localhost:8080/"
        },
        "outputId": "027f0e76-47e9-422b-9a32-bc42f0c73b90"
      },
      "execution_count": 37,
      "outputs": [
        {
          "output_type": "stream",
          "name": "stdout",
          "text": [
            "dimensões do np_valores_col_extra = (236, 1)\n",
            "dimensões do np_valores_norm = (236,)\n"
          ]
        }
      ]
    },
    {
      "cell_type": "markdown",
      "source": [
        "Nesse ponto, temos os dados normalizados e prontos para a divisão nos conjuntos\n",
        "de treino, validação e teste."
      ],
      "metadata": {
        "id": "6GhS-f2T6YwX"
      }
    },
    {
      "cell_type": "code",
      "source": [
        "X_train, y_train, X_val, y_val, X_test, y_test = montar_treino_teste_validacao_por_janela(np_valores_norm,\n",
        "                                                                                          window_size=SLIDING_WINDOW_SIZE,\n",
        "                                                                                          val_size=TRAIN_VAL_PERCENTUAL,\n",
        "                                                                                          test_size=TRAIN_TEST_PERCENTUAL)"
      ],
      "metadata": {
        "id": "jcZM5fwgfP-V"
      },
      "execution_count": 38,
      "outputs": []
    },
    {
      "cell_type": "code",
      "source": [
        "imprimir_propriedades(X_train, y_train, X_val, y_val, X_test, y_test)"
      ],
      "metadata": {
        "colab": {
          "base_uri": "https://localhost:8080/"
        },
        "id": "EFjH1Ho_8nnh",
        "outputId": "fa309228-b2ac-4ab1-fea1-4122c3ae3d22"
      },
      "execution_count": 39,
      "outputs": [
        {
          "output_type": "stream",
          "name": "stdout",
          "text": [
            "Tamanho de X_train = 163\n",
            "   Tamanho de um elemento de X_train = 1\n",
            "Tamanho de y_train = 163\n",
            "   Tamanho de um elemento de y_train = 1\n",
            "Tamanho de X_val = 36\n",
            "   Tamanho de um elemento de X_val = 1\n",
            "Tamanho de y_val = 36\n",
            "   Tamanho de um elemento de y_val = 1\n",
            "Tamanho de X_test = 36\n",
            "   Tamanho de um elemento de X_test = 1\n",
            "Tamanho de y_test = 36\n",
            "   Tamanho de um elemento de y_test = 1\n"
          ]
        }
      ]
    },
    {
      "cell_type": "markdown",
      "source": [
        "Os dados foram embaralhados durante a separação dos conjuntos, mas respeitando a coerencia temporal dentro de cada janela. Isso é muito importante para o processo."
      ],
      "metadata": {
        "id": "EbF3n8KS-1Yh"
      }
    },
    {
      "cell_type": "markdown",
      "source": [
        "### Modelo LSTM"
      ],
      "metadata": {
        "id": "Zk4maopEgq2T"
      }
    },
    {
      "cell_type": "markdown",
      "source": [
        "Nossa primeira abordagem será treinar uma rede neural LSTM para fazer predição da série temporal IBC-BR original. Primeiro, para identificar os melhores hiper-parâmetros do modelo, treinaremos uma rede LSTM com todos os dados da série, divididos em janelas de 24 meses."
      ],
      "metadata": {
        "id": "iY-4vd-d1zTa"
      }
    },
    {
      "cell_type": "markdown",
      "source": [
        "#### Criação do modelo"
      ],
      "metadata": {
        "id": "cEdK_YRm8DeH"
      }
    },
    {
      "cell_type": "code",
      "source": [
        "lstm_model = create_model(optimizer=\"adam\",\n",
        "                          input_shape=(SLIDING_WINDOW_SIZE, 1),\n",
        "                          lstm_layer_size=120,\n",
        "                          dense_layer_size=12,\n",
        "                          dropout_percentual=0.2,\n",
        "                          add_extra_lstm_layer=False,\n",
        "                          add_extra_dense_layer=False)"
      ],
      "metadata": {
        "colab": {
          "base_uri": "https://localhost:8080/"
        },
        "id": "n0b1LisQoG5O",
        "outputId": "ceac7b33-7b04-4d08-8326-39c8ad6ce259"
      },
      "execution_count": 40,
      "outputs": [
        {
          "output_type": "stream",
          "name": "stdout",
          "text": [
            "Model: \"sequential\"\n",
            "_________________________________________________________________\n",
            " Layer (type)                Output Shape              Param #   \n",
            "=================================================================\n",
            " lstm (LSTM)                 (None, 120)               58560     \n",
            "                                                                 \n",
            " dropout (Dropout)           (None, 120)               0         \n",
            "                                                                 \n",
            " dense (Dense)               (None, 1)                 121       \n",
            "                                                                 \n",
            "=================================================================\n",
            "Total params: 58,681\n",
            "Trainable params: 58,681\n",
            "Non-trainable params: 0\n",
            "_________________________________________________________________\n"
          ]
        }
      ]
    },
    {
      "cell_type": "markdown",
      "source": [
        "#### Treinamento do modelo"
      ],
      "metadata": {
        "id": "F4oyyQj_8HOC"
      }
    },
    {
      "cell_type": "code",
      "source": [
        "history = train_model(model=lstm_model,\n",
        "                      X_train=X_train,\n",
        "                      y_train=y_train,\n",
        "                      X_val=X_val,\n",
        "                      y_val=y_val,\n",
        "                      X_test=X_test,\n",
        "                      y_test=y_test,\n",
        "                      batch_size=TRAIN_BATCH_SIZE,\n",
        "                      n_epochs=TRAIN_EPOCHS)"
      ],
      "metadata": {
        "colab": {
          "base_uri": "https://localhost:8080/"
        },
        "id": "pP3nvZnYoheR",
        "outputId": "ccd03857-f0a1-490c-f167-8aa5ebd8b847"
      },
      "execution_count": 41,
      "outputs": [
        {
          "output_type": "stream",
          "name": "stdout",
          "text": [
            "Epoch 1/800\n",
            "4/4 [==============================] - 10s 534ms/step - loss: 1.0280 - val_loss: 0.7572 - lr: 0.0010\n",
            "Epoch 2/800\n",
            "4/4 [==============================] - 0s 86ms/step - loss: 0.9874 - val_loss: 0.7254 - lr: 0.0010\n",
            "Epoch 3/800\n",
            "4/4 [==============================] - 0s 34ms/step - loss: 0.9497 - val_loss: 0.6944 - lr: 0.0010\n",
            "Epoch 4/800\n",
            "4/4 [==============================] - 0s 46ms/step - loss: 0.9109 - val_loss: 0.6640 - lr: 0.0010\n",
            "Epoch 5/800\n",
            "4/4 [==============================] - 0s 35ms/step - loss: 0.8693 - val_loss: 0.6341 - lr: 0.0010\n",
            "Epoch 6/800\n",
            "4/4 [==============================] - 0s 39ms/step - loss: 0.8323 - val_loss: 0.6045 - lr: 0.0010\n",
            "Epoch 7/800\n",
            "4/4 [==============================] - 0s 29ms/step - loss: 0.7964 - val_loss: 0.5752 - lr: 0.0010\n",
            "Epoch 8/800\n",
            "4/4 [==============================] - 0s 62ms/step - loss: 0.7582 - val_loss: 0.5462 - lr: 0.0010\n",
            "Epoch 9/800\n",
            "4/4 [==============================] - 0s 60ms/step - loss: 0.7242 - val_loss: 0.5173 - lr: 0.0010\n",
            "Epoch 10/800\n",
            "4/4 [==============================] - 0s 33ms/step - loss: 0.6872 - val_loss: 0.4884 - lr: 0.0010\n",
            "Epoch 11/800\n",
            "4/4 [==============================] - 0s 40ms/step - loss: 0.6473 - val_loss: 0.4596 - lr: 0.0010\n",
            "Epoch 12/800\n",
            "4/4 [==============================] - 0s 64ms/step - loss: 0.6139 - val_loss: 0.4310 - lr: 0.0010\n",
            "Epoch 13/800\n",
            "4/4 [==============================] - 0s 40ms/step - loss: 0.5862 - val_loss: 0.4028 - lr: 0.0010\n",
            "Epoch 14/800\n",
            "4/4 [==============================] - 0s 38ms/step - loss: 0.5385 - val_loss: 0.3750 - lr: 0.0010\n",
            "Epoch 15/800\n",
            "4/4 [==============================] - 0s 44ms/step - loss: 0.4942 - val_loss: 0.3476 - lr: 0.0010\n",
            "Epoch 16/800\n",
            "4/4 [==============================] - 0s 45ms/step - loss: 0.4737 - val_loss: 0.3209 - lr: 0.0010\n",
            "Epoch 17/800\n",
            "4/4 [==============================] - 0s 52ms/step - loss: 0.4318 - val_loss: 0.2951 - lr: 0.0010\n",
            "Epoch 18/800\n",
            "4/4 [==============================] - 0s 41ms/step - loss: 0.4002 - val_loss: 0.2704 - lr: 0.0010\n",
            "Epoch 19/800\n",
            "4/4 [==============================] - 0s 54ms/step - loss: 0.3718 - val_loss: 0.2470 - lr: 0.0010\n",
            "Epoch 20/800\n",
            "4/4 [==============================] - 0s 39ms/step - loss: 0.3254 - val_loss: 0.2251 - lr: 0.0010\n",
            "Epoch 21/800\n",
            "4/4 [==============================] - 0s 50ms/step - loss: 0.2979 - val_loss: 0.2049 - lr: 0.0010\n",
            "Epoch 22/800\n",
            "4/4 [==============================] - 0s 43ms/step - loss: 0.2698 - val_loss: 0.1865 - lr: 0.0010\n",
            "Epoch 23/800\n",
            "4/4 [==============================] - 0s 32ms/step - loss: 0.2497 - val_loss: 0.1702 - lr: 0.0010\n",
            "Epoch 24/800\n",
            "4/4 [==============================] - 0s 45ms/step - loss: 0.2307 - val_loss: 0.1560 - lr: 0.0010\n",
            "Epoch 25/800\n",
            "4/4 [==============================] - 0s 31ms/step - loss: 0.2033 - val_loss: 0.1439 - lr: 0.0010\n",
            "Epoch 26/800\n",
            "4/4 [==============================] - 0s 37ms/step - loss: 0.1880 - val_loss: 0.1341 - lr: 0.0010\n",
            "Epoch 27/800\n",
            "4/4 [==============================] - 0s 27ms/step - loss: 0.1762 - val_loss: 0.1263 - lr: 0.0010\n",
            "Epoch 28/800\n",
            "4/4 [==============================] - 0s 32ms/step - loss: 0.1579 - val_loss: 0.1203 - lr: 0.0010\n",
            "Epoch 29/800\n",
            "4/4 [==============================] - 0s 43ms/step - loss: 0.1526 - val_loss: 0.1161 - lr: 0.0010\n",
            "Epoch 30/800\n",
            "4/4 [==============================] - 0s 62ms/step - loss: 0.1395 - val_loss: 0.1136 - lr: 0.0010\n",
            "Epoch 31/800\n",
            "4/4 [==============================] - 0s 31ms/step - loss: 0.1332 - val_loss: 0.1122 - lr: 0.0010\n",
            "Epoch 32/800\n",
            "4/4 [==============================] - 0s 43ms/step - loss: 0.1309 - val_loss: 0.1117 - lr: 0.0010\n",
            "Epoch 33/800\n",
            "4/4 [==============================] - 0s 34ms/step - loss: 0.1292 - val_loss: 0.1117 - lr: 0.0010\n",
            "Epoch 34/800\n",
            "4/4 [==============================] - 0s 32ms/step - loss: 0.1247 - val_loss: 0.1123 - lr: 0.0010\n",
            "Epoch 35/800\n",
            "4/4 [==============================] - 0s 39ms/step - loss: 0.1274 - val_loss: 0.1132 - lr: 0.0010\n",
            "Epoch 36/800\n",
            "4/4 [==============================] - 0s 39ms/step - loss: 0.1261 - val_loss: 0.1142 - lr: 0.0010\n",
            "Epoch 37/800\n",
            "1/4 [======>.......................] - ETA: 0s - loss: 0.1375\n",
            "Epoch 37: ReduceLROnPlateau reducing learning rate to 0.0005000000237487257.\n",
            "4/4 [==============================] - 0s 38ms/step - loss: 0.1235 - val_loss: 0.1152 - lr: 0.0010\n",
            "Epoch 38/800\n",
            "4/4 [==============================] - 0s 38ms/step - loss: 0.1227 - val_loss: 0.1156 - lr: 5.0000e-04\n",
            "Epoch 39/800\n",
            "4/4 [==============================] - 0s 47ms/step - loss: 0.1214 - val_loss: 0.1158 - lr: 5.0000e-04\n",
            "Epoch 40/800\n",
            "4/4 [==============================] - 0s 30ms/step - loss: 0.1242 - val_loss: 0.1162 - lr: 5.0000e-04\n",
            "Epoch 41/800\n",
            "4/4 [==============================] - 0s 38ms/step - loss: 0.1190 - val_loss: 0.1165 - lr: 5.0000e-04\n",
            "Epoch 42/800\n",
            "1/4 [======>.......................] - ETA: 0s - loss: 0.1297\n",
            "Epoch 42: ReduceLROnPlateau reducing learning rate to 0.0002500000118743628.\n",
            "4/4 [==============================] - 0s 35ms/step - loss: 0.1280 - val_loss: 0.1169 - lr: 5.0000e-04\n",
            "Epoch 43/800\n",
            "4/4 [==============================] - 0s 41ms/step - loss: 0.1210 - val_loss: 0.1171 - lr: 2.5000e-04\n",
            "Epoch 44/800\n",
            "4/4 [==============================] - 0s 57ms/step - loss: 0.1236 - val_loss: 0.1171 - lr: 2.5000e-04\n",
            "Epoch 45/800\n",
            "4/4 [==============================] - 0s 38ms/step - loss: 0.1266 - val_loss: 0.1171 - lr: 2.5000e-04\n",
            "Epoch 46/800\n",
            "4/4 [==============================] - 0s 66ms/step - loss: 0.1203 - val_loss: 0.1171 - lr: 2.5000e-04\n",
            "Epoch 47/800\n",
            "1/4 [======>.......................] - ETA: 0s - loss: 0.1325\n",
            "Epoch 47: ReduceLROnPlateau reducing learning rate to 0.0001250000059371814.\n",
            "4/4 [==============================] - 0s 35ms/step - loss: 0.1222 - val_loss: 0.1172 - lr: 2.5000e-04\n",
            "Epoch 48/800\n",
            "4/4 [==============================] - 0s 38ms/step - loss: 0.1225 - val_loss: 0.1172 - lr: 1.2500e-04\n",
            "Epoch 48: early stopping\n"
          ]
        }
      ]
    },
    {
      "cell_type": "code",
      "source": [
        "plot_train_results(history)"
      ],
      "metadata": {
        "colab": {
          "base_uri": "https://localhost:8080/",
          "height": 322
        },
        "id": "ExWR0Q8spgfH",
        "outputId": "726cc7a6-cdfd-4c44-f173-8cc4703fc5cf"
      },
      "execution_count": 42,
      "outputs": [
        {
          "output_type": "display_data",
          "data": {
            "text/plain": [
              "<Figure size 720x360 with 2 Axes>"
            ],
            "image/png": "[encoded data removed]"
          },
          "metadata": {}
        }
      ]
    },
    {
      "cell_type": "code",
      "source": [
        "y_train_pred, y_val_pred, y_test_pred = predict(lstm_model, X_train, X_val, X_test)"
      ],
      "metadata": {
        "colab": {
          "base_uri": "https://localhost:8080/"
        },
        "id": "I4sc_iMjq3VO",
        "outputId": "a7985cfb-7967-4bde-b695-818c0d39fc60"
      },
      "execution_count": 43,
      "outputs": [
        {
          "output_type": "stream",
          "name": "stdout",
          "text": [
            "6/6 [==============================] - 2s 8ms/step\n",
            "2/2 [==============================] - 0s 8ms/step\n",
            "2/2 [==============================] - 0s 8ms/step\n"
          ]
        }
      ]
    },
    {
      "cell_type": "markdown",
      "source": [
        "#### Predições do modelo"
      ],
      "metadata": {
        "id": "MvskGNHi8NE9"
      }
    },
    {
      "cell_type": "code",
      "source": [
        "plot_predictions_scatter(y_train, y_train_pred,\n",
        "                         y_val, y_val_pred,\n",
        "                         y_test, y_test_pred)"
      ],
      "metadata": {
        "colab": {
          "base_uri": "https://localhost:8080/",
          "height": 1000
        },
        "id": "7YdPSB8grGLE",
        "outputId": "984b9dad-d5f9-4664-84a1-cf00938e0711"
      },
      "execution_count": 44,
      "outputs": [
        {
          "output_type": "display_data",
          "data": {
            "text/plain": [
              "<Figure size 576x1296 with 3 Axes>"
            ],
            "image/png": "[encoded data removed]"
          },
          "metadata": {}
        }
      ]
    },
    {
      "cell_type": "markdown",
      "source": [
        "#### Métricas de erro do modelo"
      ],
      "metadata": {
        "id": "FPXJoTyb8SO6"
      }
    },
    {
      "cell_type": "code",
      "source": [
        "metricas_erro = calcular_metricas_erro(y_train, y_train_pred, \n",
        "                                       y_val, y_val_pred,\n",
        "                                       y_test, y_test_pred,\n",
        "                                       SLIDING_WINDOW_SIZE)\n",
        "imprimir_metricas_erro(metricas_erro)"
      ],
      "metadata": {
        "colab": {
          "base_uri": "https://localhost:8080/"
        },
        "id": "wJ_LlNQGsPcm",
        "outputId": "f817fe9d-21a1-4ac4-a489-09843bd4d05a"
      },
      "execution_count": 45,
      "outputs": [
        {
          "output_type": "stream",
          "name": "stdout",
          "text": [
            "|     Métrica de Erro | Train |  Val  | Test  |\n",
            "|                 MSE | 0.12  | 0.12  | 0.08  |\n",
            "|                RMSE | 0.35  | 0.34  | 0.27  |\n",
            "|                MAPE | 0.72% | 0.63% | 0.67% |\n",
            "|            R2 Score | 0.88  | 0.85  | 0.93  |\n",
            "| R2 Score (ajustado) | 0.88  | 0.84  | 0.92  |\n"
          ]
        }
      ]
    },
    {
      "cell_type": "markdown",
      "source": [
        "#### Gráfico com a série original e as previsões do modelo"
      ],
      "metadata": {
        "id": "BuIuNqN4iY_w"
      }
    },
    {
      "cell_type": "code",
      "source": [
        "desenhar_serie_com_previsao(dataframe=df_ibcbr, \n",
        "                            model=lstm_model,\n",
        "                            scaler=scaler,\n",
        "                            window_size=SLIDING_WINDOW_SIZE)"
      ],
      "metadata": {
        "id": "9JZf572XMbR0",
        "colab": {
          "base_uri": "https://localhost:8080/",
          "height": 356
        },
        "outputId": "a01d373b-5426-466d-9a82-f19c39076ba6"
      },
      "execution_count": 46,
      "outputs": [
        {
          "output_type": "stream",
          "name": "stdout",
          "text": [
            "8/8 [==============================] - 0s 5ms/step\n"
          ]
        },
        {
          "output_type": "display_data",
          "data": {
            "text/plain": [
              "<Figure size 1152x360 with 1 Axes>"
            ],
            "image/png": "[encoded data removed]"
          },
          "metadata": {}
        }
      ]
    },
    {
      "cell_type": "code",
      "source": [
        "# FIXME: Depois remover da série original os dados considerados anômalos identificados\n",
        "#        no processo estatístico, treinar uma nova rede LSTM com os hiperparâmetros\n",
        "#        escolhidos e verificar se o novo modelo é capaz de identificar (errar a\n",
        "#        previsão) relativa aos dados anômalos."
      ],
      "metadata": {
        "id": "yY845LSJ9sSZ"
      },
      "execution_count": 47,
      "outputs": []
    }
  ]
}