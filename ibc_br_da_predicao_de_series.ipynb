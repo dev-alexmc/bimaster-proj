{
  "nbformat": 4,
  "nbformat_minor": 0,
  "metadata": {
    "colab": {
      "provenance": [],
      "toc_visible": true
    },
    "kernelspec": {
      "name": "python3",
      "display_name": "Python 3"
    },
    "language_info": {
      "name": "python"
    }
  },
  "cells": [
    {
      "cell_type": "markdown",
      "source": [
        "# Projeto: Análise de Anomalias em Série Temporal"
      ],
      "metadata": {
        "id": "ULDWNbG9cx5S"
      }
    },
    {
      "cell_type": "markdown",
      "source": [
        "BIMASTER - Trabalho de final de curso\n",
        "\n",
        "Nome: Alex Marques Campos\n",
        "\n",
        "Etapa 02.B: Detecção de anomalias via predição de séries"
      ],
      "metadata": {
        "id": "p_Zbz7ZuczLN"
      }
    },
    {
      "cell_type": "markdown",
      "source": [
        "O objetivo deste notebook é carregar os dados das séries históricas de interesse e observar se é possível utilizar predição de séries temporais para realizar a detecção de anomalias. Para isso, um modelo LSTM.\n",
        "\n",
        "O primeiro passo é carregar as bibliotecas necessárias ao processamento e os dados propriamente ditos, que estão armazenados nos arquivos CSV (_comma separated values_) armazenados no subdiretório './__dados__/'."
      ],
      "metadata": {
        "id": "wc9G5F-vm5cb"
      }
    },
    {
      "cell_type": "markdown",
      "source": [
        "## Configuração do ambiente de execução"
      ],
      "metadata": {
        "id": "R_KJarOpo-_o"
      }
    },
    {
      "cell_type": "code",
      "execution_count": 1,
      "metadata": {
        "id": "fCR2V-wocZJl"
      },
      "outputs": [],
      "source": [
        "import math\n",
        "import matplotlib\n",
        "import multiprocessing\n",
        "import random\n",
        "\n",
        "import matplotlib.pyplot as plt\n",
        "import numpy as np\n",
        "import pandas as pd\n",
        "import sklearn as sk\n",
        "import seaborn as sns\n",
        "import tensorflow as tf\n",
        "\n",
        "from pathlib import Path\n",
        "from sklearn.metrics import classification_report, mean_absolute_percentage_error, mean_squared_error, r2_score\n",
        "from sklearn.model_selection import train_test_split\n",
        "from sklearn.preprocessing import MinMaxScaler\n",
        "from tensorflow.keras.callbacks import ReduceLROnPlateau, ModelCheckpoint, EarlyStopping\n",
        "from tensorflow.keras.layers import Dense, LSTM, Dropout\n",
        "from tensorflow.keras.models import Sequential\n",
        "from typing import Dict, Tuple"
      ]
    },
    {
      "cell_type": "code",
      "source": [
        "NOME_DIRETORIO_DADOS = 'dados'\n",
        "NOME_DIRETORIO_MODELOS = 'modelos'\n",
        "NOME_ARQUIVO_SERIE_IBCBR = 'serie_ibcbr.csv'"
      ],
      "metadata": {
        "id": "CY4fZhLloQgd"
      },
      "execution_count": 2,
      "outputs": []
    },
    {
      "cell_type": "code",
      "source": [
        "# ajustamos o formato de apresentação padrão dos gráficos\n",
        "sns.set_theme(style=\"white\", palette=\"pastel\")"
      ],
      "metadata": {
        "id": "0oh4IvnCofu_"
      },
      "execution_count": 3,
      "outputs": []
    },
    {
      "cell_type": "code",
      "source": [
        "# habilitamos a visualização especial de dataframes disponível no\n",
        "# Google Colaboratory, para facilitar a exploração dos dados.\n",
        "from google.colab import data_table\n",
        "data_table.enable_dataframe_formatter()"
      ],
      "metadata": {
        "id": "VJS_UT3-ojaM"
      },
      "execution_count": 4,
      "outputs": []
    },
    {
      "cell_type": "markdown",
      "source": [
        "## Informações do ambiente de execução"
      ],
      "metadata": {
        "id": "f_KUt24iZhke"
      }
    },
    {
      "cell_type": "code",
      "source": [
        "print(f'matplotlib == {matplotlib.__version__}')\n",
        "print(f'pandas == {pd.__version__}')\n",
        "print(f'sklearn == {sk.__version__}')\n",
        "print(f'tensorflow == {tf.__version__}')"
      ],
      "metadata": {
        "id": "1yRvVVanoSu4",
        "colab": {
          "base_uri": "https://localhost:8080/"
        },
        "outputId": "b7d3d621-79da-4022-c95e-e21c278b1e82"
      },
      "execution_count": 5,
      "outputs": [
        {
          "output_type": "stream",
          "name": "stdout",
          "text": [
            "matplotlib == 3.2.2\n",
            "pandas == 1.3.5\n",
            "sklearn == 1.0.2\n",
            "tensorflow == 2.11.0\n"
          ]
        }
      ]
    },
    {
      "cell_type": "code",
      "source": [
        "!cat /etc/os-release"
      ],
      "metadata": {
        "colab": {
          "base_uri": "https://localhost:8080/"
        },
        "id": "y3H6GLsJZQzA",
        "outputId": "542395ec-3f4d-4a50-a019-68fd3fde7ed0"
      },
      "execution_count": 6,
      "outputs": [
        {
          "output_type": "stream",
          "name": "stdout",
          "text": [
            "NAME=\"Ubuntu\"\n",
            "VERSION=\"20.04.5 LTS (Focal Fossa)\"\n",
            "ID=ubuntu\n",
            "ID_LIKE=debian\n",
            "PRETTY_NAME=\"Ubuntu 20.04.5 LTS\"\n",
            "VERSION_ID=\"20.04\"\n",
            "HOME_URL=\"https://www.ubuntu.com/\"\n",
            "SUPPORT_URL=\"https://help.ubuntu.com/\"\n",
            "BUG_REPORT_URL=\"https://bugs.launchpad.net/ubuntu/\"\n",
            "PRIVACY_POLICY_URL=\"https://www.ubuntu.com/legal/terms-and-policies/privacy-policy\"\n",
            "VERSION_CODENAME=focal\n",
            "UBUNTU_CODENAME=focal\n"
          ]
        }
      ]
    },
    {
      "cell_type": "code",
      "source": [
        "!uname -a"
      ],
      "metadata": {
        "colab": {
          "base_uri": "https://localhost:8080/"
        },
        "id": "4CnVrldfZV1B",
        "outputId": "dddbecf7-1202-4786-f190-101897e0ba94"
      },
      "execution_count": 7,
      "outputs": [
        {
          "output_type": "stream",
          "name": "stdout",
          "text": [
            "Linux f9855424a74d 5.10.147+ #1 SMP Sat Dec 10 16:00:40 UTC 2022 x86_64 x86_64 x86_64 GNU/Linux\n"
          ]
        }
      ]
    },
    {
      "cell_type": "code",
      "source": [
        "print(f'CPU count: {multiprocessing.cpu_count()}')"
      ],
      "metadata": {
        "colab": {
          "base_uri": "https://localhost:8080/"
        },
        "id": "ztAF19V7ZWYb",
        "outputId": "3364e314-c84c-46ae-94e1-838358bf0612"
      },
      "execution_count": 8,
      "outputs": [
        {
          "output_type": "stream",
          "name": "stdout",
          "text": [
            "CPU count: 2\n"
          ]
        }
      ]
    },
    {
      "cell_type": "code",
      "source": [
        "!nvidia-smi"
      ],
      "metadata": {
        "colab": {
          "base_uri": "https://localhost:8080/"
        },
        "id": "hzWr0edfZgZS",
        "outputId": "8c1d7d8f-aebb-4f41-dcf0-2cb15dc88168"
      },
      "execution_count": 9,
      "outputs": [
        {
          "output_type": "stream",
          "name": "stdout",
          "text": [
            "NVIDIA-SMI has failed because it couldn't communicate with the NVIDIA driver. Make sure that the latest NVIDIA driver is installed and running.\n",
            "\n"
          ]
        }
      ]
    },
    {
      "cell_type": "markdown",
      "source": [
        "## Carga dos dados"
      ],
      "metadata": {
        "id": "GeXhAXcEo6rt"
      }
    },
    {
      "cell_type": "markdown",
      "source": [
        "Lembre-se de criar uma pasta chamada '/content/dados' no Google Colaboratory e enviar os arquivos '.csv' para essa pasta."
      ],
      "metadata": {
        "id": "iQzs87iqZs_M"
      }
    },
    {
      "cell_type": "code",
      "source": [
        "path_dir_dados = Path('.') / NOME_DIRETORIO_DADOS\n",
        "path_arq_ibcbr = path_dir_dados / NOME_ARQUIVO_SERIE_IBCBR"
      ],
      "metadata": {
        "id": "Qggg6abNolqr"
      },
      "execution_count": 10,
      "outputs": []
    },
    {
      "cell_type": "code",
      "source": [
        "def carregar_csv(path_csv:Path) -> pd.DataFrame:\n",
        "  \"\"\"\n",
        "  Carrega os dados de um arquivo CSV em um dataframe de\n",
        "  forma padronizada no escopo do projeto.\n",
        "  path_csv : objeto Path que aponta para o arquivo.\n",
        "  \"\"\"\n",
        "  if (path_csv is None) or (not path_csv.is_file()):\n",
        "    raise ValueError(\"The given path object doesn't point to a valid csv file.\")\n",
        "\n",
        "  return pd.read_csv(path_csv,\n",
        "                   sep=',',\n",
        "                   parse_dates=True,\n",
        "                   infer_datetime_format=True,\n",
        "                   index_col=0,\n",
        "                   decimal='.',\n",
        "                   encoding='utf8')"
      ],
      "metadata": {
        "id": "NaLWJyWhrzDz"
      },
      "execution_count": 11,
      "outputs": []
    },
    {
      "cell_type": "code",
      "source": [
        "# carregamos o arquivo de dado em um dataframe, para iniciar a análise\n",
        "df_ibcbr = carregar_csv(path_arq_ibcbr)"
      ],
      "metadata": {
        "id": "R8pdKHi2r2Pw"
      },
      "execution_count": 12,
      "outputs": []
    },
    {
      "cell_type": "code",
      "source": [
        "def verificar_propriedades(id:int, nome:str, dataframe:pd.DataFrame) -> None:\n",
        "  \"\"\"\n",
        "  Imprime propriedades do dataframe nomeado para inspeção visual dos dados.\n",
        "  id: inteiro que identifica o dataframe.\n",
        "  nome: nome do dataframe\n",
        "  dataframe: objeto do dataframe\n",
        "  \"\"\"\n",
        "  print(f'[{id:03d}] Dataframe: {nome}')\n",
        "  print('-' * 5)\n",
        "  print(f'Shape: {dataframe.shape}')\n",
        "  print('-' * 5)\n",
        "  print(dataframe.head(4))\n",
        "  print('')"
      ],
      "metadata": {
        "id": "zs2X2xzVwPYs"
      },
      "execution_count": 13,
      "outputs": []
    },
    {
      "cell_type": "code",
      "source": [
        "# verificamos se os dataframes foram carregados corretamente.\n",
        "series = {\n",
        "  'IBC-BR': df_ibcbr\n",
        "}\n",
        "\n",
        "for idx,serie in enumerate(series.items()):\n",
        "  verificar_propriedades(idx+1, serie[0], serie[1])"
      ],
      "metadata": {
        "id": "0RPLvBR7ua6L",
        "colab": {
          "base_uri": "https://localhost:8080/"
        },
        "outputId": "39b1bcc5-f95a-472b-a96e-be7e6782782e"
      },
      "execution_count": 14,
      "outputs": [
        {
          "output_type": "stream",
          "name": "stdout",
          "text": [
            "[001] Dataframe: IBC-BR\n",
            "-----\n",
            "Shape: (236, 1)\n",
            "-----\n",
            "             valor\n",
            "data              \n",
            "2003-01-01   96.15\n",
            "2003-02-01   98.67\n",
            "2003-03-01  103.41\n",
            "2003-04-01  102.19\n",
            "\n"
          ]
        }
      ]
    },
    {
      "cell_type": "markdown",
      "source": [
        "Neste ponto, temos todos os dados carregados em DataFrames pandas e prontos para análise."
      ],
      "metadata": {
        "id": "6wUhHFfz0Q8f"
      }
    },
    {
      "cell_type": "markdown",
      "source": [
        "## Predição de Série Temporal"
      ],
      "metadata": {
        "id": "Oh-HcaQB01qu"
      }
    },
    {
      "cell_type": "markdown",
      "source": [
        "### Definição de funções auxiliares"
      ],
      "metadata": {
        "id": "yG_dgJSJBApl"
      }
    },
    {
      "cell_type": "markdown",
      "source": [
        "Começamos definindo funções auxiliares ao processo de análise."
      ],
      "metadata": {
        "id": "tKgd48uj9wnr"
      }
    },
    {
      "cell_type": "markdown",
      "source": [
        "#### Funções para separar os dados"
      ],
      "metadata": {
        "id": "9kMvvMt-OZ2p"
      }
    },
    {
      "cell_type": "code",
      "source": [
        "def separar_em_janelas(dataset:np.ndarray,\n",
        "                       window_size:int=24) -> Tuple[np.array, np.array]:\n",
        "  \"\"\"\n",
        "  Divide os dados contidos no Numpy ndarray 'dataset' em um\n",
        "  conjunto X que contém os dados em janela deslizante de tamanho\n",
        "  'window_size' e um conjunto y que contém o elemento seguinte \n",
        "  ('window_size' + 1) à janela deslizante.\n",
        "\n",
        "  Parâmetros:\n",
        "  dataset: Numpy ndarray com os dados a serem divididos em janelas \n",
        "           deslizantes.\n",
        "  window_size: tamanho da janela deslizante.\n",
        "\n",
        "  Retorna:\n",
        "  X - np.Array com os dados em janelas deslizantes de tamanho 'window_size'.\n",
        "  y - np.Array com os dados do elemento seguinte à janela.\n",
        "  \"\"\"\n",
        "  data_size:int = len(dataset)\n",
        "\n",
        "  if data_size < (window_size + 1):\n",
        "    raise ValueError(\"\"\"\n",
        "      The input data dimension 0's length should be at least window_size + 1.\n",
        "      \"\"\")\n",
        "  \n",
        "  X = []\n",
        "  y = []\n",
        "\n",
        "  for i in range(window_size, data_size):\n",
        "    X.append(dataset[i-window_size:i])\n",
        "    y.append(dataset[i])\n",
        "  X, y = np.array(X), np.array(y)\n",
        "\n",
        "  return X, y"
      ],
      "metadata": {
        "id": "4ucKwFggpb6P"
      },
      "execution_count": 15,
      "outputs": []
    },
    {
      "cell_type": "code",
      "source": [
        "def montar_treino_teste_validacao_por_janela(dataset:np.array, \n",
        "                                             window_size:int=24,\n",
        "                                             test_size:float=0.20,\n",
        "                                             val_size:float=0.10,\n",
        "                                             random_state:int=None\n",
        "                                             ) -> Tuple[np.array, np.array, np.array, np.array, np.array, np.array]:\n",
        "    \"\"\"\n",
        "    Recebe um dataframe e o divide em conjuntos de treino, validação e teste\n",
        "    com janelas (dos conjuntos X) de tamanho definido.\n",
        "    \n",
        "    Parâmetros:\n",
        "    dataset      : Numpy array a ser dividido em treino, validação e teste.\n",
        "    window_size  : Tamanho da janela deslizante a ser aplicada ao dataset e também\n",
        "                   o tamanho de cada elemento dos conjuntos X.\n",
        "    test_size    : float entre 0.01 e 1.00, que representa o valor percentual do \n",
        "                   conjunto de teste com relação ao tamanho do dataset.\n",
        "    val_size     : float entre 0.01 e 1.00, que representa o valor percentual do \n",
        "                   conjunto de validação com relação ao tamanho do dataset.\n",
        "    random_state : inteiro que representa o estado randômico da execução do passo\n",
        "                   da escolha dos elementos de treino e teste.\n",
        "\n",
        "    Nota: test_size + val_size deve ser um valor menor do que 1.00, pois deve\n",
        "          existir um conjunto de treino.\n",
        "\n",
        "    Retorna: X_train, y_train, X_val, y_val, X_test e y_test, onde cada elemento\n",
        "             é um array numpy.\n",
        "    \"\"\"\n",
        "    if test_size < 0.01 or test_size > 1.00:\n",
        "      raise ValueError('The value of test_size should be between 0.01 and 1.00')\n",
        "\n",
        "    if val_size < 0.01 or val_size > 1.00:\n",
        "      raise ValueError('The value of val_size should be between 0.01 and 1.00')\n",
        "    \n",
        "    if test_size + val_size >= 1.00:\n",
        "      raise ValueError('test_size + val_size should be less than 1.00')\n",
        "\n",
        "    X, y = separar_em_janelas(dataset=dataset,\n",
        "                              window_size=window_size)\n",
        "\n",
        "    # na primeira chamada, dividimos o conjunto em treino e teste,\n",
        "    # onde o tamanho do conjunto de teste é explícito (default de 15%) e \n",
        "    # o tamanho do conjunto de treino fica proporcional a (1 - test_size) \n",
        "    # (default de 85%).\n",
        "    X_train_tmp, X_test, y_train_tmp, y_test = train_test_split(X, \n",
        "                                                                y, \n",
        "                                                                test_size=test_size,\n",
        "                                                                random_state=random_state)\n",
        "\n",
        "    # para obter o conjunto de validação, dividimos novamente o conjunto de \n",
        "    # treino, cujo tamanho agora é diretamente proprorcional a (1 - test_size),\n",
        "    # em duas partes, mas agora o conjunto de teste será nossa 'validação'.\n",
        "\n",
        "    # como val_size é referente a 100% e o conjunto agora é menor,\n",
        "    # recalculamos val_size para o tamanho atual do conjunto de treinamento\n",
        "    # antes de o dividir novamente.\n",
        "    val_size_recalculado = val_size / (1 - test_size)\n",
        "    \n",
        "    # dividimos novamente o conjunto, agora em treino e validação\n",
        "    # desabilitamos o shuffle porque ele é desnecessário.\n",
        "    # passamos o random_state só por completude (como shuffle está desabilitado\n",
        "    # esse argumento não deveria ter efeito na chamada).\n",
        "    X_train, X_val, y_train, y_val = train_test_split(X_train_tmp, \n",
        "                                                      y_train_tmp, \n",
        "                                                      test_size=val_size_recalculado,\n",
        "                                                      shuffle=False,\n",
        "                                                      random_state=random_state)\n",
        "\n",
        "    return X_train, y_train, X_val, y_val, X_test, y_test"
      ],
      "metadata": {
        "id": "pm4yioxacjoJ"
      },
      "execution_count": 16,
      "outputs": []
    },
    {
      "cell_type": "code",
      "source": [
        "def imprimir_propriedades_aux(a_var:np.array, a_name:str) -> None:\n",
        "  print(f'Tamanho de {a_name} = {len(a_var)}')\n",
        "  if type(a_var[0]) == np.float64:\n",
        "    tam_elem = 1\n",
        "  else:\n",
        "    tam_elem = len(a_var[0])\n",
        "  print(f'   Tamanho de um elemento de {a_name} = {tam_elem}')"
      ],
      "metadata": {
        "id": "V0C7isgd8viL"
      },
      "execution_count": 17,
      "outputs": []
    },
    {
      "cell_type": "code",
      "source": [
        "def imprimir_propriedades(X_train, y_train, X_val, y_val, X_test, y_test) -> None:\n",
        "  imprimir_propriedades_aux(X_train, 'X_train')\n",
        "  imprimir_propriedades_aux(y_train, 'y_train')\n",
        "  imprimir_propriedades_aux(X_val, 'X_val')\n",
        "  imprimir_propriedades_aux(y_val, 'y_val')\n",
        "  imprimir_propriedades_aux(X_test, 'X_test')\n",
        "  imprimir_propriedades_aux(y_test, 'y_test')"
      ],
      "metadata": {
        "id": "pgd4Tg4H7N1S"
      },
      "execution_count": 18,
      "outputs": []
    },
    {
      "cell_type": "markdown",
      "source": [
        "#### Funções para criar e treinar modelos e fazer previsões"
      ],
      "metadata": {
        "id": "zkifZ-PZOkof"
      }
    },
    {
      "cell_type": "code",
      "source": [
        "def create_model(optimizer:str = 'sgd',\n",
        "                 lstm_layer_size:int = 24,\n",
        "                 dense_layer_size:int = 24,\n",
        "                 dropout_percentual:float = 0.2,\n",
        "                 input_shape:Tuple[int,int] = (24, 1),\n",
        "                 add_extra_lstm_layer:bool = False,\n",
        "                 add_extra_dense_layer:bool = False,\n",
        "                 loss_metric:str = 'mean_squared_error') -> tf.keras.models.Sequential:\n",
        "  '''\n",
        "  Cria um modelo de rede neural a ser treinado, usando os parâmetros:\n",
        "  optimizer       : string com o nome do otimizador a ser usado para compilar\n",
        "                    o modelo.\n",
        "  lstm_layer_size : número de neurônios na(s) camada(s) LSTM da rede neural.\n",
        "  dense_layer_size : número de neurônios na camada Dense intermediária, se uma\n",
        "                     for habilitada. Veja o argumento 'add_extra_dense_layer'.\n",
        "  dropout_percentual : percentual (entre 0.0 e 1.0) a ser aplicado nas camadas\n",
        "                       de dropout, para aumentar a resiliência do modelo.\n",
        "  input_shape     : tupla que indica tamanho dos dados de entrada da rede.\n",
        "  add_extra_lstm_layer : booleano que indica se uma camada extra LSTM deve ou não\n",
        "                        ser adicionada ao modelo, com o mesmo número de unidades da\n",
        "                        camada principal.\n",
        "  add_extra_dense_layer : booleano que indica se uma camada Dense extra deve ou\n",
        "                          não ser adicionada ao modelo. Também veja o argumento\n",
        "                          'dense_layer_size'.\n",
        "  loss_metric : função objetivo para minimização do erro no treinamento.\n",
        "                Veja https://keras.io/api/losses/regression_losses/.\n",
        "  retorna o modelo criado.\n",
        "  '''\n",
        "  # se fomos solicitados a prover uma camada extra, precisamos\n",
        "  # retornar as sequências após a primeira LSTM\n",
        "  return_sequences = add_extra_lstm_layer\n",
        "\n",
        "  model = Sequential()\n",
        "\n",
        "  # LSTM input + dropout  \n",
        "  model.add(LSTM(lstm_layer_size,\n",
        "                  input_shape=input_shape,\n",
        "                  return_sequences=return_sequences))\n",
        "  model.add(Dropout(dropout_percentual))\n",
        "\n",
        "  # (LSTM + dropout) opcional\n",
        "  if (add_extra_lstm_layer):\n",
        "    model.add(LSTM(lstm_layer_size))\n",
        "    model.add(Dropout(dropout_percentual))\n",
        "  \n",
        "  # (Dense + dropout) opcional\n",
        "  if (add_extra_dense_layer):\n",
        "    model.add(Dense(dense_layer_size, activation='tanh'))\n",
        "    model.add(Dropout(dropout_percentual))\n",
        "  \n",
        "  # Dense de resposta - geramos um valor, então tem uma unidade só\n",
        "  model.add(Dense(units=1))\n",
        "\n",
        "  # reavaliar a função de perda\n",
        "  model.compile(loss=loss_metric, optimizer=optimizer)\n",
        "  model.summary()\n",
        "\n",
        "  return model"
      ],
      "metadata": {
        "id": "t7iuSMhIb0ZD"
      },
      "execution_count": 19,
      "outputs": []
    },
    {
      "cell_type": "code",
      "source": [
        "def train_model(model:tf.keras.models.Sequential, \n",
        "                X_train:np.array,\n",
        "                y_train:np.array,\n",
        "                X_val:np.array,\n",
        "                y_val:np.array,\n",
        "                X_test:np.array, \n",
        "                y_test:np.array, \n",
        "                checkpoint_path:str = None, \n",
        "                batch_size:int = 24,\n",
        "                n_epochs:int = 100) -> object:\n",
        "    '''\n",
        "    Treina o modelo 'model' com os dados de '[Xy]_train' (treinamento), '[Xy]_val' \n",
        "    (validação) e '[Xy]_test' (teste). Caso um path seja fornecido na variável \n",
        "    'checkpoint_path', salva neste path os melhores modelos encontrados durante \n",
        "    o treinamento.\n",
        "    Retorna o objeto de história do treinamento.\n",
        "    '''\n",
        "    # callbacks para modificar o processo de treinamento\n",
        "    callbacks = []\n",
        "    \n",
        "    callbacks.append(ReduceLROnPlateau(patience=5, factor=0.5, verbose=True))\n",
        "    \n",
        "    if not checkpoint_path is None:\n",
        "      callbacks.append(ModelCheckpoint(checkpoint_path, save_best_only=True))\n",
        "    \n",
        "    callbacks.append(EarlyStopping(monitor='val_loss',\n",
        "                            min_delta=0,\n",
        "                            patience=15,\n",
        "                            verbose=1,\n",
        "                            mode='min'))\n",
        "    \n",
        "    history = model.fit(x=X_train,\n",
        "                        y=y_train,\n",
        "                        validation_data=(X_val, y_val),\n",
        "                        batch_size=batch_size,\n",
        "                        epochs=n_epochs,\n",
        "                        shuffle=False,\n",
        "                        callbacks=callbacks)\n",
        "\n",
        "    return history"
      ],
      "metadata": {
        "id": "1wO3T6gKf4KY"
      },
      "execution_count": 20,
      "outputs": []
    },
    {
      "cell_type": "code",
      "source": [
        "def plot_train_results(history:object):\n",
        "  df_history = pd.DataFrame(history.history)\n",
        "  ax = df_history[['val_loss', 'loss']].plot(figsize=(10, 5))\n",
        "  \n",
        "  if 'lr' in df_history.keys():\n",
        "    df_history['lr'].plot(ax=ax.twinx(), color='gray')\n",
        "\n",
        "  display()"
      ],
      "metadata": {
        "id": "A1o2IWR6a3Jm"
      },
      "execution_count": 21,
      "outputs": []
    },
    {
      "cell_type": "code",
      "source": [
        "def predict(model:tf.keras.models.Sequential, \n",
        "            X_train:np.array,\n",
        "            X_val:np.array,\n",
        "            X_test:np.array) -> Tuple[np.array, np.array, np.array] :\n",
        "    '''\n",
        "    Usa o 'model' para fazer previsões com 'X_train', 'X_val' e 'X_test' e\n",
        "    retorna três conjuntos de dados preditos na mesma ordem.\n",
        "    '''\n",
        "    y_train_predicted = model.predict(X_train)\n",
        "    y_val_predicted = model.predict(X_val)\n",
        "    y_test_predicted = model.predict(X_test)\n",
        "\n",
        "    return y_train_predicted, y_val_predicted, y_test_predicted"
      ],
      "metadata": {
        "id": "476v5Tloa5BC"
      },
      "execution_count": 22,
      "outputs": []
    },
    {
      "cell_type": "code",
      "source": [
        "def obter_previsoes(dataframe:pd.DataFrame, \n",
        "                    model:tf.keras.models.Sequential,\n",
        "                    scaler:object,\n",
        "                    nome_coluna_dados:str='valor',\n",
        "                    window_size:int=24) -> pd.DataFrame:\n",
        "  np_valores = dataframe[nome_coluna_dados].copy().to_numpy()\n",
        "  \n",
        "  # precisamos adicionar uma coluna extra antes de normalizar os\n",
        "  # dados com o scaler\n",
        "  np_valores = np_valores.reshape(-1,1)\n",
        "  \n",
        "  # primeiro normalizamos os dados, em preparação à previsão\n",
        "  np_valores = scaler.transform(np_valores)\n",
        "\n",
        "  # depois removemos a coluna extra\n",
        "  np_valores = np_valores.squeeze()\n",
        "\n",
        "  # debug\n",
        "  # print(f'# debug dimensões de entrada = {np_valores.shape}')\n",
        "\n",
        "  # depois, separamos os dados em janelas, para a previsão\n",
        "  X,y = separar_em_janelas(dataset=np_valores,\n",
        "                           window_size=window_size)\n",
        "\n",
        "  # debug\n",
        "  # print(f'# debug dimensões de X = {X.shape}')\n",
        "  # print(f'# debug dimensões de y = {y.shape}')\n",
        "\n",
        "  # realizamos a predição de todos os dados com base no modelo\n",
        "  y_pred = model.predict(X)\n",
        "\n",
        "  # debug\n",
        "  # print(f'# debug dimensões de y_pred = {y_pred.shape}')\n",
        "\n",
        "  # depois, revertemos a normalização aplicada aos dados previstos,\n",
        "  # para obtermos os dados previstos na escala original dos dados.\n",
        "  y_pred = y_pred.reshape(-1,1)\n",
        "  y_pred_denorm = scaler.inverse_transform(y_pred)\n",
        "  y_pred_denorm = y_pred_denorm.squeeze()\n",
        "\n",
        "  # debug\n",
        "  # print(f'# debug dimensões de y_pred_denorm = {y_pred_denorm.shape}')\n",
        "\n",
        "  # criamos uma cópia do dataframe recebido (para preservar o índice e outras\n",
        "  # propriedades) e ajustamos os valores para os valores previstos\n",
        "  df_resultado = df_ibcbr.copy()\n",
        "  df_resultado[nome_coluna_dados][:window_size] = None\n",
        "  df_resultado[nome_coluna_dados][window_size:] = y_pred_denorm\n",
        "\n",
        "  # debug\n",
        "  # print(f'# debug dimensões de df_resultado = {df_resultado.shape}')\n",
        "\n",
        "  # debug\n",
        "  # display(dataframe)\n",
        "  # display(df_resultado)\n",
        "\n",
        "  # teste do processo (janelas e normalização) sem a predição\n",
        "  teste = False\n",
        "  if teste:\n",
        "    # o código abaixo simplesmente desfaz a normalização\n",
        "    # e retorna os dados desnormalizados, para testarmos o fluxo\n",
        "    # sem os dados previstos pelo modelo\n",
        "    y = y.reshape(-1,1)\n",
        "    y = scaler.inverse_transform(y)\n",
        "    y = y.squeeze()\n",
        "    df_resultado[nome_coluna_dados][window_size:] = y\n",
        "\n",
        "  return df_resultado"
      ],
      "metadata": {
        "id": "G82N-d2cnah4"
      },
      "execution_count": 23,
      "outputs": []
    },
    {
      "cell_type": "code",
      "source": [
        "def _draw_scatter_plot(axes: object, \n",
        "               x: object,\n",
        "               y: object,\n",
        "               title: str,\n",
        "               x_label: str,\n",
        "               y_label: str):\n",
        "    axes.set_title(title)\n",
        "    axes.set_xlabel(x_label)\n",
        "    axes.set_ylabel(y_label)\n",
        "    axes.scatter(x, y)\n",
        "\n",
        "def plot_predictions_scatter(y_train: np.array,\n",
        "                     y_train_predicted: np.array,\n",
        "                     y_val: np.array,\n",
        "                     y_val_predicted: np.array,\n",
        "                     y_test: np.array,\n",
        "                     y_test_predicted: np.array):\n",
        "    \"\"\"\n",
        "    Desenha três gráficos de dispersão, com os dados resultantes da previsão\n",
        "    realizada com os dados de treinamento e com os dados de teste.\n",
        "    \"\"\"\n",
        "    n_rows, n_columns = 3, 1\n",
        "    fig, axes = plt.subplots(n_rows, n_columns)\n",
        "\n",
        "    scale = 2\n",
        "    fig.set_figheight(3 * scale * n_rows)\n",
        "    fig.set_figwidth(4 * scale)\n",
        "    \n",
        "    _draw_scatter_plot(axes[0], \n",
        "                       y_train, \n",
        "                       y_train_predicted.ravel(), \n",
        "                       'y_train versus y_train_predicted', \n",
        "                       'y_train', \n",
        "                       'y_train_predicted')\n",
        "    \n",
        "    _draw_scatter_plot(axes[1],\n",
        "                       y_val,\n",
        "                       y_val_predicted.ravel(), \n",
        "                       'y_val versus y_val_predicted', \n",
        "                       'y_val', \n",
        "                       'y_val_predicted')\n",
        "    \n",
        "    _draw_scatter_plot(axes[2], \n",
        "                       y_test, \n",
        "                       y_test_predicted.ravel(), \n",
        "                       'y_test versus y_test_predicted', \n",
        "                       'y_test', \n",
        "                       'y_test_predicted')"
      ],
      "metadata": {
        "id": "BPf7NuHca-lL"
      },
      "execution_count": 24,
      "outputs": []
    },
    {
      "cell_type": "markdown",
      "source": [
        "#### Funções para calcular e exibir métricas de erro"
      ],
      "metadata": {
        "id": "mx4hyNZiO51l"
      }
    },
    {
      "cell_type": "code",
      "source": [
        "# funções para cálculo de métricas de erro.\n",
        "# criamos uma classe somente para não poluir o namespace padrão,\n",
        "# dado que usamos nomes curtos para as funções.\n",
        "class error_metrics:\n",
        "  def rmse(real:np.array, predicted:np.array) -> float:\n",
        "    return math.sqrt(mean_squared_error(real, predicted))\n",
        "\n",
        "  def mse(real:np.array, predicted:np.array) -> float:\n",
        "    return mean_squared_error(real, predicted)\n",
        "\n",
        "  def mape(real:np.array, predicted:np.array) -> float:\n",
        "    return mean_absolute_percentage_error(real, predicted)\n",
        "\n",
        "  def r2(real:np.array, predicted:np.array) -> float:\n",
        "    return r2_score(real, predicted)\n",
        "\n",
        "  def r2_ajustado(real:np.array, predicted:np.array, n_features: int) -> float:\n",
        "    if n_features <= 0:\n",
        "      raise ValueError(\"n_features must be greater or equal to 1\")\n",
        "\n",
        "    r2_val = error_metrics.r2(real, predicted)\n",
        "    n_samples = len(real)\n",
        "    assert len(real) == len(predicted)\n",
        "    assert n_samples > 0\n",
        "\n",
        "    r2_val_ajustado = (\n",
        "        1 - (1 - r2_val) * (n_samples - 1) / (n_samples - n_features - 1)\n",
        "    )\n",
        "\n",
        "    return r2_val_ajustado"
      ],
      "metadata": {
        "id": "5kYG52K-5ZXk"
      },
      "execution_count": 25,
      "outputs": []
    },
    {
      "cell_type": "code",
      "source": [
        "def quantidade_casas_decimais(number:float) -> int:\n",
        "    return math.ceil(math.log10(abs(number)))\n",
        "\n",
        "def calcular_metricas_erro(y_train: np.array, \n",
        "                       y_train_predicted: np.array,\n",
        "                       y_val: np.array,\n",
        "                       y_val_predicted: np.array,\n",
        "                       y_test: np.array,\n",
        "                       y_test_predicted: np.array,\n",
        "                       n_features:int = None) -> Dict[str,float]:\n",
        "  if (not n_features is None) and (n_features > 0):\n",
        "    b_r2_ajustado = True\n",
        "  else:\n",
        "    b_r2_ajustado = False\n",
        "\n",
        "  # dicionário para coletar os valores calculados\n",
        "  resultados = {}\n",
        "\n",
        "  resultados['mse_train'] = error_metrics.mse(y_train, y_train_predicted)\n",
        "  resultados['mse_val']   = error_metrics.mse(y_val, y_val_predicted)\n",
        "  resultados['mse_test']  = error_metrics.mse(y_test, y_test_predicted)\n",
        "\n",
        "  resultados['rmse_train'] = error_metrics.rmse(y_train, y_train_predicted)\n",
        "  resultados['rmse_val']   = error_metrics.rmse(y_val, y_val_predicted)\n",
        "  resultados['rmse_test']  = error_metrics.rmse(y_test, y_test_predicted)\n",
        "\n",
        "  resultados['mape_train'] = error_metrics.mape(y_train, y_train_predicted)\n",
        "  resultados['mape_val']   = error_metrics.mape(y_val, y_val_predicted)\n",
        "  resultados['mape_test']  = error_metrics.mape(y_test, y_test_predicted)\n",
        "\n",
        "  resultados['r2_train'] = error_metrics.r2(y_train, y_train_predicted)\n",
        "  resultados['r2_val']   = error_metrics.r2(y_val, y_val_predicted)\n",
        "  resultados['r2_test']  = error_metrics.r2(y_test, y_test_predicted)\n",
        "\n",
        "  if b_r2_ajustado:\n",
        "    resultados['r2_ajustado_train'] = error_metrics.r2_ajustado(y_train, \n",
        "                                                                y_train_predicted,\n",
        "                                                                n_features)\n",
        "    resultados['r2_ajustado_val']   = error_metrics.r2_ajustado(y_val,\n",
        "                                                                y_val_predicted,\n",
        "                                                                n_features)\n",
        "    resultados['r2_ajustado_test']  = error_metrics.r2_ajustado(y_test,\n",
        "                                                                y_test_predicted,\n",
        "                                                                n_features)\n",
        "  \n",
        "  return resultados\n",
        "\n",
        "# imprime as métricas de erro que escolhemos\n",
        "def imprimir_metricas_erro(metricas_calculadas:Dict[str,float]) -> None:\n",
        "  # alinhamento dos dados\n",
        "  num_printed_result_chars = (\n",
        "      max([quantidade_casas_decimais(x) for x in metricas_calculadas.values()])\n",
        "      + 1 # o caractere '.'\n",
        "      + 2 # precisão do ponto flutuante\n",
        "      + 1 # o caractere '%'\n",
        "  )\n",
        "\n",
        "  max_label_size = max([len(i) for i in ['Train','Val','Test']])\n",
        "  size_col_metrica = 19\n",
        "  size_col = max(num_printed_result_chars, max_label_size)\n",
        "\n",
        "  # criamos uma closure só para organizar o código    \n",
        "  def print_row(row_label:str, v1:float, v2:float, v3:float) -> None:\n",
        "    s_value_unit = ''\n",
        "\n",
        "    if str.lower(row_label) in ('mape'):\n",
        "      s_value_unit = '%'\n",
        "\n",
        "    print(f'| {row_label:>{size_col_metrica}} ' +\n",
        "          f'| {v1:{size_col-1}.2f}{s_value_unit:1} ' +\n",
        "          f'| {v2:{size_col-1}.2f}{s_value_unit:1} ' +\n",
        "          f'| {v3:{size_col-1}.2f}{s_value_unit:1} |')\n",
        "\n",
        "  # cabeçalho da tabela\n",
        "  print(f'| {\"Métrica de Erro\":>{size_col_metrica}} ' +\n",
        "        f'| {\"Train\":^{size_col}} ' +\n",
        "        f'| {\"Val\":^{size_col}} ' +\n",
        "        f'| {\"Test\":^{size_col}} |')\n",
        "  \n",
        "  # resultados\n",
        "  print_row('MSE',\n",
        "            metricas_calculadas['mse_train'],\n",
        "            metricas_calculadas['mse_val'],\n",
        "            metricas_calculadas['mse_test'])\n",
        "\n",
        "  print_row('RMSE',\n",
        "            metricas_calculadas['rmse_train'],\n",
        "            metricas_calculadas['rmse_val'],\n",
        "            metricas_calculadas['rmse_test'])\n",
        "\n",
        "  print_row('MAPE',\n",
        "            metricas_calculadas['mape_train'],\n",
        "            metricas_calculadas['mape_val'],\n",
        "            metricas_calculadas['mape_test'])\n",
        "\n",
        "  print_row('R2 Score',\n",
        "            metricas_calculadas['r2_train'],\n",
        "            metricas_calculadas['r2_val'],\n",
        "            metricas_calculadas['r2_test'])\n",
        "\n",
        "  if ({'r2_ajustado_train', \n",
        "       'r2_ajustado_val', \n",
        "       'r2_ajustado_test'}.issubset( set(metricas_calculadas.keys()))):\n",
        "    print_row('R2 Score (ajustado)',\n",
        "              metricas_calculadas['r2_ajustado_train'],\n",
        "              metricas_calculadas['r2_ajustado_val'],\n",
        "              metricas_calculadas['r2_ajustado_test'])\n"
      ],
      "metadata": {
        "id": "bO-Pzz2YbC-b"
      },
      "execution_count": 26,
      "outputs": []
    },
    {
      "cell_type": "markdown",
      "source": [
        "#### Funções para desenhar curvas"
      ],
      "metadata": {
        "id": "YBciuvWrPfxo"
      }
    },
    {
      "cell_type": "code",
      "source": [
        "def desenhar_serie_com_previsao(dataframe:pd.DataFrame, \n",
        "                                model:tf.keras.models.Sequential,\n",
        "                                scaler:object,\n",
        "                                window_size:int=24) -> None:\n",
        "  fig = plt.figure(figsize=(16,5))\n",
        "\n",
        "  plt.plot(dataframe['valor'], 'b', label=f'real')\n",
        "\n",
        "  dataframe_previsoes = obter_previsoes(dataframe=dataframe,\n",
        "                                        model=model,\n",
        "                                        scaler=scaler,\n",
        "                                        window_size=window_size)\n",
        "\n",
        "  # ignoramos os primeiros 'window_size', pois eles foram usados para\n",
        "  # realizar as previsões\n",
        "  plt.plot(dataframe_previsoes['valor'][window_size:], 'r--', label=f'previsto')\n",
        "  \n",
        "  plt.legend(loc='best')\n",
        "  plt.ylabel('unidades IBC-BR')\n",
        "  plt.xlabel('Tempo')\n",
        "\n",
        "  # ajustamos o eixo x da figura para exibir ticks a cada ano\n",
        "  configurar_ticks_anuais(fig.axes[0])\n",
        "\n",
        "  plt.show()"
      ],
      "metadata": {
        "id": "CyFoCCW8iQol"
      },
      "execution_count": 27,
      "outputs": []
    },
    {
      "cell_type": "code",
      "source": [
        "def configurar_ticks_anuais(ax):\n",
        "  '''\n",
        "  Procedimento auxiliar para configurar a exibição do eixo x\n",
        "  de um gráfico do matplotlib para dados de séries temporais\n",
        "  para os quais só sejam marcados os valores ano a ano.\n",
        "  '''\n",
        "  ax.xaxis.set_major_locator(matplotlib.dates.YearLocator(base=1))\n",
        "  ax.xaxis.set_major_formatter(matplotlib.dates.DateFormatter(\"%Y\"))"
      ],
      "metadata": {
        "id": "mk60_I2uPz8-"
      },
      "execution_count": 28,
      "outputs": []
    },
    {
      "cell_type": "code",
      "source": [
        "def desenhar_serie_com_anomalias(df:pd.DataFrame,\n",
        "                                 indice_anomalias:pd.core.indexes.datetimes.DatetimeIndex,\n",
        "                                 nome_serie:str='IBC-BR') -> None:\n",
        "  fig = plt.figure(figsize=(16,5))\n",
        "\n",
        "  plt.plot(df['valor'], 'b', label=f'Índice {nome_serie}')\n",
        "\n",
        "  for e in indice_anomalias:\n",
        "    plt.axvline(x=e, color='r', linestyle=':')\n",
        "\n",
        "  plt.legend(loc='best')\n",
        "  plt.ylabel(nome_serie)\n",
        "  plt.xlabel('Tempo')\n",
        "\n",
        "  # ajustamos o eixo x da figura para exibir ticks a cada ano\n",
        "  configurar_ticks_anuais(fig.axes[0])\n",
        "\n",
        "  plt.show()"
      ],
      "metadata": {
        "id": "GRfboQgChFwp"
      },
      "execution_count": 29,
      "outputs": []
    },
    {
      "cell_type": "markdown",
      "source": [
        "### Configurações do processo"
      ],
      "metadata": {
        "id": "jPrFN-X8AtY2"
      }
    },
    {
      "cell_type": "markdown",
      "source": [
        "#### Configuração das sementes dos geradores de números aleatórios"
      ],
      "metadata": {
        "id": "8Rn8vwY29G1E"
      }
    },
    {
      "cell_type": "markdown",
      "source": [
        "Fixamos as sementes dos geradores de números aleatórios, para que o processo seja previsível a cada execução."
      ],
      "metadata": {
        "id": "bpeXMipfd9gn"
      }
    },
    {
      "cell_type": "code",
      "source": [
        "# esse passo é essencial para a reproducibilidade do experimento\n",
        "random.seed(17)\n",
        "np.random.seed = 17"
      ],
      "metadata": {
        "id": "NmFIL4q0dGw_"
      },
      "execution_count": 30,
      "outputs": []
    },
    {
      "cell_type": "markdown",
      "source": [
        "#### Configuração dos parâmetros de treinamento"
      ],
      "metadata": {
        "id": "uqC6BTEE9TiF"
      }
    },
    {
      "cell_type": "code",
      "source": [
        "# Parâmetro para fatiamento dos dados\n",
        "SLIDING_WINDOW_SIZE=1\n",
        "\n",
        "# Parâmetros do modelo da rede neural\n",
        "MODEL_LSTM_LAYER_SIZE=120\n",
        "MODEL_DENSE_LAYER_SIZE=12\n",
        "MODEL_DROPOUT_PERCENTUAL=0.2\n",
        "MODEL_ADD_EXTRA_LSTM_LAYER=False\n",
        "MODEL_ADD_EXTRA_DENSE_LAYER=False\n",
        "\n",
        "# Parâmetros para o treinamento do modelo\n",
        "TRAIN_BATCH_SIZE=50\n",
        "TRAIN_EPOCHS=800\n",
        "TRAIN_VAL_PERCENTUAL=0.15\n",
        "TRAIN_TEST_PERCENTUAL=0.15"
      ],
      "metadata": {
        "id": "HkTxuu4iJLSG"
      },
      "execution_count": 31,
      "outputs": []
    },
    {
      "cell_type": "markdown",
      "source": [
        "### Normalização e separação dos dados nos conjuntos de treinamento, validação e teste"
      ],
      "metadata": {
        "id": "Wql0h5OrAgDz"
      }
    },
    {
      "cell_type": "markdown",
      "source": [
        "#### Classes para a normalização dos dados"
      ],
      "metadata": {
        "id": "c_M73oCd-Zsw"
      }
    },
    {
      "cell_type": "code",
      "source": [
        "# Criamos um scaler personalizado, pois o scaler MinMax\n",
        "# não funcionou a contento com o LSTM\n",
        "\n",
        "# nota: implementamos o mesmo protocolo do MinMaxScaler\n",
        "#       para os objetos serem intercambiáveis.\n",
        "\n",
        "class StandardScaler:\n",
        "  _std:float = float('nan') # standard deviation of the data\n",
        "  _mean:float = float('nan') # mean of the data\n",
        "  _dbg:bool = False # debug flag\n",
        "\n",
        "  def __init__(self, debug:bool = False):\n",
        "    self._dbg = debug\n",
        "\n",
        "  def _check_state(self:object):\n",
        "    if ((self._std is None) or \n",
        "        (math.isnan(self._std)) or\n",
        "        (self._mean is None) or\n",
        "        (math.isnan(self._mean))):\n",
        "      raise Exception(\"Invalid state: the object was not fit to the data.\")\n",
        "  \n",
        "  def _check_args(self:object, data:np.array):\n",
        "    assert not self is None\n",
        "    if data is None:\n",
        "      raise ValueError(\"The data reference cannot be 'None'\")\n",
        "    return\n",
        "\n",
        "  def fit(self:object, data:np.array):\n",
        "    self._check_args(data)\n",
        "    \n",
        "    self._mean = np.mean(data[:,0])\n",
        "    self._std = np.std(data[:,0])\n",
        "\n",
        "    if self._std == 0.0:\n",
        "      raise Exception('Invalid state: the standard deviation of the data cannot be zero.')\n",
        "\n",
        "    if self._dbg:\n",
        "      print(f'StandardScaler._mean = {self._mean}')\n",
        "      print(f'StandardScaler._std = {self._std}')\n",
        "  \n",
        "  def transform(self:object, data:np.array):\n",
        "    self._check_state()\n",
        "    self._check_args(data)\n",
        "\n",
        "    # normalizamos os dados subtraindo a média dos dados e depois\n",
        "    # dividindo pelo desvio padrão\n",
        "    norm_data = data.copy()\n",
        "    norm_data = norm_data - self._mean\n",
        "    norm_data = norm_data / self._std\n",
        "\n",
        "    return norm_data\n",
        "\n",
        "  def fit_transform(self:object, data:np.array):\n",
        "    self._check_args(data)\n",
        "    \n",
        "    self.fit(data)\n",
        "    return self.transform(data)\n",
        "\n",
        "  def inverse_transform(self:object, data:np.array):\n",
        "    self._check_state()\n",
        "    self._check_args(data)\n",
        "\n",
        "    denorm_data = data.copy()\n",
        "    denorm_data = denorm_data * self._std\n",
        "    denorm_data = denorm_data + self._mean\n",
        "    \n",
        "    return denorm_data"
      ],
      "metadata": {
        "id": "BJogdLu0Russ"
      },
      "execution_count": 32,
      "outputs": []
    },
    {
      "cell_type": "code",
      "source": [
        "# a classe DummyScaler não realiza transformação nos dados\n",
        "# o propósito dela é apenas implementar o protocolo dos\n",
        "# demais scalers e servir de teste para o cenário de não\n",
        "# normalizarmos os dados.\n",
        "\n",
        "class DummyScaler:\n",
        "  def fit(self:object, data:np.array):\n",
        "    pass\n",
        "  \n",
        "  def transform(self:object, data:np.array):\n",
        "    # retornamos uma cópia dos dados, pois\n",
        "    # é esperado que os dados originais não\n",
        "    # sejam modificados.\n",
        "    return data.copy()\n",
        "  \n",
        "  def fit_transform(self:object, data:np.array):\n",
        "    self.fit(data)\n",
        "    return self.transform(data)\n",
        " \n",
        "  def inverse_transform(self:object, data:np.array):\n",
        "    # retornamos uma cópia dos dados, pois\n",
        "    # é esperado que os dados originais não\n",
        "    # sejam modificados.\n",
        "    return data.copy()"
      ],
      "metadata": {
        "id": "q-W76PHfFk9_"
      },
      "execution_count": 33,
      "outputs": []
    },
    {
      "cell_type": "markdown",
      "source": [
        "#### Separação dos dados em treino, validação e teste"
      ],
      "metadata": {
        "id": "WPAEwDuA-eGg"
      }
    },
    {
      "cell_type": "markdown",
      "source": [
        "Separamos os valores dos dados e os índices em dois objetos diferentes, pois não usaremos o índice temporal durante o treinamento."
      ],
      "metadata": {
        "id": "u6LqSZqfHg2p"
      }
    },
    {
      "cell_type": "code",
      "source": [
        "np_valores = df_ibcbr['valor'].to_numpy()\n",
        "np_indice = df_ibcbr.index.to_numpy()"
      ],
      "metadata": {
        "id": "7btVkPMcHmk9"
      },
      "execution_count": 34,
      "outputs": []
    },
    {
      "cell_type": "code",
      "source": [
        "print(f'np_valores.shape = {np_valores.shape}')\n",
        "print(f'np_indice.shape = {np_indice.shape}')"
      ],
      "metadata": {
        "colab": {
          "base_uri": "https://localhost:8080/"
        },
        "id": "jiwhXn6JK1gJ",
        "outputId": "6d06b82a-b0cc-4884-89bb-f5d5a5e9d1c5"
      },
      "execution_count": 35,
      "outputs": [
        {
          "output_type": "stream",
          "name": "stdout",
          "text": [
            "np_valores.shape = (236,)\n",
            "np_indice.shape = (236,)\n"
          ]
        }
      ]
    },
    {
      "cell_type": "markdown",
      "source": [
        "A seguir, normalizamos os valores para realizar o processamento pelo modelo.\n",
        "\n",
        "É importante guardarmos o processo de normalização dos dados, para depois poder reconstruir os dados previstos."
      ],
      "metadata": {
        "id": "s0Y6k2WOGijw"
      }
    },
    {
      "cell_type": "code",
      "source": [
        "# aqui adicionamos uma coluna extra ao array de np_valores\n",
        "# para poder usar o scaler depois e normalizar os dados.\n",
        "np_valores_col_extra = np_valores.reshape(-1,1)\n",
        "np_valores_col_extra.shape"
      ],
      "metadata": {
        "colab": {
          "base_uri": "https://localhost:8080/"
        },
        "id": "Sm7rbqZiLwoc",
        "outputId": "cb8d09f8-9d8b-49f0-9230-2e87e970b1e3"
      },
      "execution_count": 36,
      "outputs": [
        {
          "output_type": "execute_result",
          "data": {
            "text/plain": [
              "(236, 1)"
            ]
          },
          "metadata": {},
          "execution_count": 36
        }
      ]
    },
    {
      "cell_type": "code",
      "source": [
        "# criamos o normalizador (scaler) e o guardamos na variável 'scaler'\n",
        "#scaler = MinMaxScaler()\n",
        "scaler = StandardScaler()\n",
        "#scaler = DummyScaler()\n",
        "\n",
        "# treinamos o normalizador e já normalizamos os dados, os armazenado\n",
        "# na variável 'np_valores_col_extra'\n",
        "np_valores_col_extra = scaler.fit_transform(np_valores_col_extra)\n",
        "print(f'dimensões do np_valores_col_extra = {np_valores_col_extra.shape}')\n",
        "\n",
        "# depois jogamos fora a coluna extra que criamos só para poder utilizar\n",
        "# o scaler\n",
        "np_valores_norm = np_valores_col_extra.squeeze()\n",
        "print(f'dimensões do np_valores_norm = {np_valores_norm.shape}')"
      ],
      "metadata": {
        "id": "blKspGxDGmJF",
        "colab": {
          "base_uri": "https://localhost:8080/"
        },
        "outputId": "a54aa8f8-685d-40da-9ea9-c0b9d4e9d01c"
      },
      "execution_count": 37,
      "outputs": [
        {
          "output_type": "stream",
          "name": "stdout",
          "text": [
            "dimensões do np_valores_col_extra = (236, 1)\n",
            "dimensões do np_valores_norm = (236,)\n"
          ]
        }
      ]
    },
    {
      "cell_type": "markdown",
      "source": [
        "Nesse ponto, temos os dados normalizados e prontos para a divisão nos conjuntos\n",
        "de treino, validação e teste."
      ],
      "metadata": {
        "id": "6GhS-f2T6YwX"
      }
    },
    {
      "cell_type": "code",
      "source": [
        "X_train, y_train, X_val, y_val, X_test, y_test = montar_treino_teste_validacao_por_janela(np_valores_norm,\n",
        "                                                                                          window_size=SLIDING_WINDOW_SIZE,\n",
        "                                                                                          val_size=TRAIN_VAL_PERCENTUAL,\n",
        "                                                                                          test_size=TRAIN_TEST_PERCENTUAL)"
      ],
      "metadata": {
        "id": "jcZM5fwgfP-V"
      },
      "execution_count": 38,
      "outputs": []
    },
    {
      "cell_type": "code",
      "source": [
        "imprimir_propriedades(X_train, y_train, X_val, y_val, X_test, y_test)"
      ],
      "metadata": {
        "colab": {
          "base_uri": "https://localhost:8080/"
        },
        "id": "EFjH1Ho_8nnh",
        "outputId": "1c28daaf-d579-49c0-a2f5-6eebef29a82e"
      },
      "execution_count": 39,
      "outputs": [
        {
          "output_type": "stream",
          "name": "stdout",
          "text": [
            "Tamanho de X_train = 163\n",
            "   Tamanho de um elemento de X_train = 1\n",
            "Tamanho de y_train = 163\n",
            "   Tamanho de um elemento de y_train = 1\n",
            "Tamanho de X_val = 36\n",
            "   Tamanho de um elemento de X_val = 1\n",
            "Tamanho de y_val = 36\n",
            "   Tamanho de um elemento de y_val = 1\n",
            "Tamanho de X_test = 36\n",
            "   Tamanho de um elemento de X_test = 1\n",
            "Tamanho de y_test = 36\n",
            "   Tamanho de um elemento de y_test = 1\n"
          ]
        }
      ]
    },
    {
      "cell_type": "markdown",
      "source": [
        "Os dados foram embaralhados durante a separação dos conjuntos, mas respeitando a coerencia temporal dentro de cada janela. Isso é muito importante para o processo."
      ],
      "metadata": {
        "id": "EbF3n8KS-1Yh"
      }
    },
    {
      "cell_type": "markdown",
      "source": [
        "### Modelo LSTM"
      ],
      "metadata": {
        "id": "Zk4maopEgq2T"
      }
    },
    {
      "cell_type": "markdown",
      "source": [
        "Nossa primeira abordagem será treinar uma rede neural LSTM para fazer predição da série temporal IBC-BR original. Primeiro, para identificar os melhores hiper-parâmetros do modelo, treinaremos uma rede LSTM com todos os dados da série, divididos em janelas de 24 meses."
      ],
      "metadata": {
        "id": "iY-4vd-d1zTa"
      }
    },
    {
      "cell_type": "markdown",
      "source": [
        "#### Criação do modelo"
      ],
      "metadata": {
        "id": "cEdK_YRm8DeH"
      }
    },
    {
      "cell_type": "code",
      "source": [
        "lstm_model = create_model(optimizer=\"adam\",\n",
        "                          input_shape=(SLIDING_WINDOW_SIZE, 1),\n",
        "                          lstm_layer_size=MODEL_LSTM_LAYER_SIZE,\n",
        "                          dense_layer_size=MODEL_DENSE_LAYER_SIZE,\n",
        "                          dropout_percentual=MODEL_DROPOUT_PERCENTUAL,\n",
        "                          add_extra_lstm_layer=MODEL_ADD_EXTRA_LSTM_LAYER,\n",
        "                          add_extra_dense_layer=MODEL_ADD_EXTRA_DENSE_LAYER)"
      ],
      "metadata": {
        "colab": {
          "base_uri": "https://localhost:8080/"
        },
        "id": "n0b1LisQoG5O",
        "outputId": "7c065389-0aeb-46b4-b097-71ed9860f3cb"
      },
      "execution_count": 40,
      "outputs": [
        {
          "output_type": "stream",
          "name": "stdout",
          "text": [
            "Model: \"sequential\"\n",
            "_________________________________________________________________\n",
            " Layer (type)                Output Shape              Param #   \n",
            "=================================================================\n",
            " lstm (LSTM)                 (None, 120)               58560     \n",
            "                                                                 \n",
            " dropout (Dropout)           (None, 120)               0         \n",
            "                                                                 \n",
            " dense (Dense)               (None, 1)                 121       \n",
            "                                                                 \n",
            "=================================================================\n",
            "Total params: 58,681\n",
            "Trainable params: 58,681\n",
            "Non-trainable params: 0\n",
            "_________________________________________________________________\n"
          ]
        }
      ]
    },
    {
      "cell_type": "markdown",
      "source": [
        "#### Treinamento do modelo"
      ],
      "metadata": {
        "id": "F4oyyQj_8HOC"
      }
    },
    {
      "cell_type": "code",
      "source": [
        "history = train_model(model=lstm_model,\n",
        "                      X_train=X_train,\n",
        "                      y_train=y_train,\n",
        "                      X_val=X_val,\n",
        "                      y_val=y_val,\n",
        "                      X_test=X_test,\n",
        "                      y_test=y_test,\n",
        "                      batch_size=TRAIN_BATCH_SIZE,\n",
        "                      n_epochs=TRAIN_EPOCHS)"
      ],
      "metadata": {
        "colab": {
          "base_uri": "https://localhost:8080/"
        },
        "id": "pP3nvZnYoheR",
        "outputId": "fb56e3e7-5951-4bc4-d945-69704dfa50c7"
      },
      "execution_count": 41,
      "outputs": [
        {
          "output_type": "stream",
          "name": "stdout",
          "text": [
            "Epoch 1/800\n",
            "4/4 [==============================] - 9s 570ms/step - loss: 0.9681 - val_loss: 0.9859 - lr: 0.0010\n",
            "Epoch 2/800\n",
            "4/4 [==============================] - 0s 35ms/step - loss: 0.9290 - val_loss: 0.9506 - lr: 0.0010\n",
            "Epoch 3/800\n",
            "4/4 [==============================] - 0s 42ms/step - loss: 0.8913 - val_loss: 0.9160 - lr: 0.0010\n",
            "Epoch 4/800\n",
            "4/4 [==============================] - 0s 33ms/step - loss: 0.8546 - val_loss: 0.8819 - lr: 0.0010\n",
            "Epoch 5/800\n",
            "4/4 [==============================] - 0s 31ms/step - loss: 0.8265 - val_loss: 0.8482 - lr: 0.0010\n",
            "Epoch 6/800\n",
            "4/4 [==============================] - 0s 29ms/step - loss: 0.7872 - val_loss: 0.8149 - lr: 0.0010\n",
            "Epoch 7/800\n",
            "4/4 [==============================] - 0s 33ms/step - loss: 0.7526 - val_loss: 0.7817 - lr: 0.0010\n",
            "Epoch 8/800\n",
            "4/4 [==============================] - 0s 48ms/step - loss: 0.7167 - val_loss: 0.7485 - lr: 0.0010\n",
            "Epoch 9/800\n",
            "4/4 [==============================] - 0s 47ms/step - loss: 0.6795 - val_loss: 0.7152 - lr: 0.0010\n",
            "Epoch 10/800\n",
            "4/4 [==============================] - 0s 31ms/step - loss: 0.6467 - val_loss: 0.6818 - lr: 0.0010\n",
            "Epoch 11/800\n",
            "4/4 [==============================] - 0s 57ms/step - loss: 0.6125 - val_loss: 0.6483 - lr: 0.0010\n",
            "Epoch 12/800\n",
            "4/4 [==============================] - 0s 32ms/step - loss: 0.5781 - val_loss: 0.6148 - lr: 0.0010\n",
            "Epoch 13/800\n",
            "4/4 [==============================] - 0s 29ms/step - loss: 0.5405 - val_loss: 0.5813 - lr: 0.0010\n",
            "Epoch 14/800\n",
            "4/4 [==============================] - 0s 33ms/step - loss: 0.5059 - val_loss: 0.5480 - lr: 0.0010\n",
            "Epoch 15/800\n",
            "4/4 [==============================] - 0s 28ms/step - loss: 0.4672 - val_loss: 0.5150 - lr: 0.0010\n",
            "Epoch 16/800\n",
            "4/4 [==============================] - 0s 30ms/step - loss: 0.4372 - val_loss: 0.4824 - lr: 0.0010\n",
            "Epoch 17/800\n",
            "4/4 [==============================] - 0s 34ms/step - loss: 0.4034 - val_loss: 0.4506 - lr: 0.0010\n",
            "Epoch 18/800\n",
            "4/4 [==============================] - 0s 50ms/step - loss: 0.3655 - val_loss: 0.4198 - lr: 0.0010\n",
            "Epoch 19/800\n",
            "4/4 [==============================] - 0s 70ms/step - loss: 0.3370 - val_loss: 0.3900 - lr: 0.0010\n",
            "Epoch 20/800\n",
            "4/4 [==============================] - 0s 78ms/step - loss: 0.3062 - val_loss: 0.3617 - lr: 0.0010\n",
            "Epoch 21/800\n",
            "4/4 [==============================] - 0s 59ms/step - loss: 0.2811 - val_loss: 0.3349 - lr: 0.0010\n",
            "Epoch 22/800\n",
            "4/4 [==============================] - 0s 37ms/step - loss: 0.2529 - val_loss: 0.3100 - lr: 0.0010\n",
            "Epoch 23/800\n",
            "4/4 [==============================] - 0s 84ms/step - loss: 0.2234 - val_loss: 0.2871 - lr: 0.0010\n",
            "Epoch 24/800\n",
            "4/4 [==============================] - 0s 52ms/step - loss: 0.2013 - val_loss: 0.2664 - lr: 0.0010\n",
            "Epoch 25/800\n",
            "4/4 [==============================] - 0s 66ms/step - loss: 0.1898 - val_loss: 0.2480 - lr: 0.0010\n",
            "Epoch 26/800\n",
            "4/4 [==============================] - 0s 64ms/step - loss: 0.1641 - val_loss: 0.2319 - lr: 0.0010\n",
            "Epoch 27/800\n",
            "4/4 [==============================] - 0s 82ms/step - loss: 0.1483 - val_loss: 0.2180 - lr: 0.0010\n",
            "Epoch 28/800\n",
            "4/4 [==============================] - 0s 43ms/step - loss: 0.1365 - val_loss: 0.2064 - lr: 0.0010\n",
            "Epoch 29/800\n",
            "4/4 [==============================] - 0s 34ms/step - loss: 0.1317 - val_loss: 0.1967 - lr: 0.0010\n",
            "Epoch 30/800\n",
            "4/4 [==============================] - 0s 59ms/step - loss: 0.1196 - val_loss: 0.1890 - lr: 0.0010\n",
            "Epoch 31/800\n",
            "4/4 [==============================] - 0s 32ms/step - loss: 0.1137 - val_loss: 0.1831 - lr: 0.0010\n",
            "Epoch 32/800\n",
            "4/4 [==============================] - 0s 65ms/step - loss: 0.1129 - val_loss: 0.1787 - lr: 0.0010\n",
            "Epoch 33/800\n",
            "4/4 [==============================] - 0s 44ms/step - loss: 0.0994 - val_loss: 0.1756 - lr: 0.0010\n",
            "Epoch 34/800\n",
            "4/4 [==============================] - 0s 43ms/step - loss: 0.1052 - val_loss: 0.1734 - lr: 0.0010\n",
            "Epoch 35/800\n",
            "4/4 [==============================] - 0s 39ms/step - loss: 0.0995 - val_loss: 0.1718 - lr: 0.0010\n",
            "Epoch 36/800\n",
            "4/4 [==============================] - 0s 40ms/step - loss: 0.0970 - val_loss: 0.1709 - lr: 0.0010\n",
            "Epoch 37/800\n",
            "4/4 [==============================] - 0s 32ms/step - loss: 0.0992 - val_loss: 0.1699 - lr: 0.0010\n",
            "Epoch 38/800\n",
            "4/4 [==============================] - 0s 27ms/step - loss: 0.0975 - val_loss: 0.1691 - lr: 0.0010\n",
            "Epoch 39/800\n",
            "4/4 [==============================] - 0s 31ms/step - loss: 0.0923 - val_loss: 0.1686 - lr: 0.0010\n",
            "Epoch 40/800\n",
            "4/4 [==============================] - 0s 62ms/step - loss: 0.0985 - val_loss: 0.1683 - lr: 0.0010\n",
            "Epoch 41/800\n",
            "4/4 [==============================] - 0s 31ms/step - loss: 0.0966 - val_loss: 0.1682 - lr: 0.0010\n",
            "Epoch 42/800\n",
            "4/4 [==============================] - 0s 56ms/step - loss: 0.0968 - val_loss: 0.1683 - lr: 0.0010\n",
            "Epoch 43/800\n",
            "4/4 [==============================] - 0s 30ms/step - loss: 0.0917 - val_loss: 0.1685 - lr: 0.0010\n",
            "Epoch 44/800\n",
            "4/4 [==============================] - 0s 30ms/step - loss: 0.0927 - val_loss: 0.1687 - lr: 0.0010\n",
            "Epoch 45/800\n",
            "4/4 [==============================] - 0s 31ms/step - loss: 0.0982 - val_loss: 0.1687 - lr: 0.0010\n",
            "Epoch 46/800\n",
            "1/4 [======>.......................] - ETA: 0s - loss: 0.1174\n",
            "Epoch 46: ReduceLROnPlateau reducing learning rate to 0.0005000000237487257.\n",
            "4/4 [==============================] - 0s 31ms/step - loss: 0.1005 - val_loss: 0.1686 - lr: 0.0010\n",
            "Epoch 47/800\n",
            "4/4 [==============================] - 0s 48ms/step - loss: 0.0973 - val_loss: 0.1687 - lr: 5.0000e-04\n",
            "Epoch 48/800\n",
            "4/4 [==============================] - 0s 33ms/step - loss: 0.0964 - val_loss: 0.1687 - lr: 5.0000e-04\n",
            "Epoch 49/800\n",
            "4/4 [==============================] - 0s 41ms/step - loss: 0.0982 - val_loss: 0.1688 - lr: 5.0000e-04\n",
            "Epoch 50/800\n",
            "4/4 [==============================] - 0s 35ms/step - loss: 0.1022 - val_loss: 0.1690 - lr: 5.0000e-04\n",
            "Epoch 51/800\n",
            "1/4 [======>.......................] - ETA: 0s - loss: 0.1053\n",
            "Epoch 51: ReduceLROnPlateau reducing learning rate to 0.0002500000118743628.\n",
            "4/4 [==============================] - 0s 38ms/step - loss: 0.0954 - val_loss: 0.1689 - lr: 5.0000e-04\n",
            "Epoch 52/800\n",
            "4/4 [==============================] - 0s 33ms/step - loss: 0.0993 - val_loss: 0.1688 - lr: 2.5000e-04\n",
            "Epoch 53/800\n",
            "4/4 [==============================] - 0s 48ms/step - loss: 0.0956 - val_loss: 0.1688 - lr: 2.5000e-04\n",
            "Epoch 54/800\n",
            "4/4 [==============================] - 0s 35ms/step - loss: 0.0951 - val_loss: 0.1688 - lr: 2.5000e-04\n",
            "Epoch 55/800\n",
            "4/4 [==============================] - 0s 39ms/step - loss: 0.0994 - val_loss: 0.1688 - lr: 2.5000e-04\n",
            "Epoch 56/800\n",
            "1/4 [======>.......................] - ETA: 0s - loss: 0.1088\n",
            "Epoch 56: ReduceLROnPlateau reducing learning rate to 0.0001250000059371814.\n",
            "4/4 [==============================] - 0s 39ms/step - loss: 0.0986 - val_loss: 0.1688 - lr: 2.5000e-04\n",
            "Epoch 56: early stopping\n"
          ]
        }
      ]
    },
    {
      "cell_type": "code",
      "source": [
        "plot_train_results(history)"
      ],
      "metadata": {
        "colab": {
          "base_uri": "https://localhost:8080/",
          "height": 322
        },
        "id": "ExWR0Q8spgfH",
        "outputId": "568238b4-1e43-4d54-dcaa-c392f7b6e797"
      },
      "execution_count": 42,
      "outputs": [
        {
          "output_type": "display_data",
          "data": {
            "text/plain": [
              "<Figure size 720x360 with 2 Axes>"
            ],
            "image/png": "[encoded data removed]"
          },
          "metadata": {}
        }
      ]
    },
    {
      "cell_type": "markdown",
      "source": [
        "#### Predições do modelo"
      ],
      "metadata": {
        "id": "MvskGNHi8NE9"
      }
    },
    {
      "cell_type": "code",
      "source": [
        "y_train_pred, y_val_pred, y_test_pred = predict(lstm_model, X_train, X_val, X_test)"
      ],
      "metadata": {
        "colab": {
          "base_uri": "https://localhost:8080/"
        },
        "id": "I4sc_iMjq3VO",
        "outputId": "20852fb1-ffd9-4893-c2da-f53032372f3d"
      },
      "execution_count": 43,
      "outputs": [
        {
          "output_type": "stream",
          "name": "stdout",
          "text": [
            "6/6 [==============================] - 2s 5ms/step\n",
            "2/2 [==============================] - 0s 8ms/step\n",
            "2/2 [==============================] - 0s 14ms/step\n"
          ]
        }
      ]
    },
    {
      "cell_type": "code",
      "source": [
        "plot_predictions_scatter(y_train, y_train_pred,\n",
        "                         y_val, y_val_pred,\n",
        "                         y_test, y_test_pred)"
      ],
      "metadata": {
        "colab": {
          "base_uri": "https://localhost:8080/",
          "height": 1000
        },
        "id": "7YdPSB8grGLE",
        "outputId": "349d2ab7-5dda-4668-cca1-8f0b33d7a788"
      },
      "execution_count": 44,
      "outputs": [
        {
          "output_type": "display_data",
          "data": {
            "text/plain": [
              "<Figure size 576x1296 with 3 Axes>"
            ],
            "image/png": "[encoded data removed]"
          },
          "metadata": {}
        }
      ]
    },
    {
      "cell_type": "markdown",
      "source": [
        "#### Métricas de erro do modelo"
      ],
      "metadata": {
        "id": "FPXJoTyb8SO6"
      }
    },
    {
      "cell_type": "code",
      "source": [
        "metricas_erro = calcular_metricas_erro(y_train, y_train_pred, \n",
        "                                       y_val, y_val_pred,\n",
        "                                       y_test, y_test_pred,\n",
        "                                       SLIDING_WINDOW_SIZE)\n",
        "imprimir_metricas_erro(metricas_erro)"
      ],
      "metadata": {
        "colab": {
          "base_uri": "https://localhost:8080/"
        },
        "id": "wJ_LlNQGsPcm",
        "outputId": "0e790acd-ef67-4893-8e54-a43a1f15b9b2"
      },
      "execution_count": 45,
      "outputs": [
        {
          "output_type": "stream",
          "name": "stdout",
          "text": [
            "|     Métrica de Erro | Train |  Val  | Test  |\n",
            "|                 MSE | 0.09  | 0.17  | 0.14  |\n",
            "|                RMSE | 0.31  | 0.41  | 0.38  |\n",
            "|                MAPE | 0.64% | 0.67% | 0.92% |\n",
            "|            R2 Score | 0.90  | 0.83  | 0.87  |\n",
            "| R2 Score (ajustado) | 0.90  | 0.83  | 0.86  |\n"
          ]
        }
      ]
    },
    {
      "cell_type": "markdown",
      "source": [
        "#### Gráfico com a série original e as previsões do modelo"
      ],
      "metadata": {
        "id": "BuIuNqN4iY_w"
      }
    },
    {
      "cell_type": "code",
      "source": [
        "desenhar_serie_com_previsao(dataframe=df_ibcbr, \n",
        "                            model=lstm_model,\n",
        "                            scaler=scaler,\n",
        "                            window_size=SLIDING_WINDOW_SIZE)"
      ],
      "metadata": {
        "id": "9JZf572XMbR0",
        "colab": {
          "base_uri": "https://localhost:8080/",
          "height": 356
        },
        "outputId": "36d7e5cb-fb62-4f30-e1b9-3d49407fc0ff"
      },
      "execution_count": 46,
      "outputs": [
        {
          "output_type": "stream",
          "name": "stdout",
          "text": [
            "8/8 [==============================] - 0s 4ms/step\n"
          ]
        },
        {
          "output_type": "display_data",
          "data": {
            "text/plain": [
              "<Figure size 1152x360 with 1 Axes>"
            ],
            "image/png": "[encoded data removed]"
          },
          "metadata": {}
        }
      ]
    },
    {
      "cell_type": "markdown",
      "source": [
        "### Treinando um modelo para prever anomalias"
      ],
      "metadata": {
        "id": "CbnWELNWelv_"
      }
    },
    {
      "cell_type": "markdown",
      "source": [
        "Agora, treinaremos um novo modelo LSTM com os mesmos parâmetros que apuramos antes, mas com um conjunto de dados que não contenha os dados anômalos identificados via os métodos estatísticos, em especial o z_score modificado.\n",
        "A ideia é que o modelo treinado sem os dados anômalos faça uma previsão muito\n",
        "ruim comparada ao valor real quando uma anomalia ocorrer nos dados."
      ],
      "metadata": {
        "id": "JX74W5hberi5"
      }
    },
    {
      "cell_type": "markdown",
      "source": [
        "#### Remoção das anomalias dos dados"
      ],
      "metadata": {
        "id": "Ap8Vhypah2Co"
      }
    },
    {
      "cell_type": "markdown",
      "source": [
        "Começamos definindo os índices nos dados originais que consideramos como sendo anomalias."
      ],
      "metadata": {
        "id": "uS8hfpzcfM3p"
      }
    },
    {
      "cell_type": "code",
      "source": [
        "indices_com_anomalias_zscore_mod = [\n",
        "    pd.Timestamp('2008-07-01 00:00:00'),\n",
        "    pd.Timestamp('2008-09-01 00:00:00'),\n",
        "    pd.Timestamp('2008-12-01 00:00:00'),\n",
        "    pd.Timestamp('2009-01-01 00:00:00'),\n",
        "    pd.Timestamp('2009-02-01 00:00:00'),\n",
        "    pd.Timestamp('2020-01-01 00:00:00'),\n",
        "    pd.Timestamp('2020-02-01 00:00:00'),\n",
        "    pd.Timestamp('2020-04-01 00:00:00'),\n",
        "    pd.Timestamp('2020-05-01 00:00:00'),\n",
        "    pd.Timestamp('2020-06-01 00:00:00')\n",
        "]"
      ],
      "metadata": {
        "id": "lfnzFGjseDdd"
      },
      "execution_count": 47,
      "outputs": []
    },
    {
      "cell_type": "code",
      "source": [
        "print(f'quantidade de anomalias = {len(indices_com_anomalias_zscore_mod)}')"
      ],
      "metadata": {
        "colab": {
          "base_uri": "https://localhost:8080/"
        },
        "id": "i81j9CeDgMOG",
        "outputId": "e0ac8be0-6aaa-4669-a883-f8975ee44409"
      },
      "execution_count": 48,
      "outputs": [
        {
          "output_type": "stream",
          "name": "stdout",
          "text": [
            "quantidade de anomalias = 10\n"
          ]
        }
      ]
    },
    {
      "cell_type": "code",
      "source": [
        "# criamos uma cópia dos dados originais e removemos os índices que contém\n",
        "# anomalias\n",
        "df_ibcbr_sa = df_ibcbr.copy()\n",
        "df_ibcbr_sa = df_ibcbr_sa.drop(indices_com_anomalias_zscore_mod, axis=0)"
      ],
      "metadata": {
        "id": "PZbwHvBtfZ4c"
      },
      "execution_count": 49,
      "outputs": []
    },
    {
      "cell_type": "code",
      "source": [
        "print(f'dimensões originais = {df_ibcbr.shape}')\n",
        "print(f'dimensões saneadas = {df_ibcbr_sa.shape}')"
      ],
      "metadata": {
        "colab": {
          "base_uri": "https://localhost:8080/"
        },
        "id": "ARTcd3G6geQM",
        "outputId": "670ce86f-92b9-4948-f625-b841ae0d6951"
      },
      "execution_count": 50,
      "outputs": [
        {
          "output_type": "stream",
          "name": "stdout",
          "text": [
            "dimensões originais = (236, 1)\n",
            "dimensões saneadas = (226, 1)\n"
          ]
        }
      ]
    },
    {
      "cell_type": "markdown",
      "source": [
        "#### Configuração das sementes dos geradores de números aleatórios"
      ],
      "metadata": {
        "id": "2Yk_Xl_xmbql"
      }
    },
    {
      "cell_type": "code",
      "source": [
        "random.seed(17)\n",
        "np.random.seed = 17"
      ],
      "metadata": {
        "id": "g21LGV8Cmabb"
      },
      "execution_count": 51,
      "outputs": []
    },
    {
      "cell_type": "markdown",
      "source": [
        "#### Normalização e separação dos dados em conjuntos de treino, validacão e teste"
      ],
      "metadata": {
        "id": "tczmv6emh5nT"
      }
    },
    {
      "cell_type": "code",
      "source": [
        "# criamos uma cópia dos dados no formato do numpy\n",
        "np_valores_sa = df_ibcbr_sa['valor'].copy().to_numpy()\n",
        "\n",
        "# adicionamos uma coluna para usar o scaler\n",
        "np_valores_sa = np_valores_sa.reshape(-1,1)\n",
        "\n",
        "# treinamos um novo scaler nos dados\n",
        "scaler = StandardScaler()\n",
        "np_valores_sa = scaler.fit_transform(np_valores_sa)\n",
        "\n",
        "# removemos a coluna adicional usada para a normalização\n",
        "np_valores_sa = np_valores_sa.squeeze()"
      ],
      "metadata": {
        "id": "qJ7ZGyYXiNyJ"
      },
      "execution_count": 52,
      "outputs": []
    },
    {
      "cell_type": "code",
      "source": [
        "# separamos os dados sem as anomalias em conjuntos de treino, validação e teste\n",
        "X_train, y_train, X_val, y_val, X_test, y_test = montar_treino_teste_validacao_por_janela(np_valores_sa,\n",
        "                                                                                          window_size=SLIDING_WINDOW_SIZE,\n",
        "                                                                                          val_size=TRAIN_VAL_PERCENTUAL,\n",
        "                                                                                          test_size=TRAIN_TEST_PERCENTUAL)\n",
        "imprimir_propriedades(X_train, y_train, X_val, y_val, X_test, y_test)"
      ],
      "metadata": {
        "colab": {
          "base_uri": "https://localhost:8080/"
        },
        "id": "2sgRPuqjjLMe",
        "outputId": "d76c6b8f-8e82-49bd-9a17-d06b4f220d97"
      },
      "execution_count": 53,
      "outputs": [
        {
          "output_type": "stream",
          "name": "stdout",
          "text": [
            "Tamanho de X_train = 157\n",
            "   Tamanho de um elemento de X_train = 1\n",
            "Tamanho de y_train = 157\n",
            "   Tamanho de um elemento de y_train = 1\n",
            "Tamanho de X_val = 34\n",
            "   Tamanho de um elemento de X_val = 1\n",
            "Tamanho de y_val = 34\n",
            "   Tamanho de um elemento de y_val = 1\n",
            "Tamanho de X_test = 34\n",
            "   Tamanho de um elemento de X_test = 1\n",
            "Tamanho de y_test = 34\n",
            "   Tamanho de um elemento de y_test = 1\n"
          ]
        }
      ]
    },
    {
      "cell_type": "markdown",
      "source": [
        "#### Criação e treinamento do modelo LSTM"
      ],
      "metadata": {
        "id": "R6BQjVXqjuxZ"
      }
    },
    {
      "cell_type": "markdown",
      "source": [
        "Criamos um novo modelo LSTM com os mesmos parâmetros identificados no processo de busca anterior."
      ],
      "metadata": {
        "id": "VBFEFf1pjlJJ"
      }
    },
    {
      "cell_type": "code",
      "source": [
        "lstm_model = create_model(optimizer=\"adam\",\n",
        "                          input_shape=(SLIDING_WINDOW_SIZE, 1),\n",
        "                          lstm_layer_size=MODEL_LSTM_LAYER_SIZE,\n",
        "                          dense_layer_size=MODEL_DENSE_LAYER_SIZE,\n",
        "                          dropout_percentual=MODEL_DROPOUT_PERCENTUAL,\n",
        "                          add_extra_lstm_layer=MODEL_ADD_EXTRA_LSTM_LAYER,\n",
        "                          add_extra_dense_layer=MODEL_ADD_EXTRA_DENSE_LAYER)"
      ],
      "metadata": {
        "colab": {
          "base_uri": "https://localhost:8080/"
        },
        "id": "P48MfQn3j-pP",
        "outputId": "b737c765-1727-492f-acd6-79a983f5a0ea"
      },
      "execution_count": 54,
      "outputs": [
        {
          "output_type": "stream",
          "name": "stdout",
          "text": [
            "Model: \"sequential_1\"\n",
            "_________________________________________________________________\n",
            " Layer (type)                Output Shape              Param #   \n",
            "=================================================================\n",
            " lstm_1 (LSTM)               (None, 120)               58560     \n",
            "                                                                 \n",
            " dropout_1 (Dropout)         (None, 120)               0         \n",
            "                                                                 \n",
            " dense_1 (Dense)             (None, 1)                 121       \n",
            "                                                                 \n",
            "=================================================================\n",
            "Total params: 58,681\n",
            "Trainable params: 58,681\n",
            "Non-trainable params: 0\n",
            "_________________________________________________________________\n"
          ]
        }
      ]
    },
    {
      "cell_type": "code",
      "source": [
        "history = train_model(model=lstm_model,\n",
        "                      X_train=X_train,\n",
        "                      y_train=y_train,\n",
        "                      X_val=X_val,\n",
        "                      y_val=y_val,\n",
        "                      X_test=X_test,\n",
        "                      y_test=y_test,\n",
        "                      batch_size=TRAIN_BATCH_SIZE,\n",
        "                      n_epochs=TRAIN_EPOCHS)"
      ],
      "metadata": {
        "colab": {
          "base_uri": "https://localhost:8080/"
        },
        "id": "7Gcus_k4kDsi",
        "outputId": "ef91001b-44aa-4c63-9f5e-0ea933912809"
      },
      "execution_count": 55,
      "outputs": [
        {
          "output_type": "stream",
          "name": "stdout",
          "text": [
            "Epoch 1/800\n",
            "4/4 [==============================] - 3s 201ms/step - loss: 0.9432 - val_loss: 0.9502 - lr: 0.0010\n",
            "Epoch 2/800\n",
            "4/4 [==============================] - 0s 20ms/step - loss: 0.9050 - val_loss: 0.9133 - lr: 0.0010\n",
            "Epoch 3/800\n",
            "4/4 [==============================] - 0s 18ms/step - loss: 0.8671 - val_loss: 0.8774 - lr: 0.0010\n",
            "Epoch 4/800\n",
            "4/4 [==============================] - 0s 17ms/step - loss: 0.8346 - val_loss: 0.8419 - lr: 0.0010\n",
            "Epoch 5/800\n",
            "4/4 [==============================] - 0s 18ms/step - loss: 0.8042 - val_loss: 0.8070 - lr: 0.0010\n",
            "Epoch 6/800\n",
            "4/4 [==============================] - 0s 17ms/step - loss: 0.7673 - val_loss: 0.7723 - lr: 0.0010\n",
            "Epoch 7/800\n",
            "4/4 [==============================] - 0s 20ms/step - loss: 0.7355 - val_loss: 0.7378 - lr: 0.0010\n",
            "Epoch 8/800\n",
            "4/4 [==============================] - 0s 33ms/step - loss: 0.7012 - val_loss: 0.7035 - lr: 0.0010\n",
            "Epoch 9/800\n",
            "4/4 [==============================] - 0s 33ms/step - loss: 0.6714 - val_loss: 0.6693 - lr: 0.0010\n",
            "Epoch 10/800\n",
            "4/4 [==============================] - 0s 32ms/step - loss: 0.6341 - val_loss: 0.6350 - lr: 0.0010\n",
            "Epoch 11/800\n",
            "4/4 [==============================] - 0s 27ms/step - loss: 0.6087 - val_loss: 0.6007 - lr: 0.0010\n",
            "Epoch 12/800\n",
            "4/4 [==============================] - 0s 25ms/step - loss: 0.5725 - val_loss: 0.5664 - lr: 0.0010\n",
            "Epoch 13/800\n",
            "4/4 [==============================] - 0s 30ms/step - loss: 0.5381 - val_loss: 0.5320 - lr: 0.0010\n",
            "Epoch 14/800\n",
            "4/4 [==============================] - 0s 25ms/step - loss: 0.5145 - val_loss: 0.4978 - lr: 0.0010\n",
            "Epoch 15/800\n",
            "4/4 [==============================] - 0s 27ms/step - loss: 0.4771 - val_loss: 0.4639 - lr: 0.0010\n",
            "Epoch 16/800\n",
            "4/4 [==============================] - 0s 32ms/step - loss: 0.4454 - val_loss: 0.4303 - lr: 0.0010\n",
            "Epoch 17/800\n",
            "4/4 [==============================] - 0s 28ms/step - loss: 0.4124 - val_loss: 0.3974 - lr: 0.0010\n",
            "Epoch 18/800\n",
            "4/4 [==============================] - 0s 29ms/step - loss: 0.3808 - val_loss: 0.3653 - lr: 0.0010\n",
            "Epoch 19/800\n",
            "4/4 [==============================] - 0s 26ms/step - loss: 0.3540 - val_loss: 0.3342 - lr: 0.0010\n",
            "Epoch 20/800\n",
            "4/4 [==============================] - 0s 26ms/step - loss: 0.3266 - val_loss: 0.3044 - lr: 0.0010\n",
            "Epoch 21/800\n",
            "4/4 [==============================] - 0s 25ms/step - loss: 0.2945 - val_loss: 0.2760 - lr: 0.0010\n",
            "Epoch 22/800\n",
            "4/4 [==============================] - 0s 29ms/step - loss: 0.2694 - val_loss: 0.2494 - lr: 0.0010\n",
            "Epoch 23/800\n",
            "4/4 [==============================] - 0s 32ms/step - loss: 0.2461 - val_loss: 0.2248 - lr: 0.0010\n",
            "Epoch 24/800\n",
            "4/4 [==============================] - 0s 29ms/step - loss: 0.2273 - val_loss: 0.2025 - lr: 0.0010\n",
            "Epoch 25/800\n",
            "4/4 [==============================] - 0s 27ms/step - loss: 0.2031 - val_loss: 0.1824 - lr: 0.0010\n",
            "Epoch 26/800\n",
            "4/4 [==============================] - 0s 25ms/step - loss: 0.1885 - val_loss: 0.1647 - lr: 0.0010\n",
            "Epoch 27/800\n",
            "4/4 [==============================] - 0s 26ms/step - loss: 0.1685 - val_loss: 0.1495 - lr: 0.0010\n",
            "Epoch 28/800\n",
            "4/4 [==============================] - 0s 28ms/step - loss: 0.1613 - val_loss: 0.1367 - lr: 0.0010\n",
            "Epoch 29/800\n",
            "4/4 [==============================] - 0s 25ms/step - loss: 0.1470 - val_loss: 0.1262 - lr: 0.0010\n",
            "Epoch 30/800\n",
            "4/4 [==============================] - 0s 38ms/step - loss: 0.1393 - val_loss: 0.1180 - lr: 0.0010\n",
            "Epoch 31/800\n",
            "4/4 [==============================] - 0s 25ms/step - loss: 0.1235 - val_loss: 0.1118 - lr: 0.0010\n",
            "Epoch 32/800\n",
            "4/4 [==============================] - 0s 27ms/step - loss: 0.1187 - val_loss: 0.1072 - lr: 0.0010\n",
            "Epoch 33/800\n",
            "4/4 [==============================] - 0s 32ms/step - loss: 0.1131 - val_loss: 0.1041 - lr: 0.0010\n",
            "Epoch 34/800\n",
            "4/4 [==============================] - 0s 35ms/step - loss: 0.1104 - val_loss: 0.1021 - lr: 0.0010\n",
            "Epoch 35/800\n",
            "4/4 [==============================] - 0s 27ms/step - loss: 0.1074 - val_loss: 0.1009 - lr: 0.0010\n",
            "Epoch 36/800\n",
            "4/4 [==============================] - 0s 28ms/step - loss: 0.1118 - val_loss: 0.1004 - lr: 0.0010\n",
            "Epoch 37/800\n",
            "4/4 [==============================] - 0s 27ms/step - loss: 0.1094 - val_loss: 0.1002 - lr: 0.0010\n",
            "Epoch 38/800\n",
            "4/4 [==============================] - 0s 28ms/step - loss: 0.1129 - val_loss: 0.1002 - lr: 0.0010\n",
            "Epoch 39/800\n",
            "4/4 [==============================] - 0s 34ms/step - loss: 0.1131 - val_loss: 0.1003 - lr: 0.0010\n",
            "Epoch 40/800\n",
            "4/4 [==============================] - 0s 28ms/step - loss: 0.1133 - val_loss: 0.1004 - lr: 0.0010\n",
            "Epoch 41/800\n",
            "4/4 [==============================] - 0s 26ms/step - loss: 0.1091 - val_loss: 0.1005 - lr: 0.0010\n",
            "Epoch 42/800\n",
            "1/4 [======>.......................] - ETA: 0s - loss: 0.1054\n",
            "Epoch 42: ReduceLROnPlateau reducing learning rate to 0.0005000000237487257.\n",
            "4/4 [==============================] - 0s 36ms/step - loss: 0.1116 - val_loss: 0.1007 - lr: 0.0010\n",
            "Epoch 43/800\n",
            "4/4 [==============================] - 0s 24ms/step - loss: 0.1121 - val_loss: 0.1007 - lr: 5.0000e-04\n",
            "Epoch 44/800\n",
            "4/4 [==============================] - 0s 27ms/step - loss: 0.1111 - val_loss: 0.1008 - lr: 5.0000e-04\n",
            "Epoch 45/800\n",
            "4/4 [==============================] - 0s 31ms/step - loss: 0.1090 - val_loss: 0.1008 - lr: 5.0000e-04\n",
            "Epoch 46/800\n",
            "4/4 [==============================] - 0s 21ms/step - loss: 0.1109 - val_loss: 0.1009 - lr: 5.0000e-04\n",
            "Epoch 47/800\n",
            "1/4 [======>.......................] - ETA: 0s - loss: 0.1126\n",
            "Epoch 47: ReduceLROnPlateau reducing learning rate to 0.0002500000118743628.\n",
            "4/4 [==============================] - 0s 21ms/step - loss: 0.1105 - val_loss: 0.1009 - lr: 5.0000e-04\n",
            "Epoch 48/800\n",
            "4/4 [==============================] - 0s 18ms/step - loss: 0.1129 - val_loss: 0.1009 - lr: 2.5000e-04\n",
            "Epoch 49/800\n",
            "4/4 [==============================] - 0s 18ms/step - loss: 0.1070 - val_loss: 0.1009 - lr: 2.5000e-04\n",
            "Epoch 50/800\n",
            "4/4 [==============================] - 0s 21ms/step - loss: 0.1106 - val_loss: 0.1009 - lr: 2.5000e-04\n",
            "Epoch 51/800\n",
            "4/4 [==============================] - 0s 28ms/step - loss: 0.1109 - val_loss: 0.1009 - lr: 2.5000e-04\n",
            "Epoch 52/800\n",
            "1/4 [======>.......................] - ETA: 0s - loss: 0.1011\n",
            "Epoch 52: ReduceLROnPlateau reducing learning rate to 0.0001250000059371814.\n",
            "4/4 [==============================] - 0s 18ms/step - loss: 0.1077 - val_loss: 0.1009 - lr: 2.5000e-04\n",
            "Epoch 52: early stopping\n"
          ]
        }
      ]
    },
    {
      "cell_type": "code",
      "source": [
        "plot_train_results(history)"
      ],
      "metadata": {
        "colab": {
          "base_uri": "https://localhost:8080/",
          "height": 322
        },
        "id": "w6qKhFPWkPDS",
        "outputId": "8470cffd-92bf-4088-f40e-6cd67202578f"
      },
      "execution_count": 56,
      "outputs": [
        {
          "output_type": "display_data",
          "data": {
            "text/plain": [
              "<Figure size 720x360 with 2 Axes>"
            ],
            "image/png": "[encoded data removed]"
          },
          "metadata": {}
        }
      ]
    },
    {
      "cell_type": "markdown",
      "source": [
        "#### Análise dos dados de predição e métricas de erro do modelo"
      ],
      "metadata": {
        "id": "JbxDrjigkUtc"
      }
    },
    {
      "cell_type": "code",
      "source": [
        "y_train_pred, y_val_pred, y_test_pred = predict(lstm_model, X_train, X_val, X_test)\n",
        "\n",
        "plot_predictions_scatter(y_train, y_train_pred,\n",
        "                         y_val, y_val_pred,\n",
        "                         y_test, y_test_pred)"
      ],
      "metadata": {
        "colab": {
          "base_uri": "https://localhost:8080/",
          "height": 1000
        },
        "id": "PU3JuwtqkbwP",
        "outputId": "91158c37-0e20-4484-a3b9-76761cc65272"
      },
      "execution_count": 57,
      "outputs": [
        {
          "output_type": "stream",
          "name": "stdout",
          "text": [
            "5/5 [==============================] - 1s 4ms/step\n",
            "2/2 [==============================] - 0s 8ms/step\n",
            "2/2 [==============================] - 0s 5ms/step\n"
          ]
        },
        {
          "output_type": "display_data",
          "data": {
            "text/plain": [
              "<Figure size 576x1296 with 3 Axes>"
            ],
            "image/png": "[encoded data removed]"
          },
          "metadata": {}
        }
      ]
    },
    {
      "cell_type": "code",
      "source": [
        "metricas_erro = calcular_metricas_erro(y_train, y_train_pred, \n",
        "                                       y_val, y_val_pred,\n",
        "                                       y_test, y_test_pred,\n",
        "                                       SLIDING_WINDOW_SIZE)\n",
        "imprimir_metricas_erro(metricas_erro)"
      ],
      "metadata": {
        "colab": {
          "base_uri": "https://localhost:8080/"
        },
        "id": "wdNyOmdQkcmM",
        "outputId": "41b05513-5c4c-49c6-e4c1-d3c21e71735f"
      },
      "execution_count": 58,
      "outputs": [
        {
          "output_type": "stream",
          "name": "stdout",
          "text": [
            "|     Métrica de Erro | Train |  Val  | Test  |\n",
            "|                 MSE | 0.11  | 0.10  | 0.06  |\n",
            "|                RMSE | 0.33  | 0.32  | 0.25  |\n",
            "|                MAPE | 1.86% | 0.67% | 0.66% |\n",
            "|            R2 Score | 0.88  | 0.90  | 0.95  |\n",
            "| R2 Score (ajustado) | 0.88  | 0.89  | 0.95  |\n"
          ]
        }
      ]
    },
    {
      "cell_type": "markdown",
      "source": [
        "#### Previsões dos dados"
      ],
      "metadata": {
        "id": "Ibfcl2I_nU2s"
      }
    },
    {
      "cell_type": "markdown",
      "source": [
        "Com o modelo treinado, fazemos predições para os dados _originais_ e verificamos se ele é capaz de identificar as entradas anômalas."
      ],
      "metadata": {
        "id": "KgJTo2LwnkFd"
      }
    },
    {
      "cell_type": "code",
      "source": [
        "df_ibcbr_previsoes = obter_previsoes(dataframe=df_ibcbr, \n",
        "                                     model=lstm_model,\n",
        "                                     scaler=scaler,\n",
        "                                     window_size=SLIDING_WINDOW_SIZE)"
      ],
      "metadata": {
        "colab": {
          "base_uri": "https://localhost:8080/"
        },
        "id": "BrXA_Aw1nXX3",
        "outputId": "00d05368-1c5b-4ea1-d13d-c8b52c046060"
      },
      "execution_count": 59,
      "outputs": [
        {
          "output_type": "stream",
          "name": "stdout",
          "text": [
            "8/8 [==============================] - 0s 3ms/step\n"
          ]
        }
      ]
    },
    {
      "cell_type": "code",
      "source": [
        "# renomeamos a coluna com as previsões e adicionamos uma coluna com os valores\n",
        "# originais.\n",
        "df_ibcbr_previsoes.rename(columns={'valor':'valor_previsto'}, inplace=True)\n",
        "df_ibcbr_previsoes['valor_original'] = df_ibcbr['valor']"
      ],
      "metadata": {
        "id": "KYLyNQdmoClA"
      },
      "execution_count": 60,
      "outputs": []
    },
    {
      "cell_type": "code",
      "source": [
        "# verificamos se os dados parecem ok\n",
        "display(df_ibcbr_previsoes.shape)\n",
        "display(df_ibcbr_previsoes.head(5 + SLIDING_WINDOW_SIZE))"
      ],
      "metadata": {
        "colab": {
          "base_uri": "https://localhost:8080/",
          "height": 234
        },
        "id": "FnlT9-Z7pZOg",
        "outputId": "24d564fa-413c-4ee2-d5ab-510a71a725af"
      },
      "execution_count": 61,
      "outputs": [
        {
          "output_type": "display_data",
          "data": {
            "text/plain": [
              "(236, 2)"
            ]
          },
          "metadata": {}
        },
        {
          "output_type": "display_data",
          "data": {
            "text/plain": [
              "            valor_previsto  valor_original\n",
              "data                                      \n",
              "2003-01-01             NaN           96.15\n",
              "2003-02-01       96.756851           98.67\n",
              "2003-03-01       99.394135          103.41\n",
              "2003-04-01      104.377914          102.19\n",
              "2003-05-01      103.093727          100.30\n",
              "2003-06-01      101.105713           98.58"
            ],
            "text/html": [
              "\n",
              "  <div id=\"df-a8b7e8f7-1468-487d-aa6b-6e4927a3abc4\">\n",
              "    <div class=\"colab-df-container\">\n",
              "      <div>\n",
              "<style scoped>\n",
              "    .dataframe tbody tr th:only-of-type {\n",
              "        vertical-align: middle;\n",
              "    }\n",
              "\n",
              "    .dataframe tbody tr th {\n",
              "        vertical-align: top;\n",
              "    }\n",
              "\n",
              "    .dataframe thead th {\n",
              "        text-align: right;\n",
              "    }\n",
              "</style>\n",
              "<table border=\"1\" class=\"dataframe\">\n",
              "  <thead>\n",
              "    <tr style=\"text-align: right;\">\n",
              "      <th></th>\n",
              "      <th>valor_previsto</th>\n",
              "      <th>valor_original</th>\n",
              "    </tr>\n",
              "    <tr>\n",
              "      <th>data</th>\n",
              "      <th></th>\n",
              "      <th></th>\n",
              "    </tr>\n",
              "  </thead>\n",
              "  <tbody>\n",
              "    <tr>\n",
              "      <th>2003-01-01</th>\n",
              "      <td>NaN</td>\n",
              "      <td>96.15</td>\n",
              "    </tr>\n",
              "    <tr>\n",
              "      <th>2003-02-01</th>\n",
              "      <td>96.756851</td>\n",
              "      <td>98.67</td>\n",
              "    </tr>\n",
              "    <tr>\n",
              "      <th>2003-03-01</th>\n",
              "      <td>99.394135</td>\n",
              "      <td>103.41</td>\n",
              "    </tr>\n",
              "    <tr>\n",
              "      <th>2003-04-01</th>\n",
              "      <td>104.377914</td>\n",
              "      <td>102.19</td>\n",
              "    </tr>\n",
              "    <tr>\n",
              "      <th>2003-05-01</th>\n",
              "      <td>103.093727</td>\n",
              "      <td>100.30</td>\n",
              "    </tr>\n",
              "    <tr>\n",
              "      <th>2003-06-01</th>\n",
              "      <td>101.105713</td>\n",
              "      <td>98.58</td>\n",
              "    </tr>\n",
              "  </tbody>\n",
              "</table>\n",
              "</div>\n",
              "      <button class=\"colab-df-convert\" onclick=\"convertToInteractive('df-a8b7e8f7-1468-487d-aa6b-6e4927a3abc4')\"\n",
              "              title=\"Convert this dataframe to an interactive table.\"\n",
              "              style=\"display:none;\">\n",
              "        \n",
              "  <svg xmlns=\"http://www.w3.org/2000/svg\" height=\"24px\"viewBox=\"0 0 24 24\"\n",
              "       width=\"24px\">\n",
              "    <path d=\"M0 0h24v24H0V0z\" fill=\"none\"/>\n",
              "    <path d=\"M18.56 5.44l.94 2.06.94-2.06 2.06-.94-2.06-.94-.94-2.06-.94 2.06-2.06.94zm-11 1L8.5 8.5l.94-2.06 2.06-.94-2.06-.94L8.5 2.5l-.94 2.06-2.06.94zm10 10l.94 2.06.94-2.06 2.06-.94-2.06-.94-.94-2.06-.94 2.06-2.06.94z\"/><path d=\"M17.41 7.96l-1.37-1.37c-.4-.4-.92-.59-1.43-.59-.52 0-1.04.2-1.43.59L10.3 9.45l-7.72 7.72c-.78.78-.78 2.05 0 2.83L4 21.41c.39.39.9.59 1.41.59.51 0 1.02-.2 1.41-.59l7.78-7.78 2.81-2.81c.8-.78.8-2.07 0-2.86zM5.41 20L4 18.59l7.72-7.72 1.47 1.35L5.41 20z\"/>\n",
              "  </svg>\n",
              "      </button>\n",
              "      \n",
              "  <style>\n",
              "    .colab-df-container {\n",
              "      display:flex;\n",
              "      flex-wrap:wrap;\n",
              "      gap: 12px;\n",
              "    }\n",
              "\n",
              "    .colab-df-convert {\n",
              "      background-color: #E8F0FE;\n",
              "      border: none;\n",
              "      border-radius: 50%;\n",
              "      cursor: pointer;\n",
              "      display: none;\n",
              "      fill: #1967D2;\n",
              "      height: 32px;\n",
              "      padding: 0 0 0 0;\n",
              "      width: 32px;\n",
              "    }\n",
              "\n",
              "    .colab-df-convert:hover {\n",
              "      background-color: #E2EBFA;\n",
              "      box-shadow: 0px 1px 2px rgba(60, 64, 67, 0.3), 0px 1px 3px 1px rgba(60, 64, 67, 0.15);\n",
              "      fill: #174EA6;\n",
              "    }\n",
              "\n",
              "    [theme=dark] .colab-df-convert {\n",
              "      background-color: #3B4455;\n",
              "      fill: #D2E3FC;\n",
              "    }\n",
              "\n",
              "    [theme=dark] .colab-df-convert:hover {\n",
              "      background-color: #434B5C;\n",
              "      box-shadow: 0px 1px 3px 1px rgba(0, 0, 0, 0.15);\n",
              "      filter: drop-shadow(0px 1px 2px rgba(0, 0, 0, 0.3));\n",
              "      fill: #FFFFFF;\n",
              "    }\n",
              "  </style>\n",
              "\n",
              "      <script>\n",
              "        const buttonEl =\n",
              "          document.querySelector('#df-a8b7e8f7-1468-487d-aa6b-6e4927a3abc4 button.colab-df-convert');\n",
              "        buttonEl.style.display =\n",
              "          google.colab.kernel.accessAllowed ? 'block' : 'none';\n",
              "\n",
              "        async function convertToInteractive(key) {\n",
              "          const element = document.querySelector('#df-a8b7e8f7-1468-487d-aa6b-6e4927a3abc4');\n",
              "          const dataTable =\n",
              "            await google.colab.kernel.invokeFunction('convertToInteractive',\n",
              "                                                     [key], {});\n",
              "          if (!dataTable) return;\n",
              "\n",
              "          const docLinkHtml = 'Like what you see? Visit the ' +\n",
              "            '<a target=\"_blank\" href=https://colab.research.google.com/notebooks/data_table.ipynb>data table notebook</a>'\n",
              "            + ' to learn more about interactive tables.';\n",
              "          element.innerHTML = '';\n",
              "          dataTable['output_type'] = 'display_data';\n",
              "          await google.colab.output.renderOutput(dataTable, element);\n",
              "          const docLink = document.createElement('div');\n",
              "          docLink.innerHTML = docLinkHtml;\n",
              "          element.appendChild(docLink);\n",
              "        }\n",
              "      </script>\n",
              "    </div>\n",
              "  </div>\n",
              "  "
            ],
            "application/vnd.google.colaboratory.module+javascript": "\n      import \"https://ssl.gstatic.com/colaboratory/data_table/fb998edc550c7947/data_table.js\";\n\n      window.createDataTable({\n        data: [[\"2003-01-01 00:00:00\",\n{\n            'v': NaN,\n            'f': \"NaN\",\n        },\n{\n            'v': 96.15,\n            'f': \"96.15\",\n        }],\n [\"2003-02-01 00:00:00\",\n{\n            'v': 96.75685119628906,\n            'f': \"96.75685119628906\",\n        },\n{\n            'v': 98.67,\n            'f': \"98.67\",\n        }],\n [\"2003-03-01 00:00:00\",\n{\n            'v': 99.39413452148438,\n            'f': \"99.39413452148438\",\n        },\n{\n            'v': 103.41,\n            'f': \"103.41\",\n        }],\n [\"2003-04-01 00:00:00\",\n{\n            'v': 104.37791442871094,\n            'f': \"104.37791442871094\",\n        },\n{\n            'v': 102.19,\n            'f': \"102.19\",\n        }],\n [\"2003-05-01 00:00:00\",\n{\n            'v': 103.0937271118164,\n            'f': \"103.0937271118164\",\n        },\n{\n            'v': 100.3,\n            'f': \"100.3\",\n        }],\n [\"2003-06-01 00:00:00\",\n{\n            'v': 101.105712890625,\n            'f': \"101.105712890625\",\n        },\n{\n            'v': 98.58,\n            'f': \"98.58\",\n        }]],\n        columns: [[\"string\", \"data\"], [\"number\", \"valor_previsto\"], [\"number\", \"valor_original\"]],\n        columnOptions: [{\"width\": \"1px\", \"className\": \"index_column\"}],\n        rowsPerPage: 25,\n        helpUrl: \"https://colab.research.google.com/notebooks/data_table.ipynb\",\n        suppressOutputScrolling: true,\n        minimumWidth: undefined,\n      });\n    "
          },
          "metadata": {}
        }
      ]
    },
    {
      "cell_type": "code",
      "source": [
        "# removemos os dados iniciais relativos ao tamanho da janela, pois não há\n",
        "# previsão disponível para esses\n",
        "df_ibcbr_previsoes = df_ibcbr_previsoes[SLIDING_WINDOW_SIZE:]"
      ],
      "metadata": {
        "id": "mmYgMQAlpIp2"
      },
      "execution_count": 62,
      "outputs": []
    },
    {
      "cell_type": "code",
      "source": [
        "# verificamos novamente os dados para ver se os dados da janela foram realmente\n",
        "# removidos\n",
        "display(df_ibcbr_previsoes.shape)\n",
        "display(df_ibcbr_previsoes.head(5 + SLIDING_WINDOW_SIZE))"
      ],
      "metadata": {
        "colab": {
          "base_uri": "https://localhost:8080/",
          "height": 234
        },
        "id": "qmCBvMpeodRN",
        "outputId": "61b013e1-2cf6-4f27-efd3-e63799df01a3"
      },
      "execution_count": 63,
      "outputs": [
        {
          "output_type": "display_data",
          "data": {
            "text/plain": [
              "(235, 2)"
            ]
          },
          "metadata": {}
        },
        {
          "output_type": "display_data",
          "data": {
            "text/plain": [
              "            valor_previsto  valor_original\n",
              "data                                      \n",
              "2003-02-01       96.756851           98.67\n",
              "2003-03-01       99.394135          103.41\n",
              "2003-04-01      104.377914          102.19\n",
              "2003-05-01      103.093727          100.30\n",
              "2003-06-01      101.105713           98.58\n",
              "2003-07-01       99.299744          103.05"
            ],
            "text/html": [
              "\n",
              "  <div id=\"df-4a4707fb-ea08-421e-9be7-5c86de825343\">\n",
              "    <div class=\"colab-df-container\">\n",
              "      <div>\n",
              "<style scoped>\n",
              "    .dataframe tbody tr th:only-of-type {\n",
              "        vertical-align: middle;\n",
              "    }\n",
              "\n",
              "    .dataframe tbody tr th {\n",
              "        vertical-align: top;\n",
              "    }\n",
              "\n",
              "    .dataframe thead th {\n",
              "        text-align: right;\n",
              "    }\n",
              "</style>\n",
              "<table border=\"1\" class=\"dataframe\">\n",
              "  <thead>\n",
              "    <tr style=\"text-align: right;\">\n",
              "      <th></th>\n",
              "      <th>valor_previsto</th>\n",
              "      <th>valor_original</th>\n",
              "    </tr>\n",
              "    <tr>\n",
              "      <th>data</th>\n",
              "      <th></th>\n",
              "      <th></th>\n",
              "    </tr>\n",
              "  </thead>\n",
              "  <tbody>\n",
              "    <tr>\n",
              "      <th>2003-02-01</th>\n",
              "      <td>96.756851</td>\n",
              "      <td>98.67</td>\n",
              "    </tr>\n",
              "    <tr>\n",
              "      <th>2003-03-01</th>\n",
              "      <td>99.394135</td>\n",
              "      <td>103.41</td>\n",
              "    </tr>\n",
              "    <tr>\n",
              "      <th>2003-04-01</th>\n",
              "      <td>104.377914</td>\n",
              "      <td>102.19</td>\n",
              "    </tr>\n",
              "    <tr>\n",
              "      <th>2003-05-01</th>\n",
              "      <td>103.093727</td>\n",
              "      <td>100.30</td>\n",
              "    </tr>\n",
              "    <tr>\n",
              "      <th>2003-06-01</th>\n",
              "      <td>101.105713</td>\n",
              "      <td>98.58</td>\n",
              "    </tr>\n",
              "    <tr>\n",
              "      <th>2003-07-01</th>\n",
              "      <td>99.299744</td>\n",
              "      <td>103.05</td>\n",
              "    </tr>\n",
              "  </tbody>\n",
              "</table>\n",
              "</div>\n",
              "      <button class=\"colab-df-convert\" onclick=\"convertToInteractive('df-4a4707fb-ea08-421e-9be7-5c86de825343')\"\n",
              "              title=\"Convert this dataframe to an interactive table.\"\n",
              "              style=\"display:none;\">\n",
              "        \n",
              "  <svg xmlns=\"http://www.w3.org/2000/svg\" height=\"24px\"viewBox=\"0 0 24 24\"\n",
              "       width=\"24px\">\n",
              "    <path d=\"M0 0h24v24H0V0z\" fill=\"none\"/>\n",
              "    <path d=\"M18.56 5.44l.94 2.06.94-2.06 2.06-.94-2.06-.94-.94-2.06-.94 2.06-2.06.94zm-11 1L8.5 8.5l.94-2.06 2.06-.94-2.06-.94L8.5 2.5l-.94 2.06-2.06.94zm10 10l.94 2.06.94-2.06 2.06-.94-2.06-.94-.94-2.06-.94 2.06-2.06.94z\"/><path d=\"M17.41 7.96l-1.37-1.37c-.4-.4-.92-.59-1.43-.59-.52 0-1.04.2-1.43.59L10.3 9.45l-7.72 7.72c-.78.78-.78 2.05 0 2.83L4 21.41c.39.39.9.59 1.41.59.51 0 1.02-.2 1.41-.59l7.78-7.78 2.81-2.81c.8-.78.8-2.07 0-2.86zM5.41 20L4 18.59l7.72-7.72 1.47 1.35L5.41 20z\"/>\n",
              "  </svg>\n",
              "      </button>\n",
              "      \n",
              "  <style>\n",
              "    .colab-df-container {\n",
              "      display:flex;\n",
              "      flex-wrap:wrap;\n",
              "      gap: 12px;\n",
              "    }\n",
              "\n",
              "    .colab-df-convert {\n",
              "      background-color: #E8F0FE;\n",
              "      border: none;\n",
              "      border-radius: 50%;\n",
              "      cursor: pointer;\n",
              "      display: none;\n",
              "      fill: #1967D2;\n",
              "      height: 32px;\n",
              "      padding: 0 0 0 0;\n",
              "      width: 32px;\n",
              "    }\n",
              "\n",
              "    .colab-df-convert:hover {\n",
              "      background-color: #E2EBFA;\n",
              "      box-shadow: 0px 1px 2px rgba(60, 64, 67, 0.3), 0px 1px 3px 1px rgba(60, 64, 67, 0.15);\n",
              "      fill: #174EA6;\n",
              "    }\n",
              "\n",
              "    [theme=dark] .colab-df-convert {\n",
              "      background-color: #3B4455;\n",
              "      fill: #D2E3FC;\n",
              "    }\n",
              "\n",
              "    [theme=dark] .colab-df-convert:hover {\n",
              "      background-color: #434B5C;\n",
              "      box-shadow: 0px 1px 3px 1px rgba(0, 0, 0, 0.15);\n",
              "      filter: drop-shadow(0px 1px 2px rgba(0, 0, 0, 0.3));\n",
              "      fill: #FFFFFF;\n",
              "    }\n",
              "  </style>\n",
              "\n",
              "      <script>\n",
              "        const buttonEl =\n",
              "          document.querySelector('#df-4a4707fb-ea08-421e-9be7-5c86de825343 button.colab-df-convert');\n",
              "        buttonEl.style.display =\n",
              "          google.colab.kernel.accessAllowed ? 'block' : 'none';\n",
              "\n",
              "        async function convertToInteractive(key) {\n",
              "          const element = document.querySelector('#df-4a4707fb-ea08-421e-9be7-5c86de825343');\n",
              "          const dataTable =\n",
              "            await google.colab.kernel.invokeFunction('convertToInteractive',\n",
              "                                                     [key], {});\n",
              "          if (!dataTable) return;\n",
              "\n",
              "          const docLinkHtml = 'Like what you see? Visit the ' +\n",
              "            '<a target=\"_blank\" href=https://colab.research.google.com/notebooks/data_table.ipynb>data table notebook</a>'\n",
              "            + ' to learn more about interactive tables.';\n",
              "          element.innerHTML = '';\n",
              "          dataTable['output_type'] = 'display_data';\n",
              "          await google.colab.output.renderOutput(dataTable, element);\n",
              "          const docLink = document.createElement('div');\n",
              "          docLink.innerHTML = docLinkHtml;\n",
              "          element.appendChild(docLink);\n",
              "        }\n",
              "      </script>\n",
              "    </div>\n",
              "  </div>\n",
              "  "
            ],
            "application/vnd.google.colaboratory.module+javascript": "\n      import \"https://ssl.gstatic.com/colaboratory/data_table/fb998edc550c7947/data_table.js\";\n\n      window.createDataTable({\n        data: [[\"2003-02-01 00:00:00\",\n{\n            'v': 96.75685119628906,\n            'f': \"96.75685119628906\",\n        },\n{\n            'v': 98.67,\n            'f': \"98.67\",\n        }],\n [\"2003-03-01 00:00:00\",\n{\n            'v': 99.39413452148438,\n            'f': \"99.39413452148438\",\n        },\n{\n            'v': 103.41,\n            'f': \"103.41\",\n        }],\n [\"2003-04-01 00:00:00\",\n{\n            'v': 104.37791442871094,\n            'f': \"104.37791442871094\",\n        },\n{\n            'v': 102.19,\n            'f': \"102.19\",\n        }],\n [\"2003-05-01 00:00:00\",\n{\n            'v': 103.0937271118164,\n            'f': \"103.0937271118164\",\n        },\n{\n            'v': 100.3,\n            'f': \"100.3\",\n        }],\n [\"2003-06-01 00:00:00\",\n{\n            'v': 101.105712890625,\n            'f': \"101.105712890625\",\n        },\n{\n            'v': 98.58,\n            'f': \"98.58\",\n        }],\n [\"2003-07-01 00:00:00\",\n{\n            'v': 99.29974365234375,\n            'f': \"99.29974365234375\",\n        },\n{\n            'v': 103.05,\n            'f': \"103.05\",\n        }]],\n        columns: [[\"string\", \"data\"], [\"number\", \"valor_previsto\"], [\"number\", \"valor_original\"]],\n        columnOptions: [{\"width\": \"1px\", \"className\": \"index_column\"}],\n        rowsPerPage: 25,\n        helpUrl: \"https://colab.research.google.com/notebooks/data_table.ipynb\",\n        suppressOutputScrolling: true,\n        minimumWidth: undefined,\n      });\n    "
          },
          "metadata": {}
        }
      ]
    },
    {
      "cell_type": "code",
      "source": [
        "# criamos uma nova coluna, chamada 'erro_percentual_previsao', para conter o erro\n",
        "# percentual na previsão de cada entrada\n",
        "\n",
        "df_ibcbr_previsoes['erro_percentual_previsao'] = np.abs( \n",
        "  (df_ibcbr_previsoes['valor_original'] - \n",
        "   df_ibcbr_previsoes['valor_previsto']) \n",
        "  / df_ibcbr_previsoes['valor_original'] ) * 100.0"
      ],
      "metadata": {
        "colab": {
          "base_uri": "https://localhost:8080/"
        },
        "id": "hssW7AciGLBC",
        "outputId": "407b87c0-d73a-4a13-ba7f-b397c623ed20"
      },
      "execution_count": 64,
      "outputs": [
        {
          "output_type": "stream",
          "name": "stderr",
          "text": [
            "<ipython-input-64-c30465d3e8c4>:4: SettingWithCopyWarning: \n",
            "A value is trying to be set on a copy of a slice from a DataFrame.\n",
            "Try using .loc[row_indexer,col_indexer] = value instead\n",
            "\n",
            "See the caveats in the documentation: https://pandas.pydata.org/pandas-docs/stable/user_guide/indexing.html#returning-a-view-versus-a-copy\n",
            "  df_ibcbr_previsoes['erro_percentual_previsao'] = np.abs(\n"
          ]
        }
      ]
    },
    {
      "cell_type": "code",
      "source": [
        "# verificamos as propriedades estatísticas do erro de cada previsão\n",
        "df_ibcbr_previsoes['erro_percentual_previsao'].describe()"
      ],
      "metadata": {
        "colab": {
          "base_uri": "https://localhost:8080/"
        },
        "id": "9kPQ-XggIH3p",
        "outputId": "c83430c2-fa82-4a94-a7af-7557ee5372b3"
      },
      "execution_count": 65,
      "outputs": [
        {
          "output_type": "execute_result",
          "data": {
            "text/plain": [
              "count    235.000000\n",
              "mean       2.616567\n",
              "std        2.334002\n",
              "min        0.003477\n",
              "25%        0.911211\n",
              "50%        2.126614\n",
              "75%        3.600360\n",
              "max       15.235861\n",
              "Name: erro_percentual_previsao, dtype: float64"
            ]
          },
          "metadata": {},
          "execution_count": 65
        }
      ]
    },
    {
      "cell_type": "code",
      "source": [
        "# calculamos o valor de erro abaixo do qual estão 98% das previsões feitas\n",
        "# assumindo que as anomalias estarão nesses 2%\n",
        "quantil_98 = np.quantile(df_ibcbr_previsoes['erro_percentual_previsao'], 0.98)\n",
        "print(f'Quantil de 98% do erro_percentual_previsao = {quantil_98:.4f}')"
      ],
      "metadata": {
        "colab": {
          "base_uri": "https://localhost:8080/"
        },
        "id": "RSk_HoTtIsQR",
        "outputId": "cb5ef7b0-1041-4ebe-e9b3-00ea8e3e05fc"
      },
      "execution_count": 66,
      "outputs": [
        {
          "output_type": "stream",
          "name": "stdout",
          "text": [
            "Quantil de 98% do erro_percentual_previsao = 8.5355\n"
          ]
        }
      ]
    },
    {
      "cell_type": "code",
      "source": [
        "# filtramos os dados cujo erro na previsão seja maior do que o limiar\n",
        "# estabelecido\n",
        "\n",
        "limiar = quantil_98\n",
        "anomalias = df_ibcbr_previsoes['erro_percentual_previsao'] >= limiar"
      ],
      "metadata": {
        "id": "lXdepcyBG__B"
      },
      "execution_count": 67,
      "outputs": []
    },
    {
      "cell_type": "code",
      "source": [
        "# e observamos os valores onde o erro na previsão superou o\n",
        "# limiar que estabelecemos\n",
        "display(df_ibcbr_previsoes[anomalias])"
      ],
      "metadata": {
        "colab": {
          "base_uri": "https://localhost:8080/",
          "height": 196
        },
        "id": "fH2aQY0pHbpZ",
        "outputId": "33574fd2-e9ce-4e5b-d304-51a6a688573c"
      },
      "execution_count": 68,
      "outputs": [
        {
          "output_type": "display_data",
          "data": {
            "text/plain": [
              "            valor_previsto  valor_original  erro_percentual_previsao\n",
              "data                                                                \n",
              "2004-03-01      100.212723          111.98                 10.508374\n",
              "2005-03-01      104.998978          115.42                  9.028784\n",
              "2009-03-01      116.744453          127.81                  8.657810\n",
              "2010-03-01      128.922668          143.44                 10.120839\n",
              "2020-04-01      136.589066          118.53                 15.235861"
            ],
            "text/html": [
              "\n",
              "  <div id=\"df-22e971a9-a8b9-4d3d-b29a-0d148b0d1864\">\n",
              "    <div class=\"colab-df-container\">\n",
              "      <div>\n",
              "<style scoped>\n",
              "    .dataframe tbody tr th:only-of-type {\n",
              "        vertical-align: middle;\n",
              "    }\n",
              "\n",
              "    .dataframe tbody tr th {\n",
              "        vertical-align: top;\n",
              "    }\n",
              "\n",
              "    .dataframe thead th {\n",
              "        text-align: right;\n",
              "    }\n",
              "</style>\n",
              "<table border=\"1\" class=\"dataframe\">\n",
              "  <thead>\n",
              "    <tr style=\"text-align: right;\">\n",
              "      <th></th>\n",
              "      <th>valor_previsto</th>\n",
              "      <th>valor_original</th>\n",
              "      <th>erro_percentual_previsao</th>\n",
              "    </tr>\n",
              "    <tr>\n",
              "      <th>data</th>\n",
              "      <th></th>\n",
              "      <th></th>\n",
              "      <th></th>\n",
              "    </tr>\n",
              "  </thead>\n",
              "  <tbody>\n",
              "    <tr>\n",
              "      <th>2004-03-01</th>\n",
              "      <td>100.212723</td>\n",
              "      <td>111.98</td>\n",
              "      <td>10.508374</td>\n",
              "    </tr>\n",
              "    <tr>\n",
              "      <th>2005-03-01</th>\n",
              "      <td>104.998978</td>\n",
              "      <td>115.42</td>\n",
              "      <td>9.028784</td>\n",
              "    </tr>\n",
              "    <tr>\n",
              "      <th>2009-03-01</th>\n",
              "      <td>116.744453</td>\n",
              "      <td>127.81</td>\n",
              "      <td>8.657810</td>\n",
              "    </tr>\n",
              "    <tr>\n",
              "      <th>2010-03-01</th>\n",
              "      <td>128.922668</td>\n",
              "      <td>143.44</td>\n",
              "      <td>10.120839</td>\n",
              "    </tr>\n",
              "    <tr>\n",
              "      <th>2020-04-01</th>\n",
              "      <td>136.589066</td>\n",
              "      <td>118.53</td>\n",
              "      <td>15.235861</td>\n",
              "    </tr>\n",
              "  </tbody>\n",
              "</table>\n",
              "</div>\n",
              "      <button class=\"colab-df-convert\" onclick=\"convertToInteractive('df-22e971a9-a8b9-4d3d-b29a-0d148b0d1864')\"\n",
              "              title=\"Convert this dataframe to an interactive table.\"\n",
              "              style=\"display:none;\">\n",
              "        \n",
              "  <svg xmlns=\"http://www.w3.org/2000/svg\" height=\"24px\"viewBox=\"0 0 24 24\"\n",
              "       width=\"24px\">\n",
              "    <path d=\"M0 0h24v24H0V0z\" fill=\"none\"/>\n",
              "    <path d=\"M18.56 5.44l.94 2.06.94-2.06 2.06-.94-2.06-.94-.94-2.06-.94 2.06-2.06.94zm-11 1L8.5 8.5l.94-2.06 2.06-.94-2.06-.94L8.5 2.5l-.94 2.06-2.06.94zm10 10l.94 2.06.94-2.06 2.06-.94-2.06-.94-.94-2.06-.94 2.06-2.06.94z\"/><path d=\"M17.41 7.96l-1.37-1.37c-.4-.4-.92-.59-1.43-.59-.52 0-1.04.2-1.43.59L10.3 9.45l-7.72 7.72c-.78.78-.78 2.05 0 2.83L4 21.41c.39.39.9.59 1.41.59.51 0 1.02-.2 1.41-.59l7.78-7.78 2.81-2.81c.8-.78.8-2.07 0-2.86zM5.41 20L4 18.59l7.72-7.72 1.47 1.35L5.41 20z\"/>\n",
              "  </svg>\n",
              "      </button>\n",
              "      \n",
              "  <style>\n",
              "    .colab-df-container {\n",
              "      display:flex;\n",
              "      flex-wrap:wrap;\n",
              "      gap: 12px;\n",
              "    }\n",
              "\n",
              "    .colab-df-convert {\n",
              "      background-color: #E8F0FE;\n",
              "      border: none;\n",
              "      border-radius: 50%;\n",
              "      cursor: pointer;\n",
              "      display: none;\n",
              "      fill: #1967D2;\n",
              "      height: 32px;\n",
              "      padding: 0 0 0 0;\n",
              "      width: 32px;\n",
              "    }\n",
              "\n",
              "    .colab-df-convert:hover {\n",
              "      background-color: #E2EBFA;\n",
              "      box-shadow: 0px 1px 2px rgba(60, 64, 67, 0.3), 0px 1px 3px 1px rgba(60, 64, 67, 0.15);\n",
              "      fill: #174EA6;\n",
              "    }\n",
              "\n",
              "    [theme=dark] .colab-df-convert {\n",
              "      background-color: #3B4455;\n",
              "      fill: #D2E3FC;\n",
              "    }\n",
              "\n",
              "    [theme=dark] .colab-df-convert:hover {\n",
              "      background-color: #434B5C;\n",
              "      box-shadow: 0px 1px 3px 1px rgba(0, 0, 0, 0.15);\n",
              "      filter: drop-shadow(0px 1px 2px rgba(0, 0, 0, 0.3));\n",
              "      fill: #FFFFFF;\n",
              "    }\n",
              "  </style>\n",
              "\n",
              "      <script>\n",
              "        const buttonEl =\n",
              "          document.querySelector('#df-22e971a9-a8b9-4d3d-b29a-0d148b0d1864 button.colab-df-convert');\n",
              "        buttonEl.style.display =\n",
              "          google.colab.kernel.accessAllowed ? 'block' : 'none';\n",
              "\n",
              "        async function convertToInteractive(key) {\n",
              "          const element = document.querySelector('#df-22e971a9-a8b9-4d3d-b29a-0d148b0d1864');\n",
              "          const dataTable =\n",
              "            await google.colab.kernel.invokeFunction('convertToInteractive',\n",
              "                                                     [key], {});\n",
              "          if (!dataTable) return;\n",
              "\n",
              "          const docLinkHtml = 'Like what you see? Visit the ' +\n",
              "            '<a target=\"_blank\" href=https://colab.research.google.com/notebooks/data_table.ipynb>data table notebook</a>'\n",
              "            + ' to learn more about interactive tables.';\n",
              "          element.innerHTML = '';\n",
              "          dataTable['output_type'] = 'display_data';\n",
              "          await google.colab.output.renderOutput(dataTable, element);\n",
              "          const docLink = document.createElement('div');\n",
              "          docLink.innerHTML = docLinkHtml;\n",
              "          element.appendChild(docLink);\n",
              "        }\n",
              "      </script>\n",
              "    </div>\n",
              "  </div>\n",
              "  "
            ],
            "application/vnd.google.colaboratory.module+javascript": "\n      import \"https://ssl.gstatic.com/colaboratory/data_table/fb998edc550c7947/data_table.js\";\n\n      window.createDataTable({\n        data: [[\"2004-03-01 00:00:00\",\n{\n            'v': 100.21272277832031,\n            'f': \"100.21272277832031\",\n        },\n{\n            'v': 111.98,\n            'f': \"111.98\",\n        },\n{\n            'v': 10.508374014716638,\n            'f': \"10.508374014716638\",\n        }],\n [\"2005-03-01 00:00:00\",\n{\n            'v': 104.99897766113281,\n            'f': \"104.99897766113281\",\n        },\n{\n            'v': 115.42,\n            'f': \"115.42\",\n        },\n{\n            'v': 9.028783866632462,\n            'f': \"9.028783866632462\",\n        }],\n [\"2009-03-01 00:00:00\",\n{\n            'v': 116.74445343017578,\n            'f': \"116.74445343017578\",\n        },\n{\n            'v': 127.81,\n            'f': \"127.81\",\n        },\n{\n            'v': 8.657809693939614,\n            'f': \"8.657809693939614\",\n        }],\n [\"2010-03-01 00:00:00\",\n{\n            'v': 128.92266845703125,\n            'f': \"128.92266845703125\",\n        },\n{\n            'v': 143.44,\n            'f': \"143.44\",\n        },\n{\n            'v': 10.120839056726679,\n            'f': \"10.120839056726679\",\n        }],\n [\"2020-04-01 00:00:00\",\n{\n            'v': 136.5890655517578,\n            'f': \"136.5890655517578\",\n        },\n{\n            'v': 118.53,\n            'f': \"118.53\",\n        },\n{\n            'v': 15.235860585301452,\n            'f': \"15.235860585301452\",\n        }]],\n        columns: [[\"string\", \"data\"], [\"number\", \"valor_previsto\"], [\"number\", \"valor_original\"], [\"number\", \"erro_percentual_previsao\"]],\n        columnOptions: [{\"width\": \"1px\", \"className\": \"index_column\"}],\n        rowsPerPage: 25,\n        helpUrl: \"https://colab.research.google.com/notebooks/data_table.ipynb\",\n        suppressOutputScrolling: true,\n        minimumWidth: undefined,\n      });\n    "
          },
          "metadata": {}
        }
      ]
    },
    {
      "cell_type": "code",
      "source": [
        "# verificamos qual o erro na previsão das entradas identificadas\n",
        "# como anomalias via o método do z-score modificado\n",
        "df_ibcbr_previsoes.loc[indices_com_anomalias_zscore_mod]"
      ],
      "metadata": {
        "colab": {
          "base_uri": "https://localhost:8080/",
          "height": 302
        },
        "id": "sXBFK-4EKg5S",
        "outputId": "cd6c8e82-7301-4e8a-8434-2f05e3349edd"
      },
      "execution_count": 69,
      "outputs": [
        {
          "output_type": "execute_result",
          "data": {
            "text/plain": [
              "            valor_previsto  valor_original  erro_percentual_previsao\n",
              "data                                                                \n",
              "2008-07-01      131.671555          136.53                  3.558519\n",
              "2008-09-01      134.589828          132.60                  1.500625\n",
              "2008-12-01      126.041618          118.90                  6.006407\n",
              "2009-01-01      120.442062          115.20                  4.550401\n",
              "2009-02-01      116.682930          115.26                  1.234539\n",
              "2020-01-01      137.668182          134.05                  2.699129\n",
              "2020-02-01      134.746521          134.52                  0.168392\n",
              "2020-04-01      136.589066          118.53                 15.235861\n",
              "2020-05-01      120.069611          119.65                  0.350698\n",
              "2020-06-01      121.194420          126.04                  3.844478"
            ],
            "text/html": [
              "\n",
              "  <div id=\"df-ca5337f7-5d6e-4f0a-9522-bd1530ed89a3\">\n",
              "    <div class=\"colab-df-container\">\n",
              "      <div>\n",
              "<style scoped>\n",
              "    .dataframe tbody tr th:only-of-type {\n",
              "        vertical-align: middle;\n",
              "    }\n",
              "\n",
              "    .dataframe tbody tr th {\n",
              "        vertical-align: top;\n",
              "    }\n",
              "\n",
              "    .dataframe thead th {\n",
              "        text-align: right;\n",
              "    }\n",
              "</style>\n",
              "<table border=\"1\" class=\"dataframe\">\n",
              "  <thead>\n",
              "    <tr style=\"text-align: right;\">\n",
              "      <th></th>\n",
              "      <th>valor_previsto</th>\n",
              "      <th>valor_original</th>\n",
              "      <th>erro_percentual_previsao</th>\n",
              "    </tr>\n",
              "    <tr>\n",
              "      <th>data</th>\n",
              "      <th></th>\n",
              "      <th></th>\n",
              "      <th></th>\n",
              "    </tr>\n",
              "  </thead>\n",
              "  <tbody>\n",
              "    <tr>\n",
              "      <th>2008-07-01</th>\n",
              "      <td>131.671555</td>\n",
              "      <td>136.53</td>\n",
              "      <td>3.558519</td>\n",
              "    </tr>\n",
              "    <tr>\n",
              "      <th>2008-09-01</th>\n",
              "      <td>134.589828</td>\n",
              "      <td>132.60</td>\n",
              "      <td>1.500625</td>\n",
              "    </tr>\n",
              "    <tr>\n",
              "      <th>2008-12-01</th>\n",
              "      <td>126.041618</td>\n",
              "      <td>118.90</td>\n",
              "      <td>6.006407</td>\n",
              "    </tr>\n",
              "    <tr>\n",
              "      <th>2009-01-01</th>\n",
              "      <td>120.442062</td>\n",
              "      <td>115.20</td>\n",
              "      <td>4.550401</td>\n",
              "    </tr>\n",
              "    <tr>\n",
              "      <th>2009-02-01</th>\n",
              "      <td>116.682930</td>\n",
              "      <td>115.26</td>\n",
              "      <td>1.234539</td>\n",
              "    </tr>\n",
              "    <tr>\n",
              "      <th>2020-01-01</th>\n",
              "      <td>137.668182</td>\n",
              "      <td>134.05</td>\n",
              "      <td>2.699129</td>\n",
              "    </tr>\n",
              "    <tr>\n",
              "      <th>2020-02-01</th>\n",
              "      <td>134.746521</td>\n",
              "      <td>134.52</td>\n",
              "      <td>0.168392</td>\n",
              "    </tr>\n",
              "    <tr>\n",
              "      <th>2020-04-01</th>\n",
              "      <td>136.589066</td>\n",
              "      <td>118.53</td>\n",
              "      <td>15.235861</td>\n",
              "    </tr>\n",
              "    <tr>\n",
              "      <th>2020-05-01</th>\n",
              "      <td>120.069611</td>\n",
              "      <td>119.65</td>\n",
              "      <td>0.350698</td>\n",
              "    </tr>\n",
              "    <tr>\n",
              "      <th>2020-06-01</th>\n",
              "      <td>121.194420</td>\n",
              "      <td>126.04</td>\n",
              "      <td>3.844478</td>\n",
              "    </tr>\n",
              "  </tbody>\n",
              "</table>\n",
              "</div>\n",
              "      <button class=\"colab-df-convert\" onclick=\"convertToInteractive('df-ca5337f7-5d6e-4f0a-9522-bd1530ed89a3')\"\n",
              "              title=\"Convert this dataframe to an interactive table.\"\n",
              "              style=\"display:none;\">\n",
              "        \n",
              "  <svg xmlns=\"http://www.w3.org/2000/svg\" height=\"24px\"viewBox=\"0 0 24 24\"\n",
              "       width=\"24px\">\n",
              "    <path d=\"M0 0h24v24H0V0z\" fill=\"none\"/>\n",
              "    <path d=\"M18.56 5.44l.94 2.06.94-2.06 2.06-.94-2.06-.94-.94-2.06-.94 2.06-2.06.94zm-11 1L8.5 8.5l.94-2.06 2.06-.94-2.06-.94L8.5 2.5l-.94 2.06-2.06.94zm10 10l.94 2.06.94-2.06 2.06-.94-2.06-.94-.94-2.06-.94 2.06-2.06.94z\"/><path d=\"M17.41 7.96l-1.37-1.37c-.4-.4-.92-.59-1.43-.59-.52 0-1.04.2-1.43.59L10.3 9.45l-7.72 7.72c-.78.78-.78 2.05 0 2.83L4 21.41c.39.39.9.59 1.41.59.51 0 1.02-.2 1.41-.59l7.78-7.78 2.81-2.81c.8-.78.8-2.07 0-2.86zM5.41 20L4 18.59l7.72-7.72 1.47 1.35L5.41 20z\"/>\n",
              "  </svg>\n",
              "      </button>\n",
              "      \n",
              "  <style>\n",
              "    .colab-df-container {\n",
              "      display:flex;\n",
              "      flex-wrap:wrap;\n",
              "      gap: 12px;\n",
              "    }\n",
              "\n",
              "    .colab-df-convert {\n",
              "      background-color: #E8F0FE;\n",
              "      border: none;\n",
              "      border-radius: 50%;\n",
              "      cursor: pointer;\n",
              "      display: none;\n",
              "      fill: #1967D2;\n",
              "      height: 32px;\n",
              "      padding: 0 0 0 0;\n",
              "      width: 32px;\n",
              "    }\n",
              "\n",
              "    .colab-df-convert:hover {\n",
              "      background-color: #E2EBFA;\n",
              "      box-shadow: 0px 1px 2px rgba(60, 64, 67, 0.3), 0px 1px 3px 1px rgba(60, 64, 67, 0.15);\n",
              "      fill: #174EA6;\n",
              "    }\n",
              "\n",
              "    [theme=dark] .colab-df-convert {\n",
              "      background-color: #3B4455;\n",
              "      fill: #D2E3FC;\n",
              "    }\n",
              "\n",
              "    [theme=dark] .colab-df-convert:hover {\n",
              "      background-color: #434B5C;\n",
              "      box-shadow: 0px 1px 3px 1px rgba(0, 0, 0, 0.15);\n",
              "      filter: drop-shadow(0px 1px 2px rgba(0, 0, 0, 0.3));\n",
              "      fill: #FFFFFF;\n",
              "    }\n",
              "  </style>\n",
              "\n",
              "      <script>\n",
              "        const buttonEl =\n",
              "          document.querySelector('#df-ca5337f7-5d6e-4f0a-9522-bd1530ed89a3 button.colab-df-convert');\n",
              "        buttonEl.style.display =\n",
              "          google.colab.kernel.accessAllowed ? 'block' : 'none';\n",
              "\n",
              "        async function convertToInteractive(key) {\n",
              "          const element = document.querySelector('#df-ca5337f7-5d6e-4f0a-9522-bd1530ed89a3');\n",
              "          const dataTable =\n",
              "            await google.colab.kernel.invokeFunction('convertToInteractive',\n",
              "                                                     [key], {});\n",
              "          if (!dataTable) return;\n",
              "\n",
              "          const docLinkHtml = 'Like what you see? Visit the ' +\n",
              "            '<a target=\"_blank\" href=https://colab.research.google.com/notebooks/data_table.ipynb>data table notebook</a>'\n",
              "            + ' to learn more about interactive tables.';\n",
              "          element.innerHTML = '';\n",
              "          dataTable['output_type'] = 'display_data';\n",
              "          await google.colab.output.renderOutput(dataTable, element);\n",
              "          const docLink = document.createElement('div');\n",
              "          docLink.innerHTML = docLinkHtml;\n",
              "          element.appendChild(docLink);\n",
              "        }\n",
              "      </script>\n",
              "    </div>\n",
              "  </div>\n",
              "  "
            ],
            "application/vnd.google.colaboratory.module+javascript": "\n      import \"https://ssl.gstatic.com/colaboratory/data_table/fb998edc550c7947/data_table.js\";\n\n      window.createDataTable({\n        data: [[\"2008-07-01 00:00:00\",\n{\n            'v': 131.6715545654297,\n            'f': \"131.6715545654297\",\n        },\n{\n            'v': 136.53,\n            'f': \"136.53\",\n        },\n{\n            'v': 3.5585185926685075,\n            'f': \"3.5585185926685075\",\n        }],\n [\"2008-09-01 00:00:00\",\n{\n            'v': 134.58982849121094,\n            'f': \"134.58982849121094\",\n        },\n{\n            'v': 132.6,\n            'f': \"132.6\",\n        },\n{\n            'v': 1.5006248048347988,\n            'f': \"1.5006248048347988\",\n        }],\n [\"2008-12-01 00:00:00\",\n{\n            'v': 126.04161834716797,\n            'f': \"126.04161834716797\",\n        },\n{\n            'v': 118.9,\n            'f': \"118.9\",\n        },\n{\n            'v': 6.00640735674345,\n            'f': \"6.00640735674345\",\n        }],\n [\"2009-01-01 00:00:00\",\n{\n            'v': 120.44206237792969,\n            'f': \"120.44206237792969\",\n        },\n{\n            'v': 115.2,\n            'f': \"115.2\",\n        },\n{\n            'v': 4.550401369730629,\n            'f': \"4.550401369730629\",\n        }],\n [\"2009-02-01 00:00:00\",\n{\n            'v': 116.68292999267578,\n            'f': \"116.68292999267578\",\n        },\n{\n            'v': 115.26,\n            'f': \"115.26\",\n        },\n{\n            'v': 1.2345392960921189,\n            'f': \"1.2345392960921189\",\n        }],\n [\"2020-01-01 00:00:00\",\n{\n            'v': 137.66818237304688,\n            'f': \"137.66818237304688\",\n        },\n{\n            'v': 134.05,\n            'f': \"134.05\",\n        },\n{\n            'v': 2.699128961616459,\n            'f': \"2.699128961616459\",\n        }],\n [\"2020-02-01 00:00:00\",\n{\n            'v': 134.74652099609375,\n            'f': \"134.74652099609375\",\n        },\n{\n            'v': 134.52,\n            'f': \"134.52\",\n        },\n{\n            'v': 0.16839205775627397,\n            'f': \"0.16839205775627397\",\n        }],\n [\"2020-04-01 00:00:00\",\n{\n            'v': 136.5890655517578,\n            'f': \"136.5890655517578\",\n        },\n{\n            'v': 118.53,\n            'f': \"118.53\",\n        },\n{\n            'v': 15.235860585301452,\n            'f': \"15.235860585301452\",\n        }],\n [\"2020-05-01 00:00:00\",\n{\n            'v': 120.06961059570312,\n            'f': \"120.06961059570312\",\n        },\n{\n            'v': 119.65,\n            'f': \"119.65\",\n        },\n{\n            'v': 0.35069836665534415,\n            'f': \"0.35069836665534415\",\n        }],\n [\"2020-06-01 00:00:00\",\n{\n            'v': 121.19441986083984,\n            'f': \"121.19441986083984\",\n        },\n{\n            'v': 126.04,\n            'f': \"126.04\",\n        },\n{\n            'v': 3.844478053919519,\n            'f': \"3.844478053919519\",\n        }]],\n        columns: [[\"string\", \"data\"], [\"number\", \"valor_previsto\"], [\"number\", \"valor_original\"], [\"number\", \"erro_percentual_previsao\"]],\n        columnOptions: [{\"width\": \"1px\", \"className\": \"index_column\"}],\n        rowsPerPage: 25,\n        helpUrl: \"https://colab.research.google.com/notebooks/data_table.ipynb\",\n        suppressOutputScrolling: true,\n        minimumWidth: undefined,\n      });\n    "
          },
          "metadata": {},
          "execution_count": 69
        }
      ]
    },
    {
      "cell_type": "markdown",
      "source": [
        "Verificamos que, dos dados identificados como anomalias pelo z-score modificado,\n",
        "apenas uma entrada em comum possui um erro de previsão significativo via o modelo LSTM, a com índice '2020-04-01 00:00:00'."
      ],
      "metadata": {
        "id": "xzhuTV67Od2x"
      }
    }
  ]
}