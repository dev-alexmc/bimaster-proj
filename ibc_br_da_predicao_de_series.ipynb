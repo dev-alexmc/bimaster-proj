{
  "nbformat": 4,
  "nbformat_minor": 0,
  "metadata": {
    "colab": {
      "provenance": [],
      "toc_visible": true
    },
    "kernelspec": {
      "name": "python3",
      "display_name": "Python 3"
    },
    "language_info": {
      "name": "python"
    }
  },
  "cells": [
    {
      "cell_type": "markdown",
      "source": [
        "# Projeto: Análise de Anomalias em Série Temporal"
      ],
      "metadata": {
        "id": "ULDWNbG9cx5S"
      }
    },
    {
      "cell_type": "markdown",
      "source": [
        "BIMASTER - Trabalho de final de curso\n",
        "\n",
        "Nome: Alex Marques Campos\n",
        "\n",
        "Etapa 02.B: Detecção de anomalias via predição de séries"
      ],
      "metadata": {
        "id": "p_Zbz7ZuczLN"
      }
    },
    {
      "cell_type": "markdown",
      "source": [
        "O objetivo deste notebook é carregar os dados das séries históricas de interesse e observar se é possível utilizar predição de séries temporais para realizar a detecção de anomalias. Para isso, um modelo LSTM.\n",
        "\n",
        "O primeiro passo é carregar as bibliotecas necessárias ao processamento e os dados propriamente ditos, que estão armazenados nos arquivos CSV (_comma separated values_) armazenados no subdiretório './__dados__/'."
      ],
      "metadata": {
        "id": "wc9G5F-vm5cb"
      }
    },
    {
      "cell_type": "markdown",
      "source": [
        "## Configuração do ambiente de execução"
      ],
      "metadata": {
        "id": "R_KJarOpo-_o"
      }
    },
    {
      "cell_type": "code",
      "execution_count": 1,
      "metadata": {
        "id": "fCR2V-wocZJl"
      },
      "outputs": [],
      "source": [
        "import math\n",
        "import matplotlib\n",
        "import random\n",
        "\n",
        "import matplotlib.pyplot as plt\n",
        "import multiprocessing\n",
        "import numpy as np\n",
        "import pandas as pd\n",
        "import seaborn as sns\n",
        "import tensorflow as tf\n",
        "\n",
        "from pathlib import Path\n",
        "from sklearn.metrics import classification_report\n",
        "from sklearn.metrics import mean_absolute_error, mean_squared_error, r2_score\n",
        "from sklearn.model_selection import train_test_split\n",
        "from sklearn.preprocessing import MinMaxScaler\n",
        "from tensorflow.keras.callbacks import ReduceLROnPlateau, ModelCheckpoint, EarlyStopping\n",
        "from tensorflow.keras.layers import Dense, LSTM, Conv1D, Dropout\n",
        "from tensorflow.keras.models import Sequential\n",
        "from typing import Dict, Tuple"
      ]
    },
    {
      "cell_type": "code",
      "source": [
        "NOME_DIRETORIO_DADOS = 'dados'\n",
        "NOME_DIRETORIO_MODELOS = 'modelos'\n",
        "NOME_ARQUIVO_SERIE_IBCBR = 'serie_ibcbr.csv'"
      ],
      "metadata": {
        "id": "CY4fZhLloQgd"
      },
      "execution_count": 2,
      "outputs": []
    },
    {
      "cell_type": "code",
      "source": [
        "# ajustamos o formato de apresentação padrão dos gráficos\n",
        "sns.set_theme(style=\"white\", palette=\"pastel\")"
      ],
      "metadata": {
        "id": "0oh4IvnCofu_"
      },
      "execution_count": 3,
      "outputs": []
    },
    {
      "cell_type": "code",
      "source": [
        "# habilitamos a visualização especial de dataframes disponível no\n",
        "# Google Colaboratory, para facilitar a exploração dos dados.\n",
        "from google.colab import data_table\n",
        "data_table.enable_dataframe_formatter()"
      ],
      "metadata": {
        "id": "VJS_UT3-ojaM"
      },
      "execution_count": 4,
      "outputs": []
    },
    {
      "cell_type": "markdown",
      "source": [
        "## Informações do ambiente de execução"
      ],
      "metadata": {
        "id": "f_KUt24iZhke"
      }
    },
    {
      "cell_type": "code",
      "source": [
        "print(f'pandas == {pd.__version__}')\n",
        "print(f'matplotlib == {matplotlib.__version__}')\n",
        "print(f'tensorflow == {tf.__version__}')"
      ],
      "metadata": {
        "id": "1yRvVVanoSu4",
        "colab": {
          "base_uri": "https://localhost:8080/"
        },
        "outputId": "47bd5045-fdec-4f15-dd9f-a43e7b52307b"
      },
      "execution_count": 5,
      "outputs": [
        {
          "output_type": "stream",
          "name": "stdout",
          "text": [
            "pandas == 1.3.5\n",
            "matplotlib == 3.2.2\n",
            "tensorflow == 2.9.2\n"
          ]
        }
      ]
    },
    {
      "cell_type": "code",
      "source": [
        "!cat /etc/os-release"
      ],
      "metadata": {
        "colab": {
          "base_uri": "https://localhost:8080/"
        },
        "id": "y3H6GLsJZQzA",
        "outputId": "d67251f3-1b83-4d95-bb2e-1464c1020510"
      },
      "execution_count": 6,
      "outputs": [
        {
          "output_type": "stream",
          "name": "stdout",
          "text": [
            "NAME=\"Ubuntu\"\n",
            "VERSION=\"20.04.5 LTS (Focal Fossa)\"\n",
            "ID=ubuntu\n",
            "ID_LIKE=debian\n",
            "PRETTY_NAME=\"Ubuntu 20.04.5 LTS\"\n",
            "VERSION_ID=\"20.04\"\n",
            "HOME_URL=\"https://www.ubuntu.com/\"\n",
            "SUPPORT_URL=\"https://help.ubuntu.com/\"\n",
            "BUG_REPORT_URL=\"https://bugs.launchpad.net/ubuntu/\"\n",
            "PRIVACY_POLICY_URL=\"https://www.ubuntu.com/legal/terms-and-policies/privacy-policy\"\n",
            "VERSION_CODENAME=focal\n",
            "UBUNTU_CODENAME=focal\n"
          ]
        }
      ]
    },
    {
      "cell_type": "code",
      "source": [
        "!uname -a"
      ],
      "metadata": {
        "colab": {
          "base_uri": "https://localhost:8080/"
        },
        "id": "4CnVrldfZV1B",
        "outputId": "76a70fb5-79b6-4222-b1d8-38fc990099cf"
      },
      "execution_count": 7,
      "outputs": [
        {
          "output_type": "stream",
          "name": "stdout",
          "text": [
            "Linux 6d000caa61a3 5.10.147+ #1 SMP Sat Dec 10 16:00:40 UTC 2022 x86_64 x86_64 x86_64 GNU/Linux\n"
          ]
        }
      ]
    },
    {
      "cell_type": "code",
      "source": [
        "print(f'CPU count: {multiprocessing.cpu_count()}')"
      ],
      "metadata": {
        "colab": {
          "base_uri": "https://localhost:8080/"
        },
        "id": "ztAF19V7ZWYb",
        "outputId": "a060211a-49fa-47c7-f362-7b24ce6766c1"
      },
      "execution_count": 8,
      "outputs": [
        {
          "output_type": "stream",
          "name": "stdout",
          "text": [
            "CPU count: 2\n"
          ]
        }
      ]
    },
    {
      "cell_type": "code",
      "source": [
        "!nvidia-smi"
      ],
      "metadata": {
        "colab": {
          "base_uri": "https://localhost:8080/"
        },
        "id": "hzWr0edfZgZS",
        "outputId": "5b96edbf-2c97-4b9c-9c1a-02ced9cd86b9"
      },
      "execution_count": 9,
      "outputs": [
        {
          "output_type": "stream",
          "name": "stdout",
          "text": [
            "NVIDIA-SMI has failed because it couldn't communicate with the NVIDIA driver. Make sure that the latest NVIDIA driver is installed and running.\n",
            "\n"
          ]
        }
      ]
    },
    {
      "cell_type": "markdown",
      "source": [
        "## Carga dos dados"
      ],
      "metadata": {
        "id": "GeXhAXcEo6rt"
      }
    },
    {
      "cell_type": "markdown",
      "source": [
        "Lembre-se de criar uma pasta chamada '/content/dados' no Google Colaboratory e enviar os arquivos '.csv' para essa pasta."
      ],
      "metadata": {
        "id": "iQzs87iqZs_M"
      }
    },
    {
      "cell_type": "code",
      "source": [
        "path_dir_dados = Path('.') / NOME_DIRETORIO_DADOS\n",
        "path_arq_ibcbr = path_dir_dados / NOME_ARQUIVO_SERIE_IBCBR"
      ],
      "metadata": {
        "id": "Qggg6abNolqr"
      },
      "execution_count": 10,
      "outputs": []
    },
    {
      "cell_type": "code",
      "source": [
        "def carregar_csv(path_csv:Path) -> pd.DataFrame:\n",
        "  \"\"\"\n",
        "  Carrega os dados de um arquivo CSV em um dataframe de\n",
        "  forma padronizada no escopo do projeto.\n",
        "  path_csv : objeto Path que aponta para o arquivo.\n",
        "  \"\"\"\n",
        "  if (path_csv is None) or (not path_csv.is_file()):\n",
        "    raise ValueError(\"The given path object doesn't point to a valid csv file.\")\n",
        "\n",
        "  return pd.read_csv(path_csv,\n",
        "                   sep=',',\n",
        "                   parse_dates=True,\n",
        "                   infer_datetime_format=True,\n",
        "                   index_col=0,\n",
        "                   decimal='.',\n",
        "                   encoding='utf8')"
      ],
      "metadata": {
        "id": "NaLWJyWhrzDz"
      },
      "execution_count": 11,
      "outputs": []
    },
    {
      "cell_type": "code",
      "source": [
        "# carregamos o arquivo de dado em um dataframe, para iniciar a análise\n",
        "df_ibcbr = carregar_csv(path_arq_ibcbr)"
      ],
      "metadata": {
        "id": "R8pdKHi2r2Pw"
      },
      "execution_count": 12,
      "outputs": []
    },
    {
      "cell_type": "code",
      "source": [
        "def verificar_propriedades(id:int, nome:str, dataframe:pd.DataFrame) -> None:\n",
        "  \"\"\"\n",
        "  Imprime propriedades do dataframe nomeado para inspeção visual dos dados.\n",
        "  id: inteiro que identifica o dataframe.\n",
        "  nome: nome do dataframe\n",
        "  dataframe: objeto do dataframe\n",
        "  \"\"\"\n",
        "  print(f'[{id:03d}] Dataframe: {nome}')\n",
        "  print('-' * 5)\n",
        "  print(f'Shape: {dataframe.shape}')\n",
        "  print('-' * 5)\n",
        "  print(dataframe.head(4))\n",
        "  print('')"
      ],
      "metadata": {
        "id": "zs2X2xzVwPYs"
      },
      "execution_count": 13,
      "outputs": []
    },
    {
      "cell_type": "code",
      "source": [
        "# verificamos se os dataframes foram carregados corretamente.\n",
        "series = {\n",
        "  'IBC-BR': df_ibcbr\n",
        "}\n",
        "\n",
        "for idx,serie in enumerate(series.items()):\n",
        "  verificar_propriedades(idx+1, serie[0], serie[1])"
      ],
      "metadata": {
        "id": "0RPLvBR7ua6L",
        "colab": {
          "base_uri": "https://localhost:8080/"
        },
        "outputId": "643a63a0-089b-4c26-a346-8ad9fd51fa7d"
      },
      "execution_count": 14,
      "outputs": [
        {
          "output_type": "stream",
          "name": "stdout",
          "text": [
            "[001] Dataframe: IBC-BR\n",
            "-----\n",
            "Shape: (236, 1)\n",
            "-----\n",
            "             valor\n",
            "data              \n",
            "2003-01-01   96.15\n",
            "2003-02-01   98.67\n",
            "2003-03-01  103.41\n",
            "2003-04-01  102.19\n",
            "\n"
          ]
        }
      ]
    },
    {
      "cell_type": "markdown",
      "source": [
        "Neste ponto, temos todos os dados carregados em DataFrames pandas e prontos para análise."
      ],
      "metadata": {
        "id": "6wUhHFfz0Q8f"
      }
    },
    {
      "cell_type": "markdown",
      "source": [
        "## Predição de Série Temporal"
      ],
      "metadata": {
        "id": "Oh-HcaQB01qu"
      }
    },
    {
      "cell_type": "markdown",
      "source": [
        "### Definição de funções auxiliares"
      ],
      "metadata": {
        "id": "yG_dgJSJBApl"
      }
    },
    {
      "cell_type": "markdown",
      "source": [
        "Começamos definindo funções auxiliares ao processo de análise."
      ],
      "metadata": {
        "id": "tKgd48uj9wnr"
      }
    },
    {
      "cell_type": "code",
      "source": [
        "def montar_treino_teste_validacao_por_janela(dataset:np.array, \n",
        "                                             window_size:int=24,\n",
        "                                             test_size:float=0.15,\n",
        "                                             val_size:float=0.15,\n",
        "                                             random_state:int=None\n",
        "                                             ) -> Tuple[np.array, np.array, np.array, np.array, np.array, np.array]:\n",
        "    \"\"\"\n",
        "    Recebe um dataframe e o divide em conjuntos de treino, validação e teste\n",
        "    com janelas (dos conjuntos X) de tamanho definido.\n",
        "    \n",
        "    Parâmetros:\n",
        "    dataset      : Numpy array a ser dividido em treino, validação e teste.\n",
        "    window_size  : Tamanho da janela deslizante a ser aplicada ao dataset e também\n",
        "                   o tamanho de cada elemento dos conjuntos X.\n",
        "    test_size    : float entre 0.01 e 1.00, que representa o valor percentual do \n",
        "                   conjunto de teste com relação ao tamanho do dataset.\n",
        "    val_size     : float entre 0.01 e 1.00, que representa o valor percentual do \n",
        "                   conjunto de validação com relação ao tamanho do dataset.\n",
        "    random_state : inteiro que representa o estado randômico da execução do passo\n",
        "                   da escolha dos elementos de treino e teste.\n",
        "\n",
        "    Nota: test_size + val_size deve ser um valor menor do que 1.00, pois deve\n",
        "          existir um conjunto de treino.\n",
        "\n",
        "    Retorna: X_train, y_train, X_val, y_val, X_test e y_test, onde cada elemento\n",
        "             é um array numpy.\n",
        "    \"\"\"\n",
        "    data_size = len(dataset)\n",
        "    X = []\n",
        "    y = []\n",
        "\n",
        "    if data_size < (window_size + 1):\n",
        "      raise ValueError(\"\"\"\n",
        "      The input data dimension 0's length should be at least window_size + 1.\n",
        "      \"\"\")\n",
        "\n",
        "    if test_size < 0.01 or test_size > 1.00:\n",
        "      raise ValueError('The value of test_size should be between 0.01 and 1.00')\n",
        "\n",
        "    if val_size < 0.01 or val_size > 1.00:\n",
        "      raise ValueError('The value of val_size should be between 0.01 and 1.00')\n",
        "    \n",
        "    if test_size + val_size >= 1.00:\n",
        "      raise ValueError('test_size + val_size should be less than 1.00')\n",
        "\n",
        "    for i in range(window_size, data_size):\n",
        "        X.append(dataset[i-window_size:i])\n",
        "        y.append(dataset[i])\n",
        "    X, y = np.array(X), np.array(y)\n",
        "\n",
        "    # na primeira chamada, dividimos o conjunto em treino e teste,\n",
        "    # onde o tamanho do conjunto de teste é explícito (default de 15%) e \n",
        "    # o tamanho do conjunto de treino fica proporcional a (1 - test_size) \n",
        "    # (default de 85%).\n",
        "    X_train_tmp, X_test, y_train_tmp, y_test = train_test_split(X, \n",
        "                                                                y, \n",
        "                                                                test_size=test_size,\n",
        "                                                                random_state=random_state)\n",
        "\n",
        "    # para obter o conjunto de validação, dividimos novamente o conjunto de \n",
        "    # treino, cujo tamanho agora é diretamente proprorcional a (1 - test_size),\n",
        "    # em duas partes, mas agora o conjunto de teste será nossa 'validação'.\n",
        "\n",
        "    # como val_size é referente a 100% e o conjunto agora é menor,\n",
        "    # recalculamos val_size para o tamanho atual do conjunto de treinamento\n",
        "    # antes de o dividir novamente.\n",
        "    val_size_recalculado = val_size / (1 - test_size)\n",
        "    \n",
        "    # dividimos novamente o conjunto, agora em treino e validação\n",
        "    # desabilitamos o shuffle porque ele é desnecessário.\n",
        "    # passamos o random_state só por completude (como shuffle está desabilitado\n",
        "    # esse argumento não deveria ter efeito na chamada).\n",
        "    X_train, X_val, y_train, y_val = train_test_split(X_train_tmp, \n",
        "                                                      y_train_tmp, \n",
        "                                                      test_size=val_size_recalculado,\n",
        "                                                      shuffle=False,\n",
        "                                                      random_state=random_state)\n",
        "\n",
        "    return X_train, y_train, X_val, y_val, X_test, y_test"
      ],
      "metadata": {
        "id": "pm4yioxacjoJ"
      },
      "execution_count": 15,
      "outputs": []
    },
    {
      "cell_type": "code",
      "source": [
        "def imprimir_propriedades_aux(a_var:np.array, a_name:str) -> None:\n",
        "  print(f'Tamanho de {a_name} = {len(a_var)}')\n",
        "  if type(a_var[0]) == np.float64:\n",
        "    tam_elem = 1\n",
        "  else:\n",
        "    tam_elem = len(a_var[0])\n",
        "  print(f'   Tamanho de um elemento de {a_name} = {tam_elem}')"
      ],
      "metadata": {
        "id": "V0C7isgd8viL"
      },
      "execution_count": 16,
      "outputs": []
    },
    {
      "cell_type": "code",
      "source": [
        "def imprimir_propriedades(X_train, y_train, X_val, y_val, X_test, y_test) -> None:\n",
        "  imprimir_propriedades_aux(X_train, 'X_train')\n",
        "  imprimir_propriedades_aux(y_train, 'y_train')\n",
        "  imprimir_propriedades_aux(X_val, 'X_val')\n",
        "  imprimir_propriedades_aux(y_val, 'y_val')\n",
        "  imprimir_propriedades_aux(X_test, 'X_test')\n",
        "  imprimir_propriedades_aux(y_test, 'y_test')"
      ],
      "metadata": {
        "id": "pgd4Tg4H7N1S"
      },
      "execution_count": 17,
      "outputs": []
    },
    {
      "cell_type": "code",
      "source": [
        "def create_model(optimizer:str = 'sgd',\n",
        "                 lstm_layer_size:int = 240,\n",
        "                 input_shape:Tuple[int,int] = (24, 1),\n",
        "                 add_extra_layer:bool = False) -> tf.keras.models.Sequential:\n",
        "    '''\n",
        "    Cria um modelo de rede neural a ser treinado, usando os parâmetros:\n",
        "    optimizer       : string com o nome do otimizador a ser usado para compilar\n",
        "                      o modelo.\n",
        "    lstm_layer_size : número de neurônios na(s) camada(s) LSTM da rede neural.\n",
        "    input_shape     : tupla que indica tamanho dos dados de entrada da rede.\n",
        "    add_extra_layer : booleano que indica se uma camada extra LSTM deve ou não\n",
        "                      ser adicionada ao modelo (a camada extra tem 1/4 das \n",
        "                      unidades da camada LSTM principal, com um mínimo de 12 \n",
        "                      unidades garantidas).\n",
        "    retorna o modelo criado.\n",
        "    '''\n",
        "    # se fomos solicitados a prover uma camada extra, precisamos\n",
        "    # retornar as sequências após a primeira LSTM\n",
        "    return_sequences = add_extra_layer\n",
        "\n",
        "    model = Sequential()\n",
        "    model.add(LSTM(lstm_layer_size,\n",
        "                   input_shape=input_shape,\n",
        "                   return_sequences=return_sequences))\n",
        "    model.add(Dropout(0.2))\n",
        "    if (add_extra_layer):\n",
        "        model.add(LSTM(\n",
        "              max(int(lstm_layer_size / 4), 12)\n",
        "            )\n",
        "        )\n",
        "        model.add(Dropout(0.2))\n",
        "    model.add(Dense(24, activation='tanh'))\n",
        "    model.add(Dropout(0.2))\n",
        "    model.add(Dense(units=1))\n",
        "    \n",
        "    model.compile(loss='mean_squared_error', optimizer=optimizer)\n",
        "    model.summary()\n",
        "\n",
        "    return model"
      ],
      "metadata": {
        "id": "t7iuSMhIb0ZD"
      },
      "execution_count": 18,
      "outputs": []
    },
    {
      "cell_type": "code",
      "source": [
        "def train_model(model:tf.keras.models.Sequential, \n",
        "                X_train:np.array,\n",
        "                y_train:np.array,\n",
        "                X_val:np.array,\n",
        "                y_val:np.array,\n",
        "                X_test:np.array, \n",
        "                y_test:np.array, \n",
        "                checkpoint_path:str = None, \n",
        "                batch_size:int = 20,\n",
        "                n_epochs:int = 240) -> object:\n",
        "    '''\n",
        "    Treina o modelo 'model' com os dados de '[Xy]_train' (treinamento), '[Xy]_val' \n",
        "    (validação) e '[Xy]_test' (teste). Caso um path seja fornecido na variável \n",
        "    'checkpoint_path', salva neste path os melhores modelos encontrados durante \n",
        "    o treinamento.\n",
        "    Retorna o objeto de história do treinamento.\n",
        "    '''\n",
        "    # callbacks para modificar o processo de treinamento\n",
        "    callbacks = []\n",
        "    callbacks.append(ReduceLROnPlateau(patience=15, factor=0.5, verbose=True))\n",
        "    if not checkpoint_path is None:\n",
        "      callbacks.append(ModelCheckpoint(checkpoint_path, save_best_only=True))\n",
        "    callbacks.append(EarlyStopping(monitor='val_loss',\n",
        "                            min_delta=0,\n",
        "                            patience=25,\n",
        "                            verbose=1,\n",
        "                            mode='min'))\n",
        "    \n",
        "    history = model.fit(x=X_train,\n",
        "                        y=y_train,\n",
        "                        validation_data=(X_val, y_val),\n",
        "                        batch_size=batch_size,\n",
        "                        epochs=n_epochs,\n",
        "                        shuffle=False,\n",
        "                        callbacks=callbacks)\n",
        "\n",
        "    return history"
      ],
      "metadata": {
        "id": "1wO3T6gKf4KY"
      },
      "execution_count": 19,
      "outputs": []
    },
    {
      "cell_type": "code",
      "source": [
        "def plot_train_results(history:object):\n",
        "  df_history = pd.DataFrame(history.history)\n",
        "  ax = df_history[['val_loss', 'loss']].plot(figsize=(10, 5))\n",
        "  df_history['lr'].plot(ax=ax.twinx(), color='gray');"
      ],
      "metadata": {
        "id": "A1o2IWR6a3Jm"
      },
      "execution_count": 20,
      "outputs": []
    },
    {
      "cell_type": "code",
      "source": [
        "def predict(model:tf.keras.models.Sequential, \n",
        "            X_train:np.array,\n",
        "            X_val:np.array,\n",
        "            X_test:np.array) -> Tuple[np.array, np.array, np.array] :\n",
        "    '''\n",
        "    Usa o 'model' para fazer previsões com 'X_train', 'X_val' e 'X_test' e\n",
        "    retorna três conjuntos de dados preditos na mesma ordem.\n",
        "    '''\n",
        "    y_train_predicted = model.predict(X_train)\n",
        "    y_val_predicted = model.predict(X_val)\n",
        "    y_test_predicted = model.predict(X_test)\n",
        "\n",
        "    return y_train_predicted, y_val_predicted, y_test_predicted"
      ],
      "metadata": {
        "id": "476v5Tloa5BC"
      },
      "execution_count": 21,
      "outputs": []
    },
    {
      "cell_type": "code",
      "source": [
        "def _draw_scatter_plot(axes: object, \n",
        "               x: object,\n",
        "               y: object,\n",
        "               title: str,\n",
        "               x_label: str,\n",
        "               y_label: str):\n",
        "    axes.set_title(title)\n",
        "    axes.set_xlabel(x_label)\n",
        "    axes.set_ylabel(y_label)\n",
        "    axes.scatter(x, y)\n",
        "\n",
        "def plot_predictions_scatter(y_train: np.array,\n",
        "                     y_train_predicted: np.array,\n",
        "                     y_val: np.array,\n",
        "                     y_val_predicted: np.array,\n",
        "                     y_test: np.array,\n",
        "                     y_test_predicted: np.array):\n",
        "    \"\"\"\n",
        "    Desenha três gráficos de dispersão, com os dados resultantes da previsão\n",
        "    realizada com os dados de treinamento e com os dados de teste.\n",
        "    \"\"\"\n",
        "    n_rows, n_columns = 3, 1\n",
        "    fig, axes = plt.subplots(n_rows, n_columns)\n",
        "\n",
        "    scale = 2\n",
        "    fig.set_figheight(3 * scale * n_rows)\n",
        "    fig.set_figwidth(4 * scale)\n",
        "    \n",
        "    _draw_scatter_plot(axes[0], \n",
        "                       y_train, \n",
        "                       y_train_predicted.ravel(), \n",
        "                       'y_train versus y_train_predicted', \n",
        "                       'y_train', \n",
        "                       'y_train_predicted')\n",
        "    \n",
        "    _draw_scatter_plot(axes[1],\n",
        "                       y_val,\n",
        "                       y_val_predicted.ravel(), \n",
        "                       'y_val versus y_val_predicted', \n",
        "                       'y_val', \n",
        "                       'y_val_predicted')\n",
        "    \n",
        "    _draw_scatter_plot(axes[2], \n",
        "                       y_test, \n",
        "                       y_test_predicted.ravel(), \n",
        "                       'y_test versus y_test_predicted', \n",
        "                       'y_test', \n",
        "                       'y_test_predicted')"
      ],
      "metadata": {
        "id": "BPf7NuHca-lL"
      },
      "execution_count": 22,
      "outputs": []
    },
    {
      "cell_type": "code",
      "source": [
        "# funções para cálculo de métricas de erro.\n",
        "# criamos uma classe somente para não poluir o namespace padrão,\n",
        "# dado que usamos nomes curtos para as funções.\n",
        "class error_metrics:\n",
        "  def rmse(real:np.array, predicted:np.array) -> float:\n",
        "    return math.sqrt(mean_squared_error(real, predicted))\n",
        "\n",
        "  def mse(real:np.array, predicted:np.array) -> float:\n",
        "    return mean_squared_error(real, predicted)\n",
        "\n",
        "  def mape(real:np.array, predicted:np.array) -> float:\n",
        "    return np.mean(np.abs((real - predicted) / real)) * 100\n",
        "\n",
        "  def r2(real:np.array, predicted:np.array) -> float:\n",
        "    return r2_score(real, predicted)\n",
        "\n",
        "  def r2_ajustado(real:np.array, predicted:np.array, n_features: int) -> float:\n",
        "    if n_features <= 0:\n",
        "      raise ValueError(\"n_features must be greater or equal to 1\")\n",
        "\n",
        "    r2_val = error_metrics.r2(real, predicted)\n",
        "    n_samples = len(predicted)\n",
        "    assert n_samples > 0\n",
        "\n",
        "    r2_val_ajustado = 1 - (1 - r2_val) * (n_samples - 1) / (n_samples - n_features - 1)\n",
        "\n",
        "    return r2_val_ajustado"
      ],
      "metadata": {
        "id": "5kYG52K-5ZXk"
      },
      "execution_count": 23,
      "outputs": []
    },
    {
      "cell_type": "code",
      "source": [
        "def quantidade_casas_decimais(number:float) -> int:\n",
        "    return math.ceil(math.log10(abs(number)))\n",
        "\n",
        "def calcular_metricas_erro(y_train: np.array, \n",
        "                       y_train_predicted: np.array,\n",
        "                       y_val: np.array,\n",
        "                       y_val_predicted: np.array,\n",
        "                       y_test: np.array,\n",
        "                       y_test_predicted: np.array,\n",
        "                       n_features:int = None) -> Dict[str,float]:\n",
        "  if (not n_features is None) and (n_features > 0):\n",
        "    b_r2_ajustado = True\n",
        "  else:\n",
        "    b_r2_ajustado = False\n",
        "\n",
        "  # dicionário para coletar os valores calculados\n",
        "  resultados = {}\n",
        "\n",
        "  resultados['mse_train'] = error_metrics.mse(y_train, y_train_predicted)\n",
        "  resultados['mse_val']   = error_metrics.mse(y_val, y_val_predicted)\n",
        "  resultados['mse_test']  = error_metrics.mse(y_test, y_test_predicted)\n",
        "\n",
        "  resultados['rmse_train'] = error_metrics.rmse(y_train, y_train_predicted)\n",
        "  resultados['rmse_val']   = error_metrics.rmse(y_val, y_val_predicted)\n",
        "  resultados['rmse_test']  = error_metrics.rmse(y_test, y_test_predicted)\n",
        "\n",
        "  resultados['mape_train'] = error_metrics.mape(y_train, y_train_predicted)\n",
        "  resultados['mape_val']   = error_metrics.mape(y_val, y_val_predicted)\n",
        "  resultados['mape_test']  = error_metrics.mape(y_test, y_test_predicted)\n",
        "\n",
        "  resultados['r2_train'] = error_metrics.r2(y_train, y_train_predicted)\n",
        "  resultados['r2_val']   = error_metrics.r2(y_val, y_val_predicted)\n",
        "  resultados['r2_test']  = error_metrics.r2(y_test, y_test_predicted)\n",
        "\n",
        "  if b_r2_ajustado:\n",
        "    resultados['r2_ajustado_train'] = error_metrics.r2_ajustado(y_train, \n",
        "                                                                y_train_predicted,\n",
        "                                                                n_features)\n",
        "    resultados['r2_ajustado_val']   = error_metrics.r2_ajustado(y_val,\n",
        "                                                                y_val_predicted,\n",
        "                                                                n_features)\n",
        "    resultados['r2_ajustado_test']  = error_metrics.r2_ajustado(y_test,\n",
        "                                                                y_test_predicted,\n",
        "                                                                n_features)\n",
        "  \n",
        "  return resultados\n",
        "\n",
        "# imprime as métricas de erro que escolhemos\n",
        "def imprimir_metricas_erro(metricas_calculadas:Dict[str,float]) -> None:\n",
        "  # alinhamento dos dados\n",
        "  num_printed_result_chars = (\n",
        "      max([quantidade_casas_decimais(x) for x in metricas_calculadas.values()])\n",
        "      + 1 # o caractere '.'\n",
        "      + 2 # precisão do ponto flutuante\n",
        "      + 1 # o caractere '%'\n",
        "  )\n",
        "\n",
        "  max_label_size = max([len(i) for i in ['Train','Val','Test']])\n",
        "  size_col_metrica = 19\n",
        "  size_col = max(num_printed_result_chars, max_label_size)\n",
        "\n",
        "  # criamos uma closure só para organizar o código    \n",
        "  def print_row(row_label:str, v1:float, v2:float, v3:float) -> None:\n",
        "    print(f'| {row_label:>{size_col_metrica}} ' +\n",
        "          f'| {v1:{size_col-1}.2f}% ' +\n",
        "          f'| {v2:{size_col-1}.2f}% ' +\n",
        "          f'| {v3:{size_col-1}.2f}% |')\n",
        "\n",
        "  # cabeçalho da tabela\n",
        "  print(f'| {\"Métrica de Erro\":>{size_col_metrica}} ' +\n",
        "        f'| {\"Train\":>{size_col}} ' +\n",
        "        f'| {\"Val\":>{size_col}} ' +\n",
        "        f'| {\"Test\":>{size_col}} |')\n",
        "  \n",
        "  # resultados\n",
        "  print_row('MSE',\n",
        "            metricas_calculadas['mse_train'],\n",
        "            metricas_calculadas['mse_val'],\n",
        "            metricas_calculadas['mse_test'])\n",
        "\n",
        "  print_row('RMSE',\n",
        "            metricas_calculadas['rmse_train'],\n",
        "            metricas_calculadas['rmse_val'],\n",
        "            metricas_calculadas['rmse_test'])\n",
        "\n",
        "  print_row('MAPE',\n",
        "            metricas_calculadas['mape_train'],\n",
        "            metricas_calculadas['mape_val'],\n",
        "            metricas_calculadas['mape_test'])\n",
        "\n",
        "  print_row('R2 Score',\n",
        "            metricas_calculadas['r2_train'],\n",
        "            metricas_calculadas['r2_val'],\n",
        "            metricas_calculadas['r2_test'])\n",
        "\n",
        "  if ({'r2_ajustado_train', \n",
        "       'r2_ajustado_val', \n",
        "       'r2_ajustado_test'}.issubset( set(metricas_calculadas.keys()))):\n",
        "    print_row('R2 Score (ajustado)',\n",
        "              metricas_calculadas['r2_ajustado_train'],\n",
        "              metricas_calculadas['r2_ajustado_val'],\n",
        "              metricas_calculadas['r2_ajustado_test'])\n"
      ],
      "metadata": {
        "id": "bO-Pzz2YbC-b"
      },
      "execution_count": 44,
      "outputs": []
    },
    {
      "cell_type": "code",
      "source": [
        "def plot_predictions_curve(y_train_predicted:object, \n",
        "                           y_test_predicted:object, \n",
        "                           ds:object, \n",
        "                           scale:int,\n",
        "                           lookback:int = 24):\n",
        "    # previsões com base nos dados de treinamento, preenchidas com os dados do \n",
        "    # conjunto de dados original.\n",
        "    y_train = (y_train_predicted.ravel() * scale) + ds[lookback:len(y_train_predicted) + lookback, 0]\n",
        "\n",
        "    # preenchemos os dados de y_test com os valores originais até chegar nos dados\n",
        "    # de teste.\n",
        "    y_test = (y_test_predicted.ravel() * scale) + ds[len(y_train_predicted)+lookback-1:len(ds), 0]\n",
        "\n",
        "    plt.figure(figsize=(20,10))\n",
        "    \n",
        "    plt.plot(ds)\n",
        "    plt.plot(lookback + np.arange(len(y_train)), y_train)\n",
        "    plt.plot(lookback + np.arange(len(y_test)) + len(y_train) - 1, y_test)\n",
        "    plt.show()"
      ],
      "metadata": {
        "id": "WfaukDBubn5S"
      },
      "execution_count": 25,
      "outputs": []
    },
    {
      "cell_type": "code",
      "source": [
        "def configurar_ticks_anuais(ax):\n",
        "  '''\n",
        "  Procedimento auxiliar para configurar a exibição do eixo x\n",
        "  de um gráfico do matplotlib para dados de séries temporais\n",
        "  para os quais só sejam marcados os valores ano a ano.\n",
        "  '''\n",
        "  ax.xaxis.set_major_locator(matplotlib.dates.YearLocator(base=1))\n",
        "  ax.xaxis.set_major_formatter(matplotlib.dates.DateFormatter(\"%Y\"))"
      ],
      "metadata": {
        "id": "mk60_I2uPz8-"
      },
      "execution_count": 26,
      "outputs": []
    },
    {
      "cell_type": "code",
      "source": [
        "def desenhar_serie_com_anomalias(df:pd.DataFrame,\n",
        "                                 indice_anomalias:pd.core.indexes.datetimes.DatetimeIndex,\n",
        "                                 nome_serie:str='IBC-BR') -> None:\n",
        "  fig = plt.figure(figsize=(16,5))\n",
        "\n",
        "  plt.plot(df['valor'], 'b', label=f'Índice {nome_serie}')\n",
        "\n",
        "  for e in indice_anomalias:\n",
        "    plt.axvline(x=e, color='r', linestyle=':')\n",
        "\n",
        "  plt.legend(loc='best')\n",
        "  plt.ylabel(nome_serie)\n",
        "  plt.xlabel('Tempo')\n",
        "\n",
        "  # ajustamos o eixo x da figura para exibir ticks a cada ano\n",
        "  configurar_ticks_anuais(fig.axes[0])\n",
        "\n",
        "  plt.show()"
      ],
      "metadata": {
        "id": "GRfboQgChFwp"
      },
      "execution_count": 27,
      "outputs": []
    },
    {
      "cell_type": "markdown",
      "source": [
        "### Configuração do estado determinístico do processo"
      ],
      "metadata": {
        "id": "jPrFN-X8AtY2"
      }
    },
    {
      "cell_type": "markdown",
      "source": [
        "Depois fixamos as sementes randômicas, para que o processo seja previsível a cada execução."
      ],
      "metadata": {
        "id": "bpeXMipfd9gn"
      }
    },
    {
      "cell_type": "code",
      "source": [
        "# esse passo é essencial para a reprocibilidade do experimento\n",
        "random.seed(26)\n",
        "np.random.seed = 26"
      ],
      "metadata": {
        "id": "NmFIL4q0dGw_"
      },
      "execution_count": 28,
      "outputs": []
    },
    {
      "cell_type": "code",
      "source": [
        "SLIDING_WINDOW_SIZE=24\n",
        "TRAIN_BATCH_SIZE=20\n",
        "TRAIN_EPOCHS=300"
      ],
      "metadata": {
        "id": "HkTxuu4iJLSG"
      },
      "execution_count": 29,
      "outputs": []
    },
    {
      "cell_type": "markdown",
      "source": [
        "### Normalização e separação dos dados nos conjuntos de treinamento, validação e teste"
      ],
      "metadata": {
        "id": "Wql0h5OrAgDz"
      }
    },
    {
      "cell_type": "markdown",
      "source": [
        "Separamos os valores dos dados e os índices em dois objetos diferentes, pois não usaremos o índice temporal durante o treinamento."
      ],
      "metadata": {
        "id": "u6LqSZqfHg2p"
      }
    },
    {
      "cell_type": "code",
      "source": [
        "np_valores = df_ibcbr['valor'].to_numpy()\n",
        "np_indice = df_ibcbr.index.to_numpy()"
      ],
      "metadata": {
        "id": "7btVkPMcHmk9"
      },
      "execution_count": 30,
      "outputs": []
    },
    {
      "cell_type": "code",
      "source": [
        "print(f'np_valores.shape = {np_valores.shape}')\n",
        "print(f'np_indice.shape = {np_indice.shape}')"
      ],
      "metadata": {
        "colab": {
          "base_uri": "https://localhost:8080/"
        },
        "id": "jiwhXn6JK1gJ",
        "outputId": "dbaea610-43b7-4d3e-a2ca-cabec087adc7"
      },
      "execution_count": 31,
      "outputs": [
        {
          "output_type": "stream",
          "name": "stdout",
          "text": [
            "np_valores.shape = (236,)\n",
            "np_indice.shape = (236,)\n"
          ]
        }
      ]
    },
    {
      "cell_type": "code",
      "source": [
        "# aqui adicionamos uma coluna extra ao array de np_valores\n",
        "# para poder usar o scaler depois e normalizar os dados.\n",
        "np_valores_col_extra = np_valores.reshape(-1,1)\n",
        "np_valores_col_extra.shape"
      ],
      "metadata": {
        "colab": {
          "base_uri": "https://localhost:8080/"
        },
        "id": "Sm7rbqZiLwoc",
        "outputId": "b517b7c4-e7e7-425c-989d-b70e0d95fb23"
      },
      "execution_count": 32,
      "outputs": [
        {
          "output_type": "execute_result",
          "data": {
            "text/plain": [
              "(236, 1)"
            ]
          },
          "metadata": {},
          "execution_count": 32
        }
      ]
    },
    {
      "cell_type": "markdown",
      "source": [
        "A seguir, normalizamos os valores para realizar o processamento pelo modelo.\n",
        "\n",
        "É importante guardarmos o processo de normalização dos dados, para depois poder reconstruir os dados previstos."
      ],
      "metadata": {
        "id": "s0Y6k2WOGijw"
      }
    },
    {
      "cell_type": "code",
      "source": [
        "# criamos o normalizador (scaler) e o guardamos na variável 'scaler'\n",
        "scaler = MinMaxScaler()\n",
        "\n",
        "# treinamos o normalizador e já normalizamos os dados, os armazenado\n",
        "# na variável 'np_valores_col_extra'\n",
        "np_valores_col_extra = scaler.fit_transform(np_valores_col_extra)\n",
        "print(f'dimensões do np_valores_col_extra = {np_valores_col_extra.shape}')\n",
        "\n",
        "# depois jogamos fora a coluna extra que criamos só para poder utilizar\n",
        "# o scaler\n",
        "np_valores_norm = np_valores_col_extra.squeeze()\n",
        "print(f'dimensões do np_valores_norm = {np_valores_norm.shape}')"
      ],
      "metadata": {
        "id": "blKspGxDGmJF",
        "colab": {
          "base_uri": "https://localhost:8080/"
        },
        "outputId": "24275b8a-7ab4-4cac-bebd-872f905964eb"
      },
      "execution_count": 33,
      "outputs": [
        {
          "output_type": "stream",
          "name": "stdout",
          "text": [
            "dimensões do np_valores_col_extra = (236, 1)\n",
            "dimensões do np_valores_norm = (236,)\n"
          ]
        }
      ]
    },
    {
      "cell_type": "markdown",
      "source": [
        "Nesse ponto, temos os dados normalizados e prontos para a divisão nos conjuntos\n",
        "de treino, validação e teste."
      ],
      "metadata": {
        "id": "6GhS-f2T6YwX"
      }
    },
    {
      "cell_type": "code",
      "source": [
        "X_train, y_train, X_val, y_val, X_test, y_test = montar_treino_teste_validacao_por_janela(np_valores_norm,\n",
        "                                                                                          window_size=SLIDING_WINDOW_SIZE)"
      ],
      "metadata": {
        "id": "jcZM5fwgfP-V"
      },
      "execution_count": 34,
      "outputs": []
    },
    {
      "cell_type": "code",
      "source": [
        "imprimir_propriedades(X_train, y_train, X_val, y_val, X_test, y_test)"
      ],
      "metadata": {
        "colab": {
          "base_uri": "https://localhost:8080/"
        },
        "id": "EFjH1Ho_8nnh",
        "outputId": "5015a901-3b74-4373-dd5c-649ba3d12322"
      },
      "execution_count": 35,
      "outputs": [
        {
          "output_type": "stream",
          "name": "stdout",
          "text": [
            "Tamanho de X_train = 148\n",
            "   Tamanho de um elemento de X_train = 24\n",
            "Tamanho de y_train = 148\n",
            "   Tamanho de um elemento de y_train = 1\n",
            "Tamanho de X_val = 32\n",
            "   Tamanho de um elemento de X_val = 24\n",
            "Tamanho de y_val = 32\n",
            "   Tamanho de um elemento de y_val = 1\n",
            "Tamanho de X_test = 32\n",
            "   Tamanho de um elemento de X_test = 24\n",
            "Tamanho de y_test = 32\n",
            "   Tamanho de um elemento de y_test = 1\n"
          ]
        }
      ]
    },
    {
      "cell_type": "markdown",
      "source": [
        "Verificação:\n",
        "\n",
        "148 (treino) + 32 (validação) + 32 (teste) = 212\n",
        "\n",
        "O somatório dos elementos nos conjuntos (212) com os 24 primeiros elementos começamos a partir do primeiro elemento de uma janela completa) resulta em 236 (tamanho original). Então está ok.\n",
        "\n",
        "Os dados também foram embaralhados durante a separação dos conjuntos, mas respeitando a coerencia temporal dentro de cada janela."
      ],
      "metadata": {
        "id": "EbF3n8KS-1Yh"
      }
    },
    {
      "cell_type": "markdown",
      "source": [
        "### Modelo LSTM"
      ],
      "metadata": {
        "id": "Zk4maopEgq2T"
      }
    },
    {
      "cell_type": "markdown",
      "source": [
        "Nossa primeira abordagem será treinar uma rede neural LSTM para fazer predição da série temporal IBC-BR original. Primeiro, para identificar os melhores hiper-parâmetros do modelo, treinaremos uma rede LSTM com todos os dados da série, divididos em janelas de 24 meses."
      ],
      "metadata": {
        "id": "iY-4vd-d1zTa"
      }
    },
    {
      "cell_type": "code",
      "source": [
        "lstm_model = create_model(optimizer=\"adam\",\n",
        "                          input_shape=(SLIDING_WINDOW_SIZE, 1),\n",
        "                          lstm_layer_size=24,\n",
        "                          add_extra_layer=True)"
      ],
      "metadata": {
        "colab": {
          "base_uri": "https://localhost:8080/"
        },
        "id": "n0b1LisQoG5O",
        "outputId": "39c226b9-0719-4a03-f785-66c77a81f868"
      },
      "execution_count": 36,
      "outputs": [
        {
          "output_type": "stream",
          "name": "stdout",
          "text": [
            "Model: \"sequential\"\n",
            "_________________________________________________________________\n",
            " Layer (type)                Output Shape              Param #   \n",
            "=================================================================\n",
            " lstm (LSTM)                 (None, 24, 24)            2496      \n",
            "                                                                 \n",
            " dropout (Dropout)           (None, 24, 24)            0         \n",
            "                                                                 \n",
            " lstm_1 (LSTM)               (None, 12)                1776      \n",
            "                                                                 \n",
            " dropout_1 (Dropout)         (None, 12)                0         \n",
            "                                                                 \n",
            " dense (Dense)               (None, 24)                312       \n",
            "                                                                 \n",
            " dropout_2 (Dropout)         (None, 24)                0         \n",
            "                                                                 \n",
            " dense_1 (Dense)             (None, 1)                 25        \n",
            "                                                                 \n",
            "=================================================================\n",
            "Total params: 4,609\n",
            "Trainable params: 4,609\n",
            "Non-trainable params: 0\n",
            "_________________________________________________________________\n"
          ]
        }
      ]
    },
    {
      "cell_type": "code",
      "source": [
        "history = train_model(model=lstm_model,\n",
        "                      X_train=X_train,\n",
        "                      y_train=y_train,\n",
        "                      X_val=X_val,\n",
        "                      y_val=y_val,\n",
        "                      X_test=X_test,\n",
        "                      y_test=y_test)"
      ],
      "metadata": {
        "colab": {
          "base_uri": "https://localhost:8080/"
        },
        "id": "pP3nvZnYoheR",
        "outputId": "c122848f-a922-4987-ca29-caf44c6f8e10"
      },
      "execution_count": 37,
      "outputs": [
        {
          "output_type": "stream",
          "name": "stdout",
          "text": [
            "Epoch 1/240\n",
            "8/8 [==============================] - 11s 386ms/step - loss: 0.2734 - val_loss: 0.0821 - lr: 0.0010\n",
            "Epoch 2/240\n",
            "8/8 [==============================] - 1s 105ms/step - loss: 0.0595 - val_loss: 0.0140 - lr: 0.0010\n",
            "Epoch 3/240\n",
            "8/8 [==============================] - 0s 45ms/step - loss: 0.0499 - val_loss: 0.0107 - lr: 0.0010\n",
            "Epoch 4/240\n",
            "8/8 [==============================] - 0s 59ms/step - loss: 0.0384 - val_loss: 0.0124 - lr: 0.0010\n",
            "Epoch 5/240\n",
            "8/8 [==============================] - 0s 61ms/step - loss: 0.0527 - val_loss: 0.0105 - lr: 0.0010\n",
            "Epoch 6/240\n",
            "8/8 [==============================] - 0s 62ms/step - loss: 0.0336 - val_loss: 0.0095 - lr: 0.0010\n",
            "Epoch 7/240\n",
            "8/8 [==============================] - 1s 71ms/step - loss: 0.0293 - val_loss: 0.0092 - lr: 0.0010\n",
            "Epoch 8/240\n",
            "8/8 [==============================] - 1s 86ms/step - loss: 0.0327 - val_loss: 0.0102 - lr: 0.0010\n",
            "Epoch 9/240\n",
            "8/8 [==============================] - 1s 80ms/step - loss: 0.0333 - val_loss: 0.0108 - lr: 0.0010\n",
            "Epoch 10/240\n",
            "8/8 [==============================] - 1s 70ms/step - loss: 0.0301 - val_loss: 0.0088 - lr: 0.0010\n",
            "Epoch 11/240\n",
            "8/8 [==============================] - 0s 51ms/step - loss: 0.0327 - val_loss: 0.0096 - lr: 0.0010\n",
            "Epoch 12/240\n",
            "8/8 [==============================] - 0s 39ms/step - loss: 0.0374 - val_loss: 0.0109 - lr: 0.0010\n",
            "Epoch 13/240\n",
            "8/8 [==============================] - 0s 40ms/step - loss: 0.0302 - val_loss: 0.0088 - lr: 0.0010\n",
            "Epoch 14/240\n",
            "8/8 [==============================] - 0s 41ms/step - loss: 0.0272 - val_loss: 0.0083 - lr: 0.0010\n",
            "Epoch 15/240\n",
            "8/8 [==============================] - 1s 65ms/step - loss: 0.0255 - val_loss: 0.0084 - lr: 0.0010\n",
            "Epoch 16/240\n",
            "8/8 [==============================] - 0s 50ms/step - loss: 0.0237 - val_loss: 0.0081 - lr: 0.0010\n",
            "Epoch 17/240\n",
            "8/8 [==============================] - 0s 54ms/step - loss: 0.0229 - val_loss: 0.0094 - lr: 0.0010\n",
            "Epoch 18/240\n",
            "8/8 [==============================] - 1s 70ms/step - loss: 0.0257 - val_loss: 0.0082 - lr: 0.0010\n",
            "Epoch 19/240\n",
            "8/8 [==============================] - 0s 51ms/step - loss: 0.0222 - val_loss: 0.0085 - lr: 0.0010\n",
            "Epoch 20/240\n",
            "8/8 [==============================] - 0s 27ms/step - loss: 0.0194 - val_loss: 0.0087 - lr: 0.0010\n",
            "Epoch 21/240\n",
            "8/8 [==============================] - 0s 25ms/step - loss: 0.0255 - val_loss: 0.0083 - lr: 0.0010\n",
            "Epoch 22/240\n",
            "8/8 [==============================] - 0s 25ms/step - loss: 0.0240 - val_loss: 0.0088 - lr: 0.0010\n",
            "Epoch 23/240\n",
            "8/8 [==============================] - 0s 26ms/step - loss: 0.0234 - val_loss: 0.0098 - lr: 0.0010\n",
            "Epoch 24/240\n",
            "8/8 [==============================] - 0s 25ms/step - loss: 0.0230 - val_loss: 0.0081 - lr: 0.0010\n",
            "Epoch 25/240\n",
            "8/8 [==============================] - 0s 25ms/step - loss: 0.0250 - val_loss: 0.0083 - lr: 0.0010\n",
            "Epoch 26/240\n",
            "8/8 [==============================] - 0s 28ms/step - loss: 0.0189 - val_loss: 0.0092 - lr: 0.0010\n",
            "Epoch 27/240\n",
            "8/8 [==============================] - 0s 24ms/step - loss: 0.0227 - val_loss: 0.0081 - lr: 0.0010\n",
            "Epoch 28/240\n",
            "8/8 [==============================] - 0s 25ms/step - loss: 0.0211 - val_loss: 0.0089 - lr: 0.0010\n",
            "Epoch 29/240\n",
            "8/8 [==============================] - 0s 24ms/step - loss: 0.0231 - val_loss: 0.0088 - lr: 0.0010\n",
            "Epoch 30/240\n",
            "8/8 [==============================] - 0s 25ms/step - loss: 0.0187 - val_loss: 0.0087 - lr: 0.0010\n",
            "Epoch 31/240\n",
            "7/8 [=========================>....] - ETA: 0s - loss: 0.0226\n",
            "Epoch 31: ReduceLROnPlateau reducing learning rate to 0.0005000000237487257.\n",
            "8/8 [==============================] - 0s 26ms/step - loss: 0.0222 - val_loss: 0.0081 - lr: 0.0010\n",
            "Epoch 32/240\n",
            "8/8 [==============================] - 0s 24ms/step - loss: 0.0197 - val_loss: 0.0085 - lr: 5.0000e-04\n",
            "Epoch 33/240\n",
            "8/8 [==============================] - 0s 28ms/step - loss: 0.0187 - val_loss: 0.0096 - lr: 5.0000e-04\n",
            "Epoch 34/240\n",
            "8/8 [==============================] - 0s 25ms/step - loss: 0.0190 - val_loss: 0.0086 - lr: 5.0000e-04\n",
            "Epoch 35/240\n",
            "8/8 [==============================] - 0s 25ms/step - loss: 0.0203 - val_loss: 0.0080 - lr: 5.0000e-04\n",
            "Epoch 36/240\n",
            "8/8 [==============================] - 0s 25ms/step - loss: 0.0249 - val_loss: 0.0084 - lr: 5.0000e-04\n",
            "Epoch 37/240\n",
            "8/8 [==============================] - 0s 24ms/step - loss: 0.0168 - val_loss: 0.0083 - lr: 5.0000e-04\n",
            "Epoch 38/240\n",
            "8/8 [==============================] - 0s 30ms/step - loss: 0.0205 - val_loss: 0.0082 - lr: 5.0000e-04\n",
            "Epoch 39/240\n",
            "8/8 [==============================] - 0s 25ms/step - loss: 0.0200 - val_loss: 0.0090 - lr: 5.0000e-04\n",
            "Epoch 40/240\n",
            "8/8 [==============================] - 0s 25ms/step - loss: 0.0188 - val_loss: 0.0083 - lr: 5.0000e-04\n",
            "Epoch 41/240\n",
            "8/8 [==============================] - 0s 27ms/step - loss: 0.0210 - val_loss: 0.0081 - lr: 5.0000e-04\n",
            "Epoch 42/240\n",
            "8/8 [==============================] - 0s 25ms/step - loss: 0.0218 - val_loss: 0.0082 - lr: 5.0000e-04\n",
            "Epoch 43/240\n",
            "8/8 [==============================] - 0s 28ms/step - loss: 0.0202 - val_loss: 0.0095 - lr: 5.0000e-04\n",
            "Epoch 44/240\n",
            "8/8 [==============================] - 0s 24ms/step - loss: 0.0194 - val_loss: 0.0088 - lr: 5.0000e-04\n",
            "Epoch 45/240\n",
            "8/8 [==============================] - 0s 29ms/step - loss: 0.0179 - val_loss: 0.0093 - lr: 5.0000e-04\n",
            "Epoch 46/240\n",
            "7/8 [=========================>....] - ETA: 0s - loss: 0.0169\n",
            "Epoch 46: ReduceLROnPlateau reducing learning rate to 0.0002500000118743628.\n",
            "8/8 [==============================] - 0s 25ms/step - loss: 0.0179 - val_loss: 0.0086 - lr: 5.0000e-04\n",
            "Epoch 47/240\n",
            "8/8 [==============================] - 0s 23ms/step - loss: 0.0187 - val_loss: 0.0083 - lr: 2.5000e-04\n",
            "Epoch 48/240\n",
            "8/8 [==============================] - 0s 26ms/step - loss: 0.0199 - val_loss: 0.0083 - lr: 2.5000e-04\n",
            "Epoch 49/240\n",
            "8/8 [==============================] - 0s 25ms/step - loss: 0.0202 - val_loss: 0.0081 - lr: 2.5000e-04\n",
            "Epoch 50/240\n",
            "8/8 [==============================] - 0s 26ms/step - loss: 0.0162 - val_loss: 0.0081 - lr: 2.5000e-04\n",
            "Epoch 51/240\n",
            "8/8 [==============================] - 0s 24ms/step - loss: 0.0204 - val_loss: 0.0083 - lr: 2.5000e-04\n",
            "Epoch 52/240\n",
            "8/8 [==============================] - 0s 24ms/step - loss: 0.0155 - val_loss: 0.0085 - lr: 2.5000e-04\n",
            "Epoch 53/240\n",
            "8/8 [==============================] - 0s 26ms/step - loss: 0.0164 - val_loss: 0.0083 - lr: 2.5000e-04\n",
            "Epoch 54/240\n",
            "8/8 [==============================] - 0s 25ms/step - loss: 0.0203 - val_loss: 0.0082 - lr: 2.5000e-04\n",
            "Epoch 55/240\n",
            "8/8 [==============================] - 0s 26ms/step - loss: 0.0177 - val_loss: 0.0081 - lr: 2.5000e-04\n",
            "Epoch 56/240\n",
            "8/8 [==============================] - 0s 24ms/step - loss: 0.0172 - val_loss: 0.0082 - lr: 2.5000e-04\n",
            "Epoch 57/240\n",
            "8/8 [==============================] - 0s 24ms/step - loss: 0.0188 - val_loss: 0.0084 - lr: 2.5000e-04\n",
            "Epoch 58/240\n",
            "8/8 [==============================] - 0s 27ms/step - loss: 0.0191 - val_loss: 0.0085 - lr: 2.5000e-04\n",
            "Epoch 59/240\n",
            "8/8 [==============================] - 0s 24ms/step - loss: 0.0179 - val_loss: 0.0084 - lr: 2.5000e-04\n",
            "Epoch 60/240\n",
            "8/8 [==============================] - 0s 25ms/step - loss: 0.0198 - val_loss: 0.0084 - lr: 2.5000e-04\n",
            "Epoch 60: early stopping\n"
          ]
        }
      ]
    },
    {
      "cell_type": "code",
      "source": [
        "plot_train_results(history)"
      ],
      "metadata": {
        "colab": {
          "base_uri": "https://localhost:8080/",
          "height": 322
        },
        "id": "ExWR0Q8spgfH",
        "outputId": "f599d8d6-a6af-4fed-b8e9-133a43dbeeb6"
      },
      "execution_count": 38,
      "outputs": [
        {
          "output_type": "display_data",
          "data": {
            "text/plain": [
              "<Figure size 720x360 with 2 Axes>"
            ],
            "image/png": "[encoded data removed]"
          },
          "metadata": {}
        }
      ]
    },
    {
      "cell_type": "code",
      "source": [
        "y_train_pred, y_val_pred, y_test_pred = predict(lstm_model, X_train, X_val, X_test)"
      ],
      "metadata": {
        "colab": {
          "base_uri": "https://localhost:8080/"
        },
        "id": "I4sc_iMjq3VO",
        "outputId": "278fb322-b5a3-4f84-b7ba-af7d789c42e2"
      },
      "execution_count": 39,
      "outputs": [
        {
          "output_type": "stream",
          "name": "stdout",
          "text": [
            "5/5 [==============================] - 1s 8ms/step\n",
            "1/1 [==============================] - 0s 23ms/step\n",
            "1/1 [==============================] - 0s 32ms/step\n"
          ]
        }
      ]
    },
    {
      "cell_type": "code",
      "source": [
        "plot_predictions_scatter(y_train, y_train_pred,\n",
        "                         y_val, y_val_pred,\n",
        "                         y_test, y_test_pred)"
      ],
      "metadata": {
        "colab": {
          "base_uri": "https://localhost:8080/",
          "height": 1000
        },
        "id": "7YdPSB8grGLE",
        "outputId": "4b682894-dd18-439e-997a-85876a27a69c"
      },
      "execution_count": 40,
      "outputs": [
        {
          "output_type": "display_data",
          "data": {
            "text/plain": [
              "<Figure size 576x1296 with 3 Axes>"
            ],
            "image/png": "[encoded data removed]"
          },
          "metadata": {}
        }
      ]
    },
    {
      "cell_type": "code",
      "source": [
        "metricas_erro = calcular_metricas_erro(y_train, y_train_pred, \n",
        "                                       y_val, y_val_pred,\n",
        "                                       y_test, y_test_pred,\n",
        "                                       SLIDING_WINDOW_SIZE)\n",
        "imprimir_metricas_erro(metricas_erro)"
      ],
      "metadata": {
        "colab": {
          "base_uri": "https://localhost:8080/"
        },
        "id": "wJ_LlNQGsPcm",
        "outputId": "0ec8a065-3e80-44a2-b4df-f035a0e8a3f1"
      },
      "execution_count": 45,
      "outputs": [
        {
          "output_type": "stream",
          "name": "stdout",
          "text": [
            "|     Métrica de Erro |  Train |    Val |   Test |\n",
            "|                 MSE |  0.01% |  0.01% |  0.01% |\n",
            "|                RMSE |  0.09% |  0.09% |  0.09% |\n",
            "|                MAPE | 40.06% | 30.03% | 35.81% |\n",
            "|            R2 Score |  0.77% |  0.71% |  0.78% |\n",
            "| R2 Score (ajustado) |  0.72% | -0.28% |  0.02% |\n"
          ]
        }
      ]
    },
    {
      "cell_type": "code",
      "source": [
        "# FIXME: Depois remover da série original os dados considerados anômalos identificados\n",
        "#        no processo estatístico, treinar uma nova rede LSTM com os hiperparâmetros\n",
        "#        escolhidos e verificar se o novo modelo é capaz de identificar (errar a\n",
        "#        previsão) relativa aos dados anômalos."
      ],
      "metadata": {
        "id": "yY845LSJ9sSZ"
      },
      "execution_count": 46,
      "outputs": []
    },
    {
      "cell_type": "code",
      "source": [],
      "metadata": {
        "id": "9JZf572XMbR0"
      },
      "execution_count": null,
      "outputs": []
    }
  ]
}